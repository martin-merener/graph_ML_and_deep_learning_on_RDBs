{
 "cells": [
  {
   "cell_type": "code",
   "execution_count": 1,
   "id": "7a1e2cf2",
   "metadata": {},
   "outputs": [],
   "source": [
    "import kumoai.experimental.rfm as rfm, os\n",
    "from pathlib import Path\n",
    "import pandas as pd"
   ]
  },
  {
   "cell_type": "code",
   "execution_count": 2,
   "id": "60032560",
   "metadata": {},
   "outputs": [
    {
     "name": "stderr",
     "output_type": "stream",
     "text": [
      "[2025-08-08 17:07:09 - kumoai:196 - INFO] Successfully initialized the Kumo SDK against deployment https://kumorfm.ai/api, with log level INFO.\n"
     ]
    }
   ],
   "source": [
    "home_api_key_file = Path.home() / \"kumoai_key.txt\"\n",
    "with open(home_api_key_file, \"r\") as file:\n",
    "    api_key = file.read().strip()\n",
    "os.environ[\"KUMO_API_KEY\"] = api_key\n",
    "\n",
    "rfm.init()"
   ]
  },
  {
   "cell_type": "code",
   "execution_count": 3,
   "id": "6e35b001",
   "metadata": {},
   "outputs": [],
   "source": [
    "# root = 's3://kumo-sdk-public/rfm-datasets/online-shopping'\n",
    "# users_df = pd.read_parquet(f'{root}/users.parquet')    # (1000, 3) \n",
    "# items_df = pd.read_parquet(f'{root}/items.parquet')    # (1000, 5) (267774, 6)\n",
    "# orders_df = pd.read_parquet(f'{root}/orders.parquet')  # (267774, 6) "
   ]
  },
  {
   "cell_type": "markdown",
   "id": "b872da07",
   "metadata": {},
   "source": [
    "## Creation of synthetic data: 4 tables\n",
    "\n",
    "Create a synthetic dataset with the purpose of testing how KumoRFM deals with temporal dependency that is not in the transactional history, but instead in a user type that can change over time.\n",
    "Essentially, there are users of 2 types (premium/free), and premium users can do actions that free users cannot.\n",
    "The exercise is about testing if KumoRFM detects this dependency and include them into its predictions.\n",
    "\n",
    "### Dataset description\n",
    "We create a synthetic dataset representing users of 2 types (tier free or tier premium), uploading files. \n",
    "Premium users can upload any size, while free users can upload files below 10GB. \n",
    "For simplicity, there are only 2 sizes: 5GB and 50GB.\n",
    "Users can change their tier after 24 hours. \n",
    "Within an hour of a user switching to premium, the likelihood of the user uploading a 50GB is higher.\n",
    "There are 100 users, covering 5 cohorts:\n",
    "- Always premium.\n",
    "- Always free.\n",
    "- Premium --> Free (once)\n",
    "- Free --> Premium (once)\n",
    "- Free --> Premium --> Free (twice, each change >= 24 hours apart)\n",
    "The history of transactions last 10 days. \n",
    "The prediction tasks will perform for different users, at different points in time, regarding their likelihood of uploading a 50GB file within the next hour.\n",
    "The expectations are: is that for users that just became Free, this should be 0. For users that just became Premium it should be high. For users that had been Premium for a while it should be >> 0. An\n",
    "\n",
    "#### users\n",
    "- user_id (PK)\n",
    "- name\n",
    "\n",
    "#### tiers (user tiers: free/premium, temporal, non-overalapping for each user)\n",
    "- user_id (FK -> users.user_id)\n",
    "- from_datetime\n",
    "- until_datetime (NULL means \"still in effect\")\n",
    "- tier in {'free', 'premium'}\n",
    "- Composite PK: user_id, from_datetime)\n",
    "\n",
    "#### items\n",
    "- item_id (PK)\n",
    "- size_gb in {5, 50}\n",
    "\n",
    "#### uploads\n",
    "- txn_id (PK)\n",
    "- user_id (FK -> users.user_id)\n",
    "- item_id (KF -> items.item_id)\n",
    "- datetime\n",
    "\n"
   ]
  },
  {
   "cell_type": "markdown",
   "id": "69966c58",
   "metadata": {},
   "source": [
    "#### Notes:\n",
    "- items is only 2 rows. We do not distinguish between items: just make it "
   ]
  }
 ],
 "metadata": {
  "kernelspec": {
   "display_name": "venv (3.10.12)",
   "language": "python",
   "name": "python3"
  },
  "language_info": {
   "codemirror_mode": {
    "name": "ipython",
    "version": 3
   },
   "file_extension": ".py",
   "mimetype": "text/x-python",
   "name": "python",
   "nbconvert_exporter": "python",
   "pygments_lexer": "ipython3",
   "version": "3.10.12"
  }
 },
 "nbformat": 4,
 "nbformat_minor": 5
}
