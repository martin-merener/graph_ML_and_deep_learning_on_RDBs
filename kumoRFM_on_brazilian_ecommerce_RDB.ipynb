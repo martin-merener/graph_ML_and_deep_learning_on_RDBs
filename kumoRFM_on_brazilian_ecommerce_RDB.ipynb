{
 "cells": [
  {
   "cell_type": "code",
   "execution_count": 99,
   "id": "65dfc5b8",
   "metadata": {},
   "outputs": [
    {
     "name": "stdout",
     "output_type": "stream",
     "text": [
      "=== olist_customers_dataset.csv ===\n"
     ]
    },
    {
     "data": {
      "text/html": [
       "<div>\n",
       "<style scoped>\n",
       "    .dataframe tbody tr th:only-of-type {\n",
       "        vertical-align: middle;\n",
       "    }\n",
       "\n",
       "    .dataframe tbody tr th {\n",
       "        vertical-align: top;\n",
       "    }\n",
       "\n",
       "    .dataframe thead th {\n",
       "        text-align: right;\n",
       "    }\n",
       "</style>\n",
       "<table border=\"1\" class=\"dataframe\">\n",
       "  <thead>\n",
       "    <tr style=\"text-align: right;\">\n",
       "      <th></th>\n",
       "      <th>customer_id</th>\n",
       "      <th>customer_unique_id</th>\n",
       "      <th>customer_zip_code_prefix</th>\n",
       "      <th>customer_city</th>\n",
       "      <th>customer_state</th>\n",
       "    </tr>\n",
       "  </thead>\n",
       "  <tbody>\n",
       "    <tr>\n",
       "      <th>0</th>\n",
       "      <td>06b8999e2fba1a1fbc88172c00ba8bc7</td>\n",
       "      <td>861eff4711a542e4b93843c6dd7febb0</td>\n",
       "      <td>14409</td>\n",
       "      <td>franca</td>\n",
       "      <td>SP</td>\n",
       "    </tr>\n",
       "    <tr>\n",
       "      <th>1</th>\n",
       "      <td>18955e83d337fd6b2def6b18a428ac77</td>\n",
       "      <td>290c77bc529b7ac935b93aa66c333dc3</td>\n",
       "      <td>9790</td>\n",
       "      <td>sao bernardo do campo</td>\n",
       "      <td>SP</td>\n",
       "    </tr>\n",
       "    <tr>\n",
       "      <th>2</th>\n",
       "      <td>4e7b3e00288586ebd08712fdd0374a03</td>\n",
       "      <td>060e732b5b29e8181a18229c7b0b2b5e</td>\n",
       "      <td>1151</td>\n",
       "      <td>sao paulo</td>\n",
       "      <td>SP</td>\n",
       "    </tr>\n",
       "  </tbody>\n",
       "</table>\n",
       "</div>"
      ],
      "text/plain": [
       "                        customer_id                customer_unique_id  \\\n",
       "0  06b8999e2fba1a1fbc88172c00ba8bc7  861eff4711a542e4b93843c6dd7febb0   \n",
       "1  18955e83d337fd6b2def6b18a428ac77  290c77bc529b7ac935b93aa66c333dc3   \n",
       "2  4e7b3e00288586ebd08712fdd0374a03  060e732b5b29e8181a18229c7b0b2b5e   \n",
       "\n",
       "   customer_zip_code_prefix          customer_city customer_state  \n",
       "0                     14409                 franca             SP  \n",
       "1                      9790  sao bernardo do campo             SP  \n",
       "2                      1151              sao paulo             SP  "
      ]
     },
     "metadata": {},
     "output_type": "display_data"
    },
    {
     "name": "stdout",
     "output_type": "stream",
     "text": [
      "\n",
      "=== olist_geolocation_dataset.csv ===\n"
     ]
    },
    {
     "data": {
      "text/html": [
       "<div>\n",
       "<style scoped>\n",
       "    .dataframe tbody tr th:only-of-type {\n",
       "        vertical-align: middle;\n",
       "    }\n",
       "\n",
       "    .dataframe tbody tr th {\n",
       "        vertical-align: top;\n",
       "    }\n",
       "\n",
       "    .dataframe thead th {\n",
       "        text-align: right;\n",
       "    }\n",
       "</style>\n",
       "<table border=\"1\" class=\"dataframe\">\n",
       "  <thead>\n",
       "    <tr style=\"text-align: right;\">\n",
       "      <th></th>\n",
       "      <th>geolocation_zip_code_prefix</th>\n",
       "      <th>geolocation_lat</th>\n",
       "      <th>geolocation_lng</th>\n",
       "      <th>geolocation_city</th>\n",
       "      <th>geolocation_state</th>\n",
       "    </tr>\n",
       "  </thead>\n",
       "  <tbody>\n",
       "    <tr>\n",
       "      <th>0</th>\n",
       "      <td>1037</td>\n",
       "      <td>-23.545621</td>\n",
       "      <td>-46.639292</td>\n",
       "      <td>sao paulo</td>\n",
       "      <td>SP</td>\n",
       "    </tr>\n",
       "    <tr>\n",
       "      <th>1</th>\n",
       "      <td>1046</td>\n",
       "      <td>-23.546081</td>\n",
       "      <td>-46.644820</td>\n",
       "      <td>sao paulo</td>\n",
       "      <td>SP</td>\n",
       "    </tr>\n",
       "    <tr>\n",
       "      <th>2</th>\n",
       "      <td>1046</td>\n",
       "      <td>-23.546129</td>\n",
       "      <td>-46.642951</td>\n",
       "      <td>sao paulo</td>\n",
       "      <td>SP</td>\n",
       "    </tr>\n",
       "  </tbody>\n",
       "</table>\n",
       "</div>"
      ],
      "text/plain": [
       "   geolocation_zip_code_prefix  geolocation_lat  geolocation_lng  \\\n",
       "0                         1037       -23.545621       -46.639292   \n",
       "1                         1046       -23.546081       -46.644820   \n",
       "2                         1046       -23.546129       -46.642951   \n",
       "\n",
       "  geolocation_city geolocation_state  \n",
       "0        sao paulo                SP  \n",
       "1        sao paulo                SP  \n",
       "2        sao paulo                SP  "
      ]
     },
     "metadata": {},
     "output_type": "display_data"
    },
    {
     "name": "stdout",
     "output_type": "stream",
     "text": [
      "\n",
      "=== olist_order_items_dataset.csv ===\n"
     ]
    },
    {
     "data": {
      "text/html": [
       "<div>\n",
       "<style scoped>\n",
       "    .dataframe tbody tr th:only-of-type {\n",
       "        vertical-align: middle;\n",
       "    }\n",
       "\n",
       "    .dataframe tbody tr th {\n",
       "        vertical-align: top;\n",
       "    }\n",
       "\n",
       "    .dataframe thead th {\n",
       "        text-align: right;\n",
       "    }\n",
       "</style>\n",
       "<table border=\"1\" class=\"dataframe\">\n",
       "  <thead>\n",
       "    <tr style=\"text-align: right;\">\n",
       "      <th></th>\n",
       "      <th>order_id</th>\n",
       "      <th>order_item_id</th>\n",
       "      <th>product_id</th>\n",
       "      <th>seller_id</th>\n",
       "      <th>shipping_limit_date</th>\n",
       "      <th>price</th>\n",
       "      <th>freight_value</th>\n",
       "    </tr>\n",
       "  </thead>\n",
       "  <tbody>\n",
       "    <tr>\n",
       "      <th>0</th>\n",
       "      <td>00010242fe8c5a6d1ba2dd792cb16214</td>\n",
       "      <td>1</td>\n",
       "      <td>4244733e06e7ecb4970a6e2683c13e61</td>\n",
       "      <td>48436dade18ac8b2bce089ec2a041202</td>\n",
       "      <td>2017-09-19 09:45:35</td>\n",
       "      <td>58.9</td>\n",
       "      <td>13.29</td>\n",
       "    </tr>\n",
       "    <tr>\n",
       "      <th>1</th>\n",
       "      <td>00018f77f2f0320c557190d7a144bdd3</td>\n",
       "      <td>1</td>\n",
       "      <td>e5f2d52b802189ee658865ca93d83a8f</td>\n",
       "      <td>dd7ddc04e1b6c2c614352b383efe2d36</td>\n",
       "      <td>2017-05-03 11:05:13</td>\n",
       "      <td>239.9</td>\n",
       "      <td>19.93</td>\n",
       "    </tr>\n",
       "    <tr>\n",
       "      <th>2</th>\n",
       "      <td>000229ec398224ef6ca0657da4fc703e</td>\n",
       "      <td>1</td>\n",
       "      <td>c777355d18b72b67abbeef9df44fd0fd</td>\n",
       "      <td>5b51032eddd242adc84c38acab88f23d</td>\n",
       "      <td>2018-01-18 14:48:30</td>\n",
       "      <td>199.0</td>\n",
       "      <td>17.87</td>\n",
       "    </tr>\n",
       "  </tbody>\n",
       "</table>\n",
       "</div>"
      ],
      "text/plain": [
       "                           order_id  order_item_id  \\\n",
       "0  00010242fe8c5a6d1ba2dd792cb16214              1   \n",
       "1  00018f77f2f0320c557190d7a144bdd3              1   \n",
       "2  000229ec398224ef6ca0657da4fc703e              1   \n",
       "\n",
       "                         product_id                         seller_id  \\\n",
       "0  4244733e06e7ecb4970a6e2683c13e61  48436dade18ac8b2bce089ec2a041202   \n",
       "1  e5f2d52b802189ee658865ca93d83a8f  dd7ddc04e1b6c2c614352b383efe2d36   \n",
       "2  c777355d18b72b67abbeef9df44fd0fd  5b51032eddd242adc84c38acab88f23d   \n",
       "\n",
       "   shipping_limit_date  price  freight_value  \n",
       "0  2017-09-19 09:45:35   58.9          13.29  \n",
       "1  2017-05-03 11:05:13  239.9          19.93  \n",
       "2  2018-01-18 14:48:30  199.0          17.87  "
      ]
     },
     "metadata": {},
     "output_type": "display_data"
    },
    {
     "name": "stdout",
     "output_type": "stream",
     "text": [
      "\n",
      "=== olist_order_payments_dataset.csv ===\n"
     ]
    },
    {
     "data": {
      "text/html": [
       "<div>\n",
       "<style scoped>\n",
       "    .dataframe tbody tr th:only-of-type {\n",
       "        vertical-align: middle;\n",
       "    }\n",
       "\n",
       "    .dataframe tbody tr th {\n",
       "        vertical-align: top;\n",
       "    }\n",
       "\n",
       "    .dataframe thead th {\n",
       "        text-align: right;\n",
       "    }\n",
       "</style>\n",
       "<table border=\"1\" class=\"dataframe\">\n",
       "  <thead>\n",
       "    <tr style=\"text-align: right;\">\n",
       "      <th></th>\n",
       "      <th>order_id</th>\n",
       "      <th>payment_sequential</th>\n",
       "      <th>payment_type</th>\n",
       "      <th>payment_installments</th>\n",
       "      <th>payment_value</th>\n",
       "    </tr>\n",
       "  </thead>\n",
       "  <tbody>\n",
       "    <tr>\n",
       "      <th>0</th>\n",
       "      <td>b81ef226f3fe1789b1e8b2acac839d17</td>\n",
       "      <td>1</td>\n",
       "      <td>credit_card</td>\n",
       "      <td>8</td>\n",
       "      <td>99.33</td>\n",
       "    </tr>\n",
       "    <tr>\n",
       "      <th>1</th>\n",
       "      <td>a9810da82917af2d9aefd1278f1dcfa0</td>\n",
       "      <td>1</td>\n",
       "      <td>credit_card</td>\n",
       "      <td>1</td>\n",
       "      <td>24.39</td>\n",
       "    </tr>\n",
       "    <tr>\n",
       "      <th>2</th>\n",
       "      <td>25e8ea4e93396b6fa0d3dd708e76c1bd</td>\n",
       "      <td>1</td>\n",
       "      <td>credit_card</td>\n",
       "      <td>1</td>\n",
       "      <td>65.71</td>\n",
       "    </tr>\n",
       "  </tbody>\n",
       "</table>\n",
       "</div>"
      ],
      "text/plain": [
       "                           order_id  payment_sequential payment_type  \\\n",
       "0  b81ef226f3fe1789b1e8b2acac839d17                   1  credit_card   \n",
       "1  a9810da82917af2d9aefd1278f1dcfa0                   1  credit_card   \n",
       "2  25e8ea4e93396b6fa0d3dd708e76c1bd                   1  credit_card   \n",
       "\n",
       "   payment_installments  payment_value  \n",
       "0                     8          99.33  \n",
       "1                     1          24.39  \n",
       "2                     1          65.71  "
      ]
     },
     "metadata": {},
     "output_type": "display_data"
    },
    {
     "name": "stdout",
     "output_type": "stream",
     "text": [
      "\n",
      "=== olist_order_reviews_dataset.csv ===\n"
     ]
    },
    {
     "data": {
      "text/html": [
       "<div>\n",
       "<style scoped>\n",
       "    .dataframe tbody tr th:only-of-type {\n",
       "        vertical-align: middle;\n",
       "    }\n",
       "\n",
       "    .dataframe tbody tr th {\n",
       "        vertical-align: top;\n",
       "    }\n",
       "\n",
       "    .dataframe thead th {\n",
       "        text-align: right;\n",
       "    }\n",
       "</style>\n",
       "<table border=\"1\" class=\"dataframe\">\n",
       "  <thead>\n",
       "    <tr style=\"text-align: right;\">\n",
       "      <th></th>\n",
       "      <th>review_id</th>\n",
       "      <th>order_id</th>\n",
       "      <th>review_score</th>\n",
       "      <th>review_comment_title</th>\n",
       "      <th>review_comment_message</th>\n",
       "      <th>review_creation_date</th>\n",
       "      <th>review_answer_timestamp</th>\n",
       "    </tr>\n",
       "  </thead>\n",
       "  <tbody>\n",
       "    <tr>\n",
       "      <th>0</th>\n",
       "      <td>7bc2406110b926393aa56f80a40eba40</td>\n",
       "      <td>73fc7af87114b39712e6da79b0a377eb</td>\n",
       "      <td>4</td>\n",
       "      <td>NaN</td>\n",
       "      <td>NaN</td>\n",
       "      <td>2018-01-18 00:00:00</td>\n",
       "      <td>2018-01-18 21:46:59</td>\n",
       "    </tr>\n",
       "    <tr>\n",
       "      <th>1</th>\n",
       "      <td>80e641a11e56f04c1ad469d5645fdfde</td>\n",
       "      <td>a548910a1c6147796b98fdf73dbeba33</td>\n",
       "      <td>5</td>\n",
       "      <td>NaN</td>\n",
       "      <td>NaN</td>\n",
       "      <td>2018-03-10 00:00:00</td>\n",
       "      <td>2018-03-11 03:05:13</td>\n",
       "    </tr>\n",
       "    <tr>\n",
       "      <th>2</th>\n",
       "      <td>228ce5500dc1d8e020d8d1322874b6f0</td>\n",
       "      <td>f9e4b658b201a9f2ecdecbb34bed034b</td>\n",
       "      <td>5</td>\n",
       "      <td>NaN</td>\n",
       "      <td>NaN</td>\n",
       "      <td>2018-02-17 00:00:00</td>\n",
       "      <td>2018-02-18 14:36:24</td>\n",
       "    </tr>\n",
       "  </tbody>\n",
       "</table>\n",
       "</div>"
      ],
      "text/plain": [
       "                          review_id                          order_id  \\\n",
       "0  7bc2406110b926393aa56f80a40eba40  73fc7af87114b39712e6da79b0a377eb   \n",
       "1  80e641a11e56f04c1ad469d5645fdfde  a548910a1c6147796b98fdf73dbeba33   \n",
       "2  228ce5500dc1d8e020d8d1322874b6f0  f9e4b658b201a9f2ecdecbb34bed034b   \n",
       "\n",
       "   review_score review_comment_title review_comment_message  \\\n",
       "0             4                  NaN                    NaN   \n",
       "1             5                  NaN                    NaN   \n",
       "2             5                  NaN                    NaN   \n",
       "\n",
       "  review_creation_date review_answer_timestamp  \n",
       "0  2018-01-18 00:00:00     2018-01-18 21:46:59  \n",
       "1  2018-03-10 00:00:00     2018-03-11 03:05:13  \n",
       "2  2018-02-17 00:00:00     2018-02-18 14:36:24  "
      ]
     },
     "metadata": {},
     "output_type": "display_data"
    },
    {
     "name": "stdout",
     "output_type": "stream",
     "text": [
      "\n",
      "=== olist_orders_dataset.csv ===\n"
     ]
    },
    {
     "data": {
      "text/html": [
       "<div>\n",
       "<style scoped>\n",
       "    .dataframe tbody tr th:only-of-type {\n",
       "        vertical-align: middle;\n",
       "    }\n",
       "\n",
       "    .dataframe tbody tr th {\n",
       "        vertical-align: top;\n",
       "    }\n",
       "\n",
       "    .dataframe thead th {\n",
       "        text-align: right;\n",
       "    }\n",
       "</style>\n",
       "<table border=\"1\" class=\"dataframe\">\n",
       "  <thead>\n",
       "    <tr style=\"text-align: right;\">\n",
       "      <th></th>\n",
       "      <th>order_id</th>\n",
       "      <th>customer_id</th>\n",
       "      <th>order_status</th>\n",
       "      <th>order_purchase_timestamp</th>\n",
       "      <th>order_approved_at</th>\n",
       "      <th>order_delivered_carrier_date</th>\n",
       "      <th>order_delivered_customer_date</th>\n",
       "      <th>order_estimated_delivery_date</th>\n",
       "    </tr>\n",
       "  </thead>\n",
       "  <tbody>\n",
       "    <tr>\n",
       "      <th>0</th>\n",
       "      <td>e481f51cbdc54678b7cc49136f2d6af7</td>\n",
       "      <td>9ef432eb6251297304e76186b10a928d</td>\n",
       "      <td>delivered</td>\n",
       "      <td>2017-10-02 10:56:33</td>\n",
       "      <td>2017-10-02 11:07:15</td>\n",
       "      <td>2017-10-04 19:55:00</td>\n",
       "      <td>2017-10-10 21:25:13</td>\n",
       "      <td>2017-10-18 00:00:00</td>\n",
       "    </tr>\n",
       "    <tr>\n",
       "      <th>1</th>\n",
       "      <td>53cdb2fc8bc7dce0b6741e2150273451</td>\n",
       "      <td>b0830fb4747a6c6d20dea0b8c802d7ef</td>\n",
       "      <td>delivered</td>\n",
       "      <td>2018-07-24 20:41:37</td>\n",
       "      <td>2018-07-26 03:24:27</td>\n",
       "      <td>2018-07-26 14:31:00</td>\n",
       "      <td>2018-08-07 15:27:45</td>\n",
       "      <td>2018-08-13 00:00:00</td>\n",
       "    </tr>\n",
       "    <tr>\n",
       "      <th>2</th>\n",
       "      <td>47770eb9100c2d0c44946d9cf07ec65d</td>\n",
       "      <td>41ce2a54c0b03bf3443c3d931a367089</td>\n",
       "      <td>delivered</td>\n",
       "      <td>2018-08-08 08:38:49</td>\n",
       "      <td>2018-08-08 08:55:23</td>\n",
       "      <td>2018-08-08 13:50:00</td>\n",
       "      <td>2018-08-17 18:06:29</td>\n",
       "      <td>2018-09-04 00:00:00</td>\n",
       "    </tr>\n",
       "  </tbody>\n",
       "</table>\n",
       "</div>"
      ],
      "text/plain": [
       "                           order_id                       customer_id  \\\n",
       "0  e481f51cbdc54678b7cc49136f2d6af7  9ef432eb6251297304e76186b10a928d   \n",
       "1  53cdb2fc8bc7dce0b6741e2150273451  b0830fb4747a6c6d20dea0b8c802d7ef   \n",
       "2  47770eb9100c2d0c44946d9cf07ec65d  41ce2a54c0b03bf3443c3d931a367089   \n",
       "\n",
       "  order_status order_purchase_timestamp    order_approved_at  \\\n",
       "0    delivered      2017-10-02 10:56:33  2017-10-02 11:07:15   \n",
       "1    delivered      2018-07-24 20:41:37  2018-07-26 03:24:27   \n",
       "2    delivered      2018-08-08 08:38:49  2018-08-08 08:55:23   \n",
       "\n",
       "  order_delivered_carrier_date order_delivered_customer_date  \\\n",
       "0          2017-10-04 19:55:00           2017-10-10 21:25:13   \n",
       "1          2018-07-26 14:31:00           2018-08-07 15:27:45   \n",
       "2          2018-08-08 13:50:00           2018-08-17 18:06:29   \n",
       "\n",
       "  order_estimated_delivery_date  \n",
       "0           2017-10-18 00:00:00  \n",
       "1           2018-08-13 00:00:00  \n",
       "2           2018-09-04 00:00:00  "
      ]
     },
     "metadata": {},
     "output_type": "display_data"
    },
    {
     "name": "stdout",
     "output_type": "stream",
     "text": [
      "\n",
      "=== olist_products_dataset.csv ===\n"
     ]
    },
    {
     "data": {
      "text/html": [
       "<div>\n",
       "<style scoped>\n",
       "    .dataframe tbody tr th:only-of-type {\n",
       "        vertical-align: middle;\n",
       "    }\n",
       "\n",
       "    .dataframe tbody tr th {\n",
       "        vertical-align: top;\n",
       "    }\n",
       "\n",
       "    .dataframe thead th {\n",
       "        text-align: right;\n",
       "    }\n",
       "</style>\n",
       "<table border=\"1\" class=\"dataframe\">\n",
       "  <thead>\n",
       "    <tr style=\"text-align: right;\">\n",
       "      <th></th>\n",
       "      <th>product_id</th>\n",
       "      <th>product_category_name</th>\n",
       "      <th>product_name_lenght</th>\n",
       "      <th>product_description_lenght</th>\n",
       "      <th>product_photos_qty</th>\n",
       "      <th>product_weight_g</th>\n",
       "      <th>product_length_cm</th>\n",
       "      <th>product_height_cm</th>\n",
       "      <th>product_width_cm</th>\n",
       "    </tr>\n",
       "  </thead>\n",
       "  <tbody>\n",
       "    <tr>\n",
       "      <th>0</th>\n",
       "      <td>1e9e8ef04dbcff4541ed26657ea517e5</td>\n",
       "      <td>perfumaria</td>\n",
       "      <td>40.0</td>\n",
       "      <td>287.0</td>\n",
       "      <td>1.0</td>\n",
       "      <td>225.0</td>\n",
       "      <td>16.0</td>\n",
       "      <td>10.0</td>\n",
       "      <td>14.0</td>\n",
       "    </tr>\n",
       "    <tr>\n",
       "      <th>1</th>\n",
       "      <td>3aa071139cb16b67ca9e5dea641aaa2f</td>\n",
       "      <td>artes</td>\n",
       "      <td>44.0</td>\n",
       "      <td>276.0</td>\n",
       "      <td>1.0</td>\n",
       "      <td>1000.0</td>\n",
       "      <td>30.0</td>\n",
       "      <td>18.0</td>\n",
       "      <td>20.0</td>\n",
       "    </tr>\n",
       "    <tr>\n",
       "      <th>2</th>\n",
       "      <td>96bd76ec8810374ed1b65e291975717f</td>\n",
       "      <td>esporte_lazer</td>\n",
       "      <td>46.0</td>\n",
       "      <td>250.0</td>\n",
       "      <td>1.0</td>\n",
       "      <td>154.0</td>\n",
       "      <td>18.0</td>\n",
       "      <td>9.0</td>\n",
       "      <td>15.0</td>\n",
       "    </tr>\n",
       "  </tbody>\n",
       "</table>\n",
       "</div>"
      ],
      "text/plain": [
       "                         product_id product_category_name  \\\n",
       "0  1e9e8ef04dbcff4541ed26657ea517e5            perfumaria   \n",
       "1  3aa071139cb16b67ca9e5dea641aaa2f                 artes   \n",
       "2  96bd76ec8810374ed1b65e291975717f         esporte_lazer   \n",
       "\n",
       "   product_name_lenght  product_description_lenght  product_photos_qty  \\\n",
       "0                 40.0                       287.0                 1.0   \n",
       "1                 44.0                       276.0                 1.0   \n",
       "2                 46.0                       250.0                 1.0   \n",
       "\n",
       "   product_weight_g  product_length_cm  product_height_cm  product_width_cm  \n",
       "0             225.0               16.0               10.0              14.0  \n",
       "1            1000.0               30.0               18.0              20.0  \n",
       "2             154.0               18.0                9.0              15.0  "
      ]
     },
     "metadata": {},
     "output_type": "display_data"
    },
    {
     "name": "stdout",
     "output_type": "stream",
     "text": [
      "\n",
      "=== olist_sellers_dataset.csv ===\n"
     ]
    },
    {
     "data": {
      "text/html": [
       "<div>\n",
       "<style scoped>\n",
       "    .dataframe tbody tr th:only-of-type {\n",
       "        vertical-align: middle;\n",
       "    }\n",
       "\n",
       "    .dataframe tbody tr th {\n",
       "        vertical-align: top;\n",
       "    }\n",
       "\n",
       "    .dataframe thead th {\n",
       "        text-align: right;\n",
       "    }\n",
       "</style>\n",
       "<table border=\"1\" class=\"dataframe\">\n",
       "  <thead>\n",
       "    <tr style=\"text-align: right;\">\n",
       "      <th></th>\n",
       "      <th>seller_id</th>\n",
       "      <th>seller_zip_code_prefix</th>\n",
       "      <th>seller_city</th>\n",
       "      <th>seller_state</th>\n",
       "    </tr>\n",
       "  </thead>\n",
       "  <tbody>\n",
       "    <tr>\n",
       "      <th>0</th>\n",
       "      <td>3442f8959a84dea7ee197c632cb2df15</td>\n",
       "      <td>13023</td>\n",
       "      <td>campinas</td>\n",
       "      <td>SP</td>\n",
       "    </tr>\n",
       "    <tr>\n",
       "      <th>1</th>\n",
       "      <td>d1b65fc7debc3361ea86b5f14c68d2e2</td>\n",
       "      <td>13844</td>\n",
       "      <td>mogi guacu</td>\n",
       "      <td>SP</td>\n",
       "    </tr>\n",
       "    <tr>\n",
       "      <th>2</th>\n",
       "      <td>ce3ad9de960102d0677a81f5d0bb7b2d</td>\n",
       "      <td>20031</td>\n",
       "      <td>rio de janeiro</td>\n",
       "      <td>RJ</td>\n",
       "    </tr>\n",
       "  </tbody>\n",
       "</table>\n",
       "</div>"
      ],
      "text/plain": [
       "                          seller_id  seller_zip_code_prefix     seller_city  \\\n",
       "0  3442f8959a84dea7ee197c632cb2df15                   13023        campinas   \n",
       "1  d1b65fc7debc3361ea86b5f14c68d2e2                   13844      mogi guacu   \n",
       "2  ce3ad9de960102d0677a81f5d0bb7b2d                   20031  rio de janeiro   \n",
       "\n",
       "  seller_state  \n",
       "0           SP  \n",
       "1           SP  \n",
       "2           RJ  "
      ]
     },
     "metadata": {},
     "output_type": "display_data"
    },
    {
     "name": "stdout",
     "output_type": "stream",
     "text": [
      "\n",
      "=== product_category_name_translation.csv ===\n"
     ]
    },
    {
     "data": {
      "text/html": [
       "<div>\n",
       "<style scoped>\n",
       "    .dataframe tbody tr th:only-of-type {\n",
       "        vertical-align: middle;\n",
       "    }\n",
       "\n",
       "    .dataframe tbody tr th {\n",
       "        vertical-align: top;\n",
       "    }\n",
       "\n",
       "    .dataframe thead th {\n",
       "        text-align: right;\n",
       "    }\n",
       "</style>\n",
       "<table border=\"1\" class=\"dataframe\">\n",
       "  <thead>\n",
       "    <tr style=\"text-align: right;\">\n",
       "      <th></th>\n",
       "      <th>product_category_name</th>\n",
       "      <th>product_category_name_english</th>\n",
       "    </tr>\n",
       "  </thead>\n",
       "  <tbody>\n",
       "    <tr>\n",
       "      <th>0</th>\n",
       "      <td>beleza_saude</td>\n",
       "      <td>health_beauty</td>\n",
       "    </tr>\n",
       "    <tr>\n",
       "      <th>1</th>\n",
       "      <td>informatica_acessorios</td>\n",
       "      <td>computers_accessories</td>\n",
       "    </tr>\n",
       "    <tr>\n",
       "      <th>2</th>\n",
       "      <td>automotivo</td>\n",
       "      <td>auto</td>\n",
       "    </tr>\n",
       "  </tbody>\n",
       "</table>\n",
       "</div>"
      ],
      "text/plain": [
       "    product_category_name product_category_name_english\n",
       "0            beleza_saude                 health_beauty\n",
       "1  informatica_acessorios         computers_accessories\n",
       "2              automotivo                          auto"
      ]
     },
     "metadata": {},
     "output_type": "display_data"
    },
    {
     "name": "stdout",
     "output_type": "stream",
     "text": [
      "\n"
     ]
    }
   ],
   "source": [
    "import os\n",
    "import pandas as pd\n",
    "import numpy as np\n",
    "import matplotlib.pyplot as plt\n",
    "import seaborn as sns\n",
    "from IPython.display import display\n",
    "import random\n",
    "\n",
    "\n",
    "# Dataset: https://www.kaggle.com/datasets/olistbr/brazilian-ecommerce\n",
    "\n",
    "folder = \"./../brazilian_ecommerce_rdb\"\n",
    "\n",
    "\n",
    "for filename in sorted(os.listdir(folder)):\n",
    "    if filename.lower().endswith(\".csv\"):\n",
    "        path = os.path.join(folder, filename)\n",
    "        df = pd.read_csv(path)\n",
    "        print(f\"=== {filename} ===\")\n",
    "        display(df.head(3))\n",
    "        print()\n"
   ]
  },
  {
   "cell_type": "code",
   "execution_count": 11,
   "id": "a9580749",
   "metadata": {},
   "outputs": [],
   "source": [
    "# Mapping from short name to file name\n",
    "csv_mapping = {\n",
    "    \"customers\": \"olist_customers_dataset.csv\",\n",
    "    \"geolocation\": \"olist_geolocation_dataset.csv\",\n",
    "    \"order_items\": \"olist_order_items_dataset.csv\",\n",
    "    \"order_payments\": \"olist_order_payments_dataset.csv\",\n",
    "    \"order_reviews\": \"olist_order_reviews_dataset.csv\",\n",
    "    \"orders\": \"olist_orders_dataset.csv\",\n",
    "    \"products\": \"olist_products_dataset.csv\",\n",
    "    \"sellers\": \"olist_sellers_dataset.csv\",\n",
    "    \"product_category_translation\": \"product_category_name_translation.csv\",\n",
    "}\n",
    "\n",
    "# Function to load a dataset by key\n",
    "def load_dataset(key):\n",
    "    if key not in csv_mapping:\n",
    "        raise ValueError(f\"Invalid key: {key}. Available keys are: {list(csv_mapping.keys())}\")\n",
    "    file_path = os.path.join(folder, csv_mapping[key])\n",
    "    return pd.read_csv(file_path)\n"
   ]
  },
  {
   "cell_type": "code",
   "execution_count": 257,
   "id": "8f999bcb",
   "metadata": {},
   "outputs": [
    {
     "data": {
      "text/html": [
       "<div>\n",
       "<style scoped>\n",
       "    .dataframe tbody tr th:only-of-type {\n",
       "        vertical-align: middle;\n",
       "    }\n",
       "\n",
       "    .dataframe tbody tr th {\n",
       "        vertical-align: top;\n",
       "    }\n",
       "\n",
       "    .dataframe thead th {\n",
       "        text-align: right;\n",
       "    }\n",
       "</style>\n",
       "<table border=\"1\" class=\"dataframe\">\n",
       "  <thead>\n",
       "    <tr style=\"text-align: right;\">\n",
       "      <th></th>\n",
       "      <th>product_id</th>\n",
       "      <th>product_category_name</th>\n",
       "    </tr>\n",
       "  </thead>\n",
       "  <tbody>\n",
       "    <tr>\n",
       "      <th>0</th>\n",
       "      <td>1e9e8ef04dbcff4541ed26657ea517e5</td>\n",
       "      <td>perfumery</td>\n",
       "    </tr>\n",
       "    <tr>\n",
       "      <th>1</th>\n",
       "      <td>3aa071139cb16b67ca9e5dea641aaa2f</td>\n",
       "      <td>art</td>\n",
       "    </tr>\n",
       "    <tr>\n",
       "      <th>2</th>\n",
       "      <td>96bd76ec8810374ed1b65e291975717f</td>\n",
       "      <td>sports_leisure</td>\n",
       "    </tr>\n",
       "  </tbody>\n",
       "</table>\n",
       "</div>"
      ],
      "text/plain": [
       "                         product_id product_category_name\n",
       "0  1e9e8ef04dbcff4541ed26657ea517e5             perfumery\n",
       "1  3aa071139cb16b67ca9e5dea641aaa2f                   art\n",
       "2  96bd76ec8810374ed1b65e291975717f        sports_leisure"
      ]
     },
     "execution_count": 257,
     "metadata": {},
     "output_type": "execute_result"
    }
   ],
   "source": [
    "# Ignore reviews.\n",
    "# Ignore payments.\n",
    "# Ignore geolocation.\n",
    "\n",
    "# Join product category name translation to products dataset, and use the English category name.\n",
    "# Then ignore product category name translation.\n",
    "\n",
    "# ONLY WORK WITH: PRODUCTS, ORDERS, ORDER_ITEMS, SELLERS, CUSTOMERS.\n",
    "products = load_dataset(\"products\")\n",
    "product_category_translation = load_dataset(\"product_category_translation\")\n",
    "products = products.merge(product_category_translation, on=\"product_category_name\", how=\"left\")   \n",
    "products.drop(columns = ['product_category_name'], inplace=True)\n",
    "products.rename(columns={\"product_category_name_english\": \"product_category_name\"}, inplace=True)\n",
    "products = products[['product_id', 'product_category_name']].copy()\n",
    "products.head(3)"
   ]
  },
  {
   "cell_type": "code",
   "execution_count": 301,
   "id": "c6854a40",
   "metadata": {},
   "outputs": [
    {
     "data": {
      "text/html": [
       "<div>\n",
       "<style scoped>\n",
       "    .dataframe tbody tr th:only-of-type {\n",
       "        vertical-align: middle;\n",
       "    }\n",
       "\n",
       "    .dataframe tbody tr th {\n",
       "        vertical-align: top;\n",
       "    }\n",
       "\n",
       "    .dataframe thead th {\n",
       "        text-align: right;\n",
       "    }\n",
       "</style>\n",
       "<table border=\"1\" class=\"dataframe\">\n",
       "  <thead>\n",
       "    <tr style=\"text-align: right;\">\n",
       "      <th></th>\n",
       "      <th>order_id</th>\n",
       "      <th>customer_id</th>\n",
       "      <th>order_purchase_timestamp</th>\n",
       "    </tr>\n",
       "  </thead>\n",
       "  <tbody>\n",
       "    <tr>\n",
       "      <th>0</th>\n",
       "      <td>e481f51cbdc54678b7cc49136f2d6af7</td>\n",
       "      <td>9ef432eb6251297304e76186b10a928d</td>\n",
       "      <td>2017-10-02 10:56:33</td>\n",
       "    </tr>\n",
       "    <tr>\n",
       "      <th>1</th>\n",
       "      <td>53cdb2fc8bc7dce0b6741e2150273451</td>\n",
       "      <td>b0830fb4747a6c6d20dea0b8c802d7ef</td>\n",
       "      <td>2018-07-24 20:41:37</td>\n",
       "    </tr>\n",
       "    <tr>\n",
       "      <th>2</th>\n",
       "      <td>47770eb9100c2d0c44946d9cf07ec65d</td>\n",
       "      <td>41ce2a54c0b03bf3443c3d931a367089</td>\n",
       "      <td>2018-08-08 08:38:49</td>\n",
       "    </tr>\n",
       "  </tbody>\n",
       "</table>\n",
       "</div>"
      ],
      "text/plain": [
       "                           order_id                       customer_id  \\\n",
       "0  e481f51cbdc54678b7cc49136f2d6af7  9ef432eb6251297304e76186b10a928d   \n",
       "1  53cdb2fc8bc7dce0b6741e2150273451  b0830fb4747a6c6d20dea0b8c802d7ef   \n",
       "2  47770eb9100c2d0c44946d9cf07ec65d  41ce2a54c0b03bf3443c3d931a367089   \n",
       "\n",
       "  order_purchase_timestamp  \n",
       "0      2017-10-02 10:56:33  \n",
       "1      2018-07-24 20:41:37  \n",
       "2      2018-08-08 08:38:49  "
      ]
     },
     "execution_count": 301,
     "metadata": {},
     "output_type": "execute_result"
    }
   ],
   "source": [
    "orders = load_dataset(\"orders\")\n",
    "orders = orders[['order_id', 'customer_id', 'order_purchase_timestamp', 'order_status']].copy()\n",
    "orders = orders.loc[orders['order_status'] == 'delivered'].copy()  # Filter for delivered orders\n",
    "orders.drop(columns=['order_status'], inplace=True)\n",
    "orders.head(3)"
   ]
  },
  {
   "cell_type": "code",
   "execution_count": 302,
   "id": "74c3d7e3",
   "metadata": {},
   "outputs": [
    {
     "data": {
      "text/html": [
       "<div>\n",
       "<style scoped>\n",
       "    .dataframe tbody tr th:only-of-type {\n",
       "        vertical-align: middle;\n",
       "    }\n",
       "\n",
       "    .dataframe tbody tr th {\n",
       "        vertical-align: top;\n",
       "    }\n",
       "\n",
       "    .dataframe thead th {\n",
       "        text-align: right;\n",
       "    }\n",
       "</style>\n",
       "<table border=\"1\" class=\"dataframe\">\n",
       "  <thead>\n",
       "    <tr style=\"text-align: right;\">\n",
       "      <th></th>\n",
       "      <th>order_id</th>\n",
       "      <th>order_item_id</th>\n",
       "      <th>product_id</th>\n",
       "      <th>seller_id</th>\n",
       "      <th>price</th>\n",
       "    </tr>\n",
       "  </thead>\n",
       "  <tbody>\n",
       "    <tr>\n",
       "      <th>0</th>\n",
       "      <td>00010242fe8c5a6d1ba2dd792cb16214</td>\n",
       "      <td>1</td>\n",
       "      <td>4244733e06e7ecb4970a6e2683c13e61</td>\n",
       "      <td>48436dade18ac8b2bce089ec2a041202</td>\n",
       "      <td>58.9</td>\n",
       "    </tr>\n",
       "    <tr>\n",
       "      <th>1</th>\n",
       "      <td>00018f77f2f0320c557190d7a144bdd3</td>\n",
       "      <td>1</td>\n",
       "      <td>e5f2d52b802189ee658865ca93d83a8f</td>\n",
       "      <td>dd7ddc04e1b6c2c614352b383efe2d36</td>\n",
       "      <td>239.9</td>\n",
       "    </tr>\n",
       "    <tr>\n",
       "      <th>2</th>\n",
       "      <td>000229ec398224ef6ca0657da4fc703e</td>\n",
       "      <td>1</td>\n",
       "      <td>c777355d18b72b67abbeef9df44fd0fd</td>\n",
       "      <td>5b51032eddd242adc84c38acab88f23d</td>\n",
       "      <td>199.0</td>\n",
       "    </tr>\n",
       "  </tbody>\n",
       "</table>\n",
       "</div>"
      ],
      "text/plain": [
       "                           order_id  order_item_id  \\\n",
       "0  00010242fe8c5a6d1ba2dd792cb16214              1   \n",
       "1  00018f77f2f0320c557190d7a144bdd3              1   \n",
       "2  000229ec398224ef6ca0657da4fc703e              1   \n",
       "\n",
       "                         product_id                         seller_id  price  \n",
       "0  4244733e06e7ecb4970a6e2683c13e61  48436dade18ac8b2bce089ec2a041202   58.9  \n",
       "1  e5f2d52b802189ee658865ca93d83a8f  dd7ddc04e1b6c2c614352b383efe2d36  239.9  \n",
       "2  c777355d18b72b67abbeef9df44fd0fd  5b51032eddd242adc84c38acab88f23d  199.0  "
      ]
     },
     "execution_count": 302,
     "metadata": {},
     "output_type": "execute_result"
    }
   ],
   "source": [
    "order_items = load_dataset(\"order_items\")\n",
    "order_items = order_items[['order_id', 'order_item_id', 'product_id', 'seller_id', 'price']].copy()\n",
    "order_items.head(3)"
   ]
  },
  {
   "cell_type": "code",
   "execution_count": 303,
   "id": "74cb2004",
   "metadata": {},
   "outputs": [
    {
     "data": {
      "text/html": [
       "<div>\n",
       "<style scoped>\n",
       "    .dataframe tbody tr th:only-of-type {\n",
       "        vertical-align: middle;\n",
       "    }\n",
       "\n",
       "    .dataframe tbody tr th {\n",
       "        vertical-align: top;\n",
       "    }\n",
       "\n",
       "    .dataframe thead th {\n",
       "        text-align: right;\n",
       "    }\n",
       "</style>\n",
       "<table border=\"1\" class=\"dataframe\">\n",
       "  <thead>\n",
       "    <tr style=\"text-align: right;\">\n",
       "      <th></th>\n",
       "      <th>customer_id</th>\n",
       "      <th>customer_unique_id</th>\n",
       "      <th>state</th>\n",
       "      <th>city</th>\n",
       "    </tr>\n",
       "  </thead>\n",
       "  <tbody>\n",
       "    <tr>\n",
       "      <th>0</th>\n",
       "      <td>06b8999e2fba1a1fbc88172c00ba8bc7</td>\n",
       "      <td>861eff4711a542e4b93843c6dd7febb0</td>\n",
       "      <td>SP</td>\n",
       "      <td>franca</td>\n",
       "    </tr>\n",
       "    <tr>\n",
       "      <th>1</th>\n",
       "      <td>18955e83d337fd6b2def6b18a428ac77</td>\n",
       "      <td>290c77bc529b7ac935b93aa66c333dc3</td>\n",
       "      <td>SP</td>\n",
       "      <td>sao bernardo do campo</td>\n",
       "    </tr>\n",
       "    <tr>\n",
       "      <th>2</th>\n",
       "      <td>4e7b3e00288586ebd08712fdd0374a03</td>\n",
       "      <td>060e732b5b29e8181a18229c7b0b2b5e</td>\n",
       "      <td>SP</td>\n",
       "      <td>sao paulo</td>\n",
       "    </tr>\n",
       "  </tbody>\n",
       "</table>\n",
       "</div>"
      ],
      "text/plain": [
       "                        customer_id                customer_unique_id state  \\\n",
       "0  06b8999e2fba1a1fbc88172c00ba8bc7  861eff4711a542e4b93843c6dd7febb0    SP   \n",
       "1  18955e83d337fd6b2def6b18a428ac77  290c77bc529b7ac935b93aa66c333dc3    SP   \n",
       "2  4e7b3e00288586ebd08712fdd0374a03  060e732b5b29e8181a18229c7b0b2b5e    SP   \n",
       "\n",
       "                    city  \n",
       "0                 franca  \n",
       "1  sao bernardo do campo  \n",
       "2              sao paulo  "
      ]
     },
     "execution_count": 303,
     "metadata": {},
     "output_type": "execute_result"
    }
   ],
   "source": [
    "customers = load_dataset(\"customers\")\n",
    "customers = customers[['customer_id', 'customer_unique_id', 'customer_state', 'customer_city']].copy()\n",
    "customers.rename(columns={\"customer_state\":\"state\", \"customer_city\": \"city\"}, inplace=True)\n",
    "customers.head(3)"
   ]
  },
  {
   "cell_type": "code",
   "execution_count": 304,
   "id": "75a1d7b1",
   "metadata": {},
   "outputs": [
    {
     "data": {
      "text/html": [
       "<div>\n",
       "<style scoped>\n",
       "    .dataframe tbody tr th:only-of-type {\n",
       "        vertical-align: middle;\n",
       "    }\n",
       "\n",
       "    .dataframe tbody tr th {\n",
       "        vertical-align: top;\n",
       "    }\n",
       "\n",
       "    .dataframe thead th {\n",
       "        text-align: right;\n",
       "    }\n",
       "</style>\n",
       "<table border=\"1\" class=\"dataframe\">\n",
       "  <thead>\n",
       "    <tr style=\"text-align: right;\">\n",
       "      <th></th>\n",
       "      <th>seller_id</th>\n",
       "      <th>city</th>\n",
       "      <th>state</th>\n",
       "    </tr>\n",
       "  </thead>\n",
       "  <tbody>\n",
       "    <tr>\n",
       "      <th>0</th>\n",
       "      <td>3442f8959a84dea7ee197c632cb2df15</td>\n",
       "      <td>campinas</td>\n",
       "      <td>SP</td>\n",
       "    </tr>\n",
       "    <tr>\n",
       "      <th>1</th>\n",
       "      <td>d1b65fc7debc3361ea86b5f14c68d2e2</td>\n",
       "      <td>mogi guacu</td>\n",
       "      <td>SP</td>\n",
       "    </tr>\n",
       "    <tr>\n",
       "      <th>2</th>\n",
       "      <td>ce3ad9de960102d0677a81f5d0bb7b2d</td>\n",
       "      <td>rio de janeiro</td>\n",
       "      <td>RJ</td>\n",
       "    </tr>\n",
       "  </tbody>\n",
       "</table>\n",
       "</div>"
      ],
      "text/plain": [
       "                          seller_id            city state\n",
       "0  3442f8959a84dea7ee197c632cb2df15        campinas    SP\n",
       "1  d1b65fc7debc3361ea86b5f14c68d2e2      mogi guacu    SP\n",
       "2  ce3ad9de960102d0677a81f5d0bb7b2d  rio de janeiro    RJ"
      ]
     },
     "execution_count": 304,
     "metadata": {},
     "output_type": "execute_result"
    }
   ],
   "source": [
    "sellers = load_dataset(\"sellers\")\n",
    "sellers = sellers[['seller_id', 'seller_city', 'seller_state']].copy()\n",
    "sellers.rename(columns={\"seller_city\": \"city\", \"seller_state\": \"state\"}, inplace=True)\n",
    "sellers.head(3)"
   ]
  },
  {
   "cell_type": "code",
   "execution_count": 305,
   "id": "b6507266",
   "metadata": {},
   "outputs": [
    {
     "data": {
      "text/plain": [
       "order_id                    object\n",
       "customer_id                 object\n",
       "order_purchase_timestamp    object\n",
       "dtype: object"
      ]
     },
     "execution_count": 305,
     "metadata": {},
     "output_type": "execute_result"
    }
   ],
   "source": [
    "orders.dtypes"
   ]
  },
  {
   "cell_type": "code",
   "execution_count": 306,
   "id": "4a494ab1",
   "metadata": {},
   "outputs": [
    {
     "data": {
      "text/plain": [
       "('2016-09-15 12:16:38', '2018-08-29 15:00:37')"
      ]
     },
     "execution_count": 306,
     "metadata": {},
     "output_type": "execute_result"
    }
   ],
   "source": [
    "orders.order_purchase_timestamp.min(), orders.order_purchase_timestamp.max()"
   ]
  },
  {
   "cell_type": "markdown",
   "id": "0eaa1cca",
   "metadata": {},
   "source": [
    "- Pick a random date between \"2017-08-15\" and \"2018-07-15\"\n",
    "- Pick a random product category: 71 in the products table.\n",
    "- Pick a random seller id: 3095 in the sellers table.\n",
    "- Given a date and an entity (seller or product category), and a number of days (e.g., 5, 10, 20):\n",
    "    - take N the last disjoint and consecutive periods, and predict the average for the following period.\n",
    "- If if N=3, and days=10, and date=\"2018-06-15\", then take the periods:\n",
    "    - [\"2018-06-05\" to \"2018-06-15\")\n",
    "    - [\"2018-05-26\" to \"2018-06-05\")\n",
    "    - [\"2018-05-16\" to \"2018-05-26\")\n",
    "    - and predict the average for the period: [\"2018-06-15\" to \"2018-06-25\")\n",
    "    - The prediction can be regression (the average) sum of prices, or classification the average number of periods with sales > 0.\n",
    "    - The prediction can be at seller level (if the seller will have sales or not), or at category level (the total sales for the category)."
   ]
  },
  {
   "cell_type": "code",
   "execution_count": 307,
   "id": "aaba04cc",
   "metadata": {},
   "outputs": [],
   "source": [
    "all_data = orders.merge(order_items, on='order_id', how='left') \\\n",
    "    .merge(products, on='product_id', how='left')\n",
    "all_data = all_data[['order_purchase_timestamp','seller_id', 'product_category_name', 'price']].copy()"
   ]
  },
  {
   "cell_type": "code",
   "execution_count": 308,
   "id": "9e8ff811",
   "metadata": {},
   "outputs": [
    {
     "name": "stdout",
     "output_type": "stream",
     "text": [
      "110197 71 2970\n"
     ]
    },
    {
     "data": {
      "text/html": [
       "<div>\n",
       "<style scoped>\n",
       "    .dataframe tbody tr th:only-of-type {\n",
       "        vertical-align: middle;\n",
       "    }\n",
       "\n",
       "    .dataframe tbody tr th {\n",
       "        vertical-align: top;\n",
       "    }\n",
       "\n",
       "    .dataframe thead th {\n",
       "        text-align: right;\n",
       "    }\n",
       "</style>\n",
       "<table border=\"1\" class=\"dataframe\">\n",
       "  <thead>\n",
       "    <tr style=\"text-align: right;\">\n",
       "      <th></th>\n",
       "      <th>order_purchase_timestamp</th>\n",
       "      <th>seller_id</th>\n",
       "      <th>product_category_name</th>\n",
       "      <th>price</th>\n",
       "    </tr>\n",
       "  </thead>\n",
       "  <tbody>\n",
       "    <tr>\n",
       "      <th>62008</th>\n",
       "      <td>2017-06-14 14:01:36</td>\n",
       "      <td>897060da8b9a21f655304d50fd935913</td>\n",
       "      <td>computers_accessories</td>\n",
       "      <td>22.00</td>\n",
       "    </tr>\n",
       "    <tr>\n",
       "      <th>84483</th>\n",
       "      <td>2018-07-07 13:21:34</td>\n",
       "      <td>e9779976487b77c6d4ac45f75ec7afe9</td>\n",
       "      <td>sports_leisure</td>\n",
       "      <td>19.49</td>\n",
       "    </tr>\n",
       "    <tr>\n",
       "      <th>107151</th>\n",
       "      <td>2017-08-02 08:58:27</td>\n",
       "      <td>262237171f48e85819065498cac80d7b</td>\n",
       "      <td>sports_leisure</td>\n",
       "      <td>59.90</td>\n",
       "    </tr>\n",
       "    <tr>\n",
       "      <th>39300</th>\n",
       "      <td>2017-03-05 14:27:03</td>\n",
       "      <td>669ae81880e08f269a64487cfb287169</td>\n",
       "      <td>sports_leisure</td>\n",
       "      <td>65.00</td>\n",
       "    </tr>\n",
       "    <tr>\n",
       "      <th>81383</th>\n",
       "      <td>2018-03-16 16:34:44</td>\n",
       "      <td>04308b1ee57b6625f47df1d56f00eedf</td>\n",
       "      <td>health_beauty</td>\n",
       "      <td>529.90</td>\n",
       "    </tr>\n",
       "    <tr>\n",
       "      <th>81005</th>\n",
       "      <td>2017-07-26 00:44:07</td>\n",
       "      <td>dd533b429f380718b70ad9922c294bae</td>\n",
       "      <td>toys</td>\n",
       "      <td>129.90</td>\n",
       "    </tr>\n",
       "    <tr>\n",
       "      <th>62949</th>\n",
       "      <td>2017-02-17 17:46:01</td>\n",
       "      <td>b2ba3715d723d245138f291a6fe42594</td>\n",
       "      <td>stationery</td>\n",
       "      <td>219.90</td>\n",
       "    </tr>\n",
       "    <tr>\n",
       "      <th>39909</th>\n",
       "      <td>2018-06-22 12:06:01</td>\n",
       "      <td>391fc6631aebcf3004804e51b40bcf1e</td>\n",
       "      <td>bed_bath_table</td>\n",
       "      <td>49.95</td>\n",
       "    </tr>\n",
       "    <tr>\n",
       "      <th>66310</th>\n",
       "      <td>2018-03-09 11:21:11</td>\n",
       "      <td>d3f39f05462b79a4562d35893a28f159</td>\n",
       "      <td>health_beauty</td>\n",
       "      <td>78.00</td>\n",
       "    </tr>\n",
       "    <tr>\n",
       "      <th>11463</th>\n",
       "      <td>2017-07-31 09:45:12</td>\n",
       "      <td>b2ba3715d723d245138f291a6fe42594</td>\n",
       "      <td>toys</td>\n",
       "      <td>469.90</td>\n",
       "    </tr>\n",
       "  </tbody>\n",
       "</table>\n",
       "</div>"
      ],
      "text/plain": [
       "       order_purchase_timestamp                         seller_id  \\\n",
       "62008       2017-06-14 14:01:36  897060da8b9a21f655304d50fd935913   \n",
       "84483       2018-07-07 13:21:34  e9779976487b77c6d4ac45f75ec7afe9   \n",
       "107151      2017-08-02 08:58:27  262237171f48e85819065498cac80d7b   \n",
       "39300       2017-03-05 14:27:03  669ae81880e08f269a64487cfb287169   \n",
       "81383       2018-03-16 16:34:44  04308b1ee57b6625f47df1d56f00eedf   \n",
       "81005       2017-07-26 00:44:07  dd533b429f380718b70ad9922c294bae   \n",
       "62949       2017-02-17 17:46:01  b2ba3715d723d245138f291a6fe42594   \n",
       "39909       2018-06-22 12:06:01  391fc6631aebcf3004804e51b40bcf1e   \n",
       "66310       2018-03-09 11:21:11  d3f39f05462b79a4562d35893a28f159   \n",
       "11463       2017-07-31 09:45:12  b2ba3715d723d245138f291a6fe42594   \n",
       "\n",
       "        product_category_name   price  \n",
       "62008   computers_accessories   22.00  \n",
       "84483          sports_leisure   19.49  \n",
       "107151         sports_leisure   59.90  \n",
       "39300          sports_leisure   65.00  \n",
       "81383           health_beauty  529.90  \n",
       "81005                    toys  129.90  \n",
       "62949              stationery  219.90  \n",
       "39909          bed_bath_table   49.95  \n",
       "66310           health_beauty   78.00  \n",
       "11463                    toys  469.90  "
      ]
     },
     "execution_count": 308,
     "metadata": {},
     "output_type": "execute_result"
    }
   ],
   "source": [
    "print(all_data.shape[0], \n",
    "      all_data.product_category_name.nunique(), \n",
    "      all_data.seller_id.nunique())\n",
    "\n",
    "all_data.sample(10)\n"
   ]
  },
  {
   "cell_type": "code",
   "execution_count": 309,
   "id": "3853cf82",
   "metadata": {},
   "outputs": [
    {
     "data": {
      "text/plain": [
       "Index(['order_purchase_timestamp', 'seller_id', 'product_category_name',\n",
       "       'price'],\n",
       "      dtype='object')"
      ]
     },
     "execution_count": 309,
     "metadata": {},
     "output_type": "execute_result"
    }
   ],
   "source": [
    "all_data.columns"
   ]
  },
  {
   "cell_type": "code",
   "execution_count": 310,
   "id": "18d741a1",
   "metadata": {},
   "outputs": [],
   "source": [
    "test_period_start = pd.Timestamp(\"2017-08-15\")\n",
    "test_period_ends = pd.Timestamp(\"2018-07-15\")"
   ]
  },
  {
   "cell_type": "code",
   "execution_count": 311,
   "id": "2f66b5c6",
   "metadata": {},
   "outputs": [],
   "source": [
    "\n",
    "def regression_bench(df, category, dt, days, p):\n",
    "    ts_col = 'order_purchase_timestamp'\n",
    "    cat_col = 'product_category_name'\n",
    "    price_col = 'price'\n",
    "\n",
    "    dt = pd.Timestamp(dt)\n",
    "    days_td = pd.Timedelta(days=days)\n",
    "\n",
    "    # Ensure timestamp dtype (simple, no exceptions handling)\n",
    "    df = df.copy()\n",
    "    df[ts_col] = pd.to_datetime(df[ts_col])\n",
    "\n",
    "    # Time bounds we need to scan: from the start of the earliest historical window up to actual_end\n",
    "    hist_start = dt - p * days_td\n",
    "    actual_end = dt + days_td\n",
    "\n",
    "    # Filter to category + relevant time range\n",
    "    sub = df.loc[\n",
    "        (df[cat_col] == category) &\n",
    "        (df[ts_col] >= hist_start) &\n",
    "        (df[ts_col] <= actual_end),  # include right edge for the actual's ( , ] window\n",
    "        [ts_col, price_col]\n",
    "    ]\n",
    "\n",
    "    # ---- Print intervals ----\n",
    "    #print(\"Estimation windows (p previous, non-overlapping):\")\n",
    "    for i in range(1, p + 1):\n",
    "        start_i = dt - i * days_td\n",
    "        end_i = dt - (i - 1) * days_td\n",
    "        #print(f\"  [{start_i}, {end_i})\")\n",
    "\n",
    "    #print(\"Actual window:\")\n",
    "    #print(f\"  ({dt}, {actual_end}]\")\n",
    "\n",
    "    # ---- Compute actual: (dt, dt+days] ----\n",
    "    actual_mask = (sub[ts_col] > dt) & (sub[ts_col] <= actual_end)\n",
    "    actual_value = float(sub.loc[actual_mask, price_col].sum())\n",
    "\n",
    "    # ---- Compute estimate: average over p windows [start_i, end_i) ----\n",
    "    sums = []\n",
    "    for i in range(1, p + 1):\n",
    "        start_i = dt - i * days_td\n",
    "        end_i = dt - (i - 1) * days_td\n",
    "        m = (sub[ts_col] >= start_i) & (sub[ts_col] < end_i)\n",
    "        sums.append(float(sub.loc[m, price_col].sum()))\n",
    "    estimate = sum(sums) / p if p > 0 else float('nan')\n",
    "\n",
    "    return {\"actual\": actual_value, \"estimate\": estimate}\n",
    "\n",
    "\n",
    "def classification_bench(df, seller, dt, days, p):\n",
    "    ts_col = 'order_purchase_timestamp'\n",
    "    cat_col = 'seller_id'\n",
    "    price_col = 'price'\n",
    "\n",
    "    dt = pd.Timestamp(dt)\n",
    "    days_td = pd.Timedelta(days=days)\n",
    "\n",
    "    # Ensure timestamp dtype (simple, no exceptions handling)\n",
    "    df = df.copy()\n",
    "    df[ts_col] = pd.to_datetime(df[ts_col])\n",
    "\n",
    "    # Time bounds we need to scan: from the start of the earliest historical window up to actual_end\n",
    "    hist_start = dt - p * days_td\n",
    "    actual_end = dt + days_td\n",
    "\n",
    "    # Filter to category + relevant time range\n",
    "    sub = df.loc[\n",
    "        (df[cat_col] == seller) &\n",
    "        (df[ts_col] >= hist_start) &\n",
    "        (df[ts_col] <= actual_end),  # include right edge for the actual's ( , ] window\n",
    "        [ts_col, price_col]\n",
    "    ]\n",
    "\n",
    "    # ---- Print intervals ----\n",
    "    #print(\"Estimation windows (p previous, non-overlapping):\")\n",
    "    for i in range(1, p + 1):\n",
    "        start_i = dt - i * days_td\n",
    "        end_i = dt - (i - 1) * days_td\n",
    "        #print(f\"  [{start_i}, {end_i})\")\n",
    "\n",
    "    #print(\"Actual window:\")\n",
    "    #print(f\"  ({dt}, {actual_end}]\")\n",
    "\n",
    "    # ---- Compute actual: (dt, dt+days] ----\n",
    "    actual_mask = (sub[ts_col] > dt) & (sub[ts_col] <= actual_end)\n",
    "    actual_value = 1*(float(sub.loc[actual_mask, price_col].sum())>0)\n",
    "\n",
    "    # ---- Compute estimate: average over p windows [start_i, end_i) ----\n",
    "    sums = []\n",
    "    for i in range(1, p + 1):\n",
    "        start_i = dt - i * days_td\n",
    "        end_i = dt - (i - 1) * days_td\n",
    "        m = (sub[ts_col] >= start_i) & (sub[ts_col] < end_i)\n",
    "        sums.append(1*(float(sub.loc[m, price_col].sum()>0)))\n",
    "    estimate = sum(sums) / p if p > 0 else float('nan')\n",
    "\n",
    "    return {\"actual\": actual_value, \"estimate\": estimate}\n",
    "\n"
   ]
  },
  {
   "cell_type": "code",
   "execution_count": 312,
   "id": "f5fc6490",
   "metadata": {},
   "outputs": [],
   "source": [
    "rnd_dt = test_period_start + pd.to_timedelta(np.random.rand() * (test_period_ends - test_period_start))\n",
    "prod_cats =  list(set(products.product_category_name))\n",
    "category = random.choice(prod_cats)\n",
    "days = 30\n",
    "p = 12\n",
    "\n",
    "output = regression_bench(all_data, category, rnd_dt, days, p)\n",
    "\n"
   ]
  },
  {
   "cell_type": "code",
   "execution_count": 313,
   "id": "d278d429",
   "metadata": {},
   "outputs": [],
   "source": [
    "rnd_dt = test_period_start + pd.to_timedelta(np.random.rand() * (test_period_ends - test_period_start))\n",
    "seller_ids =  list(set(sellers.seller_id))\n",
    "seller = random.choice(seller_ids)\n",
    "p = 3\n",
    "days = 60\n",
    "\n",
    "output = classification_bench(all_data, seller, rnd_dt, days, p)\n"
   ]
  },
  {
   "cell_type": "code",
   "execution_count": 314,
   "id": "b9570c71",
   "metadata": {},
   "outputs": [],
   "source": [
    "# dt_a_0, dt_a_1 = \"2018-04-27 00:00:16\", \"2018-06-26 00:00:16\"\n",
    "# dt_b_0, dt_b_1 = \"2018-02-26 00:00:16\", \"2018-04-27 00:00:16\"\n",
    "# dt_c_0, dt_c_1 = \"2017-12-28 00:00:16\", \"2018-02-26 00:00:16\"\n",
    "# dt_d_0, dt_d_1 = \"2018-06-26 00:00:16\", \"2018-08-25 00:00:16\"\n",
    "\n",
    "# a = all_data.loc[(all_data.seller_id==seller)&\\\n",
    "#              (pd.to_datetime(all_data['order_purchase_timestamp'])>=pd.Timestamp(dt_a_0))&\\\n",
    "#              (pd.to_datetime(all_data['order_purchase_timestamp'])<pd.Timestamp(dt_a_1))]['price'].sum()\n",
    "\n",
    "# b = all_data.loc[(all_data.seller_id==seller)&\\\n",
    "#              (pd.to_datetime(all_data['order_purchase_timestamp'])>=pd.Timestamp(dt_b_0))&\\\n",
    "#              (pd.to_datetime(all_data['order_purchase_timestamp'])<pd.Timestamp(dt_b_1))]['price'].sum()\n",
    "\n",
    "# c = all_data.loc[(all_data.seller_id==seller)&\\\n",
    "#              (pd.to_datetime(all_data['order_purchase_timestamp'])>=pd.Timestamp(dt_c_0))&\\\n",
    "#              (pd.to_datetime(all_data['order_purchase_timestamp'])<pd.Timestamp(dt_c_1))]['price'].sum()\n",
    "\n",
    "# d = all_data.loc[(all_data.seller_id==seller)&\\\n",
    "#              (pd.to_datetime(all_data['order_purchase_timestamp'])>=pd.Timestamp(dt_d_0))&\\\n",
    "#              (pd.to_datetime(all_data['order_purchase_timestamp'])<pd.Timestamp(dt_d_1))]['price'].sum()\n",
    "\n",
    "# (1*(a>0)+1*(b>0)+1*(c>0))/3, 1*(d>0)"
   ]
  },
  {
   "cell_type": "code",
   "execution_count": 315,
   "id": "135dd7cf",
   "metadata": {},
   "outputs": [],
   "source": [
    "order_items['order_item_id'] = order_items['order_id'].astype(str) + '_' + order_items['order_item_id'].astype(str)\n"
   ]
  },
  {
   "cell_type": "code",
   "execution_count": 316,
   "id": "74c89eba",
   "metadata": {},
   "outputs": [
    {
     "data": {
      "text/html": [
       "<div>\n",
       "<style scoped>\n",
       "    .dataframe tbody tr th:only-of-type {\n",
       "        vertical-align: middle;\n",
       "    }\n",
       "\n",
       "    .dataframe tbody tr th {\n",
       "        vertical-align: top;\n",
       "    }\n",
       "\n",
       "    .dataframe thead th {\n",
       "        text-align: right;\n",
       "    }\n",
       "</style>\n",
       "<table border=\"1\" class=\"dataframe\">\n",
       "  <thead>\n",
       "    <tr style=\"text-align: right;\">\n",
       "      <th></th>\n",
       "      <th>order_id</th>\n",
       "      <th>customer_id</th>\n",
       "      <th>order_purchase_timestamp</th>\n",
       "    </tr>\n",
       "  </thead>\n",
       "  <tbody>\n",
       "    <tr>\n",
       "      <th>0</th>\n",
       "      <td>e481f51cbdc54678b7cc49136f2d6af7</td>\n",
       "      <td>9ef432eb6251297304e76186b10a928d</td>\n",
       "      <td>2017-10-02 10:56:33</td>\n",
       "    </tr>\n",
       "  </tbody>\n",
       "</table>\n",
       "</div>"
      ],
      "text/plain": [
       "                           order_id                       customer_id  \\\n",
       "0  e481f51cbdc54678b7cc49136f2d6af7  9ef432eb6251297304e76186b10a928d   \n",
       "\n",
       "  order_purchase_timestamp  \n",
       "0      2017-10-02 10:56:33  "
      ]
     },
     "metadata": {},
     "output_type": "display_data"
    },
    {
     "data": {
      "text/html": [
       "<div>\n",
       "<style scoped>\n",
       "    .dataframe tbody tr th:only-of-type {\n",
       "        vertical-align: middle;\n",
       "    }\n",
       "\n",
       "    .dataframe tbody tr th {\n",
       "        vertical-align: top;\n",
       "    }\n",
       "\n",
       "    .dataframe thead th {\n",
       "        text-align: right;\n",
       "    }\n",
       "</style>\n",
       "<table border=\"1\" class=\"dataframe\">\n",
       "  <thead>\n",
       "    <tr style=\"text-align: right;\">\n",
       "      <th></th>\n",
       "      <th>order_id</th>\n",
       "      <th>order_item_id</th>\n",
       "      <th>product_id</th>\n",
       "      <th>seller_id</th>\n",
       "      <th>price</th>\n",
       "    </tr>\n",
       "  </thead>\n",
       "  <tbody>\n",
       "    <tr>\n",
       "      <th>0</th>\n",
       "      <td>00010242fe8c5a6d1ba2dd792cb16214</td>\n",
       "      <td>00010242fe8c5a6d1ba2dd792cb16214_1</td>\n",
       "      <td>4244733e06e7ecb4970a6e2683c13e61</td>\n",
       "      <td>48436dade18ac8b2bce089ec2a041202</td>\n",
       "      <td>58.9</td>\n",
       "    </tr>\n",
       "  </tbody>\n",
       "</table>\n",
       "</div>"
      ],
      "text/plain": [
       "                           order_id                       order_item_id  \\\n",
       "0  00010242fe8c5a6d1ba2dd792cb16214  00010242fe8c5a6d1ba2dd792cb16214_1   \n",
       "\n",
       "                         product_id                         seller_id  price  \n",
       "0  4244733e06e7ecb4970a6e2683c13e61  48436dade18ac8b2bce089ec2a041202   58.9  "
      ]
     },
     "metadata": {},
     "output_type": "display_data"
    },
    {
     "data": {
      "text/html": [
       "<div>\n",
       "<style scoped>\n",
       "    .dataframe tbody tr th:only-of-type {\n",
       "        vertical-align: middle;\n",
       "    }\n",
       "\n",
       "    .dataframe tbody tr th {\n",
       "        vertical-align: top;\n",
       "    }\n",
       "\n",
       "    .dataframe thead th {\n",
       "        text-align: right;\n",
       "    }\n",
       "</style>\n",
       "<table border=\"1\" class=\"dataframe\">\n",
       "  <thead>\n",
       "    <tr style=\"text-align: right;\">\n",
       "      <th></th>\n",
       "      <th>customer_id</th>\n",
       "      <th>customer_unique_id</th>\n",
       "      <th>state</th>\n",
       "      <th>city</th>\n",
       "    </tr>\n",
       "  </thead>\n",
       "  <tbody>\n",
       "    <tr>\n",
       "      <th>0</th>\n",
       "      <td>06b8999e2fba1a1fbc88172c00ba8bc7</td>\n",
       "      <td>861eff4711a542e4b93843c6dd7febb0</td>\n",
       "      <td>SP</td>\n",
       "      <td>franca</td>\n",
       "    </tr>\n",
       "  </tbody>\n",
       "</table>\n",
       "</div>"
      ],
      "text/plain": [
       "                        customer_id                customer_unique_id state  \\\n",
       "0  06b8999e2fba1a1fbc88172c00ba8bc7  861eff4711a542e4b93843c6dd7febb0    SP   \n",
       "\n",
       "     city  \n",
       "0  franca  "
      ]
     },
     "metadata": {},
     "output_type": "display_data"
    },
    {
     "data": {
      "text/html": [
       "<div>\n",
       "<style scoped>\n",
       "    .dataframe tbody tr th:only-of-type {\n",
       "        vertical-align: middle;\n",
       "    }\n",
       "\n",
       "    .dataframe tbody tr th {\n",
       "        vertical-align: top;\n",
       "    }\n",
       "\n",
       "    .dataframe thead th {\n",
       "        text-align: right;\n",
       "    }\n",
       "</style>\n",
       "<table border=\"1\" class=\"dataframe\">\n",
       "  <thead>\n",
       "    <tr style=\"text-align: right;\">\n",
       "      <th></th>\n",
       "      <th>seller_id</th>\n",
       "      <th>city</th>\n",
       "      <th>state</th>\n",
       "    </tr>\n",
       "  </thead>\n",
       "  <tbody>\n",
       "    <tr>\n",
       "      <th>0</th>\n",
       "      <td>3442f8959a84dea7ee197c632cb2df15</td>\n",
       "      <td>campinas</td>\n",
       "      <td>SP</td>\n",
       "    </tr>\n",
       "  </tbody>\n",
       "</table>\n",
       "</div>"
      ],
      "text/plain": [
       "                          seller_id      city state\n",
       "0  3442f8959a84dea7ee197c632cb2df15  campinas    SP"
      ]
     },
     "metadata": {},
     "output_type": "display_data"
    },
    {
     "data": {
      "text/html": [
       "<div>\n",
       "<style scoped>\n",
       "    .dataframe tbody tr th:only-of-type {\n",
       "        vertical-align: middle;\n",
       "    }\n",
       "\n",
       "    .dataframe tbody tr th {\n",
       "        vertical-align: top;\n",
       "    }\n",
       "\n",
       "    .dataframe thead th {\n",
       "        text-align: right;\n",
       "    }\n",
       "</style>\n",
       "<table border=\"1\" class=\"dataframe\">\n",
       "  <thead>\n",
       "    <tr style=\"text-align: right;\">\n",
       "      <th></th>\n",
       "      <th>product_id</th>\n",
       "      <th>product_category_name</th>\n",
       "    </tr>\n",
       "  </thead>\n",
       "  <tbody>\n",
       "    <tr>\n",
       "      <th>0</th>\n",
       "      <td>1e9e8ef04dbcff4541ed26657ea517e5</td>\n",
       "      <td>perfumery</td>\n",
       "    </tr>\n",
       "  </tbody>\n",
       "</table>\n",
       "</div>"
      ],
      "text/plain": [
       "                         product_id product_category_name\n",
       "0  1e9e8ef04dbcff4541ed26657ea517e5             perfumery"
      ]
     },
     "metadata": {},
     "output_type": "display_data"
    }
   ],
   "source": [
    "display(orders.head(1))\n",
    "display(order_items.head(1))\n",
    "display(customers.head(1))\n",
    "display(sellers.head(1))\n",
    "display(products.head(1))"
   ]
  },
  {
   "cell_type": "code",
   "execution_count": 317,
   "id": "249c5d52",
   "metadata": {},
   "outputs": [],
   "source": [
    "import kumoai.experimental.rfm as rfm, os\n",
    "from pathlib import Path"
   ]
  },
  {
   "cell_type": "code",
   "execution_count": 318,
   "id": "fe14a067",
   "metadata": {},
   "outputs": [],
   "source": [
    "home_api_key_file = Path.home() / \"kumoai_key.txt\"\n",
    "with open(home_api_key_file, \"r\") as file:\n",
    "    api_key = file.read().strip()\n",
    "os.environ[\"KUMO_API_KEY\"] = api_key"
   ]
  },
  {
   "cell_type": "code",
   "execution_count": 319,
   "id": "12deb1a7",
   "metadata": {},
   "outputs": [
    {
     "name": "stdout",
     "output_type": "stream",
     "text": [
      "Client has already been created. To re-initialize Kumo, please start a new interpreter. No changes will be made to the current session.\n"
     ]
    }
   ],
   "source": [
    "rfm.init()"
   ]
  },
  {
   "cell_type": "code",
   "execution_count": 320,
   "id": "a6796354",
   "metadata": {},
   "outputs": [
    {
     "data": {
      "text/markdown": [
       "### 🏷️ Metadata of Table `sellers2` (3,095 rows)"
      ],
      "text/plain": [
       "<IPython.core.display.Markdown object>"
      ]
     },
     "metadata": {},
     "output_type": "display_data"
    },
    {
     "data": {
      "text/html": [
       "<style type=\"text/css\">\n",
       "</style>\n",
       "<table id=\"T_ec68c\">\n",
       "  <thead>\n",
       "    <tr>\n",
       "      <th id=\"T_ec68c_level0_col0\" class=\"col_heading level0 col0\" >name</th>\n",
       "      <th id=\"T_ec68c_level0_col1\" class=\"col_heading level0 col1\" >dtype</th>\n",
       "      <th id=\"T_ec68c_level0_col2\" class=\"col_heading level0 col2\" >stype</th>\n",
       "      <th id=\"T_ec68c_level0_col3\" class=\"col_heading level0 col3\" >is_primary_key</th>\n",
       "      <th id=\"T_ec68c_level0_col4\" class=\"col_heading level0 col4\" >is_time_column</th>\n",
       "    </tr>\n",
       "  </thead>\n",
       "  <tbody>\n",
       "    <tr>\n",
       "      <td id=\"T_ec68c_row0_col0\" class=\"data row0 col0\" >seller_id</td>\n",
       "      <td id=\"T_ec68c_row0_col1\" class=\"data row0 col1\" >string</td>\n",
       "      <td id=\"T_ec68c_row0_col2\" class=\"data row0 col2\" >ID</td>\n",
       "      <td id=\"T_ec68c_row0_col3\" class=\"data row0 col3\" >True</td>\n",
       "      <td id=\"T_ec68c_row0_col4\" class=\"data row0 col4\" >False</td>\n",
       "    </tr>\n",
       "    <tr>\n",
       "      <td id=\"T_ec68c_row1_col0\" class=\"data row1 col0\" >city</td>\n",
       "      <td id=\"T_ec68c_row1_col1\" class=\"data row1 col1\" >string</td>\n",
       "      <td id=\"T_ec68c_row1_col2\" class=\"data row1 col2\" >categorical</td>\n",
       "      <td id=\"T_ec68c_row1_col3\" class=\"data row1 col3\" >False</td>\n",
       "      <td id=\"T_ec68c_row1_col4\" class=\"data row1 col4\" >False</td>\n",
       "    </tr>\n",
       "    <tr>\n",
       "      <td id=\"T_ec68c_row2_col0\" class=\"data row2 col0\" >state</td>\n",
       "      <td id=\"T_ec68c_row2_col1\" class=\"data row2 col1\" >string</td>\n",
       "      <td id=\"T_ec68c_row2_col2\" class=\"data row2 col2\" >categorical</td>\n",
       "      <td id=\"T_ec68c_row2_col3\" class=\"data row2 col3\" >False</td>\n",
       "      <td id=\"T_ec68c_row2_col4\" class=\"data row2 col4\" >False</td>\n",
       "    </tr>\n",
       "  </tbody>\n",
       "</table>\n"
      ],
      "text/plain": [
       "<pandas.io.formats.style.Styler at 0x7a7074c26500>"
      ]
     },
     "metadata": {},
     "output_type": "display_data"
    }
   ],
   "source": [
    "sellers2 = rfm.LocalTable(sellers, name=\"sellers2\", primary_key=\"seller_id\")\n",
    "sellers2.print_metadata()"
   ]
  },
  {
   "cell_type": "code",
   "execution_count": 321,
   "id": "36c3bebd",
   "metadata": {},
   "outputs": [
    {
     "data": {
      "text/markdown": [
       "### 🏷️ Metadata of Table `products2` (32,951 rows)"
      ],
      "text/plain": [
       "<IPython.core.display.Markdown object>"
      ]
     },
     "metadata": {},
     "output_type": "display_data"
    },
    {
     "data": {
      "text/html": [
       "<style type=\"text/css\">\n",
       "</style>\n",
       "<table id=\"T_da687\">\n",
       "  <thead>\n",
       "    <tr>\n",
       "      <th id=\"T_da687_level0_col0\" class=\"col_heading level0 col0\" >name</th>\n",
       "      <th id=\"T_da687_level0_col1\" class=\"col_heading level0 col1\" >dtype</th>\n",
       "      <th id=\"T_da687_level0_col2\" class=\"col_heading level0 col2\" >stype</th>\n",
       "      <th id=\"T_da687_level0_col3\" class=\"col_heading level0 col3\" >is_primary_key</th>\n",
       "      <th id=\"T_da687_level0_col4\" class=\"col_heading level0 col4\" >is_time_column</th>\n",
       "    </tr>\n",
       "  </thead>\n",
       "  <tbody>\n",
       "    <tr>\n",
       "      <td id=\"T_da687_row0_col0\" class=\"data row0 col0\" >product_id</td>\n",
       "      <td id=\"T_da687_row0_col1\" class=\"data row0 col1\" >string</td>\n",
       "      <td id=\"T_da687_row0_col2\" class=\"data row0 col2\" >ID</td>\n",
       "      <td id=\"T_da687_row0_col3\" class=\"data row0 col3\" >True</td>\n",
       "      <td id=\"T_da687_row0_col4\" class=\"data row0 col4\" >False</td>\n",
       "    </tr>\n",
       "    <tr>\n",
       "      <td id=\"T_da687_row1_col0\" class=\"data row1 col0\" >product_category_name</td>\n",
       "      <td id=\"T_da687_row1_col1\" class=\"data row1 col1\" >string</td>\n",
       "      <td id=\"T_da687_row1_col2\" class=\"data row1 col2\" >categorical</td>\n",
       "      <td id=\"T_da687_row1_col3\" class=\"data row1 col3\" >False</td>\n",
       "      <td id=\"T_da687_row1_col4\" class=\"data row1 col4\" >False</td>\n",
       "    </tr>\n",
       "  </tbody>\n",
       "</table>\n"
      ],
      "text/plain": [
       "<pandas.io.formats.style.Styler at 0x7a7029cd7010>"
      ]
     },
     "metadata": {},
     "output_type": "display_data"
    }
   ],
   "source": [
    "products2 = rfm.LocalTable(products, name=\"products2\", primary_key=\"product_id\")\n",
    "products2.print_metadata()"
   ]
  },
  {
   "cell_type": "code",
   "execution_count": 322,
   "id": "b97acffb",
   "metadata": {},
   "outputs": [
    {
     "data": {
      "text/markdown": [
       "### 🏷️ Metadata of Table `customers2` (99,441 rows)"
      ],
      "text/plain": [
       "<IPython.core.display.Markdown object>"
      ]
     },
     "metadata": {},
     "output_type": "display_data"
    },
    {
     "data": {
      "text/html": [
       "<style type=\"text/css\">\n",
       "</style>\n",
       "<table id=\"T_f24c9\">\n",
       "  <thead>\n",
       "    <tr>\n",
       "      <th id=\"T_f24c9_level0_col0\" class=\"col_heading level0 col0\" >name</th>\n",
       "      <th id=\"T_f24c9_level0_col1\" class=\"col_heading level0 col1\" >dtype</th>\n",
       "      <th id=\"T_f24c9_level0_col2\" class=\"col_heading level0 col2\" >stype</th>\n",
       "      <th id=\"T_f24c9_level0_col3\" class=\"col_heading level0 col3\" >is_primary_key</th>\n",
       "      <th id=\"T_f24c9_level0_col4\" class=\"col_heading level0 col4\" >is_time_column</th>\n",
       "    </tr>\n",
       "  </thead>\n",
       "  <tbody>\n",
       "    <tr>\n",
       "      <td id=\"T_f24c9_row0_col0\" class=\"data row0 col0\" >customer_id</td>\n",
       "      <td id=\"T_f24c9_row0_col1\" class=\"data row0 col1\" >string</td>\n",
       "      <td id=\"T_f24c9_row0_col2\" class=\"data row0 col2\" >ID</td>\n",
       "      <td id=\"T_f24c9_row0_col3\" class=\"data row0 col3\" >True</td>\n",
       "      <td id=\"T_f24c9_row0_col4\" class=\"data row0 col4\" >False</td>\n",
       "    </tr>\n",
       "    <tr>\n",
       "      <td id=\"T_f24c9_row1_col0\" class=\"data row1 col0\" >customer_unique_id</td>\n",
       "      <td id=\"T_f24c9_row1_col1\" class=\"data row1 col1\" >string</td>\n",
       "      <td id=\"T_f24c9_row1_col2\" class=\"data row1 col2\" >ID</td>\n",
       "      <td id=\"T_f24c9_row1_col3\" class=\"data row1 col3\" >False</td>\n",
       "      <td id=\"T_f24c9_row1_col4\" class=\"data row1 col4\" >False</td>\n",
       "    </tr>\n",
       "    <tr>\n",
       "      <td id=\"T_f24c9_row2_col0\" class=\"data row2 col0\" >state</td>\n",
       "      <td id=\"T_f24c9_row2_col1\" class=\"data row2 col1\" >string</td>\n",
       "      <td id=\"T_f24c9_row2_col2\" class=\"data row2 col2\" >categorical</td>\n",
       "      <td id=\"T_f24c9_row2_col3\" class=\"data row2 col3\" >False</td>\n",
       "      <td id=\"T_f24c9_row2_col4\" class=\"data row2 col4\" >False</td>\n",
       "    </tr>\n",
       "    <tr>\n",
       "      <td id=\"T_f24c9_row3_col0\" class=\"data row3 col0\" >city</td>\n",
       "      <td id=\"T_f24c9_row3_col1\" class=\"data row3 col1\" >string</td>\n",
       "      <td id=\"T_f24c9_row3_col2\" class=\"data row3 col2\" >categorical</td>\n",
       "      <td id=\"T_f24c9_row3_col3\" class=\"data row3 col3\" >False</td>\n",
       "      <td id=\"T_f24c9_row3_col4\" class=\"data row3 col4\" >False</td>\n",
       "    </tr>\n",
       "  </tbody>\n",
       "</table>\n"
      ],
      "text/plain": [
       "<pandas.io.formats.style.Styler at 0x7a6fd1d1f8b0>"
      ]
     },
     "metadata": {},
     "output_type": "display_data"
    }
   ],
   "source": [
    "customers2 = rfm.LocalTable(customers, name=\"customers2\", primary_key=\"customer_id\")\n",
    "customers2.print_metadata()"
   ]
  },
  {
   "cell_type": "code",
   "execution_count": 323,
   "id": "ed99f5cb",
   "metadata": {},
   "outputs": [],
   "source": [
    "orders.rename(columns={\"order_purchase_timestamp\": \"create_date\"}, inplace=True)\n",
    "#orders2 = rfm.LocalTable(orders, name=\"orders2\", primary_key=\"order_id\", time_column=\"create_date\")\n",
    "#orders2.print_metadata()"
   ]
  },
  {
   "cell_type": "code",
   "execution_count": 324,
   "id": "2e121a12",
   "metadata": {},
   "outputs": [
    {
     "data": {
      "text/markdown": [
       "### 🏷️ Metadata of Table `order_items2` (112,650 rows)"
      ],
      "text/plain": [
       "<IPython.core.display.Markdown object>"
      ]
     },
     "metadata": {},
     "output_type": "display_data"
    },
    {
     "data": {
      "text/html": [
       "<style type=\"text/css\">\n",
       "</style>\n",
       "<table id=\"T_5f6a6\">\n",
       "  <thead>\n",
       "    <tr>\n",
       "      <th id=\"T_5f6a6_level0_col0\" class=\"col_heading level0 col0\" >name</th>\n",
       "      <th id=\"T_5f6a6_level0_col1\" class=\"col_heading level0 col1\" >dtype</th>\n",
       "      <th id=\"T_5f6a6_level0_col2\" class=\"col_heading level0 col2\" >stype</th>\n",
       "      <th id=\"T_5f6a6_level0_col3\" class=\"col_heading level0 col3\" >is_primary_key</th>\n",
       "      <th id=\"T_5f6a6_level0_col4\" class=\"col_heading level0 col4\" >is_time_column</th>\n",
       "    </tr>\n",
       "  </thead>\n",
       "  <tbody>\n",
       "    <tr>\n",
       "      <td id=\"T_5f6a6_row0_col0\" class=\"data row0 col0\" >order_item_id</td>\n",
       "      <td id=\"T_5f6a6_row0_col1\" class=\"data row0 col1\" >string</td>\n",
       "      <td id=\"T_5f6a6_row0_col2\" class=\"data row0 col2\" >ID</td>\n",
       "      <td id=\"T_5f6a6_row0_col3\" class=\"data row0 col3\" >True</td>\n",
       "      <td id=\"T_5f6a6_row0_col4\" class=\"data row0 col4\" >False</td>\n",
       "    </tr>\n",
       "    <tr>\n",
       "      <td id=\"T_5f6a6_row1_col0\" class=\"data row1 col0\" >product_id</td>\n",
       "      <td id=\"T_5f6a6_row1_col1\" class=\"data row1 col1\" >string</td>\n",
       "      <td id=\"T_5f6a6_row1_col2\" class=\"data row1 col2\" >ID</td>\n",
       "      <td id=\"T_5f6a6_row1_col3\" class=\"data row1 col3\" >False</td>\n",
       "      <td id=\"T_5f6a6_row1_col4\" class=\"data row1 col4\" >False</td>\n",
       "    </tr>\n",
       "    <tr>\n",
       "      <td id=\"T_5f6a6_row2_col0\" class=\"data row2 col0\" >seller_id</td>\n",
       "      <td id=\"T_5f6a6_row2_col1\" class=\"data row2 col1\" >string</td>\n",
       "      <td id=\"T_5f6a6_row2_col2\" class=\"data row2 col2\" >ID</td>\n",
       "      <td id=\"T_5f6a6_row2_col3\" class=\"data row2 col3\" >False</td>\n",
       "      <td id=\"T_5f6a6_row2_col4\" class=\"data row2 col4\" >False</td>\n",
       "    </tr>\n",
       "    <tr>\n",
       "      <td id=\"T_5f6a6_row3_col0\" class=\"data row3 col0\" >price</td>\n",
       "      <td id=\"T_5f6a6_row3_col1\" class=\"data row3 col1\" >float</td>\n",
       "      <td id=\"T_5f6a6_row3_col2\" class=\"data row3 col2\" >numerical</td>\n",
       "      <td id=\"T_5f6a6_row3_col3\" class=\"data row3 col3\" >False</td>\n",
       "      <td id=\"T_5f6a6_row3_col4\" class=\"data row3 col4\" >False</td>\n",
       "    </tr>\n",
       "    <tr>\n",
       "      <td id=\"T_5f6a6_row4_col0\" class=\"data row4 col0\" >customer_id</td>\n",
       "      <td id=\"T_5f6a6_row4_col1\" class=\"data row4 col1\" >string</td>\n",
       "      <td id=\"T_5f6a6_row4_col2\" class=\"data row4 col2\" >ID</td>\n",
       "      <td id=\"T_5f6a6_row4_col3\" class=\"data row4 col3\" >False</td>\n",
       "      <td id=\"T_5f6a6_row4_col4\" class=\"data row4 col4\" >False</td>\n",
       "    </tr>\n",
       "    <tr>\n",
       "      <td id=\"T_5f6a6_row5_col0\" class=\"data row5 col0\" >create_date</td>\n",
       "      <td id=\"T_5f6a6_row5_col1\" class=\"data row5 col1\" >string</td>\n",
       "      <td id=\"T_5f6a6_row5_col2\" class=\"data row5 col2\" >timestamp</td>\n",
       "      <td id=\"T_5f6a6_row5_col3\" class=\"data row5 col3\" >False</td>\n",
       "      <td id=\"T_5f6a6_row5_col4\" class=\"data row5 col4\" >True</td>\n",
       "    </tr>\n",
       "    <tr>\n",
       "      <td id=\"T_5f6a6_row6_col0\" class=\"data row6 col0\" >product_category_name</td>\n",
       "      <td id=\"T_5f6a6_row6_col1\" class=\"data row6 col1\" >string</td>\n",
       "      <td id=\"T_5f6a6_row6_col2\" class=\"data row6 col2\" >categorical</td>\n",
       "      <td id=\"T_5f6a6_row6_col3\" class=\"data row6 col3\" >False</td>\n",
       "      <td id=\"T_5f6a6_row6_col4\" class=\"data row6 col4\" >False</td>\n",
       "    </tr>\n",
       "  </tbody>\n",
       "</table>\n"
      ],
      "text/plain": [
       "<pandas.io.formats.style.Styler at 0x7a702865f6d0>"
      ]
     },
     "metadata": {},
     "output_type": "display_data"
    }
   ],
   "source": [
    "order_items = order_items.merge(orders, on='order_id', how='left')\n",
    "order_items = order_items.merge(products, left_on='product_id', right_on='product_id', how='left')\n",
    "order_items.drop(columns=['order_id'], inplace=True)\n",
    "order_items2 = rfm.LocalTable(order_items, name=\"order_items2\", primary_key=\"order_item_id\", time_column=\"create_date\")\n",
    "order_items2.print_metadata()"
   ]
  },
  {
   "cell_type": "code",
   "execution_count": 325,
   "id": "e620754b",
   "metadata": {},
   "outputs": [
    {
     "data": {
      "text/markdown": [
       "### 🏷️ Metadata of Table `categories2` (72 rows)"
      ],
      "text/plain": [
       "<IPython.core.display.Markdown object>"
      ]
     },
     "metadata": {},
     "output_type": "display_data"
    },
    {
     "data": {
      "text/html": [
       "<style type=\"text/css\">\n",
       "</style>\n",
       "<table id=\"T_153da\">\n",
       "  <thead>\n",
       "    <tr>\n",
       "      <th id=\"T_153da_level0_col0\" class=\"col_heading level0 col0\" >name</th>\n",
       "      <th id=\"T_153da_level0_col1\" class=\"col_heading level0 col1\" >dtype</th>\n",
       "      <th id=\"T_153da_level0_col2\" class=\"col_heading level0 col2\" >stype</th>\n",
       "      <th id=\"T_153da_level0_col3\" class=\"col_heading level0 col3\" >is_primary_key</th>\n",
       "      <th id=\"T_153da_level0_col4\" class=\"col_heading level0 col4\" >is_time_column</th>\n",
       "    </tr>\n",
       "  </thead>\n",
       "  <tbody>\n",
       "    <tr>\n",
       "      <td id=\"T_153da_row0_col0\" class=\"data row0 col0\" >category</td>\n",
       "      <td id=\"T_153da_row0_col1\" class=\"data row0 col1\" >string</td>\n",
       "      <td id=\"T_153da_row0_col2\" class=\"data row0 col2\" >ID</td>\n",
       "      <td id=\"T_153da_row0_col3\" class=\"data row0 col3\" >True</td>\n",
       "      <td id=\"T_153da_row0_col4\" class=\"data row0 col4\" >False</td>\n",
       "    </tr>\n",
       "  </tbody>\n",
       "</table>\n"
      ],
      "text/plain": [
       "<pandas.io.formats.style.Styler at 0x7a702865f940>"
      ]
     },
     "metadata": {},
     "output_type": "display_data"
    }
   ],
   "source": [
    "categories = products[['product_category_name']].drop_duplicates().copy()\n",
    "categories.columns = ['category']\n",
    "categories2 = rfm.LocalTable(categories, name=\"categories2\", primary_key=\"category\")\n",
    "categories2.print_metadata()"
   ]
  },
  {
   "cell_type": "code",
   "execution_count": 327,
   "id": "f600a90e",
   "metadata": {},
   "outputs": [],
   "source": [
    "graph = rfm.LocalGraph(tables=[order_items2, customers2, sellers2, products2, categories2])"
   ]
  },
  {
   "cell_type": "code",
   "execution_count": 328,
   "id": "3f1563c1",
   "metadata": {},
   "outputs": [],
   "source": [
    "#graph.link(src_table=\"order_items2\", fkey=\"order_id\", dst_table=\"orders2\");\n",
    "graph.link(src_table=\"order_items2\", fkey=\"customer_id\", dst_table=\"customers2\");\n",
    "graph.link(src_table=\"order_items2\", fkey=\"product_id\", dst_table=\"products2\");\n",
    "graph.link(src_table=\"order_items2\", fkey=\"seller_id\", dst_table=\"sellers2\");\n",
    "graph.link(src_table=\"order_items2\", fkey=\"product_category_name\", dst_table=\"categories2\");\n",
    "graph.link(src_table=\"products2\", fkey=\"product_category_name\", dst_table=\"categories2\");\n"
   ]
  },
  {
   "cell_type": "code",
   "execution_count": 329,
   "id": "7a182a1b",
   "metadata": {},
   "outputs": [
    {
     "data": {
      "text/markdown": [
       "### 🕸️ Graph Links (FK ↔️ PK)"
      ],
      "text/plain": [
       "<IPython.core.display.Markdown object>"
      ]
     },
     "metadata": {},
     "output_type": "display_data"
    },
    {
     "data": {
      "text/markdown": [
       "- `order_items2.product_category_name` ↔️ `categories2.category`\n",
       "- `products2.product_category_name` ↔️ `categories2.category`\n",
       "- `order_items2.customer_id` ↔️ `customers2.customer_id`\n",
       "- `order_items2.product_id` ↔️ `products2.product_id`\n",
       "- `order_items2.seller_id` ↔️ `sellers2.seller_id`"
      ],
      "text/plain": [
       "<IPython.core.display.Markdown object>"
      ]
     },
     "metadata": {},
     "output_type": "display_data"
    }
   ],
   "source": [
    "graph.print_links()"
   ]
  },
  {
   "cell_type": "code",
   "execution_count": 330,
   "id": "9d002033",
   "metadata": {},
   "outputs": [],
   "source": [
    "model = rfm.KumoRFM(graph, verbose=False)"
   ]
  },
  {
   "cell_type": "code",
   "execution_count": 358,
   "id": "8c34ea69",
   "metadata": {},
   "outputs": [
    {
     "name": "stdout",
     "output_type": "stream",
     "text": [
      "0\n",
      "10\n",
      "20\n",
      "30\n",
      "40\n",
      "50\n"
     ]
    },
    {
     "ename": "KeyError",
     "evalue": "\"The primary keys ['nan'] do not exist in the 'categories2' table\"",
     "output_type": "error",
     "traceback": [
      "\u001b[0;31m---------------------------------------------------------------------------\u001b[0m",
      "\u001b[0;31mKeyError\u001b[0m                                  Traceback (most recent call last)",
      "File \u001b[0;32m~/graph_ML_and_deep_learning_on_RDBs/venv/lib/python3.10/site-packages/kumoai/experimental/rfm/local_graph_store.py:102\u001b[0m, in \u001b[0;36mLocalGraphStore.get_node_id\u001b[0;34m(self, table_name, pkey)\u001b[0m\n\u001b[1;32m    101\u001b[0m \u001b[38;5;28;01mtry\u001b[39;00m:\n\u001b[0;32m--> 102\u001b[0m     \u001b[38;5;28;01mreturn\u001b[39;00m \u001b[43mpkey_map\u001b[49m\u001b[38;5;241;43m.\u001b[39;49m\u001b[43mloc\u001b[49m\u001b[43m[\u001b[49m\u001b[43mpkey\u001b[49m\u001b[43m]\u001b[49m[\u001b[38;5;124m'\u001b[39m\u001b[38;5;124marange\u001b[39m\u001b[38;5;124m'\u001b[39m]\u001b[38;5;241m.\u001b[39mto_numpy()\n\u001b[1;32m    103\u001b[0m \u001b[38;5;28;01mexcept\u001b[39;00m \u001b[38;5;167;01mKeyError\u001b[39;00m \u001b[38;5;28;01mas\u001b[39;00m e:\n",
      "File \u001b[0;32m~/graph_ML_and_deep_learning_on_RDBs/venv/lib/python3.10/site-packages/pandas/core/indexing.py:1191\u001b[0m, in \u001b[0;36m_LocationIndexer.__getitem__\u001b[0;34m(self, key)\u001b[0m\n\u001b[1;32m   1190\u001b[0m maybe_callable \u001b[38;5;241m=\u001b[39m \u001b[38;5;28mself\u001b[39m\u001b[38;5;241m.\u001b[39m_check_deprecated_callable_usage(key, maybe_callable)\n\u001b[0;32m-> 1191\u001b[0m \u001b[38;5;28;01mreturn\u001b[39;00m \u001b[38;5;28;43mself\u001b[39;49m\u001b[38;5;241;43m.\u001b[39;49m\u001b[43m_getitem_axis\u001b[49m\u001b[43m(\u001b[49m\u001b[43mmaybe_callable\u001b[49m\u001b[43m,\u001b[49m\u001b[43m \u001b[49m\u001b[43maxis\u001b[49m\u001b[38;5;241;43m=\u001b[39;49m\u001b[43maxis\u001b[49m\u001b[43m)\u001b[49m\n",
      "File \u001b[0;32m~/graph_ML_and_deep_learning_on_RDBs/venv/lib/python3.10/site-packages/pandas/core/indexing.py:1420\u001b[0m, in \u001b[0;36m_LocIndexer._getitem_axis\u001b[0;34m(self, key, axis)\u001b[0m\n\u001b[1;32m   1418\u001b[0m         \u001b[38;5;28;01mraise\u001b[39;00m \u001b[38;5;167;01mValueError\u001b[39;00m(\u001b[38;5;124m\"\u001b[39m\u001b[38;5;124mCannot index with multidimensional key\u001b[39m\u001b[38;5;124m\"\u001b[39m)\n\u001b[0;32m-> 1420\u001b[0m     \u001b[38;5;28;01mreturn\u001b[39;00m \u001b[38;5;28;43mself\u001b[39;49m\u001b[38;5;241;43m.\u001b[39;49m\u001b[43m_getitem_iterable\u001b[49m\u001b[43m(\u001b[49m\u001b[43mkey\u001b[49m\u001b[43m,\u001b[49m\u001b[43m \u001b[49m\u001b[43maxis\u001b[49m\u001b[38;5;241;43m=\u001b[39;49m\u001b[43maxis\u001b[49m\u001b[43m)\u001b[49m\n\u001b[1;32m   1422\u001b[0m \u001b[38;5;66;03m# nested tuple slicing\u001b[39;00m\n",
      "File \u001b[0;32m~/graph_ML_and_deep_learning_on_RDBs/venv/lib/python3.10/site-packages/pandas/core/indexing.py:1360\u001b[0m, in \u001b[0;36m_LocIndexer._getitem_iterable\u001b[0;34m(self, key, axis)\u001b[0m\n\u001b[1;32m   1359\u001b[0m \u001b[38;5;66;03m# A collection of keys\u001b[39;00m\n\u001b[0;32m-> 1360\u001b[0m keyarr, indexer \u001b[38;5;241m=\u001b[39m \u001b[38;5;28;43mself\u001b[39;49m\u001b[38;5;241;43m.\u001b[39;49m\u001b[43m_get_listlike_indexer\u001b[49m\u001b[43m(\u001b[49m\u001b[43mkey\u001b[49m\u001b[43m,\u001b[49m\u001b[43m \u001b[49m\u001b[43maxis\u001b[49m\u001b[43m)\u001b[49m\n\u001b[1;32m   1361\u001b[0m \u001b[38;5;28;01mreturn\u001b[39;00m \u001b[38;5;28mself\u001b[39m\u001b[38;5;241m.\u001b[39mobj\u001b[38;5;241m.\u001b[39m_reindex_with_indexers(\n\u001b[1;32m   1362\u001b[0m     {axis: [keyarr, indexer]}, copy\u001b[38;5;241m=\u001b[39m\u001b[38;5;28;01mTrue\u001b[39;00m, allow_dups\u001b[38;5;241m=\u001b[39m\u001b[38;5;28;01mTrue\u001b[39;00m\n\u001b[1;32m   1363\u001b[0m )\n",
      "File \u001b[0;32m~/graph_ML_and_deep_learning_on_RDBs/venv/lib/python3.10/site-packages/pandas/core/indexing.py:1558\u001b[0m, in \u001b[0;36m_LocIndexer._get_listlike_indexer\u001b[0;34m(self, key, axis)\u001b[0m\n\u001b[1;32m   1556\u001b[0m axis_name \u001b[38;5;241m=\u001b[39m \u001b[38;5;28mself\u001b[39m\u001b[38;5;241m.\u001b[39mobj\u001b[38;5;241m.\u001b[39m_get_axis_name(axis)\n\u001b[0;32m-> 1558\u001b[0m keyarr, indexer \u001b[38;5;241m=\u001b[39m \u001b[43max\u001b[49m\u001b[38;5;241;43m.\u001b[39;49m\u001b[43m_get_indexer_strict\u001b[49m\u001b[43m(\u001b[49m\u001b[43mkey\u001b[49m\u001b[43m,\u001b[49m\u001b[43m \u001b[49m\u001b[43maxis_name\u001b[49m\u001b[43m)\u001b[49m\n\u001b[1;32m   1560\u001b[0m \u001b[38;5;28;01mreturn\u001b[39;00m keyarr, indexer\n",
      "File \u001b[0;32m~/graph_ML_and_deep_learning_on_RDBs/venv/lib/python3.10/site-packages/pandas/core/indexes/base.py:6212\u001b[0m, in \u001b[0;36mIndex._get_indexer_strict\u001b[0;34m(self, key, axis_name)\u001b[0m\n\u001b[1;32m   6210\u001b[0m     keyarr, indexer, new_indexer \u001b[38;5;241m=\u001b[39m \u001b[38;5;28mself\u001b[39m\u001b[38;5;241m.\u001b[39m_reindex_non_unique(keyarr)\n\u001b[0;32m-> 6212\u001b[0m \u001b[38;5;28;43mself\u001b[39;49m\u001b[38;5;241;43m.\u001b[39;49m\u001b[43m_raise_if_missing\u001b[49m\u001b[43m(\u001b[49m\u001b[43mkeyarr\u001b[49m\u001b[43m,\u001b[49m\u001b[43m \u001b[49m\u001b[43mindexer\u001b[49m\u001b[43m,\u001b[49m\u001b[43m \u001b[49m\u001b[43maxis_name\u001b[49m\u001b[43m)\u001b[49m\n\u001b[1;32m   6214\u001b[0m keyarr \u001b[38;5;241m=\u001b[39m \u001b[38;5;28mself\u001b[39m\u001b[38;5;241m.\u001b[39mtake(indexer)\n",
      "File \u001b[0;32m~/graph_ML_and_deep_learning_on_RDBs/venv/lib/python3.10/site-packages/pandas/core/indexes/base.py:6261\u001b[0m, in \u001b[0;36mIndex._raise_if_missing\u001b[0;34m(self, key, indexer, axis_name)\u001b[0m\n\u001b[1;32m   6260\u001b[0m \u001b[38;5;28;01mif\u001b[39;00m nmissing \u001b[38;5;241m==\u001b[39m \u001b[38;5;28mlen\u001b[39m(indexer):\n\u001b[0;32m-> 6261\u001b[0m     \u001b[38;5;28;01mraise\u001b[39;00m \u001b[38;5;167;01mKeyError\u001b[39;00m(\u001b[38;5;124mf\u001b[39m\u001b[38;5;124m\"\u001b[39m\u001b[38;5;124mNone of [\u001b[39m\u001b[38;5;132;01m{\u001b[39;00mkey\u001b[38;5;132;01m}\u001b[39;00m\u001b[38;5;124m] are in the [\u001b[39m\u001b[38;5;132;01m{\u001b[39;00maxis_name\u001b[38;5;132;01m}\u001b[39;00m\u001b[38;5;124m]\u001b[39m\u001b[38;5;124m\"\u001b[39m)\n\u001b[1;32m   6263\u001b[0m not_found \u001b[38;5;241m=\u001b[39m \u001b[38;5;28mlist\u001b[39m(ensure_index(key)[missing_mask\u001b[38;5;241m.\u001b[39mnonzero()[\u001b[38;5;241m0\u001b[39m]]\u001b[38;5;241m.\u001b[39munique())\n",
      "\u001b[0;31mKeyError\u001b[0m: \"None of [Index(['nan'], dtype='object', name='category')] are in the [index]\"",
      "\nThe above exception was the direct cause of the following exception:\n",
      "\u001b[0;31mKeyError\u001b[0m                                  Traceback (most recent call last)",
      "Cell \u001b[0;32mIn[358], line 15\u001b[0m\n\u001b[1;32m     12\u001b[0m output \u001b[38;5;241m=\u001b[39m regression_bench(all_data, category, rnd_dt, days, p)\n\u001b[1;32m     14\u001b[0m query \u001b[38;5;241m=\u001b[39m \u001b[38;5;124mf\u001b[39m\u001b[38;5;124m\"\"\"\u001b[39m\u001b[38;5;124mPREDICT sum(order_items2.price, 0, \u001b[39m\u001b[38;5;132;01m{\u001b[39;00mdays\u001b[38;5;132;01m}\u001b[39;00m\u001b[38;5;124m, days) FOR categories2.category = \u001b[39m\u001b[38;5;124m'\u001b[39m\u001b[38;5;132;01m{\u001b[39;00mcategory\u001b[38;5;132;01m}\u001b[39;00m\u001b[38;5;124m'\u001b[39m\u001b[38;5;124m \u001b[39m\u001b[38;5;124m\"\"\"\u001b[39m\n\u001b[0;32m---> 15\u001b[0m kumo_pred \u001b[38;5;241m=\u001b[39m \u001b[43mmodel\u001b[49m\u001b[38;5;241;43m.\u001b[39;49m\u001b[43mpredict\u001b[49m\u001b[43m(\u001b[49m\u001b[43mquery\u001b[49m\u001b[43m,\u001b[49m\u001b[43m \u001b[49m\u001b[43manchor_time\u001b[49m\u001b[38;5;241;43m=\u001b[39;49m\u001b[43mrnd_dt\u001b[49m\u001b[43m,\u001b[49m\u001b[43m \u001b[49m\u001b[43mverbose\u001b[49m\u001b[38;5;241;43m=\u001b[39;49m\u001b[38;5;28;43;01mFalse\u001b[39;49;00m\u001b[43m,\u001b[49m\u001b[43m \u001b[49m\u001b[43mnum_hops\u001b[49m\u001b[38;5;241;43m=\u001b[39;49m\u001b[38;5;241;43m4\u001b[39;49m\u001b[43m)\u001b[49m\n\u001b[1;32m     17\u001b[0m actual \u001b[38;5;241m=\u001b[39m output[\u001b[38;5;124m'\u001b[39m\u001b[38;5;124mactual\u001b[39m\u001b[38;5;124m'\u001b[39m]\n\u001b[1;32m     18\u001b[0m estimate_bench \u001b[38;5;241m=\u001b[39m output[\u001b[38;5;124m'\u001b[39m\u001b[38;5;124mestimate\u001b[39m\u001b[38;5;124m'\u001b[39m]\n",
      "File \u001b[0;32m~/graph_ML_and_deep_learning_on_RDBs/venv/lib/python3.10/site-packages/kumoai/experimental/rfm/rfm.py:136\u001b[0m, in \u001b[0;36mKumoRFM.predict\u001b[0;34m(self, query, anchor_time, run_mode, num_hops, random_seed, verbose)\u001b[0m\n\u001b[1;32m    133\u001b[0m     msg \u001b[38;5;241m=\u001b[39m \u001b[38;5;124mf\u001b[39m\u001b[38;5;124m'\u001b[39m\u001b[38;5;124m[bold]PREDICT[/bold] \u001b[39m\u001b[38;5;132;01m{\u001b[39;00mquery_repr\u001b[38;5;132;01m}\u001b[39;00m\u001b[38;5;124m'\u001b[39m\n\u001b[1;32m    135\u001b[0m \u001b[38;5;28;01mwith\u001b[39;00m ProgressLogger(msg, verbose\u001b[38;5;241m=\u001b[39mverbose) \u001b[38;5;28;01mas\u001b[39;00m logger:\n\u001b[0;32m--> 136\u001b[0m     context \u001b[38;5;241m=\u001b[39m \u001b[38;5;28;43mself\u001b[39;49m\u001b[38;5;241;43m.\u001b[39;49m\u001b[43m_get_context\u001b[49m\u001b[43m(\u001b[49m\n\u001b[1;32m    137\u001b[0m \u001b[43m        \u001b[49m\u001b[43mquery_def\u001b[49m\u001b[43m,\u001b[49m\n\u001b[1;32m    138\u001b[0m \u001b[43m        \u001b[49m\u001b[43manchor_time\u001b[49m\u001b[38;5;241;43m=\u001b[39;49m\u001b[43manchor_time\u001b[49m\u001b[43m,\u001b[49m\n\u001b[1;32m    139\u001b[0m \u001b[43m        \u001b[49m\u001b[43mrun_mode\u001b[49m\u001b[38;5;241;43m=\u001b[39;49m\u001b[43mRunMode\u001b[49m\u001b[43m(\u001b[49m\u001b[43mrun_mode\u001b[49m\u001b[43m)\u001b[49m\u001b[43m,\u001b[49m\n\u001b[1;32m    140\u001b[0m \u001b[43m        \u001b[49m\u001b[43mnum_hops\u001b[49m\u001b[38;5;241;43m=\u001b[39;49m\u001b[43mnum_hops\u001b[49m\u001b[43m,\u001b[49m\n\u001b[1;32m    141\u001b[0m \u001b[43m        \u001b[49m\u001b[43mevaluate\u001b[49m\u001b[38;5;241;43m=\u001b[39;49m\u001b[38;5;28;43;01mFalse\u001b[39;49;00m\u001b[43m,\u001b[49m\n\u001b[1;32m    142\u001b[0m \u001b[43m        \u001b[49m\u001b[43mrandom_seed\u001b[49m\u001b[38;5;241;43m=\u001b[39;49m\u001b[43mrandom_seed\u001b[49m\u001b[43m,\u001b[49m\n\u001b[1;32m    143\u001b[0m \u001b[43m        \u001b[49m\u001b[43mlogger\u001b[49m\u001b[38;5;241;43m=\u001b[39;49m\u001b[43mlogger\u001b[49m\u001b[43m,\u001b[49m\n\u001b[1;32m    144\u001b[0m \u001b[43m    \u001b[49m\u001b[43m)\u001b[49m\n\u001b[1;32m    145\u001b[0m     request \u001b[38;5;241m=\u001b[39m RFMPredictRequest(\n\u001b[1;32m    146\u001b[0m         context\u001b[38;5;241m=\u001b[39mcontext,\n\u001b[1;32m    147\u001b[0m         run_mode\u001b[38;5;241m=\u001b[39mRunMode(run_mode),\n\u001b[1;32m    148\u001b[0m     )\n\u001b[1;32m    149\u001b[0m     \u001b[38;5;28;01mwith\u001b[39;00m warnings\u001b[38;5;241m.\u001b[39mcatch_warnings():\n",
      "File \u001b[0;32m~/graph_ML_and_deep_learning_on_RDBs/venv/lib/python3.10/site-packages/kumoai/experimental/rfm/rfm.py:465\u001b[0m, in \u001b[0;36mKumoRFM._get_context\u001b[0;34m(self, query, anchor_time, run_mode, num_hops, evaluate, random_seed, logger)\u001b[0m\n\u001b[1;32m    460\u001b[0m \u001b[38;5;28;01mif\u001b[39;00m \u001b[38;5;28mlen\u001b[39m(query\u001b[38;5;241m.\u001b[39mentity\u001b[38;5;241m.\u001b[39mids\u001b[38;5;241m.\u001b[39mvalue) \u001b[38;5;241m>\u001b[39m max_num_test:\n\u001b[1;32m    461\u001b[0m     \u001b[38;5;28;01mraise\u001b[39;00m \u001b[38;5;167;01mValueError\u001b[39;00m(\u001b[38;5;124mf\u001b[39m\u001b[38;5;124m\"\u001b[39m\u001b[38;5;124mCannot predict for more than \u001b[39m\u001b[38;5;124m\"\u001b[39m\n\u001b[1;32m    462\u001b[0m                      \u001b[38;5;124mf\u001b[39m\u001b[38;5;124m\"\u001b[39m\u001b[38;5;132;01m{\u001b[39;00mmax_num_test\u001b[38;5;132;01m:\u001b[39;00m\u001b[38;5;124m,\u001b[39m\u001b[38;5;132;01m}\u001b[39;00m\u001b[38;5;124m entities at once \u001b[39m\u001b[38;5;124m\"\u001b[39m\n\u001b[1;32m    463\u001b[0m                      \u001b[38;5;124mf\u001b[39m\u001b[38;5;124m\"\u001b[39m\u001b[38;5;124m(got \u001b[39m\u001b[38;5;132;01m{\u001b[39;00m\u001b[38;5;28mlen\u001b[39m(query\u001b[38;5;241m.\u001b[39mentity\u001b[38;5;241m.\u001b[39mids\u001b[38;5;241m.\u001b[39mvalue)\u001b[38;5;132;01m:\u001b[39;00m\u001b[38;5;124m,\u001b[39m\u001b[38;5;132;01m}\u001b[39;00m\u001b[38;5;124m)\u001b[39m\u001b[38;5;124m\"\u001b[39m)\n\u001b[0;32m--> 465\u001b[0m test_node \u001b[38;5;241m=\u001b[39m \u001b[38;5;28;43mself\u001b[39;49m\u001b[38;5;241;43m.\u001b[39;49m\u001b[43m_graph_store\u001b[49m\u001b[38;5;241;43m.\u001b[39;49m\u001b[43mget_node_id\u001b[49m\u001b[43m(\u001b[49m\n\u001b[1;32m    466\u001b[0m \u001b[43m    \u001b[49m\u001b[43mtable_name\u001b[49m\u001b[38;5;241;43m=\u001b[39;49m\u001b[43mquery\u001b[49m\u001b[38;5;241;43m.\u001b[39;49m\u001b[43mentity\u001b[49m\u001b[38;5;241;43m.\u001b[39;49m\u001b[43mpkey\u001b[49m\u001b[38;5;241;43m.\u001b[39;49m\u001b[43mtable_name\u001b[49m\u001b[43m,\u001b[49m\n\u001b[1;32m    467\u001b[0m \u001b[43m    \u001b[49m\u001b[43mpkey\u001b[49m\u001b[38;5;241;43m=\u001b[39;49m\u001b[43mpd\u001b[49m\u001b[38;5;241;43m.\u001b[39;49m\u001b[43mSeries\u001b[49m\u001b[43m(\u001b[49m\n\u001b[1;32m    468\u001b[0m \u001b[43m        \u001b[49m\u001b[43mquery\u001b[49m\u001b[38;5;241;43m.\u001b[39;49m\u001b[43mentity\u001b[49m\u001b[38;5;241;43m.\u001b[39;49m\u001b[43mids\u001b[49m\u001b[38;5;241;43m.\u001b[39;49m\u001b[43mvalue\u001b[49m\u001b[43m,\u001b[49m\n\u001b[1;32m    469\u001b[0m \u001b[43m        \u001b[49m\u001b[43mdtype\u001b[49m\u001b[38;5;241;43m=\u001b[39;49m\u001b[43mquery\u001b[49m\u001b[38;5;241;43m.\u001b[39;49m\u001b[43mentity\u001b[49m\u001b[38;5;241;43m.\u001b[39;49m\u001b[43mids\u001b[49m\u001b[38;5;241;43m.\u001b[39;49m\u001b[43mdtype\u001b[49m\u001b[43m,\u001b[49m\n\u001b[1;32m    470\u001b[0m \u001b[43m    \u001b[49m\u001b[43m)\u001b[49m\u001b[43m,\u001b[49m\n\u001b[1;32m    471\u001b[0m \u001b[43m\u001b[49m\u001b[43m)\u001b[49m\n\u001b[1;32m    473\u001b[0m \u001b[38;5;28;01mif\u001b[39;00m \u001b[38;5;28misinstance\u001b[39m(anchor_time, pd\u001b[38;5;241m.\u001b[39mTimestamp):\n\u001b[1;32m    474\u001b[0m     test_time \u001b[38;5;241m=\u001b[39m pd\u001b[38;5;241m.\u001b[39mSeries(anchor_time)\u001b[38;5;241m.\u001b[39mrepeat(\n\u001b[1;32m    475\u001b[0m         \u001b[38;5;28mlen\u001b[39m(test_node))\u001b[38;5;241m.\u001b[39mreset_index(drop\u001b[38;5;241m=\u001b[39m\u001b[38;5;28;01mTrue\u001b[39;00m)\n",
      "File \u001b[0;32m~/graph_ML_and_deep_learning_on_RDBs/venv/lib/python3.10/site-packages/kumoai/experimental/rfm/local_graph_store.py:105\u001b[0m, in \u001b[0;36mLocalGraphStore.get_node_id\u001b[0;34m(self, table_name, pkey)\u001b[0m\n\u001b[1;32m    103\u001b[0m \u001b[38;5;28;01mexcept\u001b[39;00m \u001b[38;5;167;01mKeyError\u001b[39;00m \u001b[38;5;28;01mas\u001b[39;00m e:\n\u001b[1;32m    104\u001b[0m     missing \u001b[38;5;241m=\u001b[39m \u001b[38;5;241m~\u001b[39mnp\u001b[38;5;241m.\u001b[39misin(pkey, pkey_map\u001b[38;5;241m.\u001b[39mindex)\n\u001b[0;32m--> 105\u001b[0m     \u001b[38;5;28;01mraise\u001b[39;00m \u001b[38;5;167;01mKeyError\u001b[39;00m(\u001b[38;5;124mf\u001b[39m\u001b[38;5;124m\"\u001b[39m\u001b[38;5;124mThe primary keys \u001b[39m\u001b[38;5;132;01m{\u001b[39;00mpkey[missing]\u001b[38;5;241m.\u001b[39mtolist()\u001b[38;5;132;01m}\u001b[39;00m\u001b[38;5;124m do \u001b[39m\u001b[38;5;124m\"\u001b[39m\n\u001b[1;32m    106\u001b[0m                    \u001b[38;5;124mf\u001b[39m\u001b[38;5;124m\"\u001b[39m\u001b[38;5;124mnot exist in the \u001b[39m\u001b[38;5;124m'\u001b[39m\u001b[38;5;132;01m{\u001b[39;00mtable_name\u001b[38;5;132;01m}\u001b[39;00m\u001b[38;5;124m'\u001b[39m\u001b[38;5;124m table\u001b[39m\u001b[38;5;124m\"\u001b[39m) \u001b[38;5;28;01mfrom\u001b[39;00m\u001b[38;5;250m \u001b[39m\u001b[38;5;21;01me\u001b[39;00m\n",
      "\u001b[0;31mKeyError\u001b[0m: \"The primary keys ['nan'] do not exist in the 'categories2' table\""
     ]
    }
   ],
   "source": [
    "bench_errors = []\n",
    "kumo_errors = []\n",
    "\n",
    "for i in range(100):\n",
    "\n",
    "    rnd_dt = test_period_start + pd.to_timedelta(np.random.rand() * (test_period_ends - test_period_start))\n",
    "    prod_cats =  list(set(products.product_category_name))\n",
    "    category = random.choice(prod_cats)\n",
    "    days = 30\n",
    "    p = 12\n",
    "\n",
    "    output = regression_bench(all_data, category, rnd_dt, days, p)\n",
    "\n",
    "    query = f\"\"\"PREDICT sum(order_items2.price, 0, {days}, days) FOR categories2.category = '{category}' \"\"\"\n",
    "    kumo_pred = model.predict(query, anchor_time=rnd_dt, verbose=False, num_hops=4)\n",
    "\n",
    "    actual = output['actual']\n",
    "    estimate_bench = output['estimate']\n",
    "    estimate_kumo = kumo_pred['TARGET_PRED'].values[0]\n",
    "\n",
    "    bench_errors.append(abs(actual - estimate_bench))\n",
    "    kumo_errors.append(abs(actual - estimate_kumo))\n",
    "\n",
    "    if i % 10 == 0:\n",
    "        print(i)"
   ]
  },
  {
   "cell_type": "code",
   "execution_count": 359,
   "id": "0aad3a55",
   "metadata": {},
   "outputs": [
    {
     "name": "stdout",
     "output_type": "stream",
     "text": [
      "4285.705709876544\n",
      "5022.729799954449\n",
      "11108.95279801659\n",
      "11599.56420976196\n"
     ]
    }
   ],
   "source": [
    "print(np.mean(bench_errors))\n",
    "print(np.mean(kumo_errors))\n",
    "\n",
    "print(np.sqrt(np.mean([x**2 for x in bench_errors])))\n",
    "print(np.sqrt(np.mean([x**2 for x in kumo_errors])))"
   ]
  },
  {
   "cell_type": "code",
   "execution_count": null,
   "id": "7b8bf128",
   "metadata": {},
   "outputs": [
    {
     "data": {
      "text/plain": [
       "{'actual': 43124.79000000001, 'estimate': 54775.67583333332}"
      ]
     },
     "execution_count": 339,
     "metadata": {},
     "output_type": "execute_result"
    }
   ],
   "source": [
    "5172.763341666667\n",
    "5655.771399597168\n",
    "10709.12856922111\n",
    "11284.09264923088"
   ]
  },
  {
   "cell_type": "code",
   "execution_count": 369,
   "id": "48da9db8",
   "metadata": {},
   "outputs": [
    {
     "name": "stdout",
     "output_type": "stream",
     "text": [
      "0\n",
      "10\n",
      "20\n",
      "30\n",
      "40\n",
      "50\n",
      "60\n",
      "70\n",
      "80\n",
      "90\n"
     ]
    }
   ],
   "source": [
    "bench_errors = []\n",
    "kumo_errors = []\n",
    "\n",
    "for i in range(100):\n",
    "\n",
    "    rnd_dt = test_period_start + pd.to_timedelta(np.random.rand() * (test_period_ends - test_period_start))\n",
    "    seller_ids =  list(set(sellers.seller_id))\n",
    "    seller = random.choice(seller_ids)\n",
    "    p = 6\n",
    "    days = 60\n",
    "\n",
    "    output = classification_bench(all_data, seller, rnd_dt, days, p)\n",
    "\n",
    "    query = f\"\"\"PREDICT sum(order_items2.price, 0, {days}, days)>0 FOR sellers2.seller_id = '{seller}' \"\"\"\n",
    "    kumo_pred = model.predict(query, anchor_time=rnd_dt, verbose=False, num_hops=6)\n",
    "\n",
    "    actual = output['actual']\n",
    "    estimate_bench = 1*(output['estimate']>0)\n",
    "    estimate_kumo = 1*(kumo_pred['True_PROB'].values[0]>0)\n",
    "\n",
    "    bench_errors.append(abs(actual - estimate_bench))\n",
    "    kumo_errors.append(abs(actual - estimate_kumo))\n",
    "\n",
    "    if i % 10 == 0:\n",
    "        print(i)\n",
    "\n"
   ]
  },
  {
   "cell_type": "code",
   "execution_count": 370,
   "id": "f408b305",
   "metadata": {},
   "outputs": [
    {
     "name": "stdout",
     "output_type": "stream",
     "text": [
      "0.41\n",
      "0.64\n"
     ]
    }
   ],
   "source": [
    "print(np.mean(bench_errors))\n",
    "print(np.mean(kumo_errors))"
   ]
  },
  {
   "cell_type": "code",
   "execution_count": null,
   "id": "fced6aa1",
   "metadata": {},
   "outputs": [],
   "source": []
  }
 ],
 "metadata": {
  "kernelspec": {
   "display_name": "venv (3.10.12)",
   "language": "python",
   "name": "python3"
  },
  "language_info": {
   "codemirror_mode": {
    "name": "ipython",
    "version": 3
   },
   "file_extension": ".py",
   "mimetype": "text/x-python",
   "name": "python",
   "nbconvert_exporter": "python",
   "pygments_lexer": "ipython3",
   "version": "3.10.12"
  }
 },
 "nbformat": 4,
 "nbformat_minor": 5
}
