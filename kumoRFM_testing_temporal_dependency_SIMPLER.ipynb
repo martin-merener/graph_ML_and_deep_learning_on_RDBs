{
 "cells": [
  {
   "cell_type": "code",
   "execution_count": 3,
   "id": "7a1e2cf2",
   "metadata": {},
   "outputs": [],
   "source": [
    "import kumoai.experimental.rfm as rfm, os\n",
    "from pathlib import Path\n",
    "import pandas as pd\n",
    "import matplotlib.pyplot as plt"
   ]
  },
  {
   "cell_type": "code",
   "execution_count": 4,
   "id": "60032560",
   "metadata": {},
   "outputs": [
    {
     "name": "stderr",
     "output_type": "stream",
     "text": [
      "[2025-08-18 01:00:44 - kumoai:196 - INFO] Successfully initialized the Kumo SDK against deployment https://kumorfm.ai/api, with log level INFO.\n"
     ]
    }
   ],
   "source": [
    "home_api_key_file = Path.home() / \"kumoai_key.txt\"\n",
    "with open(home_api_key_file, \"r\") as file:\n",
    "    api_key = file.read().strip()\n",
    "os.environ[\"KUMO_API_KEY\"] = api_key\n",
    "\n",
    "rfm.init()"
   ]
  },
  {
   "cell_type": "markdown",
   "id": "a7dadad4",
   "metadata": {},
   "source": [
    "## Exercise\n",
    "\n",
    "Create a synthetic dataset with the purpose of testing how KumoRFM deals with temporal dependency that is not in the transactional history, but instead is in a user type variable that can change over time.\n",
    "Essentially, there are users of 2 types (premium/free), and premium users can do actions that free users cannot.\n",
    "The exercise is about testing if KumoRFM detects this dependency and considers it for predictions."
   ]
  },
  {
   "cell_type": "markdown",
   "id": "71db9398",
   "metadata": {},
   "source": [
    "### Dataset description\n",
    "- Create a synthetic dataset representing users of 2 types (tier free or tier premium), uploading files of different sizes, and with their user tiers changing over time.\n",
    "- While on Premium tier, users can upload any size. \n",
    "- While on free tier, users can upload files below 10GB. \n",
    "- For simplicity, there are only 2 sizes: 5GB and 50GB.\n",
    "- Users can change their tier no earlier than 24 hours after the last change. \n",
    "- There are 50 users, covering 5 cohorts:\n",
    "    - Always premium (unknown start) → a single interval that spans the whole window.\n",
    "    - Always free → a single interval that spans the whole window.\n",
    "    - Premium → Free once (≥24h after start).\n",
    "    - Free → Premium once (≥24h).\n",
    "    - Free → Premium → Free (each change ≥24h apart; all within window).\n",
    "- The history of transactions last 10 days from March 1st to March 11th, 2025.\n",
    "- The prediction tasks will be done for different users, predicting their likelihood that they will upload a 50GB file in the next hour.\n",
    "- Expectations: \n",
    "    - For users that just became free tier this should be 0.\n",
    "    - For users that just became Premium it should >> 0.\n",
    "\n",
    "### Tables\n",
    "\n",
    "- users (50 users). This set is just random ids and names.\n",
    "    - user_id (PK)\n",
    "    - name\n",
    "\n",
    "- items (80 different items: 45 of 5 GB, 35 of 50 GB). Basically random ids.\n",
    "    - item_id (PK)\n",
    "    - size_gb in {5, 50}\n",
    "\n",
    "- tiers. See creation process below.\n",
    "    - tier_status_id (PK)\n",
    "    - user_id (FK -> users.user_id)\n",
    "    - from_datetime\n",
    "    - until_datetime\n",
    "    - status in {'free', 'premium'}\n",
    "\n",
    "\n",
    "- uploads. See creation process below.\n",
    "    - upload_id (PK)\n",
    "    - user_id (FK -> users.user_id)\n",
    "    - item_id (FK -> items.item_id)\n",
    "    - datetime\n",
    "\n",
    "\n",
    "### Creation process (not efficient, prioritize simplicity/clarity)\n",
    "\n",
    "- tiers:\n",
    "    - User ids from 1 to 10: always premium: 1 row in tiers.\n",
    "        - from_date = START, until_date = END, status = 'premium'\n",
    "    - User ids from 11 to 20: always free: 1 row in tiers.\n",
    "        - from_date = START, until_date = END: status = 'free'    \n",
    "    - User ids from 21 to 30: premium to free: 2 rows in tiers.\n",
    "        - Take a random date X in (START, END)\n",
    "        - from_date = START, until_date = X: status = 'premium'\n",
    "        - from_date = X, until_date = END: status = 'free'\n",
    "    - user ids from 31 to 40: free to premium: 2 rows in tiers.\n",
    "        - Take a random date X in (START, END)\n",
    "        - from_date = START, until_date = X: status = 'free'\n",
    "        - from_date = X, until_date = END: status = 'premium'\n",
    "    - user ids from 41 to 50: free to premium to free: 3 rows in tiers.\n",
    "        - Take random dates X1 < X2 in (START, END)\n",
    "        - from_date = START, until_date = X1: status = 'free'\n",
    "        - from_date = X1, until_date = X2: status = 'premium'\n",
    "        - from_date = X2, until_date = END: status = 'free'\n",
    "\n",
    "- uploads:\n",
    "    - for each tier_status_id, create the uploads in the corresponding interval.\n",
    "    - Given a tier_status_id, get the details: user_id, from_date, until_date, status.\n",
    "    - If status = 'free':\n",
    "        - compute the number of hours delta_h from from_date to until_date.\n",
    "        - take a sample of r = ceil(delta_h/10) times in (from_date, until_date).\n",
    "        - use those as datetime.\n",
    "        - generate the corresponding number of rows for uploads.\n",
    "        - keep track of the last generated upload_id.\n",
    "        - the user_id is the current one.\n",
    "        - items_id's should be taken at random from those with 5GB.\n",
    "    - if status = 'premium':\n",
    "        - Do the same as for free users (5GB files).\n",
    "        - Then repeat but for 50GB files.\n"
   ]
  },
  {
   "cell_type": "code",
   "execution_count": 5,
   "id": "b872da07",
   "metadata": {},
   "outputs": [
    {
     "name": "stdout",
     "output_type": "stream",
     "text": [
      "Done. Wrote: users.csv items.csv tiers.csv uploads.csv\n"
     ]
    }
   ],
   "source": [
    "import csv\n",
    "import math\n",
    "import random\n",
    "from datetime import datetime, timedelta, timezone\n",
    "\n",
    "# ----------------------------\n",
    "# Config\n",
    "# ----------------------------\n",
    "SEED = 42\n",
    "random.seed(SEED)\n",
    "\n",
    "START = datetime(2025, 3, 1, 0, 0, 0, tzinfo=timezone.utc)\n",
    "END   = datetime(2025, 3, 11, 0, 0, 0, tzinfo=timezone.utc)  # half-open [START, END)\n",
    "\n",
    "USERS_CSV   = \"users.csv\"\n",
    "ITEMS_CSV   = \"items.csv\"\n",
    "TIERS_CSV   = \"tiers.csv\"\n",
    "UPLOADS_CSV = \"uploads.csv\"\n",
    "\n",
    "N_USERS = 50\n",
    "N_ITEMS_5GB = 45\n",
    "N_ITEMS_50GB = 35\n",
    "\n",
    "# ----------------------------\n",
    "# Helpers\n",
    "# ----------------------------\n",
    "def rand_dt(a, b):\n",
    "    total_sec = int((b - a).total_seconds())\n",
    "    if total_sec <= 1:\n",
    "        return a + timedelta(seconds=1)\n",
    "    off = random.randint(1, total_sec - 1)\n",
    "    return a + timedelta(seconds=off)\n",
    "\n",
    "def sample_times(n, a, b):\n",
    "    return [rand_dt(a, b) for _ in range(n)]\n",
    "\n",
    "def hours_between(a, b):\n",
    "    return (b - a).total_seconds() / 3600.0\n",
    "\n",
    "# ----------------------------\n",
    "# 1) users\n",
    "# ----------------------------\n",
    "users = []\n",
    "for uid in range(1, N_USERS + 1):\n",
    "    users.append([uid, f\"User {uid:03d}\"])\n",
    "\n",
    "# ----------------------------\n",
    "# 2) items\n",
    "# ----------------------------\n",
    "items = []\n",
    "for iid in range(1, N_ITEMS_5GB + 1):\n",
    "    items.append([iid, 5])\n",
    "for iid in range(N_ITEMS_5GB + 1, N_ITEMS_5GB + N_ITEMS_50GB + 1):\n",
    "    items.append([iid, 50])\n",
    "\n",
    "item_ids_5 = [row[0] for row in items if row[1] == 5]\n",
    "item_ids_50 = [row[0] for row in items if row[1] == 50]\n",
    "\n",
    "# ----------------------------\n",
    "# 3) tiers\n",
    "# ----------------------------\n",
    "tiers = []\n",
    "tier_status_id = 1\n",
    "\n",
    "def add_interval(uid, a, b, status):\n",
    "    global tier_status_id\n",
    "    tiers.append([tier_status_id, uid, a, b, status])\n",
    "    tier_status_id += 1\n",
    "\n",
    "# always premium\n",
    "for uid in range(1, 11):\n",
    "    add_interval(uid, START, END, \"premium\")\n",
    "\n",
    "# always free\n",
    "for uid in range(11, 21):\n",
    "    add_interval(uid, START, END, \"free\")\n",
    "\n",
    "# premium -> free\n",
    "for uid in range(21, 31):\n",
    "    lo = START + timedelta(hours=24)\n",
    "    hi = END - timedelta(hours=24)\n",
    "    x = lo + timedelta(seconds=random.randint(0, int((hi - lo).total_seconds())))\n",
    "    add_interval(uid, START, x, \"premium\")\n",
    "    add_interval(uid, x, END, \"free\")\n",
    "\n",
    "# free -> premium\n",
    "for uid in range(31, 41):\n",
    "    lo = START + timedelta(hours=24)\n",
    "    hi = END - timedelta(hours=24)\n",
    "    x = lo + timedelta(seconds=random.randint(0, int((hi - lo).total_seconds())))\n",
    "    add_interval(uid, START, x, \"free\")\n",
    "    add_interval(uid, x, END, \"premium\")\n",
    "\n",
    "# free -> premium -> free\n",
    "for uid in range(41, 51):\n",
    "    lo1 = START + timedelta(hours=24)\n",
    "    hi1 = END - timedelta(hours=48)\n",
    "    x1 = lo1 + timedelta(seconds=random.randint(0, int((hi1 - lo1).total_seconds())))\n",
    "\n",
    "    lo2 = x1 + timedelta(hours=24)\n",
    "    hi2 = END - timedelta(seconds=1)\n",
    "    if lo2 >= hi2:\n",
    "        hi2 = x1 + timedelta(hours=48)\n",
    "    x2 = lo2 + timedelta(seconds=random.randint(0, int((hi2 - lo2).total_seconds())))\n",
    "\n",
    "    add_interval(uid, START, x1, \"free\")\n",
    "    add_interval(uid, x1, x2, \"premium\")\n",
    "    add_interval(uid, x2, END, \"free\")\n",
    "\n",
    "# ----------------------------\n",
    "# 4) uploads\n",
    "# ----------------------------\n",
    "uploads = []\n",
    "upload_id = 1\n",
    "\n",
    "for row in tiers:\n",
    "    uid = row[1]\n",
    "    a = row[2]\n",
    "    b = row[3]\n",
    "    status = row[4]\n",
    "\n",
    "    delta_h = hours_between(a, b)\n",
    "    if delta_h <= 0:\n",
    "        continue\n",
    "\n",
    "    if status == \"free\":\n",
    "        r = math.ceil(delta_h / 10.0)\n",
    "        times = sample_times(r, a, b)\n",
    "        for t in times:\n",
    "            uploads.append([upload_id, uid, random.choice(item_ids_5), t])\n",
    "            upload_id += 1\n",
    "\n",
    "    if status == \"premium\":\n",
    "        r5 = math.ceil(delta_h / 10.0)\n",
    "        times5 = sample_times(r5, a, b)\n",
    "        for t in times5:\n",
    "            uploads.append([upload_id, uid, random.choice(item_ids_5), t])\n",
    "            upload_id += 1\n",
    "\n",
    "        r50 = math.ceil(delta_h / 10.0)\n",
    "        times50 = sample_times(r50, a, b)\n",
    "        for t in times50:\n",
    "            uploads.append([upload_id, uid, random.choice(item_ids_50), t])\n",
    "            upload_id += 1\n",
    "\n",
    "# ----------------------------\n",
    "# Write CSVs\n",
    "# ----------------------------\n",
    "with open(USERS_CSV, \"w\", newline=\"\", encoding=\"utf-8\") as f:\n",
    "    w = csv.writer(f)\n",
    "    w.writerow([\"user_id\", \"name\"])\n",
    "    w.writerows(users)\n",
    "\n",
    "with open(ITEMS_CSV, \"w\", newline=\"\", encoding=\"utf-8\") as f:\n",
    "    w = csv.writer(f)\n",
    "    w.writerow([\"item_id\", \"size_gb\"])\n",
    "    w.writerows(items)\n",
    "\n",
    "with open(TIERS_CSV, \"w\", newline=\"\", encoding=\"utf-8\") as f:\n",
    "    w = csv.writer(f)\n",
    "    w.writerow([\"tier_status_id\", \"user_id\", \"from_datetime\", \"until_datetime\", \"status\"])\n",
    "    for tr in tiers:\n",
    "        w.writerow([\n",
    "            tr[0],\n",
    "            tr[1],\n",
    "            tr[2].strftime(\"%Y-%m-%dT%H:%M:%SZ\"),\n",
    "            tr[3].strftime(\"%Y-%m-%dT%H:%M:%SZ\"),\n",
    "            tr[4]\n",
    "        ])\n",
    "\n",
    "with open(UPLOADS_CSV, \"w\", newline=\"\", encoding=\"utf-8\") as f:\n",
    "    w = csv.writer(f)\n",
    "    w.writerow([\"upload_id\", \"user_id\", \"item_id\", \"datetime\"])\n",
    "    for up in uploads:\n",
    "        w.writerow([\n",
    "            up[0],\n",
    "            up[1],\n",
    "            up[2],\n",
    "            up[3].strftime(\"%Y-%m-%dT%H:%M:%SZ\")\n",
    "        ])\n",
    "\n",
    "print(\"Done. Wrote:\", USERS_CSV, ITEMS_CSV, TIERS_CSV, UPLOADS_CSV)\n"
   ]
  },
  {
   "cell_type": "code",
   "execution_count": 6,
   "id": "770fddcd",
   "metadata": {},
   "outputs": [],
   "source": [
    "users_df = pd.read_csv(USERS_CSV)\n",
    "tiers_df = pd.read_csv(TIERS_CSV)\n",
    "items_df = pd.read_csv(ITEMS_CSV)\n",
    "uploads_df = pd.read_csv(UPLOADS_CSV)"
   ]
  },
  {
   "cell_type": "code",
   "execution_count": 7,
   "id": "1b5d0aee",
   "metadata": {},
   "outputs": [],
   "source": [
    "uploads_df = uploads_df.merge(items_df)"
   ]
  },
  {
   "cell_type": "code",
   "execution_count": 8,
   "id": "db00f94e",
   "metadata": {},
   "outputs": [
    {
     "data": {
      "text/html": [
       "<div>\n",
       "<style scoped>\n",
       "    .dataframe tbody tr th:only-of-type {\n",
       "        vertical-align: middle;\n",
       "    }\n",
       "\n",
       "    .dataframe tbody tr th {\n",
       "        vertical-align: top;\n",
       "    }\n",
       "\n",
       "    .dataframe thead th {\n",
       "        text-align: right;\n",
       "    }\n",
       "</style>\n",
       "<table border=\"1\" class=\"dataframe\">\n",
       "  <thead>\n",
       "    <tr style=\"text-align: right;\">\n",
       "      <th></th>\n",
       "      <th>user_id</th>\n",
       "      <th>name</th>\n",
       "    </tr>\n",
       "  </thead>\n",
       "  <tbody>\n",
       "    <tr>\n",
       "      <th>0</th>\n",
       "      <td>1</td>\n",
       "      <td>User 001</td>\n",
       "    </tr>\n",
       "    <tr>\n",
       "      <th>1</th>\n",
       "      <td>2</td>\n",
       "      <td>User 002</td>\n",
       "    </tr>\n",
       "    <tr>\n",
       "      <th>2</th>\n",
       "      <td>3</td>\n",
       "      <td>User 003</td>\n",
       "    </tr>\n",
       "  </tbody>\n",
       "</table>\n",
       "</div>"
      ],
      "text/plain": [
       "   user_id      name\n",
       "0        1  User 001\n",
       "1        2  User 002\n",
       "2        3  User 003"
      ]
     },
     "metadata": {},
     "output_type": "display_data"
    },
    {
     "data": {
      "text/html": [
       "<div>\n",
       "<style scoped>\n",
       "    .dataframe tbody tr th:only-of-type {\n",
       "        vertical-align: middle;\n",
       "    }\n",
       "\n",
       "    .dataframe tbody tr th {\n",
       "        vertical-align: top;\n",
       "    }\n",
       "\n",
       "    .dataframe thead th {\n",
       "        text-align: right;\n",
       "    }\n",
       "</style>\n",
       "<table border=\"1\" class=\"dataframe\">\n",
       "  <thead>\n",
       "    <tr style=\"text-align: right;\">\n",
       "      <th></th>\n",
       "      <th>tier_status_id</th>\n",
       "      <th>user_id</th>\n",
       "      <th>from_datetime</th>\n",
       "      <th>until_datetime</th>\n",
       "      <th>status</th>\n",
       "    </tr>\n",
       "  </thead>\n",
       "  <tbody>\n",
       "    <tr>\n",
       "      <th>0</th>\n",
       "      <td>1</td>\n",
       "      <td>1</td>\n",
       "      <td>2025-03-01T00:00:00Z</td>\n",
       "      <td>2025-03-11T00:00:00Z</td>\n",
       "      <td>premium</td>\n",
       "    </tr>\n",
       "    <tr>\n",
       "      <th>1</th>\n",
       "      <td>2</td>\n",
       "      <td>2</td>\n",
       "      <td>2025-03-01T00:00:00Z</td>\n",
       "      <td>2025-03-11T00:00:00Z</td>\n",
       "      <td>premium</td>\n",
       "    </tr>\n",
       "    <tr>\n",
       "      <th>2</th>\n",
       "      <td>3</td>\n",
       "      <td>3</td>\n",
       "      <td>2025-03-01T00:00:00Z</td>\n",
       "      <td>2025-03-11T00:00:00Z</td>\n",
       "      <td>premium</td>\n",
       "    </tr>\n",
       "  </tbody>\n",
       "</table>\n",
       "</div>"
      ],
      "text/plain": [
       "   tier_status_id  user_id         from_datetime        until_datetime  \\\n",
       "0               1        1  2025-03-01T00:00:00Z  2025-03-11T00:00:00Z   \n",
       "1               2        2  2025-03-01T00:00:00Z  2025-03-11T00:00:00Z   \n",
       "2               3        3  2025-03-01T00:00:00Z  2025-03-11T00:00:00Z   \n",
       "\n",
       "    status  \n",
       "0  premium  \n",
       "1  premium  \n",
       "2  premium  "
      ]
     },
     "metadata": {},
     "output_type": "display_data"
    },
    {
     "data": {
      "text/html": [
       "<div>\n",
       "<style scoped>\n",
       "    .dataframe tbody tr th:only-of-type {\n",
       "        vertical-align: middle;\n",
       "    }\n",
       "\n",
       "    .dataframe tbody tr th {\n",
       "        vertical-align: top;\n",
       "    }\n",
       "\n",
       "    .dataframe thead th {\n",
       "        text-align: right;\n",
       "    }\n",
       "</style>\n",
       "<table border=\"1\" class=\"dataframe\">\n",
       "  <thead>\n",
       "    <tr style=\"text-align: right;\">\n",
       "      <th></th>\n",
       "      <th>item_id</th>\n",
       "      <th>size_gb</th>\n",
       "    </tr>\n",
       "  </thead>\n",
       "  <tbody>\n",
       "    <tr>\n",
       "      <th>0</th>\n",
       "      <td>1</td>\n",
       "      <td>5</td>\n",
       "    </tr>\n",
       "    <tr>\n",
       "      <th>1</th>\n",
       "      <td>2</td>\n",
       "      <td>5</td>\n",
       "    </tr>\n",
       "    <tr>\n",
       "      <th>2</th>\n",
       "      <td>3</td>\n",
       "      <td>5</td>\n",
       "    </tr>\n",
       "  </tbody>\n",
       "</table>\n",
       "</div>"
      ],
      "text/plain": [
       "   item_id  size_gb\n",
       "0        1        5\n",
       "1        2        5\n",
       "2        3        5"
      ]
     },
     "metadata": {},
     "output_type": "display_data"
    },
    {
     "data": {
      "text/html": [
       "<div>\n",
       "<style scoped>\n",
       "    .dataframe tbody tr th:only-of-type {\n",
       "        vertical-align: middle;\n",
       "    }\n",
       "\n",
       "    .dataframe tbody tr th {\n",
       "        vertical-align: top;\n",
       "    }\n",
       "\n",
       "    .dataframe thead th {\n",
       "        text-align: right;\n",
       "    }\n",
       "</style>\n",
       "<table border=\"1\" class=\"dataframe\">\n",
       "  <thead>\n",
       "    <tr style=\"text-align: right;\">\n",
       "      <th></th>\n",
       "      <th>upload_id</th>\n",
       "      <th>user_id</th>\n",
       "      <th>item_id</th>\n",
       "      <th>datetime</th>\n",
       "      <th>size_gb</th>\n",
       "    </tr>\n",
       "  </thead>\n",
       "  <tbody>\n",
       "    <tr>\n",
       "      <th>0</th>\n",
       "      <td>1</td>\n",
       "      <td>1</td>\n",
       "      <td>15</td>\n",
       "      <td>2025-03-02T04:10:15Z</td>\n",
       "      <td>5</td>\n",
       "    </tr>\n",
       "    <tr>\n",
       "      <th>1</th>\n",
       "      <td>2</td>\n",
       "      <td>1</td>\n",
       "      <td>19</td>\n",
       "      <td>2025-03-05T08:33:38Z</td>\n",
       "      <td>5</td>\n",
       "    </tr>\n",
       "    <tr>\n",
       "      <th>2</th>\n",
       "      <td>3</td>\n",
       "      <td>1</td>\n",
       "      <td>6</td>\n",
       "      <td>2025-03-05T04:11:04Z</td>\n",
       "      <td>5</td>\n",
       "    </tr>\n",
       "  </tbody>\n",
       "</table>\n",
       "</div>"
      ],
      "text/plain": [
       "   upload_id  user_id  item_id              datetime  size_gb\n",
       "0          1        1       15  2025-03-02T04:10:15Z        5\n",
       "1          2        1       19  2025-03-05T08:33:38Z        5\n",
       "2          3        1        6  2025-03-05T04:11:04Z        5"
      ]
     },
     "metadata": {},
     "output_type": "display_data"
    }
   ],
   "source": [
    "display(users_df.head(3))\n",
    "display(tiers_df.head(3))\n",
    "display(items_df.head(3))\n",
    "display(uploads_df.head(3))\n"
   ]
  },
  {
   "cell_type": "code",
   "execution_count": 9,
   "id": "1bef8fb4",
   "metadata": {},
   "outputs": [
    {
     "name": "stdout",
     "output_type": "stream",
     "text": [
      "50 50\n",
      "90 90\n",
      "80 80\n",
      "1788 1788\n"
     ]
    }
   ],
   "source": [
    "print(users_df.shape[0], users_df['user_id'].nunique())\n",
    "print(tiers_df.shape[0], tiers_df['tier_status_id'].nunique())\n",
    "print(items_df.shape[0], items_df['item_id'].nunique())\n",
    "print(uploads_df.shape[0], uploads_df['upload_id'].nunique())\n"
   ]
  },
  {
   "cell_type": "code",
   "execution_count": 10,
   "id": "22103259",
   "metadata": {},
   "outputs": [],
   "source": [
    "def plot_user_uploads(tiers_df, uploads_df, items_df, user_id, title=None):\n",
    "    # Ensure datetime dtype\n",
    "    tiers = tiers_df.loc[tiers_df.user_id == user_id].copy()\n",
    "    tiers[\"from_datetime\"] = pd.to_datetime(tiers[\"from_datetime\"])\n",
    "    tiers[\"until_datetime\"] = pd.to_datetime(tiers[\"until_datetime\"])\n",
    "\n",
    "    uploads = uploads_df.loc[uploads_df.user_id == user_id].copy()\n",
    "    uploads[\"datetime\"] = pd.to_datetime(uploads[\"datetime\"])\n",
    "\n",
    "    \n",
    "    # Set x-limits from tier coverage (fallback to upload range if needed)\n",
    "    if not tiers.empty:\n",
    "        xmin = tiers[\"from_datetime\"].min()\n",
    "        xmax = tiers[\"until_datetime\"].max()\n",
    "    else:\n",
    "        xmin = uploads[\"datetime\"].min()\n",
    "        xmax = uploads[\"datetime\"].max()\n",
    "\n",
    "    # Plot\n",
    "    fig, ax = plt.subplots(figsize=(10, 3.5))\n",
    "\n",
    "    # Background: tier intervals\n",
    "    # (label only once to keep legend clean)\n",
    "    added_free = False\n",
    "    added_premium = False\n",
    "    for _, r in tiers.sort_values(\"from_datetime\").iterrows():\n",
    "        color = \"green\" if r[\"status\"] == \"free\" else \"blue\"\n",
    "        label = None\n",
    "        if r[\"status\"] == \"free\" and not added_free:\n",
    "            label = \"free\"\n",
    "            added_free = True\n",
    "        if r[\"status\"] == \"premium\" and not added_premium:\n",
    "            label = \"premium\"\n",
    "            added_premium = True\n",
    "        ax.axvspan(r[\"from_datetime\"], r[\"until_datetime\"], color=color, alpha=0.15, label=label)\n",
    "\n",
    "    # Upload points at y = 5 or 50\n",
    "    if not uploads.empty:\n",
    "        ax.scatter(uploads[\"datetime\"], uploads[\"size_gb\"], s=25, zorder=3)\n",
    "\n",
    "    # Axes, labels, ticks\n",
    "    ax.set_xlim(xmin, xmax)\n",
    "    ax.set_ylim(0, 55)\n",
    "    ax.set_yticks([5, 50])\n",
    "    ax.set_xlabel(\"time\")\n",
    "    ax.set_ylabel(\"GB\")\n",
    "\n",
    "    if title is None:\n",
    "        title = f\"User {user_id} uploads\"\n",
    "    ax.set_title(title)\n",
    "\n",
    "    # Legend (only if any tier intervals exist)\n",
    "    handles, labels = ax.get_legend_handles_labels()\n",
    "    if handles:\n",
    "        ax.legend(loc=\"upper left\")\n",
    "\n",
    "    fig.autofmt_xdate()\n",
    "    plt.tight_layout()\n",
    "    plt.show()\n"
   ]
  },
  {
   "cell_type": "code",
   "execution_count": 11,
   "id": "6d6ca779",
   "metadata": {},
   "outputs": [
    {
     "data": {
      "image/png": "[encoded data removed]",
      "text/plain": [
       "<Figure size 1000x350 with 1 Axes>"
      ]
     },
     "metadata": {},
     "output_type": "display_data"
    }
   ],
   "source": [
    "plot_user_uploads(tiers_df, uploads_df, items_df, 5, \"Example in cohort 1: Premium all the time\")"
   ]
  },
  {
   "cell_type": "code",
   "execution_count": 12,
   "id": "8ed1182b",
   "metadata": {},
   "outputs": [
    {
     "data": {
      "image/png": "[encoded data removed]",
      "text/plain": [
       "<Figure size 1000x350 with 1 Axes>"
      ]
     },
     "metadata": {},
     "output_type": "display_data"
    }
   ],
   "source": [
    "plot_user_uploads(tiers_df, uploads_df, items_df, 15, \"Example in cohort 2: Free all the time\")"
   ]
  },
  {
   "cell_type": "code",
   "execution_count": 13,
   "id": "feca9c14",
   "metadata": {},
   "outputs": [
    {
     "data": {
      "image/png": "[encoded data removed]",
      "text/plain": [
       "<Figure size 1000x350 with 1 Axes>"
      ]
     },
     "metadata": {},
     "output_type": "display_data"
    }
   ],
   "source": [
    "plot_user_uploads(tiers_df, uploads_df, items_df, 25, \"Example in cohort 3: first Premium then Free\")"
   ]
  },
  {
   "cell_type": "code",
   "execution_count": 14,
   "id": "01dc711d",
   "metadata": {},
   "outputs": [
    {
     "data": {
      "image/png": "[encoded data removed]",
      "text/plain": [
       "<Figure size 1000x350 with 1 Axes>"
      ]
     },
     "metadata": {},
     "output_type": "display_data"
    }
   ],
   "source": [
    "plot_user_uploads(tiers_df, uploads_df, items_df, 35, \"Example in cohort 4: first Free then Premium\")"
   ]
  },
  {
   "cell_type": "code",
   "execution_count": 15,
   "id": "b11dce18",
   "metadata": {},
   "outputs": [
    {
     "data": {
      "image/png": "[encoded data removed]",
      "text/plain": [
       "<Figure size 1000x350 with 1 Axes>"
      ]
     },
     "metadata": {},
     "output_type": "display_data"
    }
   ],
   "source": [
    "plot_user_uploads(tiers_df, uploads_df, items_df, 45, \"Example in cohort 5: first Free then Premium then Free\")"
   ]
  },
  {
   "cell_type": "code",
   "execution_count": 16,
   "id": "6872b922",
   "metadata": {},
   "outputs": [
    {
     "data": {
      "text/html": [
       "<div>\n",
       "<style scoped>\n",
       "    .dataframe tbody tr th:only-of-type {\n",
       "        vertical-align: middle;\n",
       "    }\n",
       "\n",
       "    .dataframe tbody tr th {\n",
       "        vertical-align: top;\n",
       "    }\n",
       "\n",
       "    .dataframe thead th {\n",
       "        text-align: right;\n",
       "    }\n",
       "</style>\n",
       "<table border=\"1\" class=\"dataframe\">\n",
       "  <thead>\n",
       "    <tr style=\"text-align: right;\">\n",
       "      <th></th>\n",
       "      <th>user_id</th>\n",
       "      <th>name</th>\n",
       "    </tr>\n",
       "  </thead>\n",
       "  <tbody>\n",
       "    <tr>\n",
       "      <th>0</th>\n",
       "      <td>1</td>\n",
       "      <td>User 001</td>\n",
       "    </tr>\n",
       "    <tr>\n",
       "      <th>1</th>\n",
       "      <td>2</td>\n",
       "      <td>User 002</td>\n",
       "    </tr>\n",
       "    <tr>\n",
       "      <th>2</th>\n",
       "      <td>3</td>\n",
       "      <td>User 003</td>\n",
       "    </tr>\n",
       "  </tbody>\n",
       "</table>\n",
       "</div>"
      ],
      "text/plain": [
       "   user_id      name\n",
       "0        1  User 001\n",
       "1        2  User 002\n",
       "2        3  User 003"
      ]
     },
     "metadata": {},
     "output_type": "display_data"
    },
    {
     "data": {
      "text/html": [
       "<div>\n",
       "<style scoped>\n",
       "    .dataframe tbody tr th:only-of-type {\n",
       "        vertical-align: middle;\n",
       "    }\n",
       "\n",
       "    .dataframe tbody tr th {\n",
       "        vertical-align: top;\n",
       "    }\n",
       "\n",
       "    .dataframe thead th {\n",
       "        text-align: right;\n",
       "    }\n",
       "</style>\n",
       "<table border=\"1\" class=\"dataframe\">\n",
       "  <thead>\n",
       "    <tr style=\"text-align: right;\">\n",
       "      <th></th>\n",
       "      <th>tier_status_id</th>\n",
       "      <th>user_id</th>\n",
       "      <th>from_datetime</th>\n",
       "      <th>until_datetime</th>\n",
       "      <th>status</th>\n",
       "    </tr>\n",
       "  </thead>\n",
       "  <tbody>\n",
       "    <tr>\n",
       "      <th>0</th>\n",
       "      <td>1</td>\n",
       "      <td>1</td>\n",
       "      <td>2025-03-01T00:00:00Z</td>\n",
       "      <td>2025-03-11T00:00:00Z</td>\n",
       "      <td>premium</td>\n",
       "    </tr>\n",
       "    <tr>\n",
       "      <th>1</th>\n",
       "      <td>2</td>\n",
       "      <td>2</td>\n",
       "      <td>2025-03-01T00:00:00Z</td>\n",
       "      <td>2025-03-11T00:00:00Z</td>\n",
       "      <td>premium</td>\n",
       "    </tr>\n",
       "    <tr>\n",
       "      <th>2</th>\n",
       "      <td>3</td>\n",
       "      <td>3</td>\n",
       "      <td>2025-03-01T00:00:00Z</td>\n",
       "      <td>2025-03-11T00:00:00Z</td>\n",
       "      <td>premium</td>\n",
       "    </tr>\n",
       "  </tbody>\n",
       "</table>\n",
       "</div>"
      ],
      "text/plain": [
       "   tier_status_id  user_id         from_datetime        until_datetime  \\\n",
       "0               1        1  2025-03-01T00:00:00Z  2025-03-11T00:00:00Z   \n",
       "1               2        2  2025-03-01T00:00:00Z  2025-03-11T00:00:00Z   \n",
       "2               3        3  2025-03-01T00:00:00Z  2025-03-11T00:00:00Z   \n",
       "\n",
       "    status  \n",
       "0  premium  \n",
       "1  premium  \n",
       "2  premium  "
      ]
     },
     "metadata": {},
     "output_type": "display_data"
    },
    {
     "data": {
      "text/html": [
       "<div>\n",
       "<style scoped>\n",
       "    .dataframe tbody tr th:only-of-type {\n",
       "        vertical-align: middle;\n",
       "    }\n",
       "\n",
       "    .dataframe tbody tr th {\n",
       "        vertical-align: top;\n",
       "    }\n",
       "\n",
       "    .dataframe thead th {\n",
       "        text-align: right;\n",
       "    }\n",
       "</style>\n",
       "<table border=\"1\" class=\"dataframe\">\n",
       "  <thead>\n",
       "    <tr style=\"text-align: right;\">\n",
       "      <th></th>\n",
       "      <th>item_id</th>\n",
       "      <th>size_gb</th>\n",
       "    </tr>\n",
       "  </thead>\n",
       "  <tbody>\n",
       "    <tr>\n",
       "      <th>0</th>\n",
       "      <td>1</td>\n",
       "      <td>5</td>\n",
       "    </tr>\n",
       "    <tr>\n",
       "      <th>1</th>\n",
       "      <td>2</td>\n",
       "      <td>5</td>\n",
       "    </tr>\n",
       "    <tr>\n",
       "      <th>2</th>\n",
       "      <td>3</td>\n",
       "      <td>5</td>\n",
       "    </tr>\n",
       "  </tbody>\n",
       "</table>\n",
       "</div>"
      ],
      "text/plain": [
       "   item_id  size_gb\n",
       "0        1        5\n",
       "1        2        5\n",
       "2        3        5"
      ]
     },
     "metadata": {},
     "output_type": "display_data"
    },
    {
     "data": {
      "text/html": [
       "<div>\n",
       "<style scoped>\n",
       "    .dataframe tbody tr th:only-of-type {\n",
       "        vertical-align: middle;\n",
       "    }\n",
       "\n",
       "    .dataframe tbody tr th {\n",
       "        vertical-align: top;\n",
       "    }\n",
       "\n",
       "    .dataframe thead th {\n",
       "        text-align: right;\n",
       "    }\n",
       "</style>\n",
       "<table border=\"1\" class=\"dataframe\">\n",
       "  <thead>\n",
       "    <tr style=\"text-align: right;\">\n",
       "      <th></th>\n",
       "      <th>upload_id</th>\n",
       "      <th>user_id</th>\n",
       "      <th>item_id</th>\n",
       "      <th>datetime</th>\n",
       "      <th>size_gb</th>\n",
       "    </tr>\n",
       "  </thead>\n",
       "  <tbody>\n",
       "    <tr>\n",
       "      <th>0</th>\n",
       "      <td>1</td>\n",
       "      <td>1</td>\n",
       "      <td>15</td>\n",
       "      <td>2025-03-02T04:10:15Z</td>\n",
       "      <td>5</td>\n",
       "    </tr>\n",
       "    <tr>\n",
       "      <th>1</th>\n",
       "      <td>2</td>\n",
       "      <td>1</td>\n",
       "      <td>19</td>\n",
       "      <td>2025-03-05T08:33:38Z</td>\n",
       "      <td>5</td>\n",
       "    </tr>\n",
       "    <tr>\n",
       "      <th>2</th>\n",
       "      <td>3</td>\n",
       "      <td>1</td>\n",
       "      <td>6</td>\n",
       "      <td>2025-03-05T04:11:04Z</td>\n",
       "      <td>5</td>\n",
       "    </tr>\n",
       "  </tbody>\n",
       "</table>\n",
       "</div>"
      ],
      "text/plain": [
       "   upload_id  user_id  item_id              datetime  size_gb\n",
       "0          1        1       15  2025-03-02T04:10:15Z        5\n",
       "1          2        1       19  2025-03-05T08:33:38Z        5\n",
       "2          3        1        6  2025-03-05T04:11:04Z        5"
      ]
     },
     "metadata": {},
     "output_type": "display_data"
    }
   ],
   "source": [
    "display(users_df.head(3))\n",
    "display(tiers_df.head(3))\n",
    "display(items_df.head(3))\n",
    "display(uploads_df.head(3))"
   ]
  },
  {
   "cell_type": "code",
   "execution_count": 17,
   "id": "e6b0ccc4",
   "metadata": {},
   "outputs": [],
   "source": [
    "#items_df.loc[items_df.size_gb == 5].item_id.max()"
   ]
  },
  {
   "cell_type": "code",
   "execution_count": 18,
   "id": "6be997f5",
   "metadata": {},
   "outputs": [
    {
     "name": "stdout",
     "output_type": "stream",
     "text": [
      "Detected primary key 'user_id' in table 'users'\n",
      "Detected time column 'from_datetime' in table 'tiers'\n",
      "Detected primary key 'item_id' in table 'items'\n",
      "Detected primary key 'upload_id' and time column 'datetime' in table 'uploads'\n"
     ]
    }
   ],
   "source": [
    "users = rfm.LocalTable(users_df, name=\"users\").infer_metadata()\n",
    "tiers = rfm.LocalTable(tiers_df, name=\"tiers\").infer_metadata()\n",
    "items = rfm.LocalTable(items_df, name=\"items\").infer_metadata()\n",
    "uploads = rfm.LocalTable(uploads_df, name=\"uploads\").infer_metadata()\n"
   ]
  },
  {
   "cell_type": "code",
   "execution_count": 19,
   "id": "a0b2c42e",
   "metadata": {},
   "outputs": [
    {
     "data": {
      "text/markdown": [
       "### 🏷️ Metadata of Table `users` (50 rows)"
      ],
      "text/plain": [
       "<IPython.core.display.Markdown object>"
      ]
     },
     "metadata": {},
     "output_type": "display_data"
    },
    {
     "data": {
      "text/html": [
       "<style type=\"text/css\">\n",
       "</style>\n",
       "<table id=\"T_e445a\">\n",
       "  <thead>\n",
       "    <tr>\n",
       "      <th id=\"T_e445a_level0_col0\" class=\"col_heading level0 col0\" >name</th>\n",
       "      <th id=\"T_e445a_level0_col1\" class=\"col_heading level0 col1\" >dtype</th>\n",
       "      <th id=\"T_e445a_level0_col2\" class=\"col_heading level0 col2\" >stype</th>\n",
       "      <th id=\"T_e445a_level0_col3\" class=\"col_heading level0 col3\" >is_primary_key</th>\n",
       "      <th id=\"T_e445a_level0_col4\" class=\"col_heading level0 col4\" >is_time_column</th>\n",
       "    </tr>\n",
       "  </thead>\n",
       "  <tbody>\n",
       "    <tr>\n",
       "      <td id=\"T_e445a_row0_col0\" class=\"data row0 col0\" >user_id</td>\n",
       "      <td id=\"T_e445a_row0_col1\" class=\"data row0 col1\" >int</td>\n",
       "      <td id=\"T_e445a_row0_col2\" class=\"data row0 col2\" >ID</td>\n",
       "      <td id=\"T_e445a_row0_col3\" class=\"data row0 col3\" >True</td>\n",
       "      <td id=\"T_e445a_row0_col4\" class=\"data row0 col4\" >False</td>\n",
       "    </tr>\n",
       "    <tr>\n",
       "      <td id=\"T_e445a_row1_col0\" class=\"data row1 col0\" >name</td>\n",
       "      <td id=\"T_e445a_row1_col1\" class=\"data row1 col1\" >string</td>\n",
       "      <td id=\"T_e445a_row1_col2\" class=\"data row1 col2\" >text</td>\n",
       "      <td id=\"T_e445a_row1_col3\" class=\"data row1 col3\" >False</td>\n",
       "      <td id=\"T_e445a_row1_col4\" class=\"data row1 col4\" >False</td>\n",
       "    </tr>\n",
       "  </tbody>\n",
       "</table>\n"
      ],
      "text/plain": [
       "<pandas.io.formats.style.Styler at 0x7001e4a77160>"
      ]
     },
     "metadata": {},
     "output_type": "display_data"
    }
   ],
   "source": [
    "users.print_metadata()"
   ]
  },
  {
   "cell_type": "code",
   "execution_count": 20,
   "id": "4753902c",
   "metadata": {},
   "outputs": [
    {
     "data": {
      "text/markdown": [
       "### 🏷️ Metadata of Table `tiers` (90 rows)"
      ],
      "text/plain": [
       "<IPython.core.display.Markdown object>"
      ]
     },
     "metadata": {},
     "output_type": "display_data"
    },
    {
     "data": {
      "text/html": [
       "<style type=\"text/css\">\n",
       "</style>\n",
       "<table id=\"T_65d2c\">\n",
       "  <thead>\n",
       "    <tr>\n",
       "      <th id=\"T_65d2c_level0_col0\" class=\"col_heading level0 col0\" >name</th>\n",
       "      <th id=\"T_65d2c_level0_col1\" class=\"col_heading level0 col1\" >dtype</th>\n",
       "      <th id=\"T_65d2c_level0_col2\" class=\"col_heading level0 col2\" >stype</th>\n",
       "      <th id=\"T_65d2c_level0_col3\" class=\"col_heading level0 col3\" >is_primary_key</th>\n",
       "      <th id=\"T_65d2c_level0_col4\" class=\"col_heading level0 col4\" >is_time_column</th>\n",
       "    </tr>\n",
       "  </thead>\n",
       "  <tbody>\n",
       "    <tr>\n",
       "      <td id=\"T_65d2c_row0_col0\" class=\"data row0 col0\" >tier_status_id</td>\n",
       "      <td id=\"T_65d2c_row0_col1\" class=\"data row0 col1\" >int</td>\n",
       "      <td id=\"T_65d2c_row0_col2\" class=\"data row0 col2\" >ID</td>\n",
       "      <td id=\"T_65d2c_row0_col3\" class=\"data row0 col3\" >True</td>\n",
       "      <td id=\"T_65d2c_row0_col4\" class=\"data row0 col4\" >False</td>\n",
       "    </tr>\n",
       "    <tr>\n",
       "      <td id=\"T_65d2c_row1_col0\" class=\"data row1 col0\" >user_id</td>\n",
       "      <td id=\"T_65d2c_row1_col1\" class=\"data row1 col1\" >int</td>\n",
       "      <td id=\"T_65d2c_row1_col2\" class=\"data row1 col2\" >ID</td>\n",
       "      <td id=\"T_65d2c_row1_col3\" class=\"data row1 col3\" >False</td>\n",
       "      <td id=\"T_65d2c_row1_col4\" class=\"data row1 col4\" >False</td>\n",
       "    </tr>\n",
       "    <tr>\n",
       "      <td id=\"T_65d2c_row2_col0\" class=\"data row2 col0\" >from_datetime</td>\n",
       "      <td id=\"T_65d2c_row2_col1\" class=\"data row2 col1\" >string</td>\n",
       "      <td id=\"T_65d2c_row2_col2\" class=\"data row2 col2\" >timestamp</td>\n",
       "      <td id=\"T_65d2c_row2_col3\" class=\"data row2 col3\" >False</td>\n",
       "      <td id=\"T_65d2c_row2_col4\" class=\"data row2 col4\" >True</td>\n",
       "    </tr>\n",
       "    <tr>\n",
       "      <td id=\"T_65d2c_row3_col0\" class=\"data row3 col0\" >until_datetime</td>\n",
       "      <td id=\"T_65d2c_row3_col1\" class=\"data row3 col1\" >string</td>\n",
       "      <td id=\"T_65d2c_row3_col2\" class=\"data row3 col2\" >timestamp</td>\n",
       "      <td id=\"T_65d2c_row3_col3\" class=\"data row3 col3\" >False</td>\n",
       "      <td id=\"T_65d2c_row3_col4\" class=\"data row3 col4\" >False</td>\n",
       "    </tr>\n",
       "    <tr>\n",
       "      <td id=\"T_65d2c_row4_col0\" class=\"data row4 col0\" >status</td>\n",
       "      <td id=\"T_65d2c_row4_col1\" class=\"data row4 col1\" >string</td>\n",
       "      <td id=\"T_65d2c_row4_col2\" class=\"data row4 col2\" >categorical</td>\n",
       "      <td id=\"T_65d2c_row4_col3\" class=\"data row4 col3\" >False</td>\n",
       "      <td id=\"T_65d2c_row4_col4\" class=\"data row4 col4\" >False</td>\n",
       "    </tr>\n",
       "  </tbody>\n",
       "</table>\n"
      ],
      "text/plain": [
       "<pandas.io.formats.style.Styler at 0x7001e3ce4e50>"
      ]
     },
     "metadata": {},
     "output_type": "display_data"
    }
   ],
   "source": [
    "tiers.primary_key = \"tier_status_id\"\n",
    "tiers.print_metadata()"
   ]
  },
  {
   "cell_type": "code",
   "execution_count": 21,
   "id": "fc17d5b5",
   "metadata": {},
   "outputs": [
    {
     "data": {
      "text/markdown": [
       "### 🏷️ Metadata of Table `items` (80 rows)"
      ],
      "text/plain": [
       "<IPython.core.display.Markdown object>"
      ]
     },
     "metadata": {},
     "output_type": "display_data"
    },
    {
     "data": {
      "text/html": [
       "<style type=\"text/css\">\n",
       "</style>\n",
       "<table id=\"T_9b4ea\">\n",
       "  <thead>\n",
       "    <tr>\n",
       "      <th id=\"T_9b4ea_level0_col0\" class=\"col_heading level0 col0\" >name</th>\n",
       "      <th id=\"T_9b4ea_level0_col1\" class=\"col_heading level0 col1\" >dtype</th>\n",
       "      <th id=\"T_9b4ea_level0_col2\" class=\"col_heading level0 col2\" >stype</th>\n",
       "      <th id=\"T_9b4ea_level0_col3\" class=\"col_heading level0 col3\" >is_primary_key</th>\n",
       "      <th id=\"T_9b4ea_level0_col4\" class=\"col_heading level0 col4\" >is_time_column</th>\n",
       "    </tr>\n",
       "  </thead>\n",
       "  <tbody>\n",
       "    <tr>\n",
       "      <td id=\"T_9b4ea_row0_col0\" class=\"data row0 col0\" >item_id</td>\n",
       "      <td id=\"T_9b4ea_row0_col1\" class=\"data row0 col1\" >int</td>\n",
       "      <td id=\"T_9b4ea_row0_col2\" class=\"data row0 col2\" >ID</td>\n",
       "      <td id=\"T_9b4ea_row0_col3\" class=\"data row0 col3\" >True</td>\n",
       "      <td id=\"T_9b4ea_row0_col4\" class=\"data row0 col4\" >False</td>\n",
       "    </tr>\n",
       "    <tr>\n",
       "      <td id=\"T_9b4ea_row1_col0\" class=\"data row1 col0\" >size_gb</td>\n",
       "      <td id=\"T_9b4ea_row1_col1\" class=\"data row1 col1\" >int</td>\n",
       "      <td id=\"T_9b4ea_row1_col2\" class=\"data row1 col2\" >numerical</td>\n",
       "      <td id=\"T_9b4ea_row1_col3\" class=\"data row1 col3\" >False</td>\n",
       "      <td id=\"T_9b4ea_row1_col4\" class=\"data row1 col4\" >False</td>\n",
       "    </tr>\n",
       "  </tbody>\n",
       "</table>\n"
      ],
      "text/plain": [
       "<pandas.io.formats.style.Styler at 0x7001e3e083a0>"
      ]
     },
     "metadata": {},
     "output_type": "display_data"
    }
   ],
   "source": [
    "items['size_gb'].stype = \"numerical\"\n",
    "items.print_metadata()"
   ]
  },
  {
   "cell_type": "code",
   "execution_count": 22,
   "id": "9e5c650b",
   "metadata": {},
   "outputs": [
    {
     "data": {
      "text/markdown": [
       "### 🏷️ Metadata of Table `uploads` (1,788 rows)"
      ],
      "text/plain": [
       "<IPython.core.display.Markdown object>"
      ]
     },
     "metadata": {},
     "output_type": "display_data"
    },
    {
     "data": {
      "text/html": [
       "<style type=\"text/css\">\n",
       "</style>\n",
       "<table id=\"T_ccf62\">\n",
       "  <thead>\n",
       "    <tr>\n",
       "      <th id=\"T_ccf62_level0_col0\" class=\"col_heading level0 col0\" >name</th>\n",
       "      <th id=\"T_ccf62_level0_col1\" class=\"col_heading level0 col1\" >dtype</th>\n",
       "      <th id=\"T_ccf62_level0_col2\" class=\"col_heading level0 col2\" >stype</th>\n",
       "      <th id=\"T_ccf62_level0_col3\" class=\"col_heading level0 col3\" >is_primary_key</th>\n",
       "      <th id=\"T_ccf62_level0_col4\" class=\"col_heading level0 col4\" >is_time_column</th>\n",
       "    </tr>\n",
       "  </thead>\n",
       "  <tbody>\n",
       "    <tr>\n",
       "      <td id=\"T_ccf62_row0_col0\" class=\"data row0 col0\" >upload_id</td>\n",
       "      <td id=\"T_ccf62_row0_col1\" class=\"data row0 col1\" >int</td>\n",
       "      <td id=\"T_ccf62_row0_col2\" class=\"data row0 col2\" >ID</td>\n",
       "      <td id=\"T_ccf62_row0_col3\" class=\"data row0 col3\" >True</td>\n",
       "      <td id=\"T_ccf62_row0_col4\" class=\"data row0 col4\" >False</td>\n",
       "    </tr>\n",
       "    <tr>\n",
       "      <td id=\"T_ccf62_row1_col0\" class=\"data row1 col0\" >user_id</td>\n",
       "      <td id=\"T_ccf62_row1_col1\" class=\"data row1 col1\" >int</td>\n",
       "      <td id=\"T_ccf62_row1_col2\" class=\"data row1 col2\" >ID</td>\n",
       "      <td id=\"T_ccf62_row1_col3\" class=\"data row1 col3\" >False</td>\n",
       "      <td id=\"T_ccf62_row1_col4\" class=\"data row1 col4\" >False</td>\n",
       "    </tr>\n",
       "    <tr>\n",
       "      <td id=\"T_ccf62_row2_col0\" class=\"data row2 col0\" >item_id</td>\n",
       "      <td id=\"T_ccf62_row2_col1\" class=\"data row2 col1\" >int</td>\n",
       "      <td id=\"T_ccf62_row2_col2\" class=\"data row2 col2\" >ID</td>\n",
       "      <td id=\"T_ccf62_row2_col3\" class=\"data row2 col3\" >False</td>\n",
       "      <td id=\"T_ccf62_row2_col4\" class=\"data row2 col4\" >False</td>\n",
       "    </tr>\n",
       "    <tr>\n",
       "      <td id=\"T_ccf62_row3_col0\" class=\"data row3 col0\" >datetime</td>\n",
       "      <td id=\"T_ccf62_row3_col1\" class=\"data row3 col1\" >string</td>\n",
       "      <td id=\"T_ccf62_row3_col2\" class=\"data row3 col2\" >timestamp</td>\n",
       "      <td id=\"T_ccf62_row3_col3\" class=\"data row3 col3\" >False</td>\n",
       "      <td id=\"T_ccf62_row3_col4\" class=\"data row3 col4\" >True</td>\n",
       "    </tr>\n",
       "    <tr>\n",
       "      <td id=\"T_ccf62_row4_col0\" class=\"data row4 col0\" >size_gb</td>\n",
       "      <td id=\"T_ccf62_row4_col1\" class=\"data row4 col1\" >int</td>\n",
       "      <td id=\"T_ccf62_row4_col2\" class=\"data row4 col2\" >numerical</td>\n",
       "      <td id=\"T_ccf62_row4_col3\" class=\"data row4 col3\" >False</td>\n",
       "      <td id=\"T_ccf62_row4_col4\" class=\"data row4 col4\" >False</td>\n",
       "    </tr>\n",
       "  </tbody>\n",
       "</table>\n"
      ],
      "text/plain": [
       "<pandas.io.formats.style.Styler at 0x7001e4a77160>"
      ]
     },
     "metadata": {},
     "output_type": "display_data"
    }
   ],
   "source": [
    "uploads['size_gb'].stype = \"numerical\"\n",
    "uploads.print_metadata()"
   ]
  },
  {
   "cell_type": "code",
   "execution_count": 23,
   "id": "b51ead2b",
   "metadata": {},
   "outputs": [],
   "source": [
    "graph = rfm.LocalGraph(tables=[users, tiers, items, uploads])"
   ]
  },
  {
   "cell_type": "code",
   "execution_count": 24,
   "id": "f61f0ef6",
   "metadata": {},
   "outputs": [
    {
     "data": {
      "text/markdown": [
       "### 🕸️ Graph Links (FK ↔️ PK)"
      ],
      "text/plain": [
       "<IPython.core.display.Markdown object>"
      ]
     },
     "metadata": {},
     "output_type": "display_data"
    },
    {
     "data": {
      "text/markdown": [
       "- `uploads.item_id` ↔️ `items.item_id`\n",
       "- `tiers.user_id` ↔️ `users.user_id`\n",
       "- `uploads.user_id` ↔️ `users.user_id`"
      ],
      "text/plain": [
       "<IPython.core.display.Markdown object>"
      ]
     },
     "metadata": {},
     "output_type": "display_data"
    }
   ],
   "source": [
    "graph.link(src_table=\"tiers\", fkey=\"user_id\", dst_table=\"users\");\n",
    "graph.link(src_table=\"uploads\", fkey=\"item_id\", dst_table=\"items\");\n",
    "graph.link(src_table=\"uploads\", fkey=\"user_id\", dst_table=\"users\");\n",
    "graph.print_links()"
   ]
  },
  {
   "cell_type": "code",
   "execution_count": 25,
   "id": "948e6b4b",
   "metadata": {},
   "outputs": [],
   "source": [
    "model = rfm.KumoRFM(graph, verbose=False)"
   ]
  },
  {
   "cell_type": "code",
   "execution_count": 26,
   "id": "31bece03",
   "metadata": {},
   "outputs": [
    {
     "data": {
      "text/html": [
       "<div>\n",
       "<style scoped>\n",
       "    .dataframe tbody tr th:only-of-type {\n",
       "        vertical-align: middle;\n",
       "    }\n",
       "\n",
       "    .dataframe tbody tr th {\n",
       "        vertical-align: top;\n",
       "    }\n",
       "\n",
       "    .dataframe thead th {\n",
       "        text-align: right;\n",
       "    }\n",
       "</style>\n",
       "<table border=\"1\" class=\"dataframe\">\n",
       "  <thead>\n",
       "    <tr style=\"text-align: right;\">\n",
       "      <th></th>\n",
       "      <th>tier_status_id</th>\n",
       "      <th>user_id</th>\n",
       "      <th>from_datetime</th>\n",
       "      <th>until_datetime</th>\n",
       "      <th>status</th>\n",
       "    </tr>\n",
       "  </thead>\n",
       "  <tbody>\n",
       "    <tr>\n",
       "      <th>4</th>\n",
       "      <td>5</td>\n",
       "      <td>5</td>\n",
       "      <td>2025-03-01T00:00:00Z</td>\n",
       "      <td>2025-03-11T00:00:00Z</td>\n",
       "      <td>premium</td>\n",
       "    </tr>\n",
       "  </tbody>\n",
       "</table>\n",
       "</div>"
      ],
      "text/plain": [
       "   tier_status_id  user_id         from_datetime        until_datetime  \\\n",
       "4               5        5  2025-03-01T00:00:00Z  2025-03-11T00:00:00Z   \n",
       "\n",
       "    status  \n",
       "4  premium  "
      ]
     },
     "execution_count": 26,
     "metadata": {},
     "output_type": "execute_result"
    }
   ],
   "source": [
    "tiers_df.loc[tiers_df.user_id==5]"
   ]
  },
  {
   "cell_type": "code",
   "execution_count": 28,
   "id": "5030720e",
   "metadata": {},
   "outputs": [
    {
     "data": {
      "text/html": [
       "<div>\n",
       "<style scoped>\n",
       "    .dataframe tbody tr th:only-of-type {\n",
       "        vertical-align: middle;\n",
       "    }\n",
       "\n",
       "    .dataframe tbody tr th {\n",
       "        vertical-align: top;\n",
       "    }\n",
       "\n",
       "    .dataframe thead th {\n",
       "        text-align: right;\n",
       "    }\n",
       "</style>\n",
       "<table border=\"1\" class=\"dataframe\">\n",
       "  <thead>\n",
       "    <tr style=\"text-align: right;\">\n",
       "      <th></th>\n",
       "      <th>ENTITY</th>\n",
       "      <th>ANCHOR_TIMESTAMP</th>\n",
       "      <th>TARGET_PRED</th>\n",
       "      <th>False_PROB</th>\n",
       "      <th>True_PROB</th>\n",
       "    </tr>\n",
       "  </thead>\n",
       "  <tbody>\n",
       "    <tr>\n",
       "      <th>0</th>\n",
       "      <td>5</td>\n",
       "      <td>2025-03-02T00:00:00</td>\n",
       "      <td>False</td>\n",
       "      <td>0.536621</td>\n",
       "      <td>0.463379</td>\n",
       "    </tr>\n",
       "  </tbody>\n",
       "</table>\n",
       "</div>"
      ],
      "text/plain": [
       "   ENTITY     ANCHOR_TIMESTAMP  TARGET_PRED  False_PROB  True_PROB\n",
       "0       5  2025-03-02T00:00:00        False    0.536621   0.463379"
      ]
     },
     "execution_count": 28,
     "metadata": {},
     "output_type": "execute_result"
    }
   ],
   "source": [
    "query = \"\"\"PREDICT COUNT(uploads.* where uploads.size_gb=50, 0, 5, hours)>0 FOR users.user_id = 5\"\"\"\n",
    "model.predict(query, anchor_time=pd.Timestamp(\"2025-03-02\"), verbose=False)"
   ]
  },
  {
   "cell_type": "code",
   "execution_count": 29,
   "id": "853fb769",
   "metadata": {},
   "outputs": [
    {
     "data": {
      "text/html": [
       "<div>\n",
       "<style scoped>\n",
       "    .dataframe tbody tr th:only-of-type {\n",
       "        vertical-align: middle;\n",
       "    }\n",
       "\n",
       "    .dataframe tbody tr th {\n",
       "        vertical-align: top;\n",
       "    }\n",
       "\n",
       "    .dataframe thead th {\n",
       "        text-align: right;\n",
       "    }\n",
       "</style>\n",
       "<table border=\"1\" class=\"dataframe\">\n",
       "  <thead>\n",
       "    <tr style=\"text-align: right;\">\n",
       "      <th></th>\n",
       "      <th>ENTITY</th>\n",
       "      <th>ANCHOR_TIMESTAMP</th>\n",
       "      <th>TARGET_PRED</th>\n",
       "      <th>False_PROB</th>\n",
       "      <th>True_PROB</th>\n",
       "    </tr>\n",
       "  </thead>\n",
       "  <tbody>\n",
       "    <tr>\n",
       "      <th>0</th>\n",
       "      <td>5</td>\n",
       "      <td>2025-03-05T00:00:00</td>\n",
       "      <td>False</td>\n",
       "      <td>0.632568</td>\n",
       "      <td>0.367432</td>\n",
       "    </tr>\n",
       "  </tbody>\n",
       "</table>\n",
       "</div>"
      ],
      "text/plain": [
       "   ENTITY     ANCHOR_TIMESTAMP  TARGET_PRED  False_PROB  True_PROB\n",
       "0       5  2025-03-05T00:00:00        False    0.632568   0.367432"
      ]
     },
     "execution_count": 29,
     "metadata": {},
     "output_type": "execute_result"
    }
   ],
   "source": [
    "query = \"\"\"PREDICT COUNT(uploads.* where uploads.size_gb=50, 0, 5, hours)>0 FOR users.user_id = 5\"\"\"\n",
    "model.predict(query, anchor_time=pd.Timestamp(\"2025-03-05\"), verbose=False)"
   ]
  },
  {
   "cell_type": "code",
   "execution_count": 31,
   "id": "6e0b74a6",
   "metadata": {},
   "outputs": [
    {
     "data": {
      "text/html": [
       "<div>\n",
       "<style scoped>\n",
       "    .dataframe tbody tr th:only-of-type {\n",
       "        vertical-align: middle;\n",
       "    }\n",
       "\n",
       "    .dataframe tbody tr th {\n",
       "        vertical-align: top;\n",
       "    }\n",
       "\n",
       "    .dataframe thead th {\n",
       "        text-align: right;\n",
       "    }\n",
       "</style>\n",
       "<table border=\"1\" class=\"dataframe\">\n",
       "  <thead>\n",
       "    <tr style=\"text-align: right;\">\n",
       "      <th></th>\n",
       "      <th>ENTITY</th>\n",
       "      <th>ANCHOR_TIMESTAMP</th>\n",
       "      <th>TARGET_PRED</th>\n",
       "      <th>False_PROB</th>\n",
       "      <th>True_PROB</th>\n",
       "    </tr>\n",
       "  </thead>\n",
       "  <tbody>\n",
       "    <tr>\n",
       "      <th>0</th>\n",
       "      <td>5</td>\n",
       "      <td>2025-03-09T00:00:00</td>\n",
       "      <td>False</td>\n",
       "      <td>0.653729</td>\n",
       "      <td>0.346271</td>\n",
       "    </tr>\n",
       "  </tbody>\n",
       "</table>\n",
       "</div>"
      ],
      "text/plain": [
       "   ENTITY     ANCHOR_TIMESTAMP  TARGET_PRED  False_PROB  True_PROB\n",
       "0       5  2025-03-09T00:00:00        False    0.653729   0.346271"
      ]
     },
     "execution_count": 31,
     "metadata": {},
     "output_type": "execute_result"
    }
   ],
   "source": [
    "query = \"\"\"PREDICT COUNT(uploads.* where uploads.size_gb=50, 0, 5, hours)>0 FOR users.user_id = 5\"\"\"\n",
    "model.predict(query, anchor_time=pd.Timestamp(\"2025-03-09\"), verbose=False)"
   ]
  },
  {
   "cell_type": "code",
   "execution_count": null,
   "id": "1510895e",
   "metadata": {},
   "outputs": [],
   "source": []
  },
  {
   "cell_type": "code",
   "execution_count": 32,
   "id": "9d1e8e92",
   "metadata": {},
   "outputs": [
    {
     "data": {
      "text/html": [
       "<div>\n",
       "<style scoped>\n",
       "    .dataframe tbody tr th:only-of-type {\n",
       "        vertical-align: middle;\n",
       "    }\n",
       "\n",
       "    .dataframe tbody tr th {\n",
       "        vertical-align: top;\n",
       "    }\n",
       "\n",
       "    .dataframe thead th {\n",
       "        text-align: right;\n",
       "    }\n",
       "</style>\n",
       "<table border=\"1\" class=\"dataframe\">\n",
       "  <thead>\n",
       "    <tr style=\"text-align: right;\">\n",
       "      <th></th>\n",
       "      <th>tier_status_id</th>\n",
       "      <th>user_id</th>\n",
       "      <th>from_datetime</th>\n",
       "      <th>until_datetime</th>\n",
       "      <th>status</th>\n",
       "    </tr>\n",
       "  </thead>\n",
       "  <tbody>\n",
       "    <tr>\n",
       "      <th>14</th>\n",
       "      <td>15</td>\n",
       "      <td>15</td>\n",
       "      <td>2025-03-01T00:00:00Z</td>\n",
       "      <td>2025-03-11T00:00:00Z</td>\n",
       "      <td>free</td>\n",
       "    </tr>\n",
       "  </tbody>\n",
       "</table>\n",
       "</div>"
      ],
      "text/plain": [
       "    tier_status_id  user_id         from_datetime        until_datetime status\n",
       "14              15       15  2025-03-01T00:00:00Z  2025-03-11T00:00:00Z   free"
      ]
     },
     "execution_count": 32,
     "metadata": {},
     "output_type": "execute_result"
    }
   ],
   "source": [
    "tiers_df.loc[tiers_df.user_id==15]"
   ]
  },
  {
   "cell_type": "code",
   "execution_count": 33,
   "id": "35deb87d",
   "metadata": {},
   "outputs": [
    {
     "data": {
      "text/html": [
       "<div>\n",
       "<style scoped>\n",
       "    .dataframe tbody tr th:only-of-type {\n",
       "        vertical-align: middle;\n",
       "    }\n",
       "\n",
       "    .dataframe tbody tr th {\n",
       "        vertical-align: top;\n",
       "    }\n",
       "\n",
       "    .dataframe thead th {\n",
       "        text-align: right;\n",
       "    }\n",
       "</style>\n",
       "<table border=\"1\" class=\"dataframe\">\n",
       "  <thead>\n",
       "    <tr style=\"text-align: right;\">\n",
       "      <th></th>\n",
       "      <th>ENTITY</th>\n",
       "      <th>ANCHOR_TIMESTAMP</th>\n",
       "      <th>TARGET_PRED</th>\n",
       "      <th>False_PROB</th>\n",
       "      <th>True_PROB</th>\n",
       "    </tr>\n",
       "  </thead>\n",
       "  <tbody>\n",
       "    <tr>\n",
       "      <th>0</th>\n",
       "      <td>15</td>\n",
       "      <td>2025-03-02T00:00:00</td>\n",
       "      <td>False</td>\n",
       "      <td>0.994687</td>\n",
       "      <td>0.005313</td>\n",
       "    </tr>\n",
       "  </tbody>\n",
       "</table>\n",
       "</div>"
      ],
      "text/plain": [
       "   ENTITY     ANCHOR_TIMESTAMP  TARGET_PRED  False_PROB  True_PROB\n",
       "0      15  2025-03-02T00:00:00        False    0.994687   0.005313"
      ]
     },
     "execution_count": 33,
     "metadata": {},
     "output_type": "execute_result"
    }
   ],
   "source": [
    "query = \"\"\"PREDICT COUNT(uploads.* where uploads.size_gb=50, 0, 5, hours)>0 FOR users.user_id = 15\"\"\"\n",
    "model.predict(query, anchor_time=pd.Timestamp(\"2025-03-02\"), verbose=False)"
   ]
  },
  {
   "cell_type": "code",
   "execution_count": 35,
   "id": "5ead1722",
   "metadata": {},
   "outputs": [
    {
     "data": {
      "text/html": [
       "<div>\n",
       "<style scoped>\n",
       "    .dataframe tbody tr th:only-of-type {\n",
       "        vertical-align: middle;\n",
       "    }\n",
       "\n",
       "    .dataframe tbody tr th {\n",
       "        vertical-align: top;\n",
       "    }\n",
       "\n",
       "    .dataframe thead th {\n",
       "        text-align: right;\n",
       "    }\n",
       "</style>\n",
       "<table border=\"1\" class=\"dataframe\">\n",
       "  <thead>\n",
       "    <tr style=\"text-align: right;\">\n",
       "      <th></th>\n",
       "      <th>ENTITY</th>\n",
       "      <th>ANCHOR_TIMESTAMP</th>\n",
       "      <th>TARGET_PRED</th>\n",
       "      <th>False_PROB</th>\n",
       "      <th>True_PROB</th>\n",
       "    </tr>\n",
       "  </thead>\n",
       "  <tbody>\n",
       "    <tr>\n",
       "      <th>0</th>\n",
       "      <td>15</td>\n",
       "      <td>2025-03-06T00:00:00</td>\n",
       "      <td>False</td>\n",
       "      <td>0.995333</td>\n",
       "      <td>0.004667</td>\n",
       "    </tr>\n",
       "  </tbody>\n",
       "</table>\n",
       "</div>"
      ],
      "text/plain": [
       "   ENTITY     ANCHOR_TIMESTAMP  TARGET_PRED  False_PROB  True_PROB\n",
       "0      15  2025-03-06T00:00:00        False    0.995333   0.004667"
      ]
     },
     "execution_count": 35,
     "metadata": {},
     "output_type": "execute_result"
    }
   ],
   "source": [
    "query = \"\"\"PREDICT COUNT(uploads.* where uploads.size_gb=50, 0, 5, hours)>0 FOR users.user_id = 15\"\"\"\n",
    "model.predict(query, anchor_time=pd.Timestamp(\"2025-03-06\"), verbose=False)"
   ]
  },
  {
   "cell_type": "code",
   "execution_count": 36,
   "id": "e3575250",
   "metadata": {},
   "outputs": [
    {
     "data": {
      "text/html": [
       "<div>\n",
       "<style scoped>\n",
       "    .dataframe tbody tr th:only-of-type {\n",
       "        vertical-align: middle;\n",
       "    }\n",
       "\n",
       "    .dataframe tbody tr th {\n",
       "        vertical-align: top;\n",
       "    }\n",
       "\n",
       "    .dataframe thead th {\n",
       "        text-align: right;\n",
       "    }\n",
       "</style>\n",
       "<table border=\"1\" class=\"dataframe\">\n",
       "  <thead>\n",
       "    <tr style=\"text-align: right;\">\n",
       "      <th></th>\n",
       "      <th>ENTITY</th>\n",
       "      <th>ANCHOR_TIMESTAMP</th>\n",
       "      <th>TARGET_PRED</th>\n",
       "      <th>False_PROB</th>\n",
       "      <th>True_PROB</th>\n",
       "    </tr>\n",
       "  </thead>\n",
       "  <tbody>\n",
       "    <tr>\n",
       "      <th>0</th>\n",
       "      <td>15</td>\n",
       "      <td>2025-03-09T00:00:00</td>\n",
       "      <td>False</td>\n",
       "      <td>0.996033</td>\n",
       "      <td>0.003967</td>\n",
       "    </tr>\n",
       "  </tbody>\n",
       "</table>\n",
       "</div>"
      ],
      "text/plain": [
       "   ENTITY     ANCHOR_TIMESTAMP  TARGET_PRED  False_PROB  True_PROB\n",
       "0      15  2025-03-09T00:00:00        False    0.996033   0.003967"
      ]
     },
     "execution_count": 36,
     "metadata": {},
     "output_type": "execute_result"
    }
   ],
   "source": [
    "query = \"\"\"PREDICT COUNT(uploads.* where uploads.size_gb=50, 0, 5, hours)>0 FOR users.user_id = 15\"\"\"\n",
    "model.predict(query, anchor_time=pd.Timestamp(\"2025-03-09\"), verbose=False)"
   ]
  },
  {
   "cell_type": "code",
   "execution_count": null,
   "id": "f7c15db7",
   "metadata": {},
   "outputs": [],
   "source": []
  },
  {
   "cell_type": "code",
   "execution_count": 28,
   "id": "16bd9698",
   "metadata": {},
   "outputs": [
    {
     "data": {
      "text/html": [
       "<div>\n",
       "<style scoped>\n",
       "    .dataframe tbody tr th:only-of-type {\n",
       "        vertical-align: middle;\n",
       "    }\n",
       "\n",
       "    .dataframe tbody tr th {\n",
       "        vertical-align: top;\n",
       "    }\n",
       "\n",
       "    .dataframe thead th {\n",
       "        text-align: right;\n",
       "    }\n",
       "</style>\n",
       "<table border=\"1\" class=\"dataframe\">\n",
       "  <thead>\n",
       "    <tr style=\"text-align: right;\">\n",
       "      <th></th>\n",
       "      <th>tier_status_id</th>\n",
       "      <th>user_id</th>\n",
       "      <th>from_datetime</th>\n",
       "      <th>until_datetime</th>\n",
       "      <th>status</th>\n",
       "    </tr>\n",
       "  </thead>\n",
       "  <tbody>\n",
       "    <tr>\n",
       "      <th>28</th>\n",
       "      <td>29</td>\n",
       "      <td>25</td>\n",
       "      <td>2025-03-01T00:00:00Z</td>\n",
       "      <td>2025-03-04T23:19:47Z</td>\n",
       "      <td>premium</td>\n",
       "    </tr>\n",
       "    <tr>\n",
       "      <th>29</th>\n",
       "      <td>30</td>\n",
       "      <td>25</td>\n",
       "      <td>2025-03-04T23:19:47Z</td>\n",
       "      <td>2025-03-11T00:00:00Z</td>\n",
       "      <td>free</td>\n",
       "    </tr>\n",
       "  </tbody>\n",
       "</table>\n",
       "</div>"
      ],
      "text/plain": [
       "    tier_status_id  user_id         from_datetime        until_datetime  \\\n",
       "28              29       25  2025-03-01T00:00:00Z  2025-03-04T23:19:47Z   \n",
       "29              30       25  2025-03-04T23:19:47Z  2025-03-11T00:00:00Z   \n",
       "\n",
       "     status  \n",
       "28  premium  \n",
       "29     free  "
      ]
     },
     "execution_count": 28,
     "metadata": {},
     "output_type": "execute_result"
    }
   ],
   "source": [
    "tiers_df.loc[tiers_df.user_id==25]"
   ]
  },
  {
   "cell_type": "code",
   "execution_count": 42,
   "id": "564f4098",
   "metadata": {},
   "outputs": [
    {
     "data": {
      "text/html": [
       "<div>\n",
       "<style scoped>\n",
       "    .dataframe tbody tr th:only-of-type {\n",
       "        vertical-align: middle;\n",
       "    }\n",
       "\n",
       "    .dataframe tbody tr th {\n",
       "        vertical-align: top;\n",
       "    }\n",
       "\n",
       "    .dataframe thead th {\n",
       "        text-align: right;\n",
       "    }\n",
       "</style>\n",
       "<table border=\"1\" class=\"dataframe\">\n",
       "  <thead>\n",
       "    <tr style=\"text-align: right;\">\n",
       "      <th></th>\n",
       "      <th>ENTITY</th>\n",
       "      <th>ANCHOR_TIMESTAMP</th>\n",
       "      <th>TARGET_PRED</th>\n",
       "      <th>False_PROB</th>\n",
       "      <th>True_PROB</th>\n",
       "    </tr>\n",
       "  </thead>\n",
       "  <tbody>\n",
       "    <tr>\n",
       "      <th>0</th>\n",
       "      <td>25</td>\n",
       "      <td>2025-03-04T23:19:00</td>\n",
       "      <td>False</td>\n",
       "      <td>0.644287</td>\n",
       "      <td>0.355713</td>\n",
       "    </tr>\n",
       "  </tbody>\n",
       "</table>\n",
       "</div>"
      ],
      "text/plain": [
       "   ENTITY     ANCHOR_TIMESTAMP  TARGET_PRED  False_PROB  True_PROB\n",
       "0      25  2025-03-04T23:19:00        False    0.644287   0.355713"
      ]
     },
     "execution_count": 42,
     "metadata": {},
     "output_type": "execute_result"
    }
   ],
   "source": [
    "query = \"\"\"PREDICT COUNT(uploads.* where uploads.size_gb=50, 0, 5, hours)>0 FOR users.user_id = 25 \"\"\"\n",
    "model.predict(query, anchor_time=pd.Timestamp(\"2025-03-04 23:19:00\"), verbose=False)"
   ]
  },
  {
   "cell_type": "code",
   "execution_count": 45,
   "id": "52a31ed2",
   "metadata": {},
   "outputs": [
    {
     "data": {
      "text/html": [
       "<div>\n",
       "<style scoped>\n",
       "    .dataframe tbody tr th:only-of-type {\n",
       "        vertical-align: middle;\n",
       "    }\n",
       "\n",
       "    .dataframe tbody tr th {\n",
       "        vertical-align: top;\n",
       "    }\n",
       "\n",
       "    .dataframe thead th {\n",
       "        text-align: right;\n",
       "    }\n",
       "</style>\n",
       "<table border=\"1\" class=\"dataframe\">\n",
       "  <thead>\n",
       "    <tr style=\"text-align: right;\">\n",
       "      <th></th>\n",
       "      <th>ENTITY</th>\n",
       "      <th>ANCHOR_TIMESTAMP</th>\n",
       "      <th>TARGET_PRED</th>\n",
       "      <th>False_PROB</th>\n",
       "      <th>True_PROB</th>\n",
       "    </tr>\n",
       "  </thead>\n",
       "  <tbody>\n",
       "    <tr>\n",
       "      <th>0</th>\n",
       "      <td>25</td>\n",
       "      <td>2025-03-04T23:20:00</td>\n",
       "      <td>False</td>\n",
       "      <td>0.896756</td>\n",
       "      <td>0.103244</td>\n",
       "    </tr>\n",
       "  </tbody>\n",
       "</table>\n",
       "</div>"
      ],
      "text/plain": [
       "   ENTITY     ANCHOR_TIMESTAMP  TARGET_PRED  False_PROB  True_PROB\n",
       "0      25  2025-03-04T23:20:00        False    0.896756   0.103244"
      ]
     },
     "execution_count": 45,
     "metadata": {},
     "output_type": "execute_result"
    }
   ],
   "source": [
    "query = \"\"\"PREDICT COUNT(uploads.* where uploads.size_gb=50, 0, 5, hours)>0 FOR users.user_id = 25 \"\"\"\n",
    "model.predict(query, anchor_time=pd.Timestamp(\"2025-03-04 23:20:00\"), verbose=False)"
   ]
  },
  {
   "cell_type": "code",
   "execution_count": 46,
   "id": "d6ed6df7",
   "metadata": {},
   "outputs": [
    {
     "data": {
      "text/html": [
       "<div>\n",
       "<style scoped>\n",
       "    .dataframe tbody tr th:only-of-type {\n",
       "        vertical-align: middle;\n",
       "    }\n",
       "\n",
       "    .dataframe tbody tr th {\n",
       "        vertical-align: top;\n",
       "    }\n",
       "\n",
       "    .dataframe thead th {\n",
       "        text-align: right;\n",
       "    }\n",
       "</style>\n",
       "<table border=\"1\" class=\"dataframe\">\n",
       "  <thead>\n",
       "    <tr style=\"text-align: right;\">\n",
       "      <th></th>\n",
       "      <th>ENTITY</th>\n",
       "      <th>ANCHOR_TIMESTAMP</th>\n",
       "      <th>TARGET_PRED</th>\n",
       "      <th>False_PROB</th>\n",
       "      <th>True_PROB</th>\n",
       "    </tr>\n",
       "  </thead>\n",
       "  <tbody>\n",
       "    <tr>\n",
       "      <th>0</th>\n",
       "      <td>25</td>\n",
       "      <td>2025-03-05T00:10:10</td>\n",
       "      <td>False</td>\n",
       "      <td>0.945557</td>\n",
       "      <td>0.054443</td>\n",
       "    </tr>\n",
       "  </tbody>\n",
       "</table>\n",
       "</div>"
      ],
      "text/plain": [
       "   ENTITY     ANCHOR_TIMESTAMP  TARGET_PRED  False_PROB  True_PROB\n",
       "0      25  2025-03-05T00:10:10        False    0.945557   0.054443"
      ]
     },
     "execution_count": 46,
     "metadata": {},
     "output_type": "execute_result"
    }
   ],
   "source": [
    "query = \"\"\"PREDICT COUNT(uploads.* where uploads.size_gb=50, 0, 5, hours)>0 FOR users.user_id = 25 \"\"\"\n",
    "model.predict(query, anchor_time=pd.Timestamp(\"2025-03-05 00:10:10\"), verbose=False)"
   ]
  },
  {
   "cell_type": "code",
   "execution_count": 47,
   "id": "80876f7c",
   "metadata": {},
   "outputs": [
    {
     "data": {
      "text/html": [
       "<div>\n",
       "<style scoped>\n",
       "    .dataframe tbody tr th:only-of-type {\n",
       "        vertical-align: middle;\n",
       "    }\n",
       "\n",
       "    .dataframe tbody tr th {\n",
       "        vertical-align: top;\n",
       "    }\n",
       "\n",
       "    .dataframe thead th {\n",
       "        text-align: right;\n",
       "    }\n",
       "</style>\n",
       "<table border=\"1\" class=\"dataframe\">\n",
       "  <thead>\n",
       "    <tr style=\"text-align: right;\">\n",
       "      <th></th>\n",
       "      <th>ENTITY</th>\n",
       "      <th>ANCHOR_TIMESTAMP</th>\n",
       "      <th>TARGET_PRED</th>\n",
       "      <th>False_PROB</th>\n",
       "      <th>True_PROB</th>\n",
       "    </tr>\n",
       "  </thead>\n",
       "  <tbody>\n",
       "    <tr>\n",
       "      <th>0</th>\n",
       "      <td>25</td>\n",
       "      <td>2025-03-10T00:10:10</td>\n",
       "      <td>False</td>\n",
       "      <td>0.988345</td>\n",
       "      <td>0.011655</td>\n",
       "    </tr>\n",
       "  </tbody>\n",
       "</table>\n",
       "</div>"
      ],
      "text/plain": [
       "   ENTITY     ANCHOR_TIMESTAMP  TARGET_PRED  False_PROB  True_PROB\n",
       "0      25  2025-03-10T00:10:10        False    0.988345   0.011655"
      ]
     },
     "execution_count": 47,
     "metadata": {},
     "output_type": "execute_result"
    }
   ],
   "source": [
    "query = \"\"\"PREDICT COUNT(uploads.* where uploads.size_gb=50, 0, 5, hours)>0 FOR users.user_id = 25 \"\"\"\n",
    "model.predict(query, anchor_time=pd.Timestamp(\"2025-03-10 00:10:10\"), verbose=False)"
   ]
  },
  {
   "cell_type": "code",
   "execution_count": null,
   "id": "e617e76a",
   "metadata": {},
   "outputs": [],
   "source": []
  },
  {
   "cell_type": "code",
   "execution_count": 48,
   "id": "4102d07d",
   "metadata": {},
   "outputs": [
    {
     "data": {
      "text/html": [
       "<div>\n",
       "<style scoped>\n",
       "    .dataframe tbody tr th:only-of-type {\n",
       "        vertical-align: middle;\n",
       "    }\n",
       "\n",
       "    .dataframe tbody tr th {\n",
       "        vertical-align: top;\n",
       "    }\n",
       "\n",
       "    .dataframe thead th {\n",
       "        text-align: right;\n",
       "    }\n",
       "</style>\n",
       "<table border=\"1\" class=\"dataframe\">\n",
       "  <thead>\n",
       "    <tr style=\"text-align: right;\">\n",
       "      <th></th>\n",
       "      <th>tier_status_id</th>\n",
       "      <th>user_id</th>\n",
       "      <th>from_datetime</th>\n",
       "      <th>until_datetime</th>\n",
       "      <th>status</th>\n",
       "    </tr>\n",
       "  </thead>\n",
       "  <tbody>\n",
       "    <tr>\n",
       "      <th>48</th>\n",
       "      <td>49</td>\n",
       "      <td>35</td>\n",
       "      <td>2025-03-01T00:00:00Z</td>\n",
       "      <td>2025-03-03T03:17:26Z</td>\n",
       "      <td>free</td>\n",
       "    </tr>\n",
       "    <tr>\n",
       "      <th>49</th>\n",
       "      <td>50</td>\n",
       "      <td>35</td>\n",
       "      <td>2025-03-03T03:17:26Z</td>\n",
       "      <td>2025-03-11T00:00:00Z</td>\n",
       "      <td>premium</td>\n",
       "    </tr>\n",
       "  </tbody>\n",
       "</table>\n",
       "</div>"
      ],
      "text/plain": [
       "    tier_status_id  user_id         from_datetime        until_datetime  \\\n",
       "48              49       35  2025-03-01T00:00:00Z  2025-03-03T03:17:26Z   \n",
       "49              50       35  2025-03-03T03:17:26Z  2025-03-11T00:00:00Z   \n",
       "\n",
       "     status  \n",
       "48     free  \n",
       "49  premium  "
      ]
     },
     "execution_count": 48,
     "metadata": {},
     "output_type": "execute_result"
    }
   ],
   "source": [
    "tiers_df.loc[tiers_df.user_id==35]"
   ]
  },
  {
   "cell_type": "code",
   "execution_count": 49,
   "id": "70b457d4",
   "metadata": {},
   "outputs": [
    {
     "data": {
      "text/html": [
       "<div>\n",
       "<style scoped>\n",
       "    .dataframe tbody tr th:only-of-type {\n",
       "        vertical-align: middle;\n",
       "    }\n",
       "\n",
       "    .dataframe tbody tr th {\n",
       "        vertical-align: top;\n",
       "    }\n",
       "\n",
       "    .dataframe thead th {\n",
       "        text-align: right;\n",
       "    }\n",
       "</style>\n",
       "<table border=\"1\" class=\"dataframe\">\n",
       "  <thead>\n",
       "    <tr style=\"text-align: right;\">\n",
       "      <th></th>\n",
       "      <th>ENTITY</th>\n",
       "      <th>ANCHOR_TIMESTAMP</th>\n",
       "      <th>TARGET_PRED</th>\n",
       "      <th>False_PROB</th>\n",
       "      <th>True_PROB</th>\n",
       "    </tr>\n",
       "  </thead>\n",
       "  <tbody>\n",
       "    <tr>\n",
       "      <th>0</th>\n",
       "      <td>35</td>\n",
       "      <td>2025-03-02T22:00:00</td>\n",
       "      <td>False</td>\n",
       "      <td>0.995694</td>\n",
       "      <td>0.004306</td>\n",
       "    </tr>\n",
       "  </tbody>\n",
       "</table>\n",
       "</div>"
      ],
      "text/plain": [
       "   ENTITY     ANCHOR_TIMESTAMP  TARGET_PRED  False_PROB  True_PROB\n",
       "0      35  2025-03-02T22:00:00        False    0.995694   0.004306"
      ]
     },
     "execution_count": 49,
     "metadata": {},
     "output_type": "execute_result"
    }
   ],
   "source": [
    "query = \"\"\"PREDICT COUNT(uploads.* where uploads.size_gb=50, 0, 5, hours)>0 FOR users.user_id = 35\"\"\"\n",
    "model.predict(query, anchor_time=pd.Timestamp(\"2025-03-02 22:00:00\"), verbose=False)"
   ]
  },
  {
   "cell_type": "code",
   "execution_count": 53,
   "id": "85460000",
   "metadata": {},
   "outputs": [
    {
     "data": {
      "text/html": [
       "<div>\n",
       "<style scoped>\n",
       "    .dataframe tbody tr th:only-of-type {\n",
       "        vertical-align: middle;\n",
       "    }\n",
       "\n",
       "    .dataframe tbody tr th {\n",
       "        vertical-align: top;\n",
       "    }\n",
       "\n",
       "    .dataframe thead th {\n",
       "        text-align: right;\n",
       "    }\n",
       "</style>\n",
       "<table border=\"1\" class=\"dataframe\">\n",
       "  <thead>\n",
       "    <tr style=\"text-align: right;\">\n",
       "      <th></th>\n",
       "      <th>ENTITY</th>\n",
       "      <th>ANCHOR_TIMESTAMP</th>\n",
       "      <th>TARGET_PRED</th>\n",
       "      <th>False_PROB</th>\n",
       "      <th>True_PROB</th>\n",
       "    </tr>\n",
       "  </thead>\n",
       "  <tbody>\n",
       "    <tr>\n",
       "      <th>0</th>\n",
       "      <td>35</td>\n",
       "      <td>2025-03-03T03:17:25</td>\n",
       "      <td>False</td>\n",
       "      <td>0.993929</td>\n",
       "      <td>0.006071</td>\n",
       "    </tr>\n",
       "  </tbody>\n",
       "</table>\n",
       "</div>"
      ],
      "text/plain": [
       "   ENTITY     ANCHOR_TIMESTAMP  TARGET_PRED  False_PROB  True_PROB\n",
       "0      35  2025-03-03T03:17:25        False    0.993929   0.006071"
      ]
     },
     "execution_count": 53,
     "metadata": {},
     "output_type": "execute_result"
    }
   ],
   "source": [
    "query = \"\"\"PREDICT COUNT(uploads.* where uploads.size_gb=50, 0, 5, hours)>0 FOR users.user_id = 35\"\"\"\n",
    "model.predict(query, anchor_time=pd.Timestamp(\"2025-03-03 03:17:25\"), verbose=False)"
   ]
  },
  {
   "cell_type": "code",
   "execution_count": 54,
   "id": "4e9e0f57",
   "metadata": {},
   "outputs": [
    {
     "data": {
      "text/html": [
       "<div>\n",
       "<style scoped>\n",
       "    .dataframe tbody tr th:only-of-type {\n",
       "        vertical-align: middle;\n",
       "    }\n",
       "\n",
       "    .dataframe tbody tr th {\n",
       "        vertical-align: top;\n",
       "    }\n",
       "\n",
       "    .dataframe thead th {\n",
       "        text-align: right;\n",
       "    }\n",
       "</style>\n",
       "<table border=\"1\" class=\"dataframe\">\n",
       "  <thead>\n",
       "    <tr style=\"text-align: right;\">\n",
       "      <th></th>\n",
       "      <th>ENTITY</th>\n",
       "      <th>ANCHOR_TIMESTAMP</th>\n",
       "      <th>TARGET_PRED</th>\n",
       "      <th>False_PROB</th>\n",
       "      <th>True_PROB</th>\n",
       "    </tr>\n",
       "  </thead>\n",
       "  <tbody>\n",
       "    <tr>\n",
       "      <th>0</th>\n",
       "      <td>35</td>\n",
       "      <td>2025-03-03T03:17:27</td>\n",
       "      <td>False</td>\n",
       "      <td>0.815186</td>\n",
       "      <td>0.184814</td>\n",
       "    </tr>\n",
       "  </tbody>\n",
       "</table>\n",
       "</div>"
      ],
      "text/plain": [
       "   ENTITY     ANCHOR_TIMESTAMP  TARGET_PRED  False_PROB  True_PROB\n",
       "0      35  2025-03-03T03:17:27        False    0.815186   0.184814"
      ]
     },
     "execution_count": 54,
     "metadata": {},
     "output_type": "execute_result"
    }
   ],
   "source": [
    "query = \"\"\"PREDICT COUNT(uploads.* where uploads.size_gb=50, 0, 5, hours)>0 FOR users.user_id = 35\"\"\"\n",
    "model.predict(query, anchor_time=pd.Timestamp(\"2025-03-03 03:17:27\"), verbose=False)"
   ]
  },
  {
   "cell_type": "code",
   "execution_count": null,
   "id": "cef08762",
   "metadata": {},
   "outputs": [],
   "source": []
  },
  {
   "cell_type": "code",
   "execution_count": null,
   "id": "39c0f933",
   "metadata": {},
   "outputs": [],
   "source": []
  },
  {
   "cell_type": "code",
   "execution_count": 55,
   "id": "ef1405f5",
   "metadata": {},
   "outputs": [
    {
     "data": {
      "text/html": [
       "<div>\n",
       "<style scoped>\n",
       "    .dataframe tbody tr th:only-of-type {\n",
       "        vertical-align: middle;\n",
       "    }\n",
       "\n",
       "    .dataframe tbody tr th {\n",
       "        vertical-align: top;\n",
       "    }\n",
       "\n",
       "    .dataframe thead th {\n",
       "        text-align: right;\n",
       "    }\n",
       "</style>\n",
       "<table border=\"1\" class=\"dataframe\">\n",
       "  <thead>\n",
       "    <tr style=\"text-align: right;\">\n",
       "      <th></th>\n",
       "      <th>tier_status_id</th>\n",
       "      <th>user_id</th>\n",
       "      <th>from_datetime</th>\n",
       "      <th>until_datetime</th>\n",
       "      <th>status</th>\n",
       "    </tr>\n",
       "  </thead>\n",
       "  <tbody>\n",
       "    <tr>\n",
       "      <th>72</th>\n",
       "      <td>73</td>\n",
       "      <td>45</td>\n",
       "      <td>2025-03-01T00:00:00Z</td>\n",
       "      <td>2025-03-03T22:30:14Z</td>\n",
       "      <td>free</td>\n",
       "    </tr>\n",
       "    <tr>\n",
       "      <th>73</th>\n",
       "      <td>74</td>\n",
       "      <td>45</td>\n",
       "      <td>2025-03-03T22:30:14Z</td>\n",
       "      <td>2025-03-09T04:10:40Z</td>\n",
       "      <td>premium</td>\n",
       "    </tr>\n",
       "    <tr>\n",
       "      <th>74</th>\n",
       "      <td>75</td>\n",
       "      <td>45</td>\n",
       "      <td>2025-03-09T04:10:40Z</td>\n",
       "      <td>2025-03-11T00:00:00Z</td>\n",
       "      <td>free</td>\n",
       "    </tr>\n",
       "  </tbody>\n",
       "</table>\n",
       "</div>"
      ],
      "text/plain": [
       "    tier_status_id  user_id         from_datetime        until_datetime  \\\n",
       "72              73       45  2025-03-01T00:00:00Z  2025-03-03T22:30:14Z   \n",
       "73              74       45  2025-03-03T22:30:14Z  2025-03-09T04:10:40Z   \n",
       "74              75       45  2025-03-09T04:10:40Z  2025-03-11T00:00:00Z   \n",
       "\n",
       "     status  \n",
       "72     free  \n",
       "73  premium  \n",
       "74     free  "
      ]
     },
     "execution_count": 55,
     "metadata": {},
     "output_type": "execute_result"
    }
   ],
   "source": [
    "tiers_df.loc[tiers_df.user_id==45]"
   ]
  },
  {
   "cell_type": "code",
   "execution_count": 57,
   "id": "b4449233",
   "metadata": {},
   "outputs": [
    {
     "data": {
      "text/html": [
       "<div>\n",
       "<style scoped>\n",
       "    .dataframe tbody tr th:only-of-type {\n",
       "        vertical-align: middle;\n",
       "    }\n",
       "\n",
       "    .dataframe tbody tr th {\n",
       "        vertical-align: top;\n",
       "    }\n",
       "\n",
       "    .dataframe thead th {\n",
       "        text-align: right;\n",
       "    }\n",
       "</style>\n",
       "<table border=\"1\" class=\"dataframe\">\n",
       "  <thead>\n",
       "    <tr style=\"text-align: right;\">\n",
       "      <th></th>\n",
       "      <th>ENTITY</th>\n",
       "      <th>ANCHOR_TIMESTAMP</th>\n",
       "      <th>TARGET_PRED</th>\n",
       "      <th>False_PROB</th>\n",
       "      <th>True_PROB</th>\n",
       "    </tr>\n",
       "  </thead>\n",
       "  <tbody>\n",
       "    <tr>\n",
       "      <th>0</th>\n",
       "      <td>45</td>\n",
       "      <td>2025-03-03T17:30:13</td>\n",
       "      <td>False</td>\n",
       "      <td>0.972878</td>\n",
       "      <td>0.027122</td>\n",
       "    </tr>\n",
       "  </tbody>\n",
       "</table>\n",
       "</div>"
      ],
      "text/plain": [
       "   ENTITY     ANCHOR_TIMESTAMP  TARGET_PRED  False_PROB  True_PROB\n",
       "0      45  2025-03-03T17:30:13        False    0.972878   0.027122"
      ]
     },
     "execution_count": 57,
     "metadata": {},
     "output_type": "execute_result"
    }
   ],
   "source": [
    "query = \"\"\"PREDICT COUNT(uploads.* where uploads.size_gb=50, 0, 5, hours)>0 FOR users.user_id = 45\"\"\"\n",
    "model.predict(query, anchor_time=pd.Timestamp(\"2025-03-03 17:30:13\"), verbose=False)"
   ]
  },
  {
   "cell_type": "code",
   "execution_count": 58,
   "id": "b3b0f4ac",
   "metadata": {},
   "outputs": [
    {
     "data": {
      "text/html": [
       "<div>\n",
       "<style scoped>\n",
       "    .dataframe tbody tr th:only-of-type {\n",
       "        vertical-align: middle;\n",
       "    }\n",
       "\n",
       "    .dataframe tbody tr th {\n",
       "        vertical-align: top;\n",
       "    }\n",
       "\n",
       "    .dataframe thead th {\n",
       "        text-align: right;\n",
       "    }\n",
       "</style>\n",
       "<table border=\"1\" class=\"dataframe\">\n",
       "  <thead>\n",
       "    <tr style=\"text-align: right;\">\n",
       "      <th></th>\n",
       "      <th>ENTITY</th>\n",
       "      <th>ANCHOR_TIMESTAMP</th>\n",
       "      <th>TARGET_PRED</th>\n",
       "      <th>False_PROB</th>\n",
       "      <th>True_PROB</th>\n",
       "    </tr>\n",
       "  </thead>\n",
       "  <tbody>\n",
       "    <tr>\n",
       "      <th>0</th>\n",
       "      <td>45</td>\n",
       "      <td>2025-03-03T22:30:13</td>\n",
       "      <td>False</td>\n",
       "      <td>0.970481</td>\n",
       "      <td>0.029519</td>\n",
       "    </tr>\n",
       "  </tbody>\n",
       "</table>\n",
       "</div>"
      ],
      "text/plain": [
       "   ENTITY     ANCHOR_TIMESTAMP  TARGET_PRED  False_PROB  True_PROB\n",
       "0      45  2025-03-03T22:30:13        False    0.970481   0.029519"
      ]
     },
     "execution_count": 58,
     "metadata": {},
     "output_type": "execute_result"
    }
   ],
   "source": [
    "query = \"\"\"PREDICT COUNT(uploads.* where uploads.size_gb=50, 0, 5, hours)>0 FOR users.user_id = 45\"\"\"\n",
    "model.predict(query, anchor_time=pd.Timestamp(\"2025-03-03 22:30:13\"), verbose=False)"
   ]
  },
  {
   "cell_type": "code",
   "execution_count": 59,
   "id": "0dfc047a",
   "metadata": {},
   "outputs": [
    {
     "data": {
      "text/html": [
       "<div>\n",
       "<style scoped>\n",
       "    .dataframe tbody tr th:only-of-type {\n",
       "        vertical-align: middle;\n",
       "    }\n",
       "\n",
       "    .dataframe tbody tr th {\n",
       "        vertical-align: top;\n",
       "    }\n",
       "\n",
       "    .dataframe thead th {\n",
       "        text-align: right;\n",
       "    }\n",
       "</style>\n",
       "<table border=\"1\" class=\"dataframe\">\n",
       "  <thead>\n",
       "    <tr style=\"text-align: right;\">\n",
       "      <th></th>\n",
       "      <th>ENTITY</th>\n",
       "      <th>ANCHOR_TIMESTAMP</th>\n",
       "      <th>TARGET_PRED</th>\n",
       "      <th>False_PROB</th>\n",
       "      <th>True_PROB</th>\n",
       "    </tr>\n",
       "  </thead>\n",
       "  <tbody>\n",
       "    <tr>\n",
       "      <th>0</th>\n",
       "      <td>45</td>\n",
       "      <td>2025-03-03T22:30:15</td>\n",
       "      <td>True</td>\n",
       "      <td>0.483521</td>\n",
       "      <td>0.516479</td>\n",
       "    </tr>\n",
       "  </tbody>\n",
       "</table>\n",
       "</div>"
      ],
      "text/plain": [
       "   ENTITY     ANCHOR_TIMESTAMP  TARGET_PRED  False_PROB  True_PROB\n",
       "0      45  2025-03-03T22:30:15         True    0.483521   0.516479"
      ]
     },
     "execution_count": 59,
     "metadata": {},
     "output_type": "execute_result"
    }
   ],
   "source": [
    "query = \"\"\"PREDICT COUNT(uploads.* where uploads.size_gb=50, 0, 5, hours)>0 FOR users.user_id = 45\"\"\"\n",
    "model.predict(query, anchor_time=pd.Timestamp(\"2025-03-03 22:30:15\"), verbose=False)"
   ]
  },
  {
   "cell_type": "code",
   "execution_count": 60,
   "id": "578de241",
   "metadata": {},
   "outputs": [
    {
     "data": {
      "text/html": [
       "<div>\n",
       "<style scoped>\n",
       "    .dataframe tbody tr th:only-of-type {\n",
       "        vertical-align: middle;\n",
       "    }\n",
       "\n",
       "    .dataframe tbody tr th {\n",
       "        vertical-align: top;\n",
       "    }\n",
       "\n",
       "    .dataframe thead th {\n",
       "        text-align: right;\n",
       "    }\n",
       "</style>\n",
       "<table border=\"1\" class=\"dataframe\">\n",
       "  <thead>\n",
       "    <tr style=\"text-align: right;\">\n",
       "      <th></th>\n",
       "      <th>ENTITY</th>\n",
       "      <th>ANCHOR_TIMESTAMP</th>\n",
       "      <th>TARGET_PRED</th>\n",
       "      <th>False_PROB</th>\n",
       "      <th>True_PROB</th>\n",
       "    </tr>\n",
       "  </thead>\n",
       "  <tbody>\n",
       "    <tr>\n",
       "      <th>0</th>\n",
       "      <td>45</td>\n",
       "      <td>2025-03-08T23:10:40</td>\n",
       "      <td>False</td>\n",
       "      <td>0.633789</td>\n",
       "      <td>0.366211</td>\n",
       "    </tr>\n",
       "  </tbody>\n",
       "</table>\n",
       "</div>"
      ],
      "text/plain": [
       "   ENTITY     ANCHOR_TIMESTAMP  TARGET_PRED  False_PROB  True_PROB\n",
       "0      45  2025-03-08T23:10:40        False    0.633789   0.366211"
      ]
     },
     "execution_count": 60,
     "metadata": {},
     "output_type": "execute_result"
    }
   ],
   "source": [
    "query = \"\"\"PREDICT COUNT(uploads.* where uploads.size_gb=50, 0, 5, hours)>0 FOR users.user_id = 45\"\"\"\n",
    "model.predict(query, anchor_time=pd.Timestamp(\"2025-03-08 23:10:40\"), verbose=False)"
   ]
  },
  {
   "cell_type": "code",
   "execution_count": 61,
   "id": "d50f3b9f",
   "metadata": {},
   "outputs": [
    {
     "data": {
      "text/html": [
       "<div>\n",
       "<style scoped>\n",
       "    .dataframe tbody tr th:only-of-type {\n",
       "        vertical-align: middle;\n",
       "    }\n",
       "\n",
       "    .dataframe tbody tr th {\n",
       "        vertical-align: top;\n",
       "    }\n",
       "\n",
       "    .dataframe thead th {\n",
       "        text-align: right;\n",
       "    }\n",
       "</style>\n",
       "<table border=\"1\" class=\"dataframe\">\n",
       "  <thead>\n",
       "    <tr style=\"text-align: right;\">\n",
       "      <th></th>\n",
       "      <th>ENTITY</th>\n",
       "      <th>ANCHOR_TIMESTAMP</th>\n",
       "      <th>TARGET_PRED</th>\n",
       "      <th>False_PROB</th>\n",
       "      <th>True_PROB</th>\n",
       "    </tr>\n",
       "  </thead>\n",
       "  <tbody>\n",
       "    <tr>\n",
       "      <th>0</th>\n",
       "      <td>45</td>\n",
       "      <td>2025-03-09T04:10:39</td>\n",
       "      <td>False</td>\n",
       "      <td>0.62149</td>\n",
       "      <td>0.37851</td>\n",
       "    </tr>\n",
       "  </tbody>\n",
       "</table>\n",
       "</div>"
      ],
      "text/plain": [
       "   ENTITY     ANCHOR_TIMESTAMP  TARGET_PRED  False_PROB  True_PROB\n",
       "0      45  2025-03-09T04:10:39        False     0.62149    0.37851"
      ]
     },
     "execution_count": 61,
     "metadata": {},
     "output_type": "execute_result"
    }
   ],
   "source": [
    "query = \"\"\"PREDICT COUNT(uploads.* where uploads.size_gb=50, 0, 5, hours)>0 FOR users.user_id = 45\"\"\"\n",
    "model.predict(query, anchor_time=pd.Timestamp(\"2025-03-09 04:10:39\"), verbose=False)"
   ]
  },
  {
   "cell_type": "code",
   "execution_count": 62,
   "id": "d56b885b",
   "metadata": {},
   "outputs": [
    {
     "data": {
      "text/html": [
       "<div>\n",
       "<style scoped>\n",
       "    .dataframe tbody tr th:only-of-type {\n",
       "        vertical-align: middle;\n",
       "    }\n",
       "\n",
       "    .dataframe tbody tr th {\n",
       "        vertical-align: top;\n",
       "    }\n",
       "\n",
       "    .dataframe thead th {\n",
       "        text-align: right;\n",
       "    }\n",
       "</style>\n",
       "<table border=\"1\" class=\"dataframe\">\n",
       "  <thead>\n",
       "    <tr style=\"text-align: right;\">\n",
       "      <th></th>\n",
       "      <th>ENTITY</th>\n",
       "      <th>ANCHOR_TIMESTAMP</th>\n",
       "      <th>TARGET_PRED</th>\n",
       "      <th>False_PROB</th>\n",
       "      <th>True_PROB</th>\n",
       "    </tr>\n",
       "  </thead>\n",
       "  <tbody>\n",
       "    <tr>\n",
       "      <th>0</th>\n",
       "      <td>45</td>\n",
       "      <td>2025-03-09T04:10:41</td>\n",
       "      <td>False</td>\n",
       "      <td>0.772311</td>\n",
       "      <td>0.227689</td>\n",
       "    </tr>\n",
       "  </tbody>\n",
       "</table>\n",
       "</div>"
      ],
      "text/plain": [
       "   ENTITY     ANCHOR_TIMESTAMP  TARGET_PRED  False_PROB  True_PROB\n",
       "0      45  2025-03-09T04:10:41        False    0.772311   0.227689"
      ]
     },
     "execution_count": 62,
     "metadata": {},
     "output_type": "execute_result"
    }
   ],
   "source": [
    "query = \"\"\"PREDICT COUNT(uploads.* where uploads.size_gb=50, 0, 5, hours)>0 FOR users.user_id = 45\"\"\"\n",
    "model.predict(query, anchor_time=pd.Timestamp(\"2025-03-09 04:10:41\"), verbose=False)"
   ]
  },
  {
   "cell_type": "code",
   "execution_count": 64,
   "id": "c531c339",
   "metadata": {},
   "outputs": [
    {
     "data": {
      "text/html": [
       "<div>\n",
       "<style scoped>\n",
       "    .dataframe tbody tr th:only-of-type {\n",
       "        vertical-align: middle;\n",
       "    }\n",
       "\n",
       "    .dataframe tbody tr th {\n",
       "        vertical-align: top;\n",
       "    }\n",
       "\n",
       "    .dataframe thead th {\n",
       "        text-align: right;\n",
       "    }\n",
       "</style>\n",
       "<table border=\"1\" class=\"dataframe\">\n",
       "  <thead>\n",
       "    <tr style=\"text-align: right;\">\n",
       "      <th></th>\n",
       "      <th>ENTITY</th>\n",
       "      <th>ANCHOR_TIMESTAMP</th>\n",
       "      <th>TARGET_PRED</th>\n",
       "      <th>False_PROB</th>\n",
       "      <th>True_PROB</th>\n",
       "    </tr>\n",
       "  </thead>\n",
       "  <tbody>\n",
       "    <tr>\n",
       "      <th>0</th>\n",
       "      <td>45</td>\n",
       "      <td>2025-03-09T09:10:41</td>\n",
       "      <td>False</td>\n",
       "      <td>0.929776</td>\n",
       "      <td>0.070224</td>\n",
       "    </tr>\n",
       "  </tbody>\n",
       "</table>\n",
       "</div>"
      ],
      "text/plain": [
       "   ENTITY     ANCHOR_TIMESTAMP  TARGET_PRED  False_PROB  True_PROB\n",
       "0      45  2025-03-09T09:10:41        False    0.929776   0.070224"
      ]
     },
     "execution_count": 64,
     "metadata": {},
     "output_type": "execute_result"
    }
   ],
   "source": [
    "query = \"\"\"PREDICT COUNT(uploads.* where uploads.size_gb=50, 0, 5, hours)>0 FOR users.user_id = 45\"\"\"\n",
    "model.predict(query, anchor_time=pd.Timestamp(\"2025-03-09 09:10:41\"), verbose=False)"
   ]
  },
  {
   "cell_type": "code",
   "execution_count": null,
   "id": "b7d512cc",
   "metadata": {},
   "outputs": [],
   "source": []
  }
 ],
 "metadata": {
  "kernelspec": {
   "display_name": "venv (3.10.12)",
   "language": "python",
   "name": "python3"
  },
  "language_info": {
   "codemirror_mode": {
    "name": "ipython",
    "version": 3
   },
   "file_extension": ".py",
   "mimetype": "text/x-python",
   "name": "python",
   "nbconvert_exporter": "python",
   "pygments_lexer": "ipython3",
   "version": "3.10.12"
  }
 },
 "nbformat": 4,
 "nbformat_minor": 5
}
