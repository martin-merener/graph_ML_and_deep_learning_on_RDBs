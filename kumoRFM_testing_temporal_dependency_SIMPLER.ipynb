{
 "cells": [
  {
   "cell_type": "code",
   "execution_count": 193,
   "id": "7a1e2cf2",
   "metadata": {},
   "outputs": [],
   "source": [
    "import kumoai.experimental.rfm as rfm, os\n",
    "from pathlib import Path\n",
    "import pandas as pd\n",
    "import matplotlib.pyplot as plt"
   ]
  },
  {
   "cell_type": "code",
   "execution_count": 194,
   "id": "60032560",
   "metadata": {},
   "outputs": [
    {
     "name": "stdout",
     "output_type": "stream",
     "text": [
      "Client has already been created. To re-initialize Kumo, please start a new interpreter. No changes will be made to the current session.\n"
     ]
    }
   ],
   "source": [
    "home_api_key_file = Path.home() / \"kumoai_key.txt\"\n",
    "with open(home_api_key_file, \"r\") as file:\n",
    "    api_key = file.read().strip()\n",
    "os.environ[\"KUMO_API_KEY\"] = api_key\n",
    "\n",
    "rfm.init()"
   ]
  },
  {
   "cell_type": "markdown",
   "id": "a7dadad4",
   "metadata": {},
   "source": [
    "# Exercise\n",
    "\n",
    "- Create a synthetic dataset with the purpose of testing how KumoRFM deals with temporal dependency that is not in the transactional history, but instead is in a \"user type\" variable that changes over time.\n",
    "- Essentially, there are users of 2 types: premium/free. Premium users can do actions that free users cannot.\n",
    "- The exercise is about testing if KumoRFM detects this dependency and considers it in predictions."
   ]
  },
  {
   "cell_type": "markdown",
   "id": "71db9398",
   "metadata": {},
   "source": [
    "### Dataset description\n",
    "- Create a synthetic dataset representing users of 2 types (tier free or tier premium), uploading files of different sizes, and with their user tiers changing over time.\n",
    "- While on Premium tier, users can upload any size. \n",
    "- While on free tier, users can upload files below 10GB. \n",
    "- For simplicity, there are only 2 sizes: 5GB and 50GB.\n",
    "- Users can change their tier no earlier than 24 hours after the last change. \n",
    "- There are 50 users, covering 5 cohorts:\n",
    "    - Always premium (unknown start) → a single interval that spans the whole window.\n",
    "    - Always free → a single interval that spans the whole window.\n",
    "    - Premium → Free once (≥24h after start).\n",
    "    - Free → Premium once (≥24h).\n",
    "    - Free → Premium → Free (each change ≥24h apart; all within window).\n",
    "- The history of transactions lasts 10 days from March 1st to March 10th, 2025.\n",
    "- The prediction tasks will be done for different users, predicting their likelihood that they will upload a 50GB file in the next hour.\n",
    "- Expectations: \n",
    "    - For users that just became free tier this should be 0.\n",
    "    - For users that just became Premium it should >> 0.\n",
    "\n",
    "### Tables\n",
    "\n",
    "- users (50 users). This set is just random ids and names.\n",
    "    - user_id (PK)\n",
    "    - name\n",
    "\n",
    "- items (80 different items: 45 of 5 GB, 35 of 50 GB). Basically random ids.\n",
    "    - item_id (PK)\n",
    "    - size_gb in {5, 50}\n",
    "\n",
    "- tiers. See creation process below.\n",
    "    - tier_status_id (PK)\n",
    "    - user_id (FK -> users.user_id)\n",
    "    - from_datetime\n",
    "    - until_datetime\n",
    "    - status in {'free', 'premium'}\n",
    "\n",
    "\n",
    "- uploads. See creation process below.\n",
    "    - upload_id (PK)\n",
    "    - user_id (FK -> users.user_id)\n",
    "    - item_id (FK -> items.item_id)\n",
    "    - datetime\n",
    "\n",
    "\n",
    "### Creation process (not efficient, prioritize simplicity/clarity)\n",
    "\n",
    "- tiers:\n",
    "    - User ids from 1 to 10: always premium: 1 row in tiers.\n",
    "        - from_date = START, until_date = END, status = 'premium'\n",
    "    - User ids from 11 to 20: always free: 1 row in tiers.\n",
    "        - from_date = START, until_date = END: status = 'free'    \n",
    "    - User ids from 21 to 30: premium to free: 2 rows in tiers.\n",
    "        - Take a random date X in (START, END)\n",
    "        - from_date = START, until_date = X: status = 'premium'\n",
    "        - from_date = X, until_date = END: status = 'free'\n",
    "    - user ids from 31 to 40: free to premium: 2 rows in tiers.\n",
    "        - Take a random date X in (START, END)\n",
    "        - from_date = START, until_date = X: status = 'free'\n",
    "        - from_date = X, until_date = END: status = 'premium'\n",
    "    - user ids from 41 to 50: free to premium to free: 3 rows in tiers.\n",
    "        - Take random dates X1 < X2 in (START, END)\n",
    "        - from_date = START, until_date = X1: status = 'free'\n",
    "        - from_date = X1, until_date = X2: status = 'premium'\n",
    "        - from_date = X2, until_date = END: status = 'free'\n",
    "\n",
    "- uploads:\n",
    "    - for each tier_status_id, create the uploads in the corresponding interval.\n",
    "    - Given a tier_status_id, get the details: user_id, from_date, until_date, status.\n",
    "    - If status = 'free':\n",
    "        - compute the number of hours delta_h from from_date to until_date.\n",
    "        - take a sample of r = ceil(delta_h/10) times in (from_date, until_date).\n",
    "        - use those as datetime.\n",
    "        - generate the corresponding number of rows for uploads.\n",
    "        - keep track of the last generated upload_id.\n",
    "        - the user_id is the current one.\n",
    "        - items_id's should be taken at random from those with 5GB.\n",
    "    - if status = 'premium':\n",
    "        - Do the same as for free users (5GB files).\n",
    "        - Then repeat but for 50GB files.\n"
   ]
  },
  {
   "cell_type": "code",
   "execution_count": 195,
   "id": "b872da07",
   "metadata": {},
   "outputs": [
    {
     "name": "stdout",
     "output_type": "stream",
     "text": [
      "Done. Wrote: users.csv items.csv tiers.csv uploads.csv\n"
     ]
    }
   ],
   "source": [
    "import csv\n",
    "import math\n",
    "import random\n",
    "from datetime import datetime, timedelta, timezone\n",
    "import pandas as pd  # you used pd.Timestamp below; keeping it\n",
    "\n",
    "# ----------------------------\n",
    "# Config\n",
    "# ----------------------------\n",
    "SEED = 42\n",
    "random.seed(SEED)\n",
    "\n",
    "START = datetime(2025, 3, 1, 0, 0, 0, tzinfo=timezone.utc)\n",
    "END   = datetime(2025, 3, 11, 0, 0, 0, tzinfo=timezone.utc)  # half-open [START, END)\n",
    "\n",
    "USERS_CSV   = \"users.csv\"\n",
    "ITEMS_CSV   = \"items.csv\"\n",
    "TIERS_CSV   = \"tiers.csv\"\n",
    "UPLOADS_CSV = \"uploads.csv\"\n",
    "\n",
    "N_USERS = 50\n",
    "N_ITEMS_5GB = 45\n",
    "N_ITEMS_50GB = 35\n",
    "\n",
    "# Poisson rates (uploads per hour)\n",
    "L_FREE_5_PER_HR   = 0.1   # replaces ceil(delta_h/10.0)\n",
    "L_PREM_5_PER_HR   = 0.1\n",
    "L_PREM_50_PER_HR  = 0.1\n",
    "\n",
    "# ----------------------------\n",
    "# Helpers\n",
    "# ----------------------------\n",
    "def rand_dt(a, b):\n",
    "    total_sec = int((b - a).total_seconds())\n",
    "    if total_sec <= 1:\n",
    "        return a + timedelta(seconds=1)\n",
    "    off = random.randint(1, total_sec - 1)\n",
    "    return a + timedelta(seconds=off)\n",
    "\n",
    "def sample_times(n, a, b):\n",
    "    return [rand_dt(a, b) for _ in range(n)]\n",
    "\n",
    "def hours_between(a, b):\n",
    "    return (b - a).total_seconds() / 3600.0\n",
    "\n",
    "def poisson(lam):\n",
    "    # Knuth's algorithm (stdlib-only Poisson sampler)\n",
    "    # Good for modest lam; fine here.\n",
    "    L = math.exp(-lam)\n",
    "    k = 0\n",
    "    p = 1.0\n",
    "    while True:\n",
    "        k += 1\n",
    "        p *= random.random()\n",
    "        if p <= L:\n",
    "            return k - 1\n",
    "\n",
    "# ----------------------------\n",
    "# 1) users\n",
    "# ----------------------------\n",
    "users = []\n",
    "for uid in range(1, N_USERS + 1):\n",
    "    users.append([uid, f\"User {uid:03d}\"])\n",
    "\n",
    "# ----------------------------\n",
    "# 2) items\n",
    "# ----------------------------\n",
    "items = []\n",
    "for iid in range(1, N_ITEMS_5GB + 1):\n",
    "    items.append([iid, 5])\n",
    "for iid in range(N_ITEMS_5GB + 1, N_ITEMS_5GB + N_ITEMS_50GB + 1):\n",
    "    items.append([iid, 50])\n",
    "\n",
    "item_ids_5 = [row[0] for row in items if row[1] == 5]\n",
    "item_ids_50 = [row[0] for row in items if row[1] == 50]\n",
    "\n",
    "# ----------------------------\n",
    "# 3) tiers\n",
    "# ----------------------------\n",
    "tiers = []\n",
    "tier_status_id = 1\n",
    "\n",
    "def add_interval(uid, a, b, status):\n",
    "    global tier_status_id\n",
    "    tiers.append([tier_status_id, uid, a, b, status])\n",
    "    tier_status_id += 1\n",
    "\n",
    "# always premium\n",
    "for uid in range(1, 11):\n",
    "    add_interval(uid, START, END, \"premium\")\n",
    "\n",
    "# always free\n",
    "for uid in range(11, 21):\n",
    "    add_interval(uid, START, END, \"free\")\n",
    "\n",
    "# premium -> free\n",
    "for uid in range(21, 31):\n",
    "    lo = START + timedelta(hours=24)\n",
    "    hi = END - timedelta(hours=24)\n",
    "    x = lo + timedelta(seconds=random.randint(0, int((hi - lo).total_seconds())))\n",
    "    add_interval(uid, START, x, \"premium\")\n",
    "    add_interval(uid, x, END, \"free\")\n",
    "\n",
    "# free -> premium\n",
    "for uid in range(31, 41):\n",
    "    lo = START + timedelta(hours=24)\n",
    "    hi = END - timedelta(hours=24)\n",
    "    x = lo + timedelta(seconds=random.randint(0, int((hi - lo).total_seconds())))\n",
    "    add_interval(uid, START, x, \"free\")\n",
    "    add_interval(uid, x, END, \"premium\")\n",
    "\n",
    "# free -> premium -> free\n",
    "for uid in range(41, 51):\n",
    "    lo1 = START + timedelta(hours=24)\n",
    "    hi1 = END - timedelta(hours=48)\n",
    "    x1 = lo1 + timedelta(seconds=random.randint(0, int((hi1 - lo1).total_seconds())))\n",
    "\n",
    "    lo2 = x1 + timedelta(hours=24)\n",
    "    hi2 = END - timedelta(seconds=1)\n",
    "    if lo2 >= hi2:\n",
    "        hi2 = x1 + timedelta(hours=48)\n",
    "    x2 = lo2 + timedelta(seconds=random.randint(0, int((hi2 - lo2).total_seconds())))\n",
    "\n",
    "    add_interval(uid, START, x1, \"free\")\n",
    "    add_interval(uid, x1, x2, \"premium\")\n",
    "    add_interval(uid, x2, END, \"free\")\n",
    "\n",
    "# ----------------------------\n",
    "# 4) uploads (now using Poisson counts)\n",
    "# ----------------------------\n",
    "uploads = []\n",
    "upload_id = 1\n",
    "\n",
    "for row in tiers:\n",
    "    uid = row[1]\n",
    "    a = row[2]\n",
    "    b = row[3]\n",
    "    status = row[4]\n",
    "\n",
    "    delta_h = hours_between(a, b)\n",
    "    if delta_h <= 0:\n",
    "        continue\n",
    "\n",
    "    if status == \"free\":\n",
    "        # old: r = ceil(delta_h / 10.0)\n",
    "        n5 = poisson(L_FREE_5_PER_HR * delta_h)\n",
    "        for t in sample_times(n5, a, b):\n",
    "            uploads.append([upload_id, uid, random.choice(item_ids_5), t])\n",
    "            upload_id += 1\n",
    "\n",
    "    if status == \"premium\":\n",
    "        # 5GB stream\n",
    "        n5 = poisson(L_PREM_5_PER_HR * delta_h)\n",
    "        for t in sample_times(n5, a, b):\n",
    "            uploads.append([upload_id, uid, random.choice(item_ids_5), t])\n",
    "            upload_id += 1\n",
    "\n",
    "        # 50GB stream (no burst)\n",
    "        n50 = poisson(L_PREM_50_PER_HR * delta_h)\n",
    "        for t in sample_times(n50, a, b):\n",
    "            uploads.append([upload_id, uid, random.choice(item_ids_50), t])\n",
    "            upload_id += 1\n",
    "\n",
    "# ----------------------------\n",
    "# Write CSVs\n",
    "# ----------------------------\n",
    "with open(USERS_CSV, \"w\", newline=\"\", encoding=\"utf-8\") as f:\n",
    "    w = csv.writer(f)\n",
    "    w.writerow([\"user_id\", \"name\"])\n",
    "    w.writerows(users)\n",
    "\n",
    "with open(ITEMS_CSV, \"w\", newline=\"\", encoding=\"utf-8\") as f:\n",
    "    w = csv.writer(f)\n",
    "    w.writerow([\"item_id\", \"size_gb\"])\n",
    "    w.writerows(items)\n",
    "\n",
    "with open(TIERS_CSV, \"w\", newline=\"\", encoding=\"utf-8\") as f:\n",
    "    w = csv.writer(f)\n",
    "    w.writerow([\"tier_status_id\", \"user_id\", \"from_datetime\", \"until_datetime\", \"status\"])\n",
    "    for tr in tiers:\n",
    "        w.writerow([\n",
    "            tr[0],\n",
    "            tr[1],\n",
    "            pd.Timestamp(tr[2]).tz_localize(None),  # or tr[2].strftime(\"%Y-%m-%dT%H:%M:%SZ\")\n",
    "            pd.Timestamp(tr[3]).tz_localize(None),  # or tr[3].strftime(\"%Y-%m-%dT%H:%M:%SZ\")\n",
    "            tr[4]\n",
    "        ])\n",
    "\n",
    "with open(UPLOADS_CSV, \"w\", newline=\"\", encoding=\"utf-8\") as f:\n",
    "    w = csv.writer(f)\n",
    "    w.writerow([\"upload_id\", \"user_id\", \"item_id\", \"datetime\"])\n",
    "    for up in uploads:\n",
    "        w.writerow([\n",
    "            up[0],\n",
    "            up[1],\n",
    "            up[2],\n",
    "            pd.Timestamp(up[3]).tz_localize(None),  # or up[3].strftime(\"%Y-%m-%dT%H:%M:%SZ\")\n",
    "        ])\n",
    "\n",
    "print(\"Done. Wrote:\", USERS_CSV, ITEMS_CSV, TIERS_CSV, UPLOADS_CSV)\n"
   ]
  },
  {
   "cell_type": "code",
   "execution_count": 196,
   "id": "770fddcd",
   "metadata": {},
   "outputs": [],
   "source": [
    "users_df = pd.read_csv(USERS_CSV)\n",
    "tiers_df = pd.read_csv(TIERS_CSV)\n",
    "items_df = pd.read_csv(ITEMS_CSV)\n",
    "uploads_df = pd.read_csv(UPLOADS_CSV)"
   ]
  },
  {
   "cell_type": "code",
   "execution_count": 197,
   "id": "1b5d0aee",
   "metadata": {},
   "outputs": [],
   "source": [
    "#uploads_df = uploads_df.merge(items_df)"
   ]
  },
  {
   "cell_type": "code",
   "execution_count": 198,
   "id": "db00f94e",
   "metadata": {},
   "outputs": [
    {
     "data": {
      "text/html": [
       "<div>\n",
       "<style scoped>\n",
       "    .dataframe tbody tr th:only-of-type {\n",
       "        vertical-align: middle;\n",
       "    }\n",
       "\n",
       "    .dataframe tbody tr th {\n",
       "        vertical-align: top;\n",
       "    }\n",
       "\n",
       "    .dataframe thead th {\n",
       "        text-align: right;\n",
       "    }\n",
       "</style>\n",
       "<table border=\"1\" class=\"dataframe\">\n",
       "  <thead>\n",
       "    <tr style=\"text-align: right;\">\n",
       "      <th></th>\n",
       "      <th>user_id</th>\n",
       "      <th>name</th>\n",
       "    </tr>\n",
       "  </thead>\n",
       "  <tbody>\n",
       "    <tr>\n",
       "      <th>0</th>\n",
       "      <td>1</td>\n",
       "      <td>User 001</td>\n",
       "    </tr>\n",
       "    <tr>\n",
       "      <th>1</th>\n",
       "      <td>2</td>\n",
       "      <td>User 002</td>\n",
       "    </tr>\n",
       "    <tr>\n",
       "      <th>2</th>\n",
       "      <td>3</td>\n",
       "      <td>User 003</td>\n",
       "    </tr>\n",
       "  </tbody>\n",
       "</table>\n",
       "</div>"
      ],
      "text/plain": [
       "   user_id      name\n",
       "0        1  User 001\n",
       "1        2  User 002\n",
       "2        3  User 003"
      ]
     },
     "metadata": {},
     "output_type": "display_data"
    },
    {
     "data": {
      "text/html": [
       "<div>\n",
       "<style scoped>\n",
       "    .dataframe tbody tr th:only-of-type {\n",
       "        vertical-align: middle;\n",
       "    }\n",
       "\n",
       "    .dataframe tbody tr th {\n",
       "        vertical-align: top;\n",
       "    }\n",
       "\n",
       "    .dataframe thead th {\n",
       "        text-align: right;\n",
       "    }\n",
       "</style>\n",
       "<table border=\"1\" class=\"dataframe\">\n",
       "  <thead>\n",
       "    <tr style=\"text-align: right;\">\n",
       "      <th></th>\n",
       "      <th>tier_status_id</th>\n",
       "      <th>user_id</th>\n",
       "      <th>from_datetime</th>\n",
       "      <th>until_datetime</th>\n",
       "      <th>status</th>\n",
       "    </tr>\n",
       "  </thead>\n",
       "  <tbody>\n",
       "    <tr>\n",
       "      <th>0</th>\n",
       "      <td>1</td>\n",
       "      <td>1</td>\n",
       "      <td>2025-03-01 00:00:00</td>\n",
       "      <td>2025-03-11 00:00:00</td>\n",
       "      <td>premium</td>\n",
       "    </tr>\n",
       "    <tr>\n",
       "      <th>1</th>\n",
       "      <td>2</td>\n",
       "      <td>2</td>\n",
       "      <td>2025-03-01 00:00:00</td>\n",
       "      <td>2025-03-11 00:00:00</td>\n",
       "      <td>premium</td>\n",
       "    </tr>\n",
       "    <tr>\n",
       "      <th>2</th>\n",
       "      <td>3</td>\n",
       "      <td>3</td>\n",
       "      <td>2025-03-01 00:00:00</td>\n",
       "      <td>2025-03-11 00:00:00</td>\n",
       "      <td>premium</td>\n",
       "    </tr>\n",
       "  </tbody>\n",
       "</table>\n",
       "</div>"
      ],
      "text/plain": [
       "   tier_status_id  user_id        from_datetime       until_datetime   status\n",
       "0               1        1  2025-03-01 00:00:00  2025-03-11 00:00:00  premium\n",
       "1               2        2  2025-03-01 00:00:00  2025-03-11 00:00:00  premium\n",
       "2               3        3  2025-03-01 00:00:00  2025-03-11 00:00:00  premium"
      ]
     },
     "metadata": {},
     "output_type": "display_data"
    },
    {
     "data": {
      "text/html": [
       "<div>\n",
       "<style scoped>\n",
       "    .dataframe tbody tr th:only-of-type {\n",
       "        vertical-align: middle;\n",
       "    }\n",
       "\n",
       "    .dataframe tbody tr th {\n",
       "        vertical-align: top;\n",
       "    }\n",
       "\n",
       "    .dataframe thead th {\n",
       "        text-align: right;\n",
       "    }\n",
       "</style>\n",
       "<table border=\"1\" class=\"dataframe\">\n",
       "  <thead>\n",
       "    <tr style=\"text-align: right;\">\n",
       "      <th></th>\n",
       "      <th>item_id</th>\n",
       "      <th>size_gb</th>\n",
       "    </tr>\n",
       "  </thead>\n",
       "  <tbody>\n",
       "    <tr>\n",
       "      <th>0</th>\n",
       "      <td>1</td>\n",
       "      <td>5</td>\n",
       "    </tr>\n",
       "    <tr>\n",
       "      <th>1</th>\n",
       "      <td>2</td>\n",
       "      <td>5</td>\n",
       "    </tr>\n",
       "    <tr>\n",
       "      <th>2</th>\n",
       "      <td>3</td>\n",
       "      <td>5</td>\n",
       "    </tr>\n",
       "  </tbody>\n",
       "</table>\n",
       "</div>"
      ],
      "text/plain": [
       "   item_id  size_gb\n",
       "0        1        5\n",
       "1        2        5\n",
       "2        3        5"
      ]
     },
     "metadata": {},
     "output_type": "display_data"
    },
    {
     "data": {
      "text/html": [
       "<div>\n",
       "<style scoped>\n",
       "    .dataframe tbody tr th:only-of-type {\n",
       "        vertical-align: middle;\n",
       "    }\n",
       "\n",
       "    .dataframe tbody tr th {\n",
       "        vertical-align: top;\n",
       "    }\n",
       "\n",
       "    .dataframe thead th {\n",
       "        text-align: right;\n",
       "    }\n",
       "</style>\n",
       "<table border=\"1\" class=\"dataframe\">\n",
       "  <thead>\n",
       "    <tr style=\"text-align: right;\">\n",
       "      <th></th>\n",
       "      <th>upload_id</th>\n",
       "      <th>user_id</th>\n",
       "      <th>item_id</th>\n",
       "      <th>datetime</th>\n",
       "    </tr>\n",
       "  </thead>\n",
       "  <tbody>\n",
       "    <tr>\n",
       "      <th>0</th>\n",
       "      <td>1</td>\n",
       "      <td>1</td>\n",
       "      <td>15</td>\n",
       "      <td>2025-03-04 05:45:47</td>\n",
       "    </tr>\n",
       "    <tr>\n",
       "      <th>1</th>\n",
       "      <td>2</td>\n",
       "      <td>1</td>\n",
       "      <td>3</td>\n",
       "      <td>2025-03-09 12:25:12</td>\n",
       "    </tr>\n",
       "    <tr>\n",
       "      <th>2</th>\n",
       "      <td>3</td>\n",
       "      <td>1</td>\n",
       "      <td>21</td>\n",
       "      <td>2025-03-09 07:05:52</td>\n",
       "    </tr>\n",
       "  </tbody>\n",
       "</table>\n",
       "</div>"
      ],
      "text/plain": [
       "   upload_id  user_id  item_id             datetime\n",
       "0          1        1       15  2025-03-04 05:45:47\n",
       "1          2        1        3  2025-03-09 12:25:12\n",
       "2          3        1       21  2025-03-09 07:05:52"
      ]
     },
     "metadata": {},
     "output_type": "display_data"
    }
   ],
   "source": [
    "display(users_df.head(3))\n",
    "display(tiers_df.head(3))\n",
    "display(items_df.head(3))\n",
    "display(uploads_df.head(3))\n"
   ]
  },
  {
   "cell_type": "code",
   "execution_count": 199,
   "id": "1bef8fb4",
   "metadata": {},
   "outputs": [
    {
     "name": "stdout",
     "output_type": "stream",
     "text": [
      "50 50\n",
      "90 90\n",
      "80 80\n",
      "1781 1781\n"
     ]
    }
   ],
   "source": [
    "print(users_df.shape[0], users_df['user_id'].nunique())\n",
    "print(tiers_df.shape[0], tiers_df['tier_status_id'].nunique())\n",
    "print(items_df.shape[0], items_df['item_id'].nunique())\n",
    "print(uploads_df.shape[0], uploads_df['upload_id'].nunique())\n"
   ]
  },
  {
   "cell_type": "code",
   "execution_count": 200,
   "id": "22103259",
   "metadata": {},
   "outputs": [],
   "source": [
    "def plot_user_uploads(tiers_df, uploads_df, items_df, user_id, title=None):\n",
    "    # Ensure datetime dtype\n",
    "    tiers = tiers_df.loc[tiers_df.user_id == user_id].copy()\n",
    "    tiers[\"from_datetime\"] = pd.to_datetime(tiers[\"from_datetime\"])\n",
    "    tiers[\"until_datetime\"] = pd.to_datetime(tiers[\"until_datetime\"])\n",
    "\n",
    "    uploads = uploads_df.loc[uploads_df.user_id == user_id].copy()\n",
    "    uploads[\"datetime\"] = pd.to_datetime(uploads[\"datetime\"])\n",
    "\n",
    "    # Join to get size_gb for y-axis\n",
    "    items_small = items_df[[\"item_id\", \"size_gb\"]].copy()\n",
    "    uploads = uploads.merge(items_small, on=\"item_id\", how=\"left\")    \n",
    "\n",
    "    # Set x-limits from tier coverage (fallback to upload range if needed)\n",
    "    if not tiers.empty:\n",
    "        xmin = tiers[\"from_datetime\"].min()\n",
    "        xmax = tiers[\"until_datetime\"].max()\n",
    "    else:\n",
    "        xmin = uploads[\"datetime\"].min()\n",
    "        xmax = uploads[\"datetime\"].max()\n",
    "\n",
    "    # Plot\n",
    "    fig, ax = plt.subplots(figsize=(10, 3.5))\n",
    "\n",
    "    # Background: tier intervals\n",
    "    # (label only once to keep legend clean)\n",
    "    added_free = False\n",
    "    added_premium = False\n",
    "    for _, r in tiers.sort_values(\"from_datetime\").iterrows():\n",
    "        color = \"green\" if r[\"status\"] == \"free\" else \"blue\"\n",
    "        label = None\n",
    "        if r[\"status\"] == \"free\" and not added_free:\n",
    "            label = \"free\"\n",
    "            added_free = True\n",
    "        if r[\"status\"] == \"premium\" and not added_premium:\n",
    "            label = \"premium\"\n",
    "            added_premium = True\n",
    "        ax.axvspan(r[\"from_datetime\"], r[\"until_datetime\"], color=color, alpha=0.15, label=label)\n",
    "\n",
    "    # Upload points at y = 5 or 50\n",
    "    if not uploads.empty:\n",
    "        ax.scatter(uploads[\"datetime\"], uploads[\"size_gb\"], s=25, zorder=3)\n",
    "\n",
    "    # Axes, labels, ticks\n",
    "    ax.set_xlim(xmin, xmax)\n",
    "    ax.set_ylim(0, 55)\n",
    "    ax.set_yticks([5, 50])\n",
    "    ax.set_xlabel(\"time\")\n",
    "    ax.set_ylabel(\"GB\")\n",
    "\n",
    "    if title is None:\n",
    "        title = f\"User {user_id} uploads\"\n",
    "    ax.set_title(title)\n",
    "\n",
    "    # Legend (only if any tier intervals exist)\n",
    "    handles, labels = ax.get_legend_handles_labels()\n",
    "    if handles:\n",
    "        ax.legend(loc=\"upper left\")\n",
    "\n",
    "    fig.autofmt_xdate()\n",
    "    plt.tight_layout()\n",
    "    plt.show()\n"
   ]
  },
  {
   "cell_type": "code",
   "execution_count": 201,
   "id": "6d6ca779",
   "metadata": {},
   "outputs": [
    {
     "data": {
      "image/png": "[encoded data removed]",
      "text/plain": [
       "<Figure size 1000x350 with 1 Axes>"
      ]
     },
     "metadata": {},
     "output_type": "display_data"
    }
   ],
   "source": [
    "plot_user_uploads(tiers_df, uploads_df, items_df, 5, \"Example in cohort 1: Premium all the time\")"
   ]
  },
  {
   "cell_type": "code",
   "execution_count": 202,
   "id": "8ed1182b",
   "metadata": {},
   "outputs": [
    {
     "data": {
      "image/png": "[encoded data removed]",
      "text/plain": [
       "<Figure size 1000x350 with 1 Axes>"
      ]
     },
     "metadata": {},
     "output_type": "display_data"
    }
   ],
   "source": [
    "plot_user_uploads(tiers_df, uploads_df, items_df, 15, \"Example in cohort 2: Free all the time\")"
   ]
  },
  {
   "cell_type": "code",
   "execution_count": 203,
   "id": "feca9c14",
   "metadata": {},
   "outputs": [
    {
     "data": {
      "image/png": "[encoded data removed]",
      "text/plain": [
       "<Figure size 1000x350 with 1 Axes>"
      ]
     },
     "metadata": {},
     "output_type": "display_data"
    }
   ],
   "source": [
    "plot_user_uploads(tiers_df, uploads_df, items_df, 25, \"Example in cohort 3: first Premium then Free\")"
   ]
  },
  {
   "cell_type": "code",
   "execution_count": 204,
   "id": "01dc711d",
   "metadata": {},
   "outputs": [
    {
     "data": {
      "image/png": "[encoded data removed]",
      "text/plain": [
       "<Figure size 1000x350 with 1 Axes>"
      ]
     },
     "metadata": {},
     "output_type": "display_data"
    }
   ],
   "source": [
    "plot_user_uploads(tiers_df, uploads_df, items_df, 35, \"Example in cohort 4: first Free then Premium\")"
   ]
  },
  {
   "cell_type": "code",
   "execution_count": 205,
   "id": "b11dce18",
   "metadata": {},
   "outputs": [
    {
     "data": {
      "image/png": "[encoded data removed]",
      "text/plain": [
       "<Figure size 1000x350 with 1 Axes>"
      ]
     },
     "metadata": {},
     "output_type": "display_data"
    }
   ],
   "source": [
    "plot_user_uploads(tiers_df, uploads_df, items_df, 45, \"Example in cohort 5: first Free then Premium then Free\")"
   ]
  },
  {
   "cell_type": "code",
   "execution_count": 206,
   "id": "6872b922",
   "metadata": {},
   "outputs": [
    {
     "data": {
      "text/html": [
       "<div>\n",
       "<style scoped>\n",
       "    .dataframe tbody tr th:only-of-type {\n",
       "        vertical-align: middle;\n",
       "    }\n",
       "\n",
       "    .dataframe tbody tr th {\n",
       "        vertical-align: top;\n",
       "    }\n",
       "\n",
       "    .dataframe thead th {\n",
       "        text-align: right;\n",
       "    }\n",
       "</style>\n",
       "<table border=\"1\" class=\"dataframe\">\n",
       "  <thead>\n",
       "    <tr style=\"text-align: right;\">\n",
       "      <th></th>\n",
       "      <th>user_id</th>\n",
       "      <th>name</th>\n",
       "    </tr>\n",
       "  </thead>\n",
       "  <tbody>\n",
       "    <tr>\n",
       "      <th>0</th>\n",
       "      <td>1</td>\n",
       "      <td>User 001</td>\n",
       "    </tr>\n",
       "    <tr>\n",
       "      <th>1</th>\n",
       "      <td>2</td>\n",
       "      <td>User 002</td>\n",
       "    </tr>\n",
       "    <tr>\n",
       "      <th>2</th>\n",
       "      <td>3</td>\n",
       "      <td>User 003</td>\n",
       "    </tr>\n",
       "  </tbody>\n",
       "</table>\n",
       "</div>"
      ],
      "text/plain": [
       "   user_id      name\n",
       "0        1  User 001\n",
       "1        2  User 002\n",
       "2        3  User 003"
      ]
     },
     "metadata": {},
     "output_type": "display_data"
    },
    {
     "data": {
      "text/html": [
       "<div>\n",
       "<style scoped>\n",
       "    .dataframe tbody tr th:only-of-type {\n",
       "        vertical-align: middle;\n",
       "    }\n",
       "\n",
       "    .dataframe tbody tr th {\n",
       "        vertical-align: top;\n",
       "    }\n",
       "\n",
       "    .dataframe thead th {\n",
       "        text-align: right;\n",
       "    }\n",
       "</style>\n",
       "<table border=\"1\" class=\"dataframe\">\n",
       "  <thead>\n",
       "    <tr style=\"text-align: right;\">\n",
       "      <th></th>\n",
       "      <th>tier_status_id</th>\n",
       "      <th>user_id</th>\n",
       "      <th>from_datetime</th>\n",
       "      <th>until_datetime</th>\n",
       "      <th>status</th>\n",
       "    </tr>\n",
       "  </thead>\n",
       "  <tbody>\n",
       "    <tr>\n",
       "      <th>0</th>\n",
       "      <td>1</td>\n",
       "      <td>1</td>\n",
       "      <td>2025-03-01 00:00:00</td>\n",
       "      <td>2025-03-11 00:00:00</td>\n",
       "      <td>premium</td>\n",
       "    </tr>\n",
       "    <tr>\n",
       "      <th>1</th>\n",
       "      <td>2</td>\n",
       "      <td>2</td>\n",
       "      <td>2025-03-01 00:00:00</td>\n",
       "      <td>2025-03-11 00:00:00</td>\n",
       "      <td>premium</td>\n",
       "    </tr>\n",
       "    <tr>\n",
       "      <th>2</th>\n",
       "      <td>3</td>\n",
       "      <td>3</td>\n",
       "      <td>2025-03-01 00:00:00</td>\n",
       "      <td>2025-03-11 00:00:00</td>\n",
       "      <td>premium</td>\n",
       "    </tr>\n",
       "  </tbody>\n",
       "</table>\n",
       "</div>"
      ],
      "text/plain": [
       "   tier_status_id  user_id        from_datetime       until_datetime   status\n",
       "0               1        1  2025-03-01 00:00:00  2025-03-11 00:00:00  premium\n",
       "1               2        2  2025-03-01 00:00:00  2025-03-11 00:00:00  premium\n",
       "2               3        3  2025-03-01 00:00:00  2025-03-11 00:00:00  premium"
      ]
     },
     "metadata": {},
     "output_type": "display_data"
    },
    {
     "data": {
      "text/html": [
       "<div>\n",
       "<style scoped>\n",
       "    .dataframe tbody tr th:only-of-type {\n",
       "        vertical-align: middle;\n",
       "    }\n",
       "\n",
       "    .dataframe tbody tr th {\n",
       "        vertical-align: top;\n",
       "    }\n",
       "\n",
       "    .dataframe thead th {\n",
       "        text-align: right;\n",
       "    }\n",
       "</style>\n",
       "<table border=\"1\" class=\"dataframe\">\n",
       "  <thead>\n",
       "    <tr style=\"text-align: right;\">\n",
       "      <th></th>\n",
       "      <th>item_id</th>\n",
       "      <th>size_gb</th>\n",
       "    </tr>\n",
       "  </thead>\n",
       "  <tbody>\n",
       "    <tr>\n",
       "      <th>0</th>\n",
       "      <td>1</td>\n",
       "      <td>5</td>\n",
       "    </tr>\n",
       "    <tr>\n",
       "      <th>1</th>\n",
       "      <td>2</td>\n",
       "      <td>5</td>\n",
       "    </tr>\n",
       "    <tr>\n",
       "      <th>2</th>\n",
       "      <td>3</td>\n",
       "      <td>5</td>\n",
       "    </tr>\n",
       "  </tbody>\n",
       "</table>\n",
       "</div>"
      ],
      "text/plain": [
       "   item_id  size_gb\n",
       "0        1        5\n",
       "1        2        5\n",
       "2        3        5"
      ]
     },
     "metadata": {},
     "output_type": "display_data"
    },
    {
     "data": {
      "text/html": [
       "<div>\n",
       "<style scoped>\n",
       "    .dataframe tbody tr th:only-of-type {\n",
       "        vertical-align: middle;\n",
       "    }\n",
       "\n",
       "    .dataframe tbody tr th {\n",
       "        vertical-align: top;\n",
       "    }\n",
       "\n",
       "    .dataframe thead th {\n",
       "        text-align: right;\n",
       "    }\n",
       "</style>\n",
       "<table border=\"1\" class=\"dataframe\">\n",
       "  <thead>\n",
       "    <tr style=\"text-align: right;\">\n",
       "      <th></th>\n",
       "      <th>upload_id</th>\n",
       "      <th>user_id</th>\n",
       "      <th>item_id</th>\n",
       "      <th>datetime</th>\n",
       "    </tr>\n",
       "  </thead>\n",
       "  <tbody>\n",
       "    <tr>\n",
       "      <th>0</th>\n",
       "      <td>1</td>\n",
       "      <td>1</td>\n",
       "      <td>15</td>\n",
       "      <td>2025-03-04 05:45:47</td>\n",
       "    </tr>\n",
       "    <tr>\n",
       "      <th>1</th>\n",
       "      <td>2</td>\n",
       "      <td>1</td>\n",
       "      <td>3</td>\n",
       "      <td>2025-03-09 12:25:12</td>\n",
       "    </tr>\n",
       "    <tr>\n",
       "      <th>2</th>\n",
       "      <td>3</td>\n",
       "      <td>1</td>\n",
       "      <td>21</td>\n",
       "      <td>2025-03-09 07:05:52</td>\n",
       "    </tr>\n",
       "  </tbody>\n",
       "</table>\n",
       "</div>"
      ],
      "text/plain": [
       "   upload_id  user_id  item_id             datetime\n",
       "0          1        1       15  2025-03-04 05:45:47\n",
       "1          2        1        3  2025-03-09 12:25:12\n",
       "2          3        1       21  2025-03-09 07:05:52"
      ]
     },
     "metadata": {},
     "output_type": "display_data"
    }
   ],
   "source": [
    "display(users_df.head(3))\n",
    "display(tiers_df.head(3))\n",
    "display(items_df.head(3))\n",
    "display(uploads_df.head(3))"
   ]
  },
  {
   "cell_type": "code",
   "execution_count": 207,
   "id": "6be997f5",
   "metadata": {},
   "outputs": [
    {
     "name": "stdout",
     "output_type": "stream",
     "text": [
      "Detected primary key 'user_id' in table 'users'\n",
      "Detected time column 'from_datetime' in table 'tiers'\n",
      "Detected primary key 'item_id' in table 'items'\n",
      "Detected primary key 'upload_id' and time column 'datetime' in table 'uploads'\n"
     ]
    }
   ],
   "source": [
    "users = rfm.LocalTable(users_df, name=\"users\").infer_metadata()\n",
    "tiers = rfm.LocalTable(tiers_df, name=\"tiers\").infer_metadata()\n",
    "items = rfm.LocalTable(items_df, name=\"items\").infer_metadata()\n",
    "uploads = rfm.LocalTable(uploads_df, name=\"uploads\").infer_metadata()\n"
   ]
  },
  {
   "cell_type": "code",
   "execution_count": 208,
   "id": "a0b2c42e",
   "metadata": {},
   "outputs": [
    {
     "data": {
      "text/markdown": [
       "### 🏷️ Metadata of Table `users` (50 rows)"
      ],
      "text/plain": [
       "<IPython.core.display.Markdown object>"
      ]
     },
     "metadata": {},
     "output_type": "display_data"
    },
    {
     "data": {
      "text/html": [
       "<style type=\"text/css\">\n",
       "</style>\n",
       "<table id=\"T_5f56c\">\n",
       "  <thead>\n",
       "    <tr>\n",
       "      <th id=\"T_5f56c_level0_col0\" class=\"col_heading level0 col0\" >name</th>\n",
       "      <th id=\"T_5f56c_level0_col1\" class=\"col_heading level0 col1\" >dtype</th>\n",
       "      <th id=\"T_5f56c_level0_col2\" class=\"col_heading level0 col2\" >stype</th>\n",
       "      <th id=\"T_5f56c_level0_col3\" class=\"col_heading level0 col3\" >is_primary_key</th>\n",
       "      <th id=\"T_5f56c_level0_col4\" class=\"col_heading level0 col4\" >is_time_column</th>\n",
       "    </tr>\n",
       "  </thead>\n",
       "  <tbody>\n",
       "    <tr>\n",
       "      <td id=\"T_5f56c_row0_col0\" class=\"data row0 col0\" >user_id</td>\n",
       "      <td id=\"T_5f56c_row0_col1\" class=\"data row0 col1\" >int</td>\n",
       "      <td id=\"T_5f56c_row0_col2\" class=\"data row0 col2\" >ID</td>\n",
       "      <td id=\"T_5f56c_row0_col3\" class=\"data row0 col3\" >True</td>\n",
       "      <td id=\"T_5f56c_row0_col4\" class=\"data row0 col4\" >False</td>\n",
       "    </tr>\n",
       "    <tr>\n",
       "      <td id=\"T_5f56c_row1_col0\" class=\"data row1 col0\" >name</td>\n",
       "      <td id=\"T_5f56c_row1_col1\" class=\"data row1 col1\" >string</td>\n",
       "      <td id=\"T_5f56c_row1_col2\" class=\"data row1 col2\" >text</td>\n",
       "      <td id=\"T_5f56c_row1_col3\" class=\"data row1 col3\" >False</td>\n",
       "      <td id=\"T_5f56c_row1_col4\" class=\"data row1 col4\" >False</td>\n",
       "    </tr>\n",
       "  </tbody>\n",
       "</table>\n"
      ],
      "text/plain": [
       "<pandas.io.formats.style.Styler at 0x76cdd05a7f70>"
      ]
     },
     "metadata": {},
     "output_type": "display_data"
    }
   ],
   "source": [
    "users.print_metadata()"
   ]
  },
  {
   "cell_type": "code",
   "execution_count": 209,
   "id": "4753902c",
   "metadata": {},
   "outputs": [
    {
     "data": {
      "text/markdown": [
       "### 🏷️ Metadata of Table `tiers` (90 rows)"
      ],
      "text/plain": [
       "<IPython.core.display.Markdown object>"
      ]
     },
     "metadata": {},
     "output_type": "display_data"
    },
    {
     "data": {
      "text/html": [
       "<style type=\"text/css\">\n",
       "</style>\n",
       "<table id=\"T_d52bd\">\n",
       "  <thead>\n",
       "    <tr>\n",
       "      <th id=\"T_d52bd_level0_col0\" class=\"col_heading level0 col0\" >name</th>\n",
       "      <th id=\"T_d52bd_level0_col1\" class=\"col_heading level0 col1\" >dtype</th>\n",
       "      <th id=\"T_d52bd_level0_col2\" class=\"col_heading level0 col2\" >stype</th>\n",
       "      <th id=\"T_d52bd_level0_col3\" class=\"col_heading level0 col3\" >is_primary_key</th>\n",
       "      <th id=\"T_d52bd_level0_col4\" class=\"col_heading level0 col4\" >is_time_column</th>\n",
       "    </tr>\n",
       "  </thead>\n",
       "  <tbody>\n",
       "    <tr>\n",
       "      <td id=\"T_d52bd_row0_col0\" class=\"data row0 col0\" >tier_status_id</td>\n",
       "      <td id=\"T_d52bd_row0_col1\" class=\"data row0 col1\" >int</td>\n",
       "      <td id=\"T_d52bd_row0_col2\" class=\"data row0 col2\" >ID</td>\n",
       "      <td id=\"T_d52bd_row0_col3\" class=\"data row0 col3\" >True</td>\n",
       "      <td id=\"T_d52bd_row0_col4\" class=\"data row0 col4\" >False</td>\n",
       "    </tr>\n",
       "    <tr>\n",
       "      <td id=\"T_d52bd_row1_col0\" class=\"data row1 col0\" >user_id</td>\n",
       "      <td id=\"T_d52bd_row1_col1\" class=\"data row1 col1\" >int</td>\n",
       "      <td id=\"T_d52bd_row1_col2\" class=\"data row1 col2\" >ID</td>\n",
       "      <td id=\"T_d52bd_row1_col3\" class=\"data row1 col3\" >False</td>\n",
       "      <td id=\"T_d52bd_row1_col4\" class=\"data row1 col4\" >False</td>\n",
       "    </tr>\n",
       "    <tr>\n",
       "      <td id=\"T_d52bd_row2_col0\" class=\"data row2 col0\" >from_datetime</td>\n",
       "      <td id=\"T_d52bd_row2_col1\" class=\"data row2 col1\" >string</td>\n",
       "      <td id=\"T_d52bd_row2_col2\" class=\"data row2 col2\" >timestamp</td>\n",
       "      <td id=\"T_d52bd_row2_col3\" class=\"data row2 col3\" >False</td>\n",
       "      <td id=\"T_d52bd_row2_col4\" class=\"data row2 col4\" >True</td>\n",
       "    </tr>\n",
       "    <tr>\n",
       "      <td id=\"T_d52bd_row3_col0\" class=\"data row3 col0\" >until_datetime</td>\n",
       "      <td id=\"T_d52bd_row3_col1\" class=\"data row3 col1\" >string</td>\n",
       "      <td id=\"T_d52bd_row3_col2\" class=\"data row3 col2\" >timestamp</td>\n",
       "      <td id=\"T_d52bd_row3_col3\" class=\"data row3 col3\" >False</td>\n",
       "      <td id=\"T_d52bd_row3_col4\" class=\"data row3 col4\" >False</td>\n",
       "    </tr>\n",
       "    <tr>\n",
       "      <td id=\"T_d52bd_row4_col0\" class=\"data row4 col0\" >status</td>\n",
       "      <td id=\"T_d52bd_row4_col1\" class=\"data row4 col1\" >string</td>\n",
       "      <td id=\"T_d52bd_row4_col2\" class=\"data row4 col2\" >categorical</td>\n",
       "      <td id=\"T_d52bd_row4_col3\" class=\"data row4 col3\" >False</td>\n",
       "      <td id=\"T_d52bd_row4_col4\" class=\"data row4 col4\" >False</td>\n",
       "    </tr>\n",
       "  </tbody>\n",
       "</table>\n"
      ],
      "text/plain": [
       "<pandas.io.formats.style.Styler at 0x76cdd05a7fd0>"
      ]
     },
     "metadata": {},
     "output_type": "display_data"
    }
   ],
   "source": [
    "tiers.primary_key = \"tier_status_id\"\n",
    "tiers.print_metadata()"
   ]
  },
  {
   "cell_type": "code",
   "execution_count": 210,
   "id": "fc17d5b5",
   "metadata": {},
   "outputs": [
    {
     "data": {
      "text/markdown": [
       "### 🏷️ Metadata of Table `items` (80 rows)"
      ],
      "text/plain": [
       "<IPython.core.display.Markdown object>"
      ]
     },
     "metadata": {},
     "output_type": "display_data"
    },
    {
     "data": {
      "text/html": [
       "<style type=\"text/css\">\n",
       "</style>\n",
       "<table id=\"T_48102\">\n",
       "  <thead>\n",
       "    <tr>\n",
       "      <th id=\"T_48102_level0_col0\" class=\"col_heading level0 col0\" >name</th>\n",
       "      <th id=\"T_48102_level0_col1\" class=\"col_heading level0 col1\" >dtype</th>\n",
       "      <th id=\"T_48102_level0_col2\" class=\"col_heading level0 col2\" >stype</th>\n",
       "      <th id=\"T_48102_level0_col3\" class=\"col_heading level0 col3\" >is_primary_key</th>\n",
       "      <th id=\"T_48102_level0_col4\" class=\"col_heading level0 col4\" >is_time_column</th>\n",
       "    </tr>\n",
       "  </thead>\n",
       "  <tbody>\n",
       "    <tr>\n",
       "      <td id=\"T_48102_row0_col0\" class=\"data row0 col0\" >item_id</td>\n",
       "      <td id=\"T_48102_row0_col1\" class=\"data row0 col1\" >int</td>\n",
       "      <td id=\"T_48102_row0_col2\" class=\"data row0 col2\" >ID</td>\n",
       "      <td id=\"T_48102_row0_col3\" class=\"data row0 col3\" >True</td>\n",
       "      <td id=\"T_48102_row0_col4\" class=\"data row0 col4\" >False</td>\n",
       "    </tr>\n",
       "    <tr>\n",
       "      <td id=\"T_48102_row1_col0\" class=\"data row1 col0\" >size_gb</td>\n",
       "      <td id=\"T_48102_row1_col1\" class=\"data row1 col1\" >int</td>\n",
       "      <td id=\"T_48102_row1_col2\" class=\"data row1 col2\" >numerical</td>\n",
       "      <td id=\"T_48102_row1_col3\" class=\"data row1 col3\" >False</td>\n",
       "      <td id=\"T_48102_row1_col4\" class=\"data row1 col4\" >False</td>\n",
       "    </tr>\n",
       "  </tbody>\n",
       "</table>\n"
      ],
      "text/plain": [
       "<pandas.io.formats.style.Styler at 0x76cdd05a7f70>"
      ]
     },
     "metadata": {},
     "output_type": "display_data"
    }
   ],
   "source": [
    "items['size_gb'].stype = \"numerical\"\n",
    "items.print_metadata()"
   ]
  },
  {
   "cell_type": "code",
   "execution_count": 211,
   "id": "9e5c650b",
   "metadata": {},
   "outputs": [
    {
     "data": {
      "text/markdown": [
       "### 🏷️ Metadata of Table `uploads` (1,781 rows)"
      ],
      "text/plain": [
       "<IPython.core.display.Markdown object>"
      ]
     },
     "metadata": {},
     "output_type": "display_data"
    },
    {
     "data": {
      "text/html": [
       "<style type=\"text/css\">\n",
       "</style>\n",
       "<table id=\"T_573fa\">\n",
       "  <thead>\n",
       "    <tr>\n",
       "      <th id=\"T_573fa_level0_col0\" class=\"col_heading level0 col0\" >name</th>\n",
       "      <th id=\"T_573fa_level0_col1\" class=\"col_heading level0 col1\" >dtype</th>\n",
       "      <th id=\"T_573fa_level0_col2\" class=\"col_heading level0 col2\" >stype</th>\n",
       "      <th id=\"T_573fa_level0_col3\" class=\"col_heading level0 col3\" >is_primary_key</th>\n",
       "      <th id=\"T_573fa_level0_col4\" class=\"col_heading level0 col4\" >is_time_column</th>\n",
       "    </tr>\n",
       "  </thead>\n",
       "  <tbody>\n",
       "    <tr>\n",
       "      <td id=\"T_573fa_row0_col0\" class=\"data row0 col0\" >upload_id</td>\n",
       "      <td id=\"T_573fa_row0_col1\" class=\"data row0 col1\" >int</td>\n",
       "      <td id=\"T_573fa_row0_col2\" class=\"data row0 col2\" >ID</td>\n",
       "      <td id=\"T_573fa_row0_col3\" class=\"data row0 col3\" >True</td>\n",
       "      <td id=\"T_573fa_row0_col4\" class=\"data row0 col4\" >False</td>\n",
       "    </tr>\n",
       "    <tr>\n",
       "      <td id=\"T_573fa_row1_col0\" class=\"data row1 col0\" >user_id</td>\n",
       "      <td id=\"T_573fa_row1_col1\" class=\"data row1 col1\" >int</td>\n",
       "      <td id=\"T_573fa_row1_col2\" class=\"data row1 col2\" >ID</td>\n",
       "      <td id=\"T_573fa_row1_col3\" class=\"data row1 col3\" >False</td>\n",
       "      <td id=\"T_573fa_row1_col4\" class=\"data row1 col4\" >False</td>\n",
       "    </tr>\n",
       "    <tr>\n",
       "      <td id=\"T_573fa_row2_col0\" class=\"data row2 col0\" >item_id</td>\n",
       "      <td id=\"T_573fa_row2_col1\" class=\"data row2 col1\" >int</td>\n",
       "      <td id=\"T_573fa_row2_col2\" class=\"data row2 col2\" >ID</td>\n",
       "      <td id=\"T_573fa_row2_col3\" class=\"data row2 col3\" >False</td>\n",
       "      <td id=\"T_573fa_row2_col4\" class=\"data row2 col4\" >False</td>\n",
       "    </tr>\n",
       "    <tr>\n",
       "      <td id=\"T_573fa_row3_col0\" class=\"data row3 col0\" >datetime</td>\n",
       "      <td id=\"T_573fa_row3_col1\" class=\"data row3 col1\" >string</td>\n",
       "      <td id=\"T_573fa_row3_col2\" class=\"data row3 col2\" >timestamp</td>\n",
       "      <td id=\"T_573fa_row3_col3\" class=\"data row3 col3\" >False</td>\n",
       "      <td id=\"T_573fa_row3_col4\" class=\"data row3 col4\" >True</td>\n",
       "    </tr>\n",
       "  </tbody>\n",
       "</table>\n"
      ],
      "text/plain": [
       "<pandas.io.formats.style.Styler at 0x76cdd0563490>"
      ]
     },
     "metadata": {},
     "output_type": "display_data"
    }
   ],
   "source": [
    "#uploads['size_gb'].stype = \"numerical\"\n",
    "uploads.print_metadata()"
   ]
  },
  {
   "cell_type": "code",
   "execution_count": 212,
   "id": "b51ead2b",
   "metadata": {},
   "outputs": [],
   "source": [
    "graph = rfm.LocalGraph(tables=[users, tiers, items, uploads])"
   ]
  },
  {
   "cell_type": "code",
   "execution_count": 213,
   "id": "f61f0ef6",
   "metadata": {},
   "outputs": [
    {
     "data": {
      "text/markdown": [
       "### 🕸️ Graph Links (FK ↔️ PK)"
      ],
      "text/plain": [
       "<IPython.core.display.Markdown object>"
      ]
     },
     "metadata": {},
     "output_type": "display_data"
    },
    {
     "data": {
      "text/markdown": [
       "- `uploads.item_id` ↔️ `items.item_id`\n",
       "- `tiers.user_id` ↔️ `users.user_id`\n",
       "- `uploads.user_id` ↔️ `users.user_id`"
      ],
      "text/plain": [
       "<IPython.core.display.Markdown object>"
      ]
     },
     "metadata": {},
     "output_type": "display_data"
    }
   ],
   "source": [
    "graph.link(src_table=\"tiers\", fkey=\"user_id\", dst_table=\"users\");\n",
    "graph.link(src_table=\"uploads\", fkey=\"item_id\", dst_table=\"items\");\n",
    "graph.link(src_table=\"uploads\", fkey=\"user_id\", dst_table=\"users\");\n",
    "graph.print_links()"
   ]
  },
  {
   "cell_type": "code",
   "execution_count": 214,
   "id": "948e6b4b",
   "metadata": {},
   "outputs": [],
   "source": [
    "model = rfm.KumoRFM(graph, verbose=False)"
   ]
  },
  {
   "cell_type": "markdown",
   "id": "042506ce",
   "metadata": {},
   "source": [
    "<div align=\"center\">\n",
    "  <img src=\"temporal_dependencies_01.png\" width=\"800\" />\n",
    "</div>"
   ]
  },
  {
   "cell_type": "code",
   "execution_count": 215,
   "id": "5030720e",
   "metadata": {},
   "outputs": [
    {
     "ename": "ConnectionError",
     "evalue": "('Connection aborted.', RemoteDisconnected('Remote end closed connection without response'))",
     "output_type": "error",
     "traceback": [
      "\u001b[0;31m---------------------------------------------------------------------------\u001b[0m",
      "\u001b[0;31mRemoteDisconnected\u001b[0m                        Traceback (most recent call last)",
      "File \u001b[0;32m~/graph_ML_and_deep_learning_on_RDBs/venv/lib/python3.10/site-packages/urllib3/connectionpool.py:787\u001b[0m, in \u001b[0;36mHTTPConnectionPool.urlopen\u001b[0;34m(self, method, url, body, headers, retries, redirect, assert_same_host, timeout, pool_timeout, release_conn, chunked, body_pos, preload_content, decode_content, **response_kw)\u001b[0m\n\u001b[1;32m    786\u001b[0m \u001b[38;5;66;03m# Make the request on the HTTPConnection object\u001b[39;00m\n\u001b[0;32m--> 787\u001b[0m response \u001b[38;5;241m=\u001b[39m \u001b[38;5;28;43mself\u001b[39;49m\u001b[38;5;241;43m.\u001b[39;49m\u001b[43m_make_request\u001b[49m\u001b[43m(\u001b[49m\n\u001b[1;32m    788\u001b[0m \u001b[43m    \u001b[49m\u001b[43mconn\u001b[49m\u001b[43m,\u001b[49m\n\u001b[1;32m    789\u001b[0m \u001b[43m    \u001b[49m\u001b[43mmethod\u001b[49m\u001b[43m,\u001b[49m\n\u001b[1;32m    790\u001b[0m \u001b[43m    \u001b[49m\u001b[43murl\u001b[49m\u001b[43m,\u001b[49m\n\u001b[1;32m    791\u001b[0m \u001b[43m    \u001b[49m\u001b[43mtimeout\u001b[49m\u001b[38;5;241;43m=\u001b[39;49m\u001b[43mtimeout_obj\u001b[49m\u001b[43m,\u001b[49m\n\u001b[1;32m    792\u001b[0m \u001b[43m    \u001b[49m\u001b[43mbody\u001b[49m\u001b[38;5;241;43m=\u001b[39;49m\u001b[43mbody\u001b[49m\u001b[43m,\u001b[49m\n\u001b[1;32m    793\u001b[0m \u001b[43m    \u001b[49m\u001b[43mheaders\u001b[49m\u001b[38;5;241;43m=\u001b[39;49m\u001b[43mheaders\u001b[49m\u001b[43m,\u001b[49m\n\u001b[1;32m    794\u001b[0m \u001b[43m    \u001b[49m\u001b[43mchunked\u001b[49m\u001b[38;5;241;43m=\u001b[39;49m\u001b[43mchunked\u001b[49m\u001b[43m,\u001b[49m\n\u001b[1;32m    795\u001b[0m \u001b[43m    \u001b[49m\u001b[43mretries\u001b[49m\u001b[38;5;241;43m=\u001b[39;49m\u001b[43mretries\u001b[49m\u001b[43m,\u001b[49m\n\u001b[1;32m    796\u001b[0m \u001b[43m    \u001b[49m\u001b[43mresponse_conn\u001b[49m\u001b[38;5;241;43m=\u001b[39;49m\u001b[43mresponse_conn\u001b[49m\u001b[43m,\u001b[49m\n\u001b[1;32m    797\u001b[0m \u001b[43m    \u001b[49m\u001b[43mpreload_content\u001b[49m\u001b[38;5;241;43m=\u001b[39;49m\u001b[43mpreload_content\u001b[49m\u001b[43m,\u001b[49m\n\u001b[1;32m    798\u001b[0m \u001b[43m    \u001b[49m\u001b[43mdecode_content\u001b[49m\u001b[38;5;241;43m=\u001b[39;49m\u001b[43mdecode_content\u001b[49m\u001b[43m,\u001b[49m\n\u001b[1;32m    799\u001b[0m \u001b[43m    \u001b[49m\u001b[38;5;241;43m*\u001b[39;49m\u001b[38;5;241;43m*\u001b[39;49m\u001b[43mresponse_kw\u001b[49m\u001b[43m,\u001b[49m\n\u001b[1;32m    800\u001b[0m \u001b[43m\u001b[49m\u001b[43m)\u001b[49m\n\u001b[1;32m    802\u001b[0m \u001b[38;5;66;03m# Everything went great!\u001b[39;00m\n",
      "File \u001b[0;32m~/graph_ML_and_deep_learning_on_RDBs/venv/lib/python3.10/site-packages/urllib3/connectionpool.py:534\u001b[0m, in \u001b[0;36mHTTPConnectionPool._make_request\u001b[0;34m(self, conn, method, url, body, headers, retries, timeout, chunked, response_conn, preload_content, decode_content, enforce_content_length)\u001b[0m\n\u001b[1;32m    533\u001b[0m \u001b[38;5;28;01mtry\u001b[39;00m:\n\u001b[0;32m--> 534\u001b[0m     response \u001b[38;5;241m=\u001b[39m \u001b[43mconn\u001b[49m\u001b[38;5;241;43m.\u001b[39;49m\u001b[43mgetresponse\u001b[49m\u001b[43m(\u001b[49m\u001b[43m)\u001b[49m\n\u001b[1;32m    535\u001b[0m \u001b[38;5;28;01mexcept\u001b[39;00m (BaseSSLError, \u001b[38;5;167;01mOSError\u001b[39;00m) \u001b[38;5;28;01mas\u001b[39;00m e:\n",
      "File \u001b[0;32m~/graph_ML_and_deep_learning_on_RDBs/venv/lib/python3.10/site-packages/urllib3/connection.py:565\u001b[0m, in \u001b[0;36mHTTPConnection.getresponse\u001b[0;34m(self)\u001b[0m\n\u001b[1;32m    564\u001b[0m \u001b[38;5;66;03m# Get the response from http.client.HTTPConnection\u001b[39;00m\n\u001b[0;32m--> 565\u001b[0m httplib_response \u001b[38;5;241m=\u001b[39m \u001b[38;5;28;43msuper\u001b[39;49m\u001b[43m(\u001b[49m\u001b[43m)\u001b[49m\u001b[38;5;241;43m.\u001b[39;49m\u001b[43mgetresponse\u001b[49m\u001b[43m(\u001b[49m\u001b[43m)\u001b[49m\n\u001b[1;32m    567\u001b[0m \u001b[38;5;28;01mtry\u001b[39;00m:\n",
      "File \u001b[0;32m/usr/lib/python3.10/http/client.py:1375\u001b[0m, in \u001b[0;36mHTTPConnection.getresponse\u001b[0;34m(self)\u001b[0m\n\u001b[1;32m   1374\u001b[0m \u001b[38;5;28;01mtry\u001b[39;00m:\n\u001b[0;32m-> 1375\u001b[0m     \u001b[43mresponse\u001b[49m\u001b[38;5;241;43m.\u001b[39;49m\u001b[43mbegin\u001b[49m\u001b[43m(\u001b[49m\u001b[43m)\u001b[49m\n\u001b[1;32m   1376\u001b[0m \u001b[38;5;28;01mexcept\u001b[39;00m \u001b[38;5;167;01mConnectionError\u001b[39;00m:\n",
      "File \u001b[0;32m/usr/lib/python3.10/http/client.py:318\u001b[0m, in \u001b[0;36mHTTPResponse.begin\u001b[0;34m(self)\u001b[0m\n\u001b[1;32m    317\u001b[0m \u001b[38;5;28;01mwhile\u001b[39;00m \u001b[38;5;28;01mTrue\u001b[39;00m:\n\u001b[0;32m--> 318\u001b[0m     version, status, reason \u001b[38;5;241m=\u001b[39m \u001b[38;5;28;43mself\u001b[39;49m\u001b[38;5;241;43m.\u001b[39;49m\u001b[43m_read_status\u001b[49m\u001b[43m(\u001b[49m\u001b[43m)\u001b[49m\n\u001b[1;32m    319\u001b[0m     \u001b[38;5;28;01mif\u001b[39;00m status \u001b[38;5;241m!=\u001b[39m CONTINUE:\n",
      "File \u001b[0;32m/usr/lib/python3.10/http/client.py:287\u001b[0m, in \u001b[0;36mHTTPResponse._read_status\u001b[0;34m(self)\u001b[0m\n\u001b[1;32m    284\u001b[0m \u001b[38;5;28;01mif\u001b[39;00m \u001b[38;5;129;01mnot\u001b[39;00m line:\n\u001b[1;32m    285\u001b[0m     \u001b[38;5;66;03m# Presumably, the server closed the connection before\u001b[39;00m\n\u001b[1;32m    286\u001b[0m     \u001b[38;5;66;03m# sending a valid response.\u001b[39;00m\n\u001b[0;32m--> 287\u001b[0m     \u001b[38;5;28;01mraise\u001b[39;00m RemoteDisconnected(\u001b[38;5;124m\"\u001b[39m\u001b[38;5;124mRemote end closed connection without\u001b[39m\u001b[38;5;124m\"\u001b[39m\n\u001b[1;32m    288\u001b[0m                              \u001b[38;5;124m\"\u001b[39m\u001b[38;5;124m response\u001b[39m\u001b[38;5;124m\"\u001b[39m)\n\u001b[1;32m    289\u001b[0m \u001b[38;5;28;01mtry\u001b[39;00m:\n",
      "\u001b[0;31mRemoteDisconnected\u001b[0m: Remote end closed connection without response",
      "\nDuring handling of the above exception, another exception occurred:\n",
      "\u001b[0;31mProtocolError\u001b[0m                             Traceback (most recent call last)",
      "File \u001b[0;32m~/graph_ML_and_deep_learning_on_RDBs/venv/lib/python3.10/site-packages/requests/adapters.py:667\u001b[0m, in \u001b[0;36mHTTPAdapter.send\u001b[0;34m(self, request, stream, timeout, verify, cert, proxies)\u001b[0m\n\u001b[1;32m    666\u001b[0m \u001b[38;5;28;01mtry\u001b[39;00m:\n\u001b[0;32m--> 667\u001b[0m     resp \u001b[38;5;241m=\u001b[39m \u001b[43mconn\u001b[49m\u001b[38;5;241;43m.\u001b[39;49m\u001b[43murlopen\u001b[49m\u001b[43m(\u001b[49m\n\u001b[1;32m    668\u001b[0m \u001b[43m        \u001b[49m\u001b[43mmethod\u001b[49m\u001b[38;5;241;43m=\u001b[39;49m\u001b[43mrequest\u001b[49m\u001b[38;5;241;43m.\u001b[39;49m\u001b[43mmethod\u001b[49m\u001b[43m,\u001b[49m\n\u001b[1;32m    669\u001b[0m \u001b[43m        \u001b[49m\u001b[43murl\u001b[49m\u001b[38;5;241;43m=\u001b[39;49m\u001b[43murl\u001b[49m\u001b[43m,\u001b[49m\n\u001b[1;32m    670\u001b[0m \u001b[43m        \u001b[49m\u001b[43mbody\u001b[49m\u001b[38;5;241;43m=\u001b[39;49m\u001b[43mrequest\u001b[49m\u001b[38;5;241;43m.\u001b[39;49m\u001b[43mbody\u001b[49m\u001b[43m,\u001b[49m\n\u001b[1;32m    671\u001b[0m \u001b[43m        \u001b[49m\u001b[43mheaders\u001b[49m\u001b[38;5;241;43m=\u001b[39;49m\u001b[43mrequest\u001b[49m\u001b[38;5;241;43m.\u001b[39;49m\u001b[43mheaders\u001b[49m\u001b[43m,\u001b[49m\n\u001b[1;32m    672\u001b[0m \u001b[43m        \u001b[49m\u001b[43mredirect\u001b[49m\u001b[38;5;241;43m=\u001b[39;49m\u001b[38;5;28;43;01mFalse\u001b[39;49;00m\u001b[43m,\u001b[49m\n\u001b[1;32m    673\u001b[0m \u001b[43m        \u001b[49m\u001b[43massert_same_host\u001b[49m\u001b[38;5;241;43m=\u001b[39;49m\u001b[38;5;28;43;01mFalse\u001b[39;49;00m\u001b[43m,\u001b[49m\n\u001b[1;32m    674\u001b[0m \u001b[43m        \u001b[49m\u001b[43mpreload_content\u001b[49m\u001b[38;5;241;43m=\u001b[39;49m\u001b[38;5;28;43;01mFalse\u001b[39;49;00m\u001b[43m,\u001b[49m\n\u001b[1;32m    675\u001b[0m \u001b[43m        \u001b[49m\u001b[43mdecode_content\u001b[49m\u001b[38;5;241;43m=\u001b[39;49m\u001b[38;5;28;43;01mFalse\u001b[39;49;00m\u001b[43m,\u001b[49m\n\u001b[1;32m    676\u001b[0m \u001b[43m        \u001b[49m\u001b[43mretries\u001b[49m\u001b[38;5;241;43m=\u001b[39;49m\u001b[38;5;28;43mself\u001b[39;49m\u001b[38;5;241;43m.\u001b[39;49m\u001b[43mmax_retries\u001b[49m\u001b[43m,\u001b[49m\n\u001b[1;32m    677\u001b[0m \u001b[43m        \u001b[49m\u001b[43mtimeout\u001b[49m\u001b[38;5;241;43m=\u001b[39;49m\u001b[43mtimeout\u001b[49m\u001b[43m,\u001b[49m\n\u001b[1;32m    678\u001b[0m \u001b[43m        \u001b[49m\u001b[43mchunked\u001b[49m\u001b[38;5;241;43m=\u001b[39;49m\u001b[43mchunked\u001b[49m\u001b[43m,\u001b[49m\n\u001b[1;32m    679\u001b[0m \u001b[43m    \u001b[49m\u001b[43m)\u001b[49m\n\u001b[1;32m    681\u001b[0m \u001b[38;5;28;01mexcept\u001b[39;00m (ProtocolError, \u001b[38;5;167;01mOSError\u001b[39;00m) \u001b[38;5;28;01mas\u001b[39;00m err:\n",
      "File \u001b[0;32m~/graph_ML_and_deep_learning_on_RDBs/venv/lib/python3.10/site-packages/urllib3/connectionpool.py:841\u001b[0m, in \u001b[0;36mHTTPConnectionPool.urlopen\u001b[0;34m(self, method, url, body, headers, retries, redirect, assert_same_host, timeout, pool_timeout, release_conn, chunked, body_pos, preload_content, decode_content, **response_kw)\u001b[0m\n\u001b[1;32m    839\u001b[0m     new_e \u001b[38;5;241m=\u001b[39m ProtocolError(\u001b[38;5;124m\"\u001b[39m\u001b[38;5;124mConnection aborted.\u001b[39m\u001b[38;5;124m\"\u001b[39m, new_e)\n\u001b[0;32m--> 841\u001b[0m retries \u001b[38;5;241m=\u001b[39m \u001b[43mretries\u001b[49m\u001b[38;5;241;43m.\u001b[39;49m\u001b[43mincrement\u001b[49m\u001b[43m(\u001b[49m\n\u001b[1;32m    842\u001b[0m \u001b[43m    \u001b[49m\u001b[43mmethod\u001b[49m\u001b[43m,\u001b[49m\u001b[43m \u001b[49m\u001b[43murl\u001b[49m\u001b[43m,\u001b[49m\u001b[43m \u001b[49m\u001b[43merror\u001b[49m\u001b[38;5;241;43m=\u001b[39;49m\u001b[43mnew_e\u001b[49m\u001b[43m,\u001b[49m\u001b[43m \u001b[49m\u001b[43m_pool\u001b[49m\u001b[38;5;241;43m=\u001b[39;49m\u001b[38;5;28;43mself\u001b[39;49m\u001b[43m,\u001b[49m\u001b[43m \u001b[49m\u001b[43m_stacktrace\u001b[49m\u001b[38;5;241;43m=\u001b[39;49m\u001b[43msys\u001b[49m\u001b[38;5;241;43m.\u001b[39;49m\u001b[43mexc_info\u001b[49m\u001b[43m(\u001b[49m\u001b[43m)\u001b[49m\u001b[43m[\u001b[49m\u001b[38;5;241;43m2\u001b[39;49m\u001b[43m]\u001b[49m\n\u001b[1;32m    843\u001b[0m \u001b[43m\u001b[49m\u001b[43m)\u001b[49m\n\u001b[1;32m    844\u001b[0m retries\u001b[38;5;241m.\u001b[39msleep()\n",
      "File \u001b[0;32m~/graph_ML_and_deep_learning_on_RDBs/venv/lib/python3.10/site-packages/urllib3/util/retry.py:474\u001b[0m, in \u001b[0;36mRetry.increment\u001b[0;34m(self, method, url, response, error, _pool, _stacktrace)\u001b[0m\n\u001b[1;32m    473\u001b[0m \u001b[38;5;28;01mif\u001b[39;00m read \u001b[38;5;129;01mis\u001b[39;00m \u001b[38;5;28;01mFalse\u001b[39;00m \u001b[38;5;129;01mor\u001b[39;00m method \u001b[38;5;129;01mis\u001b[39;00m \u001b[38;5;28;01mNone\u001b[39;00m \u001b[38;5;129;01mor\u001b[39;00m \u001b[38;5;129;01mnot\u001b[39;00m \u001b[38;5;28mself\u001b[39m\u001b[38;5;241m.\u001b[39m_is_method_retryable(method):\n\u001b[0;32m--> 474\u001b[0m     \u001b[38;5;28;01mraise\u001b[39;00m \u001b[43mreraise\u001b[49m\u001b[43m(\u001b[49m\u001b[38;5;28;43mtype\u001b[39;49m\u001b[43m(\u001b[49m\u001b[43merror\u001b[49m\u001b[43m)\u001b[49m\u001b[43m,\u001b[49m\u001b[43m \u001b[49m\u001b[43merror\u001b[49m\u001b[43m,\u001b[49m\u001b[43m \u001b[49m\u001b[43m_stacktrace\u001b[49m\u001b[43m)\u001b[49m\n\u001b[1;32m    475\u001b[0m \u001b[38;5;28;01melif\u001b[39;00m read \u001b[38;5;129;01mis\u001b[39;00m \u001b[38;5;129;01mnot\u001b[39;00m \u001b[38;5;28;01mNone\u001b[39;00m:\n",
      "File \u001b[0;32m~/graph_ML_and_deep_learning_on_RDBs/venv/lib/python3.10/site-packages/urllib3/util/util.py:38\u001b[0m, in \u001b[0;36mreraise\u001b[0;34m(tp, value, tb)\u001b[0m\n\u001b[1;32m     37\u001b[0m \u001b[38;5;28;01mif\u001b[39;00m value\u001b[38;5;241m.\u001b[39m__traceback__ \u001b[38;5;129;01mis\u001b[39;00m \u001b[38;5;129;01mnot\u001b[39;00m tb:\n\u001b[0;32m---> 38\u001b[0m     \u001b[38;5;28;01mraise\u001b[39;00m value\u001b[38;5;241m.\u001b[39mwith_traceback(tb)\n\u001b[1;32m     39\u001b[0m \u001b[38;5;28;01mraise\u001b[39;00m value\n",
      "File \u001b[0;32m~/graph_ML_and_deep_learning_on_RDBs/venv/lib/python3.10/site-packages/urllib3/connectionpool.py:787\u001b[0m, in \u001b[0;36mHTTPConnectionPool.urlopen\u001b[0;34m(self, method, url, body, headers, retries, redirect, assert_same_host, timeout, pool_timeout, release_conn, chunked, body_pos, preload_content, decode_content, **response_kw)\u001b[0m\n\u001b[1;32m    786\u001b[0m \u001b[38;5;66;03m# Make the request on the HTTPConnection object\u001b[39;00m\n\u001b[0;32m--> 787\u001b[0m response \u001b[38;5;241m=\u001b[39m \u001b[38;5;28;43mself\u001b[39;49m\u001b[38;5;241;43m.\u001b[39;49m\u001b[43m_make_request\u001b[49m\u001b[43m(\u001b[49m\n\u001b[1;32m    788\u001b[0m \u001b[43m    \u001b[49m\u001b[43mconn\u001b[49m\u001b[43m,\u001b[49m\n\u001b[1;32m    789\u001b[0m \u001b[43m    \u001b[49m\u001b[43mmethod\u001b[49m\u001b[43m,\u001b[49m\n\u001b[1;32m    790\u001b[0m \u001b[43m    \u001b[49m\u001b[43murl\u001b[49m\u001b[43m,\u001b[49m\n\u001b[1;32m    791\u001b[0m \u001b[43m    \u001b[49m\u001b[43mtimeout\u001b[49m\u001b[38;5;241;43m=\u001b[39;49m\u001b[43mtimeout_obj\u001b[49m\u001b[43m,\u001b[49m\n\u001b[1;32m    792\u001b[0m \u001b[43m    \u001b[49m\u001b[43mbody\u001b[49m\u001b[38;5;241;43m=\u001b[39;49m\u001b[43mbody\u001b[49m\u001b[43m,\u001b[49m\n\u001b[1;32m    793\u001b[0m \u001b[43m    \u001b[49m\u001b[43mheaders\u001b[49m\u001b[38;5;241;43m=\u001b[39;49m\u001b[43mheaders\u001b[49m\u001b[43m,\u001b[49m\n\u001b[1;32m    794\u001b[0m \u001b[43m    \u001b[49m\u001b[43mchunked\u001b[49m\u001b[38;5;241;43m=\u001b[39;49m\u001b[43mchunked\u001b[49m\u001b[43m,\u001b[49m\n\u001b[1;32m    795\u001b[0m \u001b[43m    \u001b[49m\u001b[43mretries\u001b[49m\u001b[38;5;241;43m=\u001b[39;49m\u001b[43mretries\u001b[49m\u001b[43m,\u001b[49m\n\u001b[1;32m    796\u001b[0m \u001b[43m    \u001b[49m\u001b[43mresponse_conn\u001b[49m\u001b[38;5;241;43m=\u001b[39;49m\u001b[43mresponse_conn\u001b[49m\u001b[43m,\u001b[49m\n\u001b[1;32m    797\u001b[0m \u001b[43m    \u001b[49m\u001b[43mpreload_content\u001b[49m\u001b[38;5;241;43m=\u001b[39;49m\u001b[43mpreload_content\u001b[49m\u001b[43m,\u001b[49m\n\u001b[1;32m    798\u001b[0m \u001b[43m    \u001b[49m\u001b[43mdecode_content\u001b[49m\u001b[38;5;241;43m=\u001b[39;49m\u001b[43mdecode_content\u001b[49m\u001b[43m,\u001b[49m\n\u001b[1;32m    799\u001b[0m \u001b[43m    \u001b[49m\u001b[38;5;241;43m*\u001b[39;49m\u001b[38;5;241;43m*\u001b[39;49m\u001b[43mresponse_kw\u001b[49m\u001b[43m,\u001b[49m\n\u001b[1;32m    800\u001b[0m \u001b[43m\u001b[49m\u001b[43m)\u001b[49m\n\u001b[1;32m    802\u001b[0m \u001b[38;5;66;03m# Everything went great!\u001b[39;00m\n",
      "File \u001b[0;32m~/graph_ML_and_deep_learning_on_RDBs/venv/lib/python3.10/site-packages/urllib3/connectionpool.py:534\u001b[0m, in \u001b[0;36mHTTPConnectionPool._make_request\u001b[0;34m(self, conn, method, url, body, headers, retries, timeout, chunked, response_conn, preload_content, decode_content, enforce_content_length)\u001b[0m\n\u001b[1;32m    533\u001b[0m \u001b[38;5;28;01mtry\u001b[39;00m:\n\u001b[0;32m--> 534\u001b[0m     response \u001b[38;5;241m=\u001b[39m \u001b[43mconn\u001b[49m\u001b[38;5;241;43m.\u001b[39;49m\u001b[43mgetresponse\u001b[49m\u001b[43m(\u001b[49m\u001b[43m)\u001b[49m\n\u001b[1;32m    535\u001b[0m \u001b[38;5;28;01mexcept\u001b[39;00m (BaseSSLError, \u001b[38;5;167;01mOSError\u001b[39;00m) \u001b[38;5;28;01mas\u001b[39;00m e:\n",
      "File \u001b[0;32m~/graph_ML_and_deep_learning_on_RDBs/venv/lib/python3.10/site-packages/urllib3/connection.py:565\u001b[0m, in \u001b[0;36mHTTPConnection.getresponse\u001b[0;34m(self)\u001b[0m\n\u001b[1;32m    564\u001b[0m \u001b[38;5;66;03m# Get the response from http.client.HTTPConnection\u001b[39;00m\n\u001b[0;32m--> 565\u001b[0m httplib_response \u001b[38;5;241m=\u001b[39m \u001b[38;5;28;43msuper\u001b[39;49m\u001b[43m(\u001b[49m\u001b[43m)\u001b[49m\u001b[38;5;241;43m.\u001b[39;49m\u001b[43mgetresponse\u001b[49m\u001b[43m(\u001b[49m\u001b[43m)\u001b[49m\n\u001b[1;32m    567\u001b[0m \u001b[38;5;28;01mtry\u001b[39;00m:\n",
      "File \u001b[0;32m/usr/lib/python3.10/http/client.py:1375\u001b[0m, in \u001b[0;36mHTTPConnection.getresponse\u001b[0;34m(self)\u001b[0m\n\u001b[1;32m   1374\u001b[0m \u001b[38;5;28;01mtry\u001b[39;00m:\n\u001b[0;32m-> 1375\u001b[0m     \u001b[43mresponse\u001b[49m\u001b[38;5;241;43m.\u001b[39;49m\u001b[43mbegin\u001b[49m\u001b[43m(\u001b[49m\u001b[43m)\u001b[49m\n\u001b[1;32m   1376\u001b[0m \u001b[38;5;28;01mexcept\u001b[39;00m \u001b[38;5;167;01mConnectionError\u001b[39;00m:\n",
      "File \u001b[0;32m/usr/lib/python3.10/http/client.py:318\u001b[0m, in \u001b[0;36mHTTPResponse.begin\u001b[0;34m(self)\u001b[0m\n\u001b[1;32m    317\u001b[0m \u001b[38;5;28;01mwhile\u001b[39;00m \u001b[38;5;28;01mTrue\u001b[39;00m:\n\u001b[0;32m--> 318\u001b[0m     version, status, reason \u001b[38;5;241m=\u001b[39m \u001b[38;5;28;43mself\u001b[39;49m\u001b[38;5;241;43m.\u001b[39;49m\u001b[43m_read_status\u001b[49m\u001b[43m(\u001b[49m\u001b[43m)\u001b[49m\n\u001b[1;32m    319\u001b[0m     \u001b[38;5;28;01mif\u001b[39;00m status \u001b[38;5;241m!=\u001b[39m CONTINUE:\n",
      "File \u001b[0;32m/usr/lib/python3.10/http/client.py:287\u001b[0m, in \u001b[0;36mHTTPResponse._read_status\u001b[0;34m(self)\u001b[0m\n\u001b[1;32m    284\u001b[0m \u001b[38;5;28;01mif\u001b[39;00m \u001b[38;5;129;01mnot\u001b[39;00m line:\n\u001b[1;32m    285\u001b[0m     \u001b[38;5;66;03m# Presumably, the server closed the connection before\u001b[39;00m\n\u001b[1;32m    286\u001b[0m     \u001b[38;5;66;03m# sending a valid response.\u001b[39;00m\n\u001b[0;32m--> 287\u001b[0m     \u001b[38;5;28;01mraise\u001b[39;00m RemoteDisconnected(\u001b[38;5;124m\"\u001b[39m\u001b[38;5;124mRemote end closed connection without\u001b[39m\u001b[38;5;124m\"\u001b[39m\n\u001b[1;32m    288\u001b[0m                              \u001b[38;5;124m\"\u001b[39m\u001b[38;5;124m response\u001b[39m\u001b[38;5;124m\"\u001b[39m)\n\u001b[1;32m    289\u001b[0m \u001b[38;5;28;01mtry\u001b[39;00m:\n",
      "\u001b[0;31mProtocolError\u001b[0m: ('Connection aborted.', RemoteDisconnected('Remote end closed connection without response'))",
      "\nDuring handling of the above exception, another exception occurred:\n",
      "\u001b[0;31mConnectionError\u001b[0m                           Traceback (most recent call last)",
      "Cell \u001b[0;32mIn[215], line 2\u001b[0m\n\u001b[1;32m      1\u001b[0m query \u001b[38;5;241m=\u001b[39m \u001b[38;5;124m\"\"\"\u001b[39m\u001b[38;5;124mPREDICT COUNT(uploads.* where items.size_gb=50, 0, 5, hours)>0 FOR users.user_id = 5\u001b[39m\u001b[38;5;124m\"\"\"\u001b[39m\n\u001b[0;32m----> 2\u001b[0m \u001b[43mmodel\u001b[49m\u001b[38;5;241;43m.\u001b[39;49m\u001b[43mpredict\u001b[49m\u001b[43m(\u001b[49m\u001b[43mquery\u001b[49m\u001b[43m,\u001b[49m\u001b[43m \u001b[49m\u001b[43manchor_time\u001b[49m\u001b[38;5;241;43m=\u001b[39;49m\u001b[43mpd\u001b[49m\u001b[38;5;241;43m.\u001b[39;49m\u001b[43mTimestamp\u001b[49m\u001b[43m(\u001b[49m\u001b[38;5;124;43m\"\u001b[39;49m\u001b[38;5;124;43m2025-03-02\u001b[39;49m\u001b[38;5;124;43m\"\u001b[39;49m\u001b[43m)\u001b[49m\u001b[43m,\u001b[49m\u001b[43m \u001b[49m\u001b[43mverbose\u001b[49m\u001b[38;5;241;43m=\u001b[39;49m\u001b[38;5;28;43;01mFalse\u001b[39;49;00m\u001b[43m)\u001b[49m\n",
      "File \u001b[0;32m~/graph_ML_and_deep_learning_on_RDBs/venv/lib/python3.10/site-packages/kumoai/experimental/rfm/rfm.py:114\u001b[0m, in \u001b[0;36mKumoRFM.predict\u001b[0;34m(self, query, anchor_time, run_mode, num_hops, random_seed, verbose)\u001b[0m\n\u001b[1;32m     98\u001b[0m \u001b[38;5;250m\u001b[39m\u001b[38;5;124;03m\"\"\"Returns predictions for a predictive query.\u001b[39;00m\n\u001b[1;32m     99\u001b[0m \n\u001b[1;32m    100\u001b[0m \u001b[38;5;124;03mArgs:\u001b[39;00m\n\u001b[0;32m   (...)\u001b[0m\n\u001b[1;32m    111\u001b[0m \u001b[38;5;124;03m    The predictions as a :class:`pandas.DataFrame`\u001b[39;00m\n\u001b[1;32m    112\u001b[0m \u001b[38;5;124;03m\"\"\"\u001b[39;00m\n\u001b[1;32m    113\u001b[0m explain \u001b[38;5;241m=\u001b[39m \u001b[38;5;28;01mFalse\u001b[39;00m\n\u001b[0;32m--> 114\u001b[0m query_def \u001b[38;5;241m=\u001b[39m \u001b[38;5;28;43mself\u001b[39;49m\u001b[38;5;241;43m.\u001b[39;49m\u001b[43m_parse_query\u001b[49m\u001b[43m(\u001b[49m\u001b[43mquery\u001b[49m\u001b[43m)\u001b[49m\n\u001b[1;32m    116\u001b[0m \u001b[38;5;28;01mif\u001b[39;00m explain \u001b[38;5;129;01mand\u001b[39;00m run_mode \u001b[38;5;129;01min\u001b[39;00m {RunMode\u001b[38;5;241m.\u001b[39mNORMAL, RunMode\u001b[38;5;241m.\u001b[39mBEST}:\n\u001b[1;32m    117\u001b[0m     warnings\u001b[38;5;241m.\u001b[39mwarn(\u001b[38;5;124mf\u001b[39m\u001b[38;5;124m\"\u001b[39m\u001b[38;5;124mExplainability is currently only supported for \u001b[39m\u001b[38;5;124m\"\u001b[39m\n\u001b[1;32m    118\u001b[0m                   \u001b[38;5;124mf\u001b[39m\u001b[38;5;124m\"\u001b[39m\u001b[38;5;124mrun mode \u001b[39m\u001b[38;5;124m'\u001b[39m\u001b[38;5;124mFAST\u001b[39m\u001b[38;5;124m'\u001b[39m\u001b[38;5;124m (got \u001b[39m\u001b[38;5;124m'\u001b[39m\u001b[38;5;132;01m{\u001b[39;00mrun_mode\u001b[38;5;132;01m}\u001b[39;00m\u001b[38;5;124m'\u001b[39m\u001b[38;5;124m). Provided run \u001b[39m\u001b[38;5;124m\"\u001b[39m\n\u001b[1;32m    119\u001b[0m                   \u001b[38;5;124mf\u001b[39m\u001b[38;5;124m\"\u001b[39m\u001b[38;5;124mmode has been reset. Please lower the run mode to \u001b[39m\u001b[38;5;124m\"\u001b[39m\n\u001b[1;32m    120\u001b[0m                   \u001b[38;5;124mf\u001b[39m\u001b[38;5;124m\"\u001b[39m\u001b[38;5;124msuppress this warning.\u001b[39m\u001b[38;5;124m\"\u001b[39m)\n",
      "File \u001b[0;32m~/graph_ML_and_deep_learning_on_RDBs/venv/lib/python3.10/site-packages/kumoai/experimental/rfm/rfm.py:315\u001b[0m, in \u001b[0;36mKumoRFM._parse_query\u001b[0;34m(self, query)\u001b[0m\n\u001b[1;32m    309\u001b[0m \u001b[38;5;28;01mtry\u001b[39;00m:\n\u001b[1;32m    310\u001b[0m     request \u001b[38;5;241m=\u001b[39m RFMValidateQueryRequest(\n\u001b[1;32m    311\u001b[0m         query\u001b[38;5;241m=\u001b[39mquery,\n\u001b[1;32m    312\u001b[0m         graph_definition\u001b[38;5;241m=\u001b[39m\u001b[38;5;28mself\u001b[39m\u001b[38;5;241m.\u001b[39m_graph_def,\n\u001b[1;32m    313\u001b[0m     )\n\u001b[0;32m--> 315\u001b[0m     resp \u001b[38;5;241m=\u001b[39m \u001b[43mglobal_state\u001b[49m\u001b[38;5;241;43m.\u001b[39;49m\u001b[43mclient\u001b[49m\u001b[38;5;241;43m.\u001b[39;49m\u001b[43mrfm_api\u001b[49m\u001b[38;5;241;43m.\u001b[39;49m\u001b[43mvalidate_query\u001b[49m\u001b[43m(\u001b[49m\u001b[43mrequest\u001b[49m\u001b[43m)\u001b[49m\n\u001b[1;32m    316\u001b[0m     \u001b[38;5;66;03m# TODO Expose validation warnings.\u001b[39;00m\n\u001b[1;32m    318\u001b[0m     \u001b[38;5;28;01mif\u001b[39;00m \u001b[38;5;28mlen\u001b[39m(resp\u001b[38;5;241m.\u001b[39mvalidation_response\u001b[38;5;241m.\u001b[39mwarnings) \u001b[38;5;241m>\u001b[39m \u001b[38;5;241m0\u001b[39m:\n",
      "File \u001b[0;32m~/graph_ML_and_deep_learning_on_RDBs/venv/lib/python3.10/site-packages/kumoai/client/rfm.py:97\u001b[0m, in \u001b[0;36mRFMAPI.validate_query\u001b[0;34m(self, request)\u001b[0m\n\u001b[1;32m     84\u001b[0m \u001b[38;5;28;01mdef\u001b[39;00m\u001b[38;5;250m \u001b[39m\u001b[38;5;21mvalidate_query\u001b[39m(\n\u001b[1;32m     85\u001b[0m     \u001b[38;5;28mself\u001b[39m,\n\u001b[1;32m     86\u001b[0m     request: RFMValidateQueryRequest,\n\u001b[1;32m     87\u001b[0m ) \u001b[38;5;241m-\u001b[39m\u001b[38;5;241m>\u001b[39m RFMValidateQueryResponse:\n\u001b[1;32m     88\u001b[0m \u001b[38;5;250m    \u001b[39m\u001b[38;5;124;03m\"\"\"Validate a predictive query against a graph.\u001b[39;00m\n\u001b[1;32m     89\u001b[0m \n\u001b[1;32m     90\u001b[0m \u001b[38;5;124;03m    Args:\u001b[39;00m\n\u001b[0;32m   (...)\u001b[0m\n\u001b[1;32m     95\u001b[0m \u001b[38;5;124;03m        RFMValidateQueryResponse containing the QueryDefinition\u001b[39;00m\n\u001b[1;32m     96\u001b[0m \u001b[38;5;124;03m    \"\"\"\u001b[39;00m\n\u001b[0;32m---> 97\u001b[0m     response \u001b[38;5;241m=\u001b[39m \u001b[38;5;28;43mself\u001b[39;49m\u001b[38;5;241;43m.\u001b[39;49m\u001b[43m_client\u001b[49m\u001b[38;5;241;43m.\u001b[39;49m\u001b[43m_request\u001b[49m\u001b[43m(\u001b[49m\u001b[43mRFMEndpoints\u001b[49m\u001b[38;5;241;43m.\u001b[39;49m\u001b[43mvalidate_query\u001b[49m\u001b[43m,\u001b[49m\n\u001b[1;32m     98\u001b[0m \u001b[43m                                     \u001b[49m\u001b[43mjson\u001b[49m\u001b[38;5;241;43m=\u001b[39;49m\u001b[43mto_json_dict\u001b[49m\u001b[43m(\u001b[49m\u001b[43mrequest\u001b[49m\u001b[43m)\u001b[49m\u001b[43m)\u001b[49m\n\u001b[1;32m     99\u001b[0m     raise_on_error(response)\n\u001b[1;32m    100\u001b[0m     \u001b[38;5;28;01mreturn\u001b[39;00m parse_response(RFMValidateQueryResponse, response)\n",
      "File \u001b[0;32m~/graph_ML_and_deep_learning_on_RDBs/venv/lib/python3.10/site-packages/kumoai/client/client.py:165\u001b[0m, in \u001b[0;36mKumoClient._request\u001b[0;34m(self, endpoint, **kwargs)\u001b[0m\n\u001b[1;32m    163\u001b[0m     \u001b[38;5;28;01mreturn\u001b[39;00m \u001b[38;5;28mself\u001b[39m\u001b[38;5;241m.\u001b[39m_get(endpoint_str, \u001b[38;5;241m*\u001b[39m\u001b[38;5;241m*\u001b[39mkwargs)\n\u001b[1;32m    164\u001b[0m \u001b[38;5;28;01melif\u001b[39;00m endpoint\u001b[38;5;241m.\u001b[39mmethod \u001b[38;5;241m==\u001b[39m HTTPMethod\u001b[38;5;241m.\u001b[39mPOST:\n\u001b[0;32m--> 165\u001b[0m     \u001b[38;5;28;01mreturn\u001b[39;00m \u001b[38;5;28;43mself\u001b[39;49m\u001b[38;5;241;43m.\u001b[39;49m\u001b[43m_post\u001b[49m\u001b[43m(\u001b[49m\u001b[43mendpoint_str\u001b[49m\u001b[43m,\u001b[49m\u001b[43m \u001b[49m\u001b[38;5;241;43m*\u001b[39;49m\u001b[38;5;241;43m*\u001b[39;49m\u001b[43mkwargs\u001b[49m\u001b[43m)\u001b[49m\n\u001b[1;32m    166\u001b[0m \u001b[38;5;28;01melif\u001b[39;00m endpoint\u001b[38;5;241m.\u001b[39mmethod \u001b[38;5;241m==\u001b[39m HTTPMethod\u001b[38;5;241m.\u001b[39mPATCH:\n\u001b[1;32m    167\u001b[0m     \u001b[38;5;28;01mreturn\u001b[39;00m \u001b[38;5;28mself\u001b[39m\u001b[38;5;241m.\u001b[39m_patch(endpoint_str, \u001b[38;5;241m*\u001b[39m\u001b[38;5;241m*\u001b[39mkwargs)\n",
      "File \u001b[0;32m~/graph_ML_and_deep_learning_on_RDBs/venv/lib/python3.10/site-packages/kumoai/client/client.py:187\u001b[0m, in \u001b[0;36mKumoClient._post\u001b[0;34m(self, endpoint, **kwargs)\u001b[0m\n\u001b[1;32m    182\u001b[0m \u001b[38;5;250m\u001b[39m\u001b[38;5;124mr\u001b[39m\u001b[38;5;124;03m\"\"\"Send a POST request to the specified endpoint, with keyword\u001b[39;00m\n\u001b[1;32m    183\u001b[0m \u001b[38;5;124;03marguments, returned objects, and exceptions raised corresponding to\u001b[39;00m\n\u001b[1;32m    184\u001b[0m \u001b[38;5;124;03m:meth:`requests.Session.post`.\u001b[39;00m\n\u001b[1;32m    185\u001b[0m \u001b[38;5;124;03m\"\"\"\u001b[39;00m\n\u001b[1;32m    186\u001b[0m url \u001b[38;5;241m=\u001b[39m \u001b[38;5;28mself\u001b[39m\u001b[38;5;241m.\u001b[39m_format_endpoint_url(endpoint)\n\u001b[0;32m--> 187\u001b[0m \u001b[38;5;28;01mreturn\u001b[39;00m \u001b[38;5;28;43mself\u001b[39;49m\u001b[38;5;241;43m.\u001b[39;49m\u001b[43m_session\u001b[49m\u001b[38;5;241;43m.\u001b[39;49m\u001b[43mpost\u001b[49m\u001b[43m(\u001b[49m\u001b[43murl\u001b[49m\u001b[38;5;241;43m=\u001b[39;49m\u001b[43murl\u001b[49m\u001b[43m,\u001b[49m\u001b[43m \u001b[49m\u001b[38;5;241;43m*\u001b[39;49m\u001b[38;5;241;43m*\u001b[39;49m\u001b[43mkwargs\u001b[49m\u001b[43m)\u001b[49m\n",
      "File \u001b[0;32m~/graph_ML_and_deep_learning_on_RDBs/venv/lib/python3.10/site-packages/requests/sessions.py:637\u001b[0m, in \u001b[0;36mSession.post\u001b[0;34m(self, url, data, json, **kwargs)\u001b[0m\n\u001b[1;32m    626\u001b[0m \u001b[38;5;28;01mdef\u001b[39;00m\u001b[38;5;250m \u001b[39m\u001b[38;5;21mpost\u001b[39m(\u001b[38;5;28mself\u001b[39m, url, data\u001b[38;5;241m=\u001b[39m\u001b[38;5;28;01mNone\u001b[39;00m, json\u001b[38;5;241m=\u001b[39m\u001b[38;5;28;01mNone\u001b[39;00m, \u001b[38;5;241m*\u001b[39m\u001b[38;5;241m*\u001b[39mkwargs):\n\u001b[1;32m    627\u001b[0m \u001b[38;5;250m    \u001b[39m\u001b[38;5;124mr\u001b[39m\u001b[38;5;124;03m\"\"\"Sends a POST request. Returns :class:`Response` object.\u001b[39;00m\n\u001b[1;32m    628\u001b[0m \n\u001b[1;32m    629\u001b[0m \u001b[38;5;124;03m    :param url: URL for the new :class:`Request` object.\u001b[39;00m\n\u001b[0;32m   (...)\u001b[0m\n\u001b[1;32m    634\u001b[0m \u001b[38;5;124;03m    :rtype: requests.Response\u001b[39;00m\n\u001b[1;32m    635\u001b[0m \u001b[38;5;124;03m    \"\"\"\u001b[39;00m\n\u001b[0;32m--> 637\u001b[0m     \u001b[38;5;28;01mreturn\u001b[39;00m \u001b[38;5;28;43mself\u001b[39;49m\u001b[38;5;241;43m.\u001b[39;49m\u001b[43mrequest\u001b[49m\u001b[43m(\u001b[49m\u001b[38;5;124;43m\"\u001b[39;49m\u001b[38;5;124;43mPOST\u001b[39;49m\u001b[38;5;124;43m\"\u001b[39;49m\u001b[43m,\u001b[49m\u001b[43m \u001b[49m\u001b[43murl\u001b[49m\u001b[43m,\u001b[49m\u001b[43m \u001b[49m\u001b[43mdata\u001b[49m\u001b[38;5;241;43m=\u001b[39;49m\u001b[43mdata\u001b[49m\u001b[43m,\u001b[49m\u001b[43m \u001b[49m\u001b[43mjson\u001b[49m\u001b[38;5;241;43m=\u001b[39;49m\u001b[43mjson\u001b[49m\u001b[43m,\u001b[49m\u001b[43m \u001b[49m\u001b[38;5;241;43m*\u001b[39;49m\u001b[38;5;241;43m*\u001b[39;49m\u001b[43mkwargs\u001b[49m\u001b[43m)\u001b[49m\n",
      "File \u001b[0;32m~/graph_ML_and_deep_learning_on_RDBs/venv/lib/python3.10/site-packages/requests/sessions.py:589\u001b[0m, in \u001b[0;36mSession.request\u001b[0;34m(self, method, url, params, data, headers, cookies, files, auth, timeout, allow_redirects, proxies, hooks, stream, verify, cert, json)\u001b[0m\n\u001b[1;32m    584\u001b[0m send_kwargs \u001b[38;5;241m=\u001b[39m {\n\u001b[1;32m    585\u001b[0m     \u001b[38;5;124m\"\u001b[39m\u001b[38;5;124mtimeout\u001b[39m\u001b[38;5;124m\"\u001b[39m: timeout,\n\u001b[1;32m    586\u001b[0m     \u001b[38;5;124m\"\u001b[39m\u001b[38;5;124mallow_redirects\u001b[39m\u001b[38;5;124m\"\u001b[39m: allow_redirects,\n\u001b[1;32m    587\u001b[0m }\n\u001b[1;32m    588\u001b[0m send_kwargs\u001b[38;5;241m.\u001b[39mupdate(settings)\n\u001b[0;32m--> 589\u001b[0m resp \u001b[38;5;241m=\u001b[39m \u001b[38;5;28;43mself\u001b[39;49m\u001b[38;5;241;43m.\u001b[39;49m\u001b[43msend\u001b[49m\u001b[43m(\u001b[49m\u001b[43mprep\u001b[49m\u001b[43m,\u001b[49m\u001b[43m \u001b[49m\u001b[38;5;241;43m*\u001b[39;49m\u001b[38;5;241;43m*\u001b[39;49m\u001b[43msend_kwargs\u001b[49m\u001b[43m)\u001b[49m\n\u001b[1;32m    591\u001b[0m \u001b[38;5;28;01mreturn\u001b[39;00m resp\n",
      "File \u001b[0;32m~/graph_ML_and_deep_learning_on_RDBs/venv/lib/python3.10/site-packages/requests/sessions.py:703\u001b[0m, in \u001b[0;36mSession.send\u001b[0;34m(self, request, **kwargs)\u001b[0m\n\u001b[1;32m    700\u001b[0m start \u001b[38;5;241m=\u001b[39m preferred_clock()\n\u001b[1;32m    702\u001b[0m \u001b[38;5;66;03m# Send the request\u001b[39;00m\n\u001b[0;32m--> 703\u001b[0m r \u001b[38;5;241m=\u001b[39m \u001b[43madapter\u001b[49m\u001b[38;5;241;43m.\u001b[39;49m\u001b[43msend\u001b[49m\u001b[43m(\u001b[49m\u001b[43mrequest\u001b[49m\u001b[43m,\u001b[49m\u001b[43m \u001b[49m\u001b[38;5;241;43m*\u001b[39;49m\u001b[38;5;241;43m*\u001b[39;49m\u001b[43mkwargs\u001b[49m\u001b[43m)\u001b[49m\n\u001b[1;32m    705\u001b[0m \u001b[38;5;66;03m# Total elapsed time of the request (approximately)\u001b[39;00m\n\u001b[1;32m    706\u001b[0m elapsed \u001b[38;5;241m=\u001b[39m preferred_clock() \u001b[38;5;241m-\u001b[39m start\n",
      "File \u001b[0;32m~/graph_ML_and_deep_learning_on_RDBs/venv/lib/python3.10/site-packages/requests/adapters.py:682\u001b[0m, in \u001b[0;36mHTTPAdapter.send\u001b[0;34m(self, request, stream, timeout, verify, cert, proxies)\u001b[0m\n\u001b[1;32m    667\u001b[0m     resp \u001b[38;5;241m=\u001b[39m conn\u001b[38;5;241m.\u001b[39murlopen(\n\u001b[1;32m    668\u001b[0m         method\u001b[38;5;241m=\u001b[39mrequest\u001b[38;5;241m.\u001b[39mmethod,\n\u001b[1;32m    669\u001b[0m         url\u001b[38;5;241m=\u001b[39murl,\n\u001b[0;32m   (...)\u001b[0m\n\u001b[1;32m    678\u001b[0m         chunked\u001b[38;5;241m=\u001b[39mchunked,\n\u001b[1;32m    679\u001b[0m     )\n\u001b[1;32m    681\u001b[0m \u001b[38;5;28;01mexcept\u001b[39;00m (ProtocolError, \u001b[38;5;167;01mOSError\u001b[39;00m) \u001b[38;5;28;01mas\u001b[39;00m err:\n\u001b[0;32m--> 682\u001b[0m     \u001b[38;5;28;01mraise\u001b[39;00m \u001b[38;5;167;01mConnectionError\u001b[39;00m(err, request\u001b[38;5;241m=\u001b[39mrequest)\n\u001b[1;32m    684\u001b[0m \u001b[38;5;28;01mexcept\u001b[39;00m MaxRetryError \u001b[38;5;28;01mas\u001b[39;00m e:\n\u001b[1;32m    685\u001b[0m     \u001b[38;5;28;01mif\u001b[39;00m \u001b[38;5;28misinstance\u001b[39m(e\u001b[38;5;241m.\u001b[39mreason, ConnectTimeoutError):\n\u001b[1;32m    686\u001b[0m         \u001b[38;5;66;03m# TODO: Remove this in 3.0.0: see #2811\u001b[39;00m\n",
      "\u001b[0;31mConnectionError\u001b[0m: ('Connection aborted.', RemoteDisconnected('Remote end closed connection without response'))"
     ]
    }
   ],
   "source": [
    "query = \"\"\"PREDICT COUNT(uploads.* where items.size_gb=50, 0, 5, hours)>0 FOR users.user_id = 5\"\"\"\n",
    "model.predict(query, anchor_time=pd.Timestamp(\"2025-03-02\"), verbose=False)"
   ]
  },
  {
   "cell_type": "markdown",
   "id": "fe6b03be",
   "metadata": {},
   "source": [
    "# ADD SIZE_GB TO UPLOADS (and ignore items)"
   ]
  },
  {
   "cell_type": "code",
   "execution_count": 274,
   "id": "5c1661a4",
   "metadata": {},
   "outputs": [],
   "source": [
    "def get_details_by_user(uid, hours1, hours2, nhops=2):\n",
    "    print(f\"User: {uid}\")\n",
    "    one_user_tiers = tiers_df.loc[tiers_df.user_id==uid]\n",
    "    for _, r in one_user_tiers.iterrows():\n",
    "        uid = r['user_id']\n",
    "        from_datetime_plus = pd.Timestamp(r['from_datetime']) + timedelta(hours=hours1)\n",
    "        until_datetime_minus = pd.Timestamp(r['until_datetime']) - timedelta(hours=hours1)\n",
    "        middle_datetime = from_datetime_plus + (until_datetime_minus - from_datetime_plus)/2\n",
    "        status = r['status']\n",
    "        if status == 'free':\n",
    "            actual_prob = 0\n",
    "        else:\n",
    "            actual_prob = 1 - math.exp(-hours2*0.1)\n",
    "        print(\"====================================\")\n",
    "        print(f\"User: {uid}. Status: {status}\")\n",
    "        query = f\"\"\"PREDICT COUNT(uploads.* where uploads.size_gb=50, 0, {hours2}, hours)>0 FOR users.user_id = {uid}\"\"\"\n",
    "        pred_df = model.predict(query, anchor_time=from_datetime_plus, verbose=False, num_hops=nhops)\n",
    "        print(f\"     Anchor time: {from_datetime_plus}. Prob 50GB upload within next {hours2} hours: {pred_df['True_PROB'].iloc[0]}. Actual: {actual_prob}\")\n",
    "        pred_df = model.predict(query, anchor_time=middle_datetime, verbose=False, num_hops=nhops)\n",
    "        print(f\"     Anchor time: {middle_datetime}. Prob 50GB upload within next {hours2} hours: {pred_df['True_PROB'].iloc[0]}. Actual: {actual_prob}\")\n",
    "        pred_df = model.predict(query, anchor_time=until_datetime_minus, verbose=False, num_hops=nhops)\n",
    "        print(f\"     Anchor time: {until_datetime_minus}. Prob 50GB upload within next {hours2} hours: {pred_df['True_PROB'].iloc[0]}. Actual: {actual_prob}\")"
   ]
  },
  {
   "cell_type": "code",
   "execution_count": 275,
   "id": "29977195",
   "metadata": {},
   "outputs": [],
   "source": [
    "users_df = pd.read_csv(USERS_CSV)\n",
    "tiers_df = pd.read_csv(TIERS_CSV)\n",
    "items_df = pd.read_csv(ITEMS_CSV)\n",
    "uploads_df = pd.read_csv(UPLOADS_CSV)\n",
    "\n",
    "uploads_df = uploads_df.merge(items_df)"
   ]
  },
  {
   "cell_type": "code",
   "execution_count": 276,
   "id": "3f6296ee",
   "metadata": {},
   "outputs": [
    {
     "data": {
      "text/html": [
       "<div>\n",
       "<style scoped>\n",
       "    .dataframe tbody tr th:only-of-type {\n",
       "        vertical-align: middle;\n",
       "    }\n",
       "\n",
       "    .dataframe tbody tr th {\n",
       "        vertical-align: top;\n",
       "    }\n",
       "\n",
       "    .dataframe thead th {\n",
       "        text-align: right;\n",
       "    }\n",
       "</style>\n",
       "<table border=\"1\" class=\"dataframe\">\n",
       "  <thead>\n",
       "    <tr style=\"text-align: right;\">\n",
       "      <th></th>\n",
       "      <th>user_id</th>\n",
       "      <th>name</th>\n",
       "    </tr>\n",
       "  </thead>\n",
       "  <tbody>\n",
       "    <tr>\n",
       "      <th>0</th>\n",
       "      <td>1</td>\n",
       "      <td>User 001</td>\n",
       "    </tr>\n",
       "    <tr>\n",
       "      <th>1</th>\n",
       "      <td>2</td>\n",
       "      <td>User 002</td>\n",
       "    </tr>\n",
       "    <tr>\n",
       "      <th>2</th>\n",
       "      <td>3</td>\n",
       "      <td>User 003</td>\n",
       "    </tr>\n",
       "  </tbody>\n",
       "</table>\n",
       "</div>"
      ],
      "text/plain": [
       "   user_id      name\n",
       "0        1  User 001\n",
       "1        2  User 002\n",
       "2        3  User 003"
      ]
     },
     "metadata": {},
     "output_type": "display_data"
    },
    {
     "data": {
      "text/html": [
       "<div>\n",
       "<style scoped>\n",
       "    .dataframe tbody tr th:only-of-type {\n",
       "        vertical-align: middle;\n",
       "    }\n",
       "\n",
       "    .dataframe tbody tr th {\n",
       "        vertical-align: top;\n",
       "    }\n",
       "\n",
       "    .dataframe thead th {\n",
       "        text-align: right;\n",
       "    }\n",
       "</style>\n",
       "<table border=\"1\" class=\"dataframe\">\n",
       "  <thead>\n",
       "    <tr style=\"text-align: right;\">\n",
       "      <th></th>\n",
       "      <th>tier_status_id</th>\n",
       "      <th>user_id</th>\n",
       "      <th>from_datetime</th>\n",
       "      <th>until_datetime</th>\n",
       "      <th>status</th>\n",
       "    </tr>\n",
       "  </thead>\n",
       "  <tbody>\n",
       "    <tr>\n",
       "      <th>0</th>\n",
       "      <td>1</td>\n",
       "      <td>1</td>\n",
       "      <td>2025-03-01 00:00:00</td>\n",
       "      <td>2025-03-11 00:00:00</td>\n",
       "      <td>premium</td>\n",
       "    </tr>\n",
       "    <tr>\n",
       "      <th>1</th>\n",
       "      <td>2</td>\n",
       "      <td>2</td>\n",
       "      <td>2025-03-01 00:00:00</td>\n",
       "      <td>2025-03-11 00:00:00</td>\n",
       "      <td>premium</td>\n",
       "    </tr>\n",
       "    <tr>\n",
       "      <th>2</th>\n",
       "      <td>3</td>\n",
       "      <td>3</td>\n",
       "      <td>2025-03-01 00:00:00</td>\n",
       "      <td>2025-03-11 00:00:00</td>\n",
       "      <td>premium</td>\n",
       "    </tr>\n",
       "  </tbody>\n",
       "</table>\n",
       "</div>"
      ],
      "text/plain": [
       "   tier_status_id  user_id        from_datetime       until_datetime   status\n",
       "0               1        1  2025-03-01 00:00:00  2025-03-11 00:00:00  premium\n",
       "1               2        2  2025-03-01 00:00:00  2025-03-11 00:00:00  premium\n",
       "2               3        3  2025-03-01 00:00:00  2025-03-11 00:00:00  premium"
      ]
     },
     "metadata": {},
     "output_type": "display_data"
    },
    {
     "data": {
      "text/html": [
       "<div>\n",
       "<style scoped>\n",
       "    .dataframe tbody tr th:only-of-type {\n",
       "        vertical-align: middle;\n",
       "    }\n",
       "\n",
       "    .dataframe tbody tr th {\n",
       "        vertical-align: top;\n",
       "    }\n",
       "\n",
       "    .dataframe thead th {\n",
       "        text-align: right;\n",
       "    }\n",
       "</style>\n",
       "<table border=\"1\" class=\"dataframe\">\n",
       "  <thead>\n",
       "    <tr style=\"text-align: right;\">\n",
       "      <th></th>\n",
       "      <th>upload_id</th>\n",
       "      <th>user_id</th>\n",
       "      <th>item_id</th>\n",
       "      <th>datetime</th>\n",
       "      <th>size_gb</th>\n",
       "    </tr>\n",
       "  </thead>\n",
       "  <tbody>\n",
       "    <tr>\n",
       "      <th>0</th>\n",
       "      <td>1</td>\n",
       "      <td>1</td>\n",
       "      <td>15</td>\n",
       "      <td>2025-03-04 05:45:47</td>\n",
       "      <td>5</td>\n",
       "    </tr>\n",
       "    <tr>\n",
       "      <th>1</th>\n",
       "      <td>2</td>\n",
       "      <td>1</td>\n",
       "      <td>3</td>\n",
       "      <td>2025-03-09 12:25:12</td>\n",
       "      <td>5</td>\n",
       "    </tr>\n",
       "    <tr>\n",
       "      <th>2</th>\n",
       "      <td>3</td>\n",
       "      <td>1</td>\n",
       "      <td>21</td>\n",
       "      <td>2025-03-09 07:05:52</td>\n",
       "      <td>5</td>\n",
       "    </tr>\n",
       "  </tbody>\n",
       "</table>\n",
       "</div>"
      ],
      "text/plain": [
       "   upload_id  user_id  item_id             datetime  size_gb\n",
       "0          1        1       15  2025-03-04 05:45:47        5\n",
       "1          2        1        3  2025-03-09 12:25:12        5\n",
       "2          3        1       21  2025-03-09 07:05:52        5"
      ]
     },
     "metadata": {},
     "output_type": "display_data"
    }
   ],
   "source": [
    "display(users_df.head(3))\n",
    "display(tiers_df.head(3))\n",
    "display(uploads_df.head(3))\n"
   ]
  },
  {
   "cell_type": "code",
   "execution_count": 277,
   "id": "8c2223a1",
   "metadata": {},
   "outputs": [
    {
     "name": "stdout",
     "output_type": "stream",
     "text": [
      "Detected primary key 'user_id' in table 'users'\n",
      "Detected time column 'from_datetime' in table 'tiers'\n",
      "Detected primary key 'upload_id' and time column 'datetime' in table 'uploads'\n"
     ]
    }
   ],
   "source": [
    "users = rfm.LocalTable(users_df, name=\"users\").infer_metadata()\n",
    "tiers = rfm.LocalTable(tiers_df, name=\"tiers\").infer_metadata()\n",
    "#items = rfm.LocalTable(items_df, name=\"items\").infer_metadata()\n",
    "uploads = rfm.LocalTable(uploads_df, name=\"uploads\").infer_metadata()\n"
   ]
  },
  {
   "cell_type": "code",
   "execution_count": 278,
   "id": "b41d66a7",
   "metadata": {},
   "outputs": [
    {
     "data": {
      "text/markdown": [
       "### 🏷️ Metadata of Table `users` (50 rows)"
      ],
      "text/plain": [
       "<IPython.core.display.Markdown object>"
      ]
     },
     "metadata": {},
     "output_type": "display_data"
    },
    {
     "data": {
      "text/html": [
       "<style type=\"text/css\">\n",
       "</style>\n",
       "<table id=\"T_05874\">\n",
       "  <thead>\n",
       "    <tr>\n",
       "      <th id=\"T_05874_level0_col0\" class=\"col_heading level0 col0\" >name</th>\n",
       "      <th id=\"T_05874_level0_col1\" class=\"col_heading level0 col1\" >dtype</th>\n",
       "      <th id=\"T_05874_level0_col2\" class=\"col_heading level0 col2\" >stype</th>\n",
       "      <th id=\"T_05874_level0_col3\" class=\"col_heading level0 col3\" >is_primary_key</th>\n",
       "      <th id=\"T_05874_level0_col4\" class=\"col_heading level0 col4\" >is_time_column</th>\n",
       "    </tr>\n",
       "  </thead>\n",
       "  <tbody>\n",
       "    <tr>\n",
       "      <td id=\"T_05874_row0_col0\" class=\"data row0 col0\" >user_id</td>\n",
       "      <td id=\"T_05874_row0_col1\" class=\"data row0 col1\" >int</td>\n",
       "      <td id=\"T_05874_row0_col2\" class=\"data row0 col2\" >ID</td>\n",
       "      <td id=\"T_05874_row0_col3\" class=\"data row0 col3\" >True</td>\n",
       "      <td id=\"T_05874_row0_col4\" class=\"data row0 col4\" >False</td>\n",
       "    </tr>\n",
       "    <tr>\n",
       "      <td id=\"T_05874_row1_col0\" class=\"data row1 col0\" >name</td>\n",
       "      <td id=\"T_05874_row1_col1\" class=\"data row1 col1\" >string</td>\n",
       "      <td id=\"T_05874_row1_col2\" class=\"data row1 col2\" >text</td>\n",
       "      <td id=\"T_05874_row1_col3\" class=\"data row1 col3\" >False</td>\n",
       "      <td id=\"T_05874_row1_col4\" class=\"data row1 col4\" >False</td>\n",
       "    </tr>\n",
       "  </tbody>\n",
       "</table>\n"
      ],
      "text/plain": [
       "<pandas.io.formats.style.Styler at 0x76cdd46442e0>"
      ]
     },
     "metadata": {},
     "output_type": "display_data"
    }
   ],
   "source": [
    "users.print_metadata()"
   ]
  },
  {
   "cell_type": "code",
   "execution_count": 279,
   "id": "d7ba3497",
   "metadata": {},
   "outputs": [
    {
     "data": {
      "text/markdown": [
       "### 🏷️ Metadata of Table `tiers` (90 rows)"
      ],
      "text/plain": [
       "<IPython.core.display.Markdown object>"
      ]
     },
     "metadata": {},
     "output_type": "display_data"
    },
    {
     "data": {
      "text/html": [
       "<style type=\"text/css\">\n",
       "</style>\n",
       "<table id=\"T_505fd\">\n",
       "  <thead>\n",
       "    <tr>\n",
       "      <th id=\"T_505fd_level0_col0\" class=\"col_heading level0 col0\" >name</th>\n",
       "      <th id=\"T_505fd_level0_col1\" class=\"col_heading level0 col1\" >dtype</th>\n",
       "      <th id=\"T_505fd_level0_col2\" class=\"col_heading level0 col2\" >stype</th>\n",
       "      <th id=\"T_505fd_level0_col3\" class=\"col_heading level0 col3\" >is_primary_key</th>\n",
       "      <th id=\"T_505fd_level0_col4\" class=\"col_heading level0 col4\" >is_time_column</th>\n",
       "    </tr>\n",
       "  </thead>\n",
       "  <tbody>\n",
       "    <tr>\n",
       "      <td id=\"T_505fd_row0_col0\" class=\"data row0 col0\" >tier_status_id</td>\n",
       "      <td id=\"T_505fd_row0_col1\" class=\"data row0 col1\" >int</td>\n",
       "      <td id=\"T_505fd_row0_col2\" class=\"data row0 col2\" >ID</td>\n",
       "      <td id=\"T_505fd_row0_col3\" class=\"data row0 col3\" >True</td>\n",
       "      <td id=\"T_505fd_row0_col4\" class=\"data row0 col4\" >False</td>\n",
       "    </tr>\n",
       "    <tr>\n",
       "      <td id=\"T_505fd_row1_col0\" class=\"data row1 col0\" >user_id</td>\n",
       "      <td id=\"T_505fd_row1_col1\" class=\"data row1 col1\" >int</td>\n",
       "      <td id=\"T_505fd_row1_col2\" class=\"data row1 col2\" >ID</td>\n",
       "      <td id=\"T_505fd_row1_col3\" class=\"data row1 col3\" >False</td>\n",
       "      <td id=\"T_505fd_row1_col4\" class=\"data row1 col4\" >False</td>\n",
       "    </tr>\n",
       "    <tr>\n",
       "      <td id=\"T_505fd_row2_col0\" class=\"data row2 col0\" >from_datetime</td>\n",
       "      <td id=\"T_505fd_row2_col1\" class=\"data row2 col1\" >string</td>\n",
       "      <td id=\"T_505fd_row2_col2\" class=\"data row2 col2\" >timestamp</td>\n",
       "      <td id=\"T_505fd_row2_col3\" class=\"data row2 col3\" >False</td>\n",
       "      <td id=\"T_505fd_row2_col4\" class=\"data row2 col4\" >True</td>\n",
       "    </tr>\n",
       "    <tr>\n",
       "      <td id=\"T_505fd_row3_col0\" class=\"data row3 col0\" >until_datetime</td>\n",
       "      <td id=\"T_505fd_row3_col1\" class=\"data row3 col1\" >string</td>\n",
       "      <td id=\"T_505fd_row3_col2\" class=\"data row3 col2\" >timestamp</td>\n",
       "      <td id=\"T_505fd_row3_col3\" class=\"data row3 col3\" >False</td>\n",
       "      <td id=\"T_505fd_row3_col4\" class=\"data row3 col4\" >False</td>\n",
       "    </tr>\n",
       "    <tr>\n",
       "      <td id=\"T_505fd_row4_col0\" class=\"data row4 col0\" >status</td>\n",
       "      <td id=\"T_505fd_row4_col1\" class=\"data row4 col1\" >string</td>\n",
       "      <td id=\"T_505fd_row4_col2\" class=\"data row4 col2\" >categorical</td>\n",
       "      <td id=\"T_505fd_row4_col3\" class=\"data row4 col3\" >False</td>\n",
       "      <td id=\"T_505fd_row4_col4\" class=\"data row4 col4\" >False</td>\n",
       "    </tr>\n",
       "  </tbody>\n",
       "</table>\n"
      ],
      "text/plain": [
       "<pandas.io.formats.style.Styler at 0x76cdd065c100>"
      ]
     },
     "metadata": {},
     "output_type": "display_data"
    }
   ],
   "source": [
    "tiers.primary_key = \"tier_status_id\"\n",
    "tiers.print_metadata()"
   ]
  },
  {
   "cell_type": "code",
   "execution_count": 280,
   "id": "c897a884",
   "metadata": {},
   "outputs": [],
   "source": [
    "# items['size_gb'].stype = \"numerical\"\n",
    "# items.print_metadata()"
   ]
  },
  {
   "cell_type": "code",
   "execution_count": 281,
   "id": "ef1f1e56",
   "metadata": {},
   "outputs": [
    {
     "data": {
      "text/markdown": [
       "### 🏷️ Metadata of Table `uploads` (1,781 rows)"
      ],
      "text/plain": [
       "<IPython.core.display.Markdown object>"
      ]
     },
     "metadata": {},
     "output_type": "display_data"
    },
    {
     "data": {
      "text/html": [
       "<style type=\"text/css\">\n",
       "</style>\n",
       "<table id=\"T_5fe9f\">\n",
       "  <thead>\n",
       "    <tr>\n",
       "      <th id=\"T_5fe9f_level0_col0\" class=\"col_heading level0 col0\" >name</th>\n",
       "      <th id=\"T_5fe9f_level0_col1\" class=\"col_heading level0 col1\" >dtype</th>\n",
       "      <th id=\"T_5fe9f_level0_col2\" class=\"col_heading level0 col2\" >stype</th>\n",
       "      <th id=\"T_5fe9f_level0_col3\" class=\"col_heading level0 col3\" >is_primary_key</th>\n",
       "      <th id=\"T_5fe9f_level0_col4\" class=\"col_heading level0 col4\" >is_time_column</th>\n",
       "    </tr>\n",
       "  </thead>\n",
       "  <tbody>\n",
       "    <tr>\n",
       "      <td id=\"T_5fe9f_row0_col0\" class=\"data row0 col0\" >upload_id</td>\n",
       "      <td id=\"T_5fe9f_row0_col1\" class=\"data row0 col1\" >int</td>\n",
       "      <td id=\"T_5fe9f_row0_col2\" class=\"data row0 col2\" >ID</td>\n",
       "      <td id=\"T_5fe9f_row0_col3\" class=\"data row0 col3\" >True</td>\n",
       "      <td id=\"T_5fe9f_row0_col4\" class=\"data row0 col4\" >False</td>\n",
       "    </tr>\n",
       "    <tr>\n",
       "      <td id=\"T_5fe9f_row1_col0\" class=\"data row1 col0\" >user_id</td>\n",
       "      <td id=\"T_5fe9f_row1_col1\" class=\"data row1 col1\" >int</td>\n",
       "      <td id=\"T_5fe9f_row1_col2\" class=\"data row1 col2\" >ID</td>\n",
       "      <td id=\"T_5fe9f_row1_col3\" class=\"data row1 col3\" >False</td>\n",
       "      <td id=\"T_5fe9f_row1_col4\" class=\"data row1 col4\" >False</td>\n",
       "    </tr>\n",
       "    <tr>\n",
       "      <td id=\"T_5fe9f_row2_col0\" class=\"data row2 col0\" >item_id</td>\n",
       "      <td id=\"T_5fe9f_row2_col1\" class=\"data row2 col1\" >int</td>\n",
       "      <td id=\"T_5fe9f_row2_col2\" class=\"data row2 col2\" >ID</td>\n",
       "      <td id=\"T_5fe9f_row2_col3\" class=\"data row2 col3\" >False</td>\n",
       "      <td id=\"T_5fe9f_row2_col4\" class=\"data row2 col4\" >False</td>\n",
       "    </tr>\n",
       "    <tr>\n",
       "      <td id=\"T_5fe9f_row3_col0\" class=\"data row3 col0\" >datetime</td>\n",
       "      <td id=\"T_5fe9f_row3_col1\" class=\"data row3 col1\" >string</td>\n",
       "      <td id=\"T_5fe9f_row3_col2\" class=\"data row3 col2\" >timestamp</td>\n",
       "      <td id=\"T_5fe9f_row3_col3\" class=\"data row3 col3\" >False</td>\n",
       "      <td id=\"T_5fe9f_row3_col4\" class=\"data row3 col4\" >True</td>\n",
       "    </tr>\n",
       "    <tr>\n",
       "      <td id=\"T_5fe9f_row4_col0\" class=\"data row4 col0\" >size_gb</td>\n",
       "      <td id=\"T_5fe9f_row4_col1\" class=\"data row4 col1\" >int</td>\n",
       "      <td id=\"T_5fe9f_row4_col2\" class=\"data row4 col2\" >numerical</td>\n",
       "      <td id=\"T_5fe9f_row4_col3\" class=\"data row4 col3\" >False</td>\n",
       "      <td id=\"T_5fe9f_row4_col4\" class=\"data row4 col4\" >False</td>\n",
       "    </tr>\n",
       "  </tbody>\n",
       "</table>\n"
      ],
      "text/plain": [
       "<pandas.io.formats.style.Styler at 0x76cdd08c2b60>"
      ]
     },
     "metadata": {},
     "output_type": "display_data"
    }
   ],
   "source": [
    "uploads['size_gb'].stype = \"numerical\"\n",
    "uploads.print_metadata()"
   ]
  },
  {
   "cell_type": "code",
   "execution_count": 282,
   "id": "2144f1cc",
   "metadata": {},
   "outputs": [],
   "source": [
    "graph = rfm.LocalGraph(tables=[users, tiers, uploads])"
   ]
  },
  {
   "cell_type": "code",
   "execution_count": 283,
   "id": "41093ace",
   "metadata": {},
   "outputs": [
    {
     "data": {
      "text/markdown": [
       "### 🕸️ Graph Links (FK ↔️ PK)"
      ],
      "text/plain": [
       "<IPython.core.display.Markdown object>"
      ]
     },
     "metadata": {},
     "output_type": "display_data"
    },
    {
     "data": {
      "text/markdown": [
       "- `tiers.user_id` ↔️ `users.user_id`\n",
       "- `uploads.user_id` ↔️ `users.user_id`"
      ],
      "text/plain": [
       "<IPython.core.display.Markdown object>"
      ]
     },
     "metadata": {},
     "output_type": "display_data"
    }
   ],
   "source": [
    "graph.link(src_table=\"tiers\", fkey=\"user_id\", dst_table=\"users\");\n",
    "#graph.link(src_table=\"uploads\", fkey=\"item_id\", dst_table=\"items\");\n",
    "graph.link(src_table=\"uploads\", fkey=\"user_id\", dst_table=\"users\");\n",
    "graph.print_links()"
   ]
  },
  {
   "cell_type": "code",
   "execution_count": 284,
   "id": "168a5ccd",
   "metadata": {},
   "outputs": [],
   "source": [
    "model = rfm.KumoRFM(graph, verbose=False)"
   ]
  },
  {
   "cell_type": "markdown",
   "id": "aef1863d",
   "metadata": {},
   "source": [
    "<div align=\"center\">\n",
    "  <img src=\"temporal_dependencies_02_new.png\" width=\"800\" />\n",
    "</div>"
   ]
  },
  {
   "cell_type": "markdown",
   "id": "9daa7d2e",
   "metadata": {},
   "source": [
    "### Look at probabilities for specific users in each cohort, in all their tiers, at different times."
   ]
  },
  {
   "cell_type": "code",
   "execution_count": 285,
   "id": "d3c8dd86",
   "metadata": {},
   "outputs": [
    {
     "name": "stdout",
     "output_type": "stream",
     "text": [
      "User: 5\n",
      "====================================\n",
      "User: 5. Status: premium\n",
      "     Anchor time: 2025-03-01 12:00:00. Prob 50GB upload within next 1 hours: 0.0863855332. Actual: 0.09516258196404048\n",
      "     Anchor time: 2025-03-06 00:00:00. Prob 50GB upload within next 1 hours: 0.0706980154. Actual: 0.09516258196404048\n",
      "     Anchor time: 2025-03-10 12:00:00. Prob 50GB upload within next 1 hours: 0.0837932974. Actual: 0.09516258196404048\n",
      "User: 5\n",
      "====================================\n",
      "User: 5. Status: premium\n",
      "     Anchor time: 2025-03-01 12:00:00. Prob 50GB upload within next 3 hours: 0.2414897382. Actual: 0.2591817793182821\n",
      "     Anchor time: 2025-03-06 00:00:00. Prob 50GB upload within next 3 hours: 0.2899141014. Actual: 0.2591817793182821\n",
      "     Anchor time: 2025-03-10 12:00:00. Prob 50GB upload within next 3 hours: 0.3081088066. Actual: 0.2591817793182821\n",
      "User: 5\n",
      "====================================\n",
      "User: 5. Status: premium\n",
      "     Anchor time: 2025-03-01 12:00:00. Prob 50GB upload within next 6 hours: 0.334677726. Actual: 0.4511883639059736\n",
      "     Anchor time: 2025-03-06 00:00:00. Prob 50GB upload within next 6 hours: 0.4296949506. Actual: 0.4511883639059736\n",
      "     Anchor time: 2025-03-10 12:00:00. Prob 50GB upload within next 6 hours: 0.4939018488. Actual: 0.4511883639059736\n"
     ]
    }
   ],
   "source": [
    "get_details_by_user(uid=5, hours1=12, hours2=1)\n",
    "get_details_by_user(uid=5, hours1=12, hours2=3)\n",
    "get_details_by_user(uid=5, hours1=12, hours2=6)\n"
   ]
  },
  {
   "cell_type": "code",
   "execution_count": 286,
   "id": "11da5b6c",
   "metadata": {},
   "outputs": [
    {
     "name": "stdout",
     "output_type": "stream",
     "text": [
      "User: 15\n",
      "====================================\n",
      "User: 15. Status: free\n",
      "     Anchor time: 2025-03-01 12:00:00. Prob 50GB upload within next 1 hours: 0.0117250606. Actual: 0\n",
      "     Anchor time: 2025-03-06 00:00:00. Prob 50GB upload within next 1 hours: 0.0125435479. Actual: 0\n",
      "     Anchor time: 2025-03-10 12:00:00. Prob 50GB upload within next 1 hours: 0.0301833302. Actual: 0\n",
      "User: 15\n",
      "====================================\n",
      "User: 15. Status: free\n",
      "     Anchor time: 2025-03-01 12:00:00. Prob 50GB upload within next 3 hours: 0.0328520611. Actual: 0\n",
      "     Anchor time: 2025-03-06 00:00:00. Prob 50GB upload within next 3 hours: 0.0010885127. Actual: 0\n",
      "     Anchor time: 2025-03-10 12:00:00. Prob 50GB upload within next 3 hours: 0.0488944016. Actual: 0\n",
      "User: 15\n",
      "====================================\n",
      "User: 15. Status: free\n",
      "     Anchor time: 2025-03-01 12:00:00. Prob 50GB upload within next 6 hours: 0.0709848031. Actual: 0\n",
      "     Anchor time: 2025-03-06 00:00:00. Prob 50GB upload within next 6 hours: 0.0096317418. Actual: 0\n",
      "     Anchor time: 2025-03-10 12:00:00. Prob 50GB upload within next 6 hours: 0.067527473. Actual: 0\n"
     ]
    }
   ],
   "source": [
    "get_details_by_user(uid=15, hours1=12, hours2=1)\n",
    "get_details_by_user(uid=15, hours1=12, hours2=3)\n",
    "get_details_by_user(uid=15, hours1=12, hours2=6)"
   ]
  },
  {
   "cell_type": "code",
   "execution_count": 287,
   "id": "4532d9c7",
   "metadata": {},
   "outputs": [
    {
     "name": "stdout",
     "output_type": "stream",
     "text": [
      "User: 25\n",
      "====================================\n",
      "User: 25. Status: premium\n",
      "     Anchor time: 2025-03-01 12:00:00. Prob 50GB upload within next 1 hours: 0.0900935158. Actual: 0.09516258196404048\n",
      "     Anchor time: 2025-03-02 23:39:53.500000. Prob 50GB upload within next 1 hours: 0.1209282428. Actual: 0.09516258196404048\n",
      "     Anchor time: 2025-03-04 11:19:47. Prob 50GB upload within next 1 hours: 0.1456751972. Actual: 0.09516258196404048\n",
      "====================================\n",
      "User: 25. Status: free\n",
      "     Anchor time: 2025-03-05 11:19:47. Prob 50GB upload within next 1 hours: 0.0464597307. Actual: 0\n",
      "     Anchor time: 2025-03-07 23:39:53.500000. Prob 50GB upload within next 1 hours: 0.025803322. Actual: 0\n",
      "     Anchor time: 2025-03-10 12:00:00. Prob 50GB upload within next 1 hours: 0.0198469553. Actual: 0\n",
      "User: 25\n",
      "====================================\n",
      "User: 25. Status: premium\n",
      "     Anchor time: 2025-03-01 12:00:00. Prob 50GB upload within next 3 hours: 0.2429694831. Actual: 0.2591817793182821\n",
      "     Anchor time: 2025-03-02 23:39:53.500000. Prob 50GB upload within next 3 hours: 0.2661077678. Actual: 0.2591817793182821\n",
      "     Anchor time: 2025-03-04 11:19:47. Prob 50GB upload within next 3 hours: 0.2358144969. Actual: 0.2591817793182821\n",
      "====================================\n",
      "User: 25. Status: free\n",
      "     Anchor time: 2025-03-05 11:19:47. Prob 50GB upload within next 3 hours: 0.0650625154. Actual: 0\n",
      "     Anchor time: 2025-03-07 23:39:53.500000. Prob 50GB upload within next 3 hours: 0.0117946956. Actual: 0\n",
      "     Anchor time: 2025-03-10 12:00:00. Prob 50GB upload within next 3 hours: 0.0507869124. Actual: 0\n",
      "User: 25\n",
      "====================================\n",
      "User: 25. Status: premium\n",
      "     Anchor time: 2025-03-01 12:00:00. Prob 50GB upload within next 6 hours: 0.3566231728. Actual: 0.4511883639059736\n",
      "     Anchor time: 2025-03-02 23:39:53.500000. Prob 50GB upload within next 6 hours: 0.4354262352. Actual: 0.4511883639059736\n",
      "     Anchor time: 2025-03-04 11:19:47. Prob 50GB upload within next 6 hours: 0.4320634007. Actual: 0.4511883639059736\n",
      "====================================\n",
      "User: 25. Status: free\n",
      "     Anchor time: 2025-03-05 11:19:47. Prob 50GB upload within next 6 hours: 0.0447643921. Actual: 0\n",
      "     Anchor time: 2025-03-07 23:39:53.500000. Prob 50GB upload within next 6 hours: 0.1195531189. Actual: 0\n",
      "     Anchor time: 2025-03-10 12:00:00. Prob 50GB upload within next 6 hours: 0.0146174794. Actual: 0\n"
     ]
    }
   ],
   "source": [
    "get_details_by_user(uid=25, hours1=12, hours2=1)\n",
    "get_details_by_user(uid=25, hours1=12, hours2=3)\n",
    "get_details_by_user(uid=25, hours1=12, hours2=6)"
   ]
  },
  {
   "cell_type": "code",
   "execution_count": 288,
   "id": "a2482573",
   "metadata": {},
   "outputs": [
    {
     "name": "stdout",
     "output_type": "stream",
     "text": [
      "User: 35\n",
      "====================================\n",
      "User: 35. Status: free\n",
      "     Anchor time: 2025-03-01 12:00:00. Prob 50GB upload within next 1 hours: 0.0110988514. Actual: 0\n",
      "     Anchor time: 2025-03-02 01:38:43. Prob 50GB upload within next 1 hours: 0.0004689481. Actual: 0\n",
      "     Anchor time: 2025-03-02 15:17:26. Prob 50GB upload within next 1 hours: 0.0014247391. Actual: 0\n",
      "====================================\n",
      "User: 35. Status: premium\n",
      "     Anchor time: 2025-03-03 15:17:26. Prob 50GB upload within next 1 hours: 0.1233185902. Actual: 0.09516258196404048\n",
      "     Anchor time: 2025-03-07 01:38:43. Prob 50GB upload within next 1 hours: 0.0694787502. Actual: 0.09516258196404048\n",
      "     Anchor time: 2025-03-10 12:00:00. Prob 50GB upload within next 1 hours: 0.0534602068. Actual: 0.09516258196404048\n",
      "User: 35\n",
      "====================================\n",
      "User: 35. Status: free\n",
      "     Anchor time: 2025-03-01 12:00:00. Prob 50GB upload within next 3 hours: 0.0386992209. Actual: 0\n",
      "     Anchor time: 2025-03-02 01:38:43. Prob 50GB upload within next 3 hours: 0.0022416147. Actual: 0\n",
      "     Anchor time: 2025-03-02 15:17:26. Prob 50GB upload within next 3 hours: 0.0229062289. Actual: 0\n",
      "====================================\n",
      "User: 35. Status: premium\n",
      "     Anchor time: 2025-03-03 15:17:26. Prob 50GB upload within next 3 hours: 0.2597630024. Actual: 0.2591817793182821\n",
      "     Anchor time: 2025-03-07 01:38:43. Prob 50GB upload within next 3 hours: 0.2575244606. Actual: 0.2591817793182821\n",
      "     Anchor time: 2025-03-10 12:00:00. Prob 50GB upload within next 3 hours: 0.2425419092. Actual: 0.2591817793182821\n",
      "User: 35\n",
      "====================================\n",
      "User: 35. Status: free\n",
      "     Anchor time: 2025-03-01 12:00:00. Prob 50GB upload within next 6 hours: 0.0639181435. Actual: 0\n",
      "     Anchor time: 2025-03-02 01:38:43. Prob 50GB upload within next 6 hours: 0.0079883914. Actual: 0\n",
      "     Anchor time: 2025-03-02 15:17:26. Prob 50GB upload within next 6 hours: 0.0949798226. Actual: 0\n",
      "====================================\n",
      "User: 35. Status: premium\n",
      "     Anchor time: 2025-03-03 15:17:26. Prob 50GB upload within next 6 hours: 0.3977128863. Actual: 0.4511883639059736\n",
      "     Anchor time: 2025-03-07 01:38:43. Prob 50GB upload within next 6 hours: 0.4607913196. Actual: 0.4511883639059736\n",
      "     Anchor time: 2025-03-10 12:00:00. Prob 50GB upload within next 6 hours: 0.3477882147. Actual: 0.4511883639059736\n"
     ]
    }
   ],
   "source": [
    "get_details_by_user(uid=35, hours1=12, hours2=1)\n",
    "get_details_by_user(uid=35, hours1=12, hours2=3)\n",
    "get_details_by_user(uid=35, hours1=12, hours2=6)"
   ]
  },
  {
   "cell_type": "code",
   "execution_count": 289,
   "id": "16fd95a8",
   "metadata": {},
   "outputs": [
    {
     "name": "stdout",
     "output_type": "stream",
     "text": [
      "User: 45\n",
      "====================================\n",
      "User: 45. Status: free\n",
      "     Anchor time: 2025-03-01 12:00:00. Prob 50GB upload within next 1 hours: 0.0059792544. Actual: 0\n",
      "     Anchor time: 2025-03-02 11:15:07. Prob 50GB upload within next 1 hours: 0.0005295747. Actual: 0\n",
      "     Anchor time: 2025-03-03 10:30:14. Prob 50GB upload within next 1 hours: 0.0082582859. Actual: 0\n",
      "====================================\n",
      "User: 45. Status: premium\n",
      "     Anchor time: 2025-03-04 10:30:14. Prob 50GB upload within next 1 hours: 0.0130184665. Actual: 0.09516258196404048\n",
      "     Anchor time: 2025-03-06 13:20:27. Prob 50GB upload within next 1 hours: 0.1036657393. Actual: 0.09516258196404048\n",
      "     Anchor time: 2025-03-08 16:10:40. Prob 50GB upload within next 1 hours: 0.1486973464. Actual: 0.09516258196404048\n",
      "====================================\n",
      "User: 45. Status: free\n",
      "     Anchor time: 2025-03-09 16:10:40. Prob 50GB upload within next 1 hours: 0.0716863498. Actual: 0\n",
      "     Anchor time: 2025-03-10 02:05:20. Prob 50GB upload within next 1 hours: 0.053371124. Actual: 0\n",
      "     Anchor time: 2025-03-10 12:00:00. Prob 50GB upload within next 1 hours: 0.0284238569. Actual: 0\n",
      "User: 45\n",
      "====================================\n",
      "User: 45. Status: free\n",
      "     Anchor time: 2025-03-01 12:00:00. Prob 50GB upload within next 3 hours: 0.0120113418. Actual: 0\n",
      "     Anchor time: 2025-03-02 11:15:07. Prob 50GB upload within next 3 hours: 0.0051275603. Actual: 0\n",
      "     Anchor time: 2025-03-03 10:30:14. Prob 50GB upload within next 3 hours: 0.0104099512. Actual: 0\n",
      "====================================\n",
      "User: 45. Status: premium\n",
      "     Anchor time: 2025-03-04 10:30:14. Prob 50GB upload within next 3 hours: 0.1943685412. Actual: 0.2591817793182821\n",
      "     Anchor time: 2025-03-06 13:20:27. Prob 50GB upload within next 3 hours: 0.2619110644. Actual: 0.2591817793182821\n",
      "     Anchor time: 2025-03-08 16:10:40. Prob 50GB upload within next 3 hours: 0.4226860404. Actual: 0.2591817793182821\n",
      "====================================\n",
      "User: 45. Status: free\n",
      "     Anchor time: 2025-03-09 16:10:40. Prob 50GB upload within next 3 hours: 0.1928497553. Actual: 0\n",
      "     Anchor time: 2025-03-10 02:05:20. Prob 50GB upload within next 3 hours: 0.0870881379. Actual: 0\n",
      "     Anchor time: 2025-03-10 12:00:00. Prob 50GB upload within next 3 hours: 0.0613599308. Actual: 0\n",
      "User: 45\n",
      "====================================\n",
      "User: 45. Status: free\n",
      "     Anchor time: 2025-03-01 12:00:00. Prob 50GB upload within next 6 hours: 0.0171645638. Actual: 0\n",
      "     Anchor time: 2025-03-02 11:15:07. Prob 50GB upload within next 6 hours: 0.0282186158. Actual: 0\n",
      "     Anchor time: 2025-03-03 10:30:14. Prob 50GB upload within next 6 hours: 0.083554931. Actual: 0\n",
      "====================================\n",
      "User: 45. Status: premium\n",
      "     Anchor time: 2025-03-04 10:30:14. Prob 50GB upload within next 6 hours: 0.2430806011. Actual: 0.4511883639059736\n",
      "     Anchor time: 2025-03-06 13:20:27. Prob 50GB upload within next 6 hours: 0.5024402738. Actual: 0.4511883639059736\n",
      "     Anchor time: 2025-03-08 16:10:40. Prob 50GB upload within next 6 hours: 0.4792738259. Actual: 0.4511883639059736\n",
      "====================================\n",
      "User: 45. Status: free\n",
      "     Anchor time: 2025-03-09 16:10:40. Prob 50GB upload within next 6 hours: 0.3482643068. Actual: 0\n",
      "     Anchor time: 2025-03-10 02:05:20. Prob 50GB upload within next 6 hours: 0.2451604009. Actual: 0\n",
      "     Anchor time: 2025-03-10 12:00:00. Prob 50GB upload within next 6 hours: 0.0453385524. Actual: 0\n"
     ]
    }
   ],
   "source": [
    "get_details_by_user(uid=45, hours1=12, hours2=1)\n",
    "get_details_by_user(uid=45, hours1=12, hours2=3)\n",
    "get_details_by_user(uid=45, hours1=12, hours2=6)"
   ]
  },
  {
   "cell_type": "markdown",
   "id": "e3bd6f19",
   "metadata": {},
   "source": [
    "# INCREASE HOPS"
   ]
  },
  {
   "cell_type": "code",
   "execution_count": 290,
   "id": "3b1546f9",
   "metadata": {},
   "outputs": [],
   "source": [
    "users_df = pd.read_csv(USERS_CSV)\n",
    "tiers_df = pd.read_csv(TIERS_CSV)\n",
    "items_df = pd.read_csv(ITEMS_CSV)\n",
    "uploads_df = pd.read_csv(UPLOADS_CSV)\n",
    "\n",
    "uploads_df = uploads_df.merge(items_df)"
   ]
  },
  {
   "cell_type": "code",
   "execution_count": 291,
   "id": "373a8625",
   "metadata": {},
   "outputs": [
    {
     "data": {
      "text/html": [
       "<div>\n",
       "<style scoped>\n",
       "    .dataframe tbody tr th:only-of-type {\n",
       "        vertical-align: middle;\n",
       "    }\n",
       "\n",
       "    .dataframe tbody tr th {\n",
       "        vertical-align: top;\n",
       "    }\n",
       "\n",
       "    .dataframe thead th {\n",
       "        text-align: right;\n",
       "    }\n",
       "</style>\n",
       "<table border=\"1\" class=\"dataframe\">\n",
       "  <thead>\n",
       "    <tr style=\"text-align: right;\">\n",
       "      <th></th>\n",
       "      <th>user_id</th>\n",
       "      <th>name</th>\n",
       "    </tr>\n",
       "  </thead>\n",
       "  <tbody>\n",
       "    <tr>\n",
       "      <th>0</th>\n",
       "      <td>1</td>\n",
       "      <td>User 001</td>\n",
       "    </tr>\n",
       "    <tr>\n",
       "      <th>1</th>\n",
       "      <td>2</td>\n",
       "      <td>User 002</td>\n",
       "    </tr>\n",
       "    <tr>\n",
       "      <th>2</th>\n",
       "      <td>3</td>\n",
       "      <td>User 003</td>\n",
       "    </tr>\n",
       "  </tbody>\n",
       "</table>\n",
       "</div>"
      ],
      "text/plain": [
       "   user_id      name\n",
       "0        1  User 001\n",
       "1        2  User 002\n",
       "2        3  User 003"
      ]
     },
     "metadata": {},
     "output_type": "display_data"
    },
    {
     "data": {
      "text/html": [
       "<div>\n",
       "<style scoped>\n",
       "    .dataframe tbody tr th:only-of-type {\n",
       "        vertical-align: middle;\n",
       "    }\n",
       "\n",
       "    .dataframe tbody tr th {\n",
       "        vertical-align: top;\n",
       "    }\n",
       "\n",
       "    .dataframe thead th {\n",
       "        text-align: right;\n",
       "    }\n",
       "</style>\n",
       "<table border=\"1\" class=\"dataframe\">\n",
       "  <thead>\n",
       "    <tr style=\"text-align: right;\">\n",
       "      <th></th>\n",
       "      <th>tier_status_id</th>\n",
       "      <th>user_id</th>\n",
       "      <th>from_datetime</th>\n",
       "      <th>until_datetime</th>\n",
       "      <th>status</th>\n",
       "    </tr>\n",
       "  </thead>\n",
       "  <tbody>\n",
       "    <tr>\n",
       "      <th>0</th>\n",
       "      <td>1</td>\n",
       "      <td>1</td>\n",
       "      <td>2025-03-01 00:00:00</td>\n",
       "      <td>2025-03-11 00:00:00</td>\n",
       "      <td>premium</td>\n",
       "    </tr>\n",
       "    <tr>\n",
       "      <th>1</th>\n",
       "      <td>2</td>\n",
       "      <td>2</td>\n",
       "      <td>2025-03-01 00:00:00</td>\n",
       "      <td>2025-03-11 00:00:00</td>\n",
       "      <td>premium</td>\n",
       "    </tr>\n",
       "    <tr>\n",
       "      <th>2</th>\n",
       "      <td>3</td>\n",
       "      <td>3</td>\n",
       "      <td>2025-03-01 00:00:00</td>\n",
       "      <td>2025-03-11 00:00:00</td>\n",
       "      <td>premium</td>\n",
       "    </tr>\n",
       "  </tbody>\n",
       "</table>\n",
       "</div>"
      ],
      "text/plain": [
       "   tier_status_id  user_id        from_datetime       until_datetime   status\n",
       "0               1        1  2025-03-01 00:00:00  2025-03-11 00:00:00  premium\n",
       "1               2        2  2025-03-01 00:00:00  2025-03-11 00:00:00  premium\n",
       "2               3        3  2025-03-01 00:00:00  2025-03-11 00:00:00  premium"
      ]
     },
     "metadata": {},
     "output_type": "display_data"
    },
    {
     "data": {
      "text/html": [
       "<div>\n",
       "<style scoped>\n",
       "    .dataframe tbody tr th:only-of-type {\n",
       "        vertical-align: middle;\n",
       "    }\n",
       "\n",
       "    .dataframe tbody tr th {\n",
       "        vertical-align: top;\n",
       "    }\n",
       "\n",
       "    .dataframe thead th {\n",
       "        text-align: right;\n",
       "    }\n",
       "</style>\n",
       "<table border=\"1\" class=\"dataframe\">\n",
       "  <thead>\n",
       "    <tr style=\"text-align: right;\">\n",
       "      <th></th>\n",
       "      <th>upload_id</th>\n",
       "      <th>user_id</th>\n",
       "      <th>item_id</th>\n",
       "      <th>datetime</th>\n",
       "      <th>size_gb</th>\n",
       "    </tr>\n",
       "  </thead>\n",
       "  <tbody>\n",
       "    <tr>\n",
       "      <th>0</th>\n",
       "      <td>1</td>\n",
       "      <td>1</td>\n",
       "      <td>15</td>\n",
       "      <td>2025-03-04 05:45:47</td>\n",
       "      <td>5</td>\n",
       "    </tr>\n",
       "    <tr>\n",
       "      <th>1</th>\n",
       "      <td>2</td>\n",
       "      <td>1</td>\n",
       "      <td>3</td>\n",
       "      <td>2025-03-09 12:25:12</td>\n",
       "      <td>5</td>\n",
       "    </tr>\n",
       "    <tr>\n",
       "      <th>2</th>\n",
       "      <td>3</td>\n",
       "      <td>1</td>\n",
       "      <td>21</td>\n",
       "      <td>2025-03-09 07:05:52</td>\n",
       "      <td>5</td>\n",
       "    </tr>\n",
       "  </tbody>\n",
       "</table>\n",
       "</div>"
      ],
      "text/plain": [
       "   upload_id  user_id  item_id             datetime  size_gb\n",
       "0          1        1       15  2025-03-04 05:45:47        5\n",
       "1          2        1        3  2025-03-09 12:25:12        5\n",
       "2          3        1       21  2025-03-09 07:05:52        5"
      ]
     },
     "metadata": {},
     "output_type": "display_data"
    }
   ],
   "source": [
    "display(users_df.head(3))\n",
    "display(tiers_df.head(3))\n",
    "#display(items_df.head(3))\n",
    "display(uploads_df.head(3))\n"
   ]
  },
  {
   "cell_type": "code",
   "execution_count": 292,
   "id": "f84aa177",
   "metadata": {},
   "outputs": [
    {
     "name": "stdout",
     "output_type": "stream",
     "text": [
      "Detected primary key 'user_id' in table 'users'\n",
      "Detected time column 'from_datetime' in table 'tiers'\n",
      "Detected primary key 'upload_id' and time column 'datetime' in table 'uploads'\n"
     ]
    }
   ],
   "source": [
    "users = rfm.LocalTable(users_df, name=\"users\").infer_metadata()\n",
    "tiers = rfm.LocalTable(tiers_df, name=\"tiers\").infer_metadata()\n",
    "#items = rfm.LocalTable(items_df, name=\"items\").infer_metadata()\n",
    "uploads = rfm.LocalTable(uploads_df, name=\"uploads\").infer_metadata()\n"
   ]
  },
  {
   "cell_type": "code",
   "execution_count": 293,
   "id": "bd556273",
   "metadata": {},
   "outputs": [
    {
     "data": {
      "text/markdown": [
       "### 🏷️ Metadata of Table `users` (50 rows)"
      ],
      "text/plain": [
       "<IPython.core.display.Markdown object>"
      ]
     },
     "metadata": {},
     "output_type": "display_data"
    },
    {
     "data": {
      "text/html": [
       "<style type=\"text/css\">\n",
       "</style>\n",
       "<table id=\"T_45a10\">\n",
       "  <thead>\n",
       "    <tr>\n",
       "      <th id=\"T_45a10_level0_col0\" class=\"col_heading level0 col0\" >name</th>\n",
       "      <th id=\"T_45a10_level0_col1\" class=\"col_heading level0 col1\" >dtype</th>\n",
       "      <th id=\"T_45a10_level0_col2\" class=\"col_heading level0 col2\" >stype</th>\n",
       "      <th id=\"T_45a10_level0_col3\" class=\"col_heading level0 col3\" >is_primary_key</th>\n",
       "      <th id=\"T_45a10_level0_col4\" class=\"col_heading level0 col4\" >is_time_column</th>\n",
       "    </tr>\n",
       "  </thead>\n",
       "  <tbody>\n",
       "    <tr>\n",
       "      <td id=\"T_45a10_row0_col0\" class=\"data row0 col0\" >user_id</td>\n",
       "      <td id=\"T_45a10_row0_col1\" class=\"data row0 col1\" >int</td>\n",
       "      <td id=\"T_45a10_row0_col2\" class=\"data row0 col2\" >ID</td>\n",
       "      <td id=\"T_45a10_row0_col3\" class=\"data row0 col3\" >True</td>\n",
       "      <td id=\"T_45a10_row0_col4\" class=\"data row0 col4\" >False</td>\n",
       "    </tr>\n",
       "    <tr>\n",
       "      <td id=\"T_45a10_row1_col0\" class=\"data row1 col0\" >name</td>\n",
       "      <td id=\"T_45a10_row1_col1\" class=\"data row1 col1\" >string</td>\n",
       "      <td id=\"T_45a10_row1_col2\" class=\"data row1 col2\" >text</td>\n",
       "      <td id=\"T_45a10_row1_col3\" class=\"data row1 col3\" >False</td>\n",
       "      <td id=\"T_45a10_row1_col4\" class=\"data row1 col4\" >False</td>\n",
       "    </tr>\n",
       "  </tbody>\n",
       "</table>\n"
      ],
      "text/plain": [
       "<pandas.io.formats.style.Styler at 0x76cdd06fa3e0>"
      ]
     },
     "metadata": {},
     "output_type": "display_data"
    }
   ],
   "source": [
    "users.print_metadata()"
   ]
  },
  {
   "cell_type": "code",
   "execution_count": 294,
   "id": "340cb286",
   "metadata": {},
   "outputs": [
    {
     "data": {
      "text/markdown": [
       "### 🏷️ Metadata of Table `tiers` (90 rows)"
      ],
      "text/plain": [
       "<IPython.core.display.Markdown object>"
      ]
     },
     "metadata": {},
     "output_type": "display_data"
    },
    {
     "data": {
      "text/html": [
       "<style type=\"text/css\">\n",
       "</style>\n",
       "<table id=\"T_488b4\">\n",
       "  <thead>\n",
       "    <tr>\n",
       "      <th id=\"T_488b4_level0_col0\" class=\"col_heading level0 col0\" >name</th>\n",
       "      <th id=\"T_488b4_level0_col1\" class=\"col_heading level0 col1\" >dtype</th>\n",
       "      <th id=\"T_488b4_level0_col2\" class=\"col_heading level0 col2\" >stype</th>\n",
       "      <th id=\"T_488b4_level0_col3\" class=\"col_heading level0 col3\" >is_primary_key</th>\n",
       "      <th id=\"T_488b4_level0_col4\" class=\"col_heading level0 col4\" >is_time_column</th>\n",
       "    </tr>\n",
       "  </thead>\n",
       "  <tbody>\n",
       "    <tr>\n",
       "      <td id=\"T_488b4_row0_col0\" class=\"data row0 col0\" >tier_status_id</td>\n",
       "      <td id=\"T_488b4_row0_col1\" class=\"data row0 col1\" >int</td>\n",
       "      <td id=\"T_488b4_row0_col2\" class=\"data row0 col2\" >ID</td>\n",
       "      <td id=\"T_488b4_row0_col3\" class=\"data row0 col3\" >True</td>\n",
       "      <td id=\"T_488b4_row0_col4\" class=\"data row0 col4\" >False</td>\n",
       "    </tr>\n",
       "    <tr>\n",
       "      <td id=\"T_488b4_row1_col0\" class=\"data row1 col0\" >user_id</td>\n",
       "      <td id=\"T_488b4_row1_col1\" class=\"data row1 col1\" >int</td>\n",
       "      <td id=\"T_488b4_row1_col2\" class=\"data row1 col2\" >ID</td>\n",
       "      <td id=\"T_488b4_row1_col3\" class=\"data row1 col3\" >False</td>\n",
       "      <td id=\"T_488b4_row1_col4\" class=\"data row1 col4\" >False</td>\n",
       "    </tr>\n",
       "    <tr>\n",
       "      <td id=\"T_488b4_row2_col0\" class=\"data row2 col0\" >from_datetime</td>\n",
       "      <td id=\"T_488b4_row2_col1\" class=\"data row2 col1\" >string</td>\n",
       "      <td id=\"T_488b4_row2_col2\" class=\"data row2 col2\" >timestamp</td>\n",
       "      <td id=\"T_488b4_row2_col3\" class=\"data row2 col3\" >False</td>\n",
       "      <td id=\"T_488b4_row2_col4\" class=\"data row2 col4\" >True</td>\n",
       "    </tr>\n",
       "    <tr>\n",
       "      <td id=\"T_488b4_row3_col0\" class=\"data row3 col0\" >until_datetime</td>\n",
       "      <td id=\"T_488b4_row3_col1\" class=\"data row3 col1\" >string</td>\n",
       "      <td id=\"T_488b4_row3_col2\" class=\"data row3 col2\" >timestamp</td>\n",
       "      <td id=\"T_488b4_row3_col3\" class=\"data row3 col3\" >False</td>\n",
       "      <td id=\"T_488b4_row3_col4\" class=\"data row3 col4\" >False</td>\n",
       "    </tr>\n",
       "    <tr>\n",
       "      <td id=\"T_488b4_row4_col0\" class=\"data row4 col0\" >status</td>\n",
       "      <td id=\"T_488b4_row4_col1\" class=\"data row4 col1\" >string</td>\n",
       "      <td id=\"T_488b4_row4_col2\" class=\"data row4 col2\" >categorical</td>\n",
       "      <td id=\"T_488b4_row4_col3\" class=\"data row4 col3\" >False</td>\n",
       "      <td id=\"T_488b4_row4_col4\" class=\"data row4 col4\" >False</td>\n",
       "    </tr>\n",
       "  </tbody>\n",
       "</table>\n"
      ],
      "text/plain": [
       "<pandas.io.formats.style.Styler at 0x76cdd06b4d00>"
      ]
     },
     "metadata": {},
     "output_type": "display_data"
    }
   ],
   "source": [
    "tiers.primary_key = \"tier_status_id\"\n",
    "tiers.print_metadata()"
   ]
  },
  {
   "cell_type": "code",
   "execution_count": 295,
   "id": "d6919200",
   "metadata": {},
   "outputs": [],
   "source": [
    "# items['size_gb'].stype = \"numerical\"\n",
    "# items.print_metadata()"
   ]
  },
  {
   "cell_type": "code",
   "execution_count": 296,
   "id": "b539a35d",
   "metadata": {},
   "outputs": [
    {
     "data": {
      "text/markdown": [
       "### 🏷️ Metadata of Table `uploads` (1,781 rows)"
      ],
      "text/plain": [
       "<IPython.core.display.Markdown object>"
      ]
     },
     "metadata": {},
     "output_type": "display_data"
    },
    {
     "data": {
      "text/html": [
       "<style type=\"text/css\">\n",
       "</style>\n",
       "<table id=\"T_f9907\">\n",
       "  <thead>\n",
       "    <tr>\n",
       "      <th id=\"T_f9907_level0_col0\" class=\"col_heading level0 col0\" >name</th>\n",
       "      <th id=\"T_f9907_level0_col1\" class=\"col_heading level0 col1\" >dtype</th>\n",
       "      <th id=\"T_f9907_level0_col2\" class=\"col_heading level0 col2\" >stype</th>\n",
       "      <th id=\"T_f9907_level0_col3\" class=\"col_heading level0 col3\" >is_primary_key</th>\n",
       "      <th id=\"T_f9907_level0_col4\" class=\"col_heading level0 col4\" >is_time_column</th>\n",
       "    </tr>\n",
       "  </thead>\n",
       "  <tbody>\n",
       "    <tr>\n",
       "      <td id=\"T_f9907_row0_col0\" class=\"data row0 col0\" >upload_id</td>\n",
       "      <td id=\"T_f9907_row0_col1\" class=\"data row0 col1\" >int</td>\n",
       "      <td id=\"T_f9907_row0_col2\" class=\"data row0 col2\" >ID</td>\n",
       "      <td id=\"T_f9907_row0_col3\" class=\"data row0 col3\" >True</td>\n",
       "      <td id=\"T_f9907_row0_col4\" class=\"data row0 col4\" >False</td>\n",
       "    </tr>\n",
       "    <tr>\n",
       "      <td id=\"T_f9907_row1_col0\" class=\"data row1 col0\" >user_id</td>\n",
       "      <td id=\"T_f9907_row1_col1\" class=\"data row1 col1\" >int</td>\n",
       "      <td id=\"T_f9907_row1_col2\" class=\"data row1 col2\" >ID</td>\n",
       "      <td id=\"T_f9907_row1_col3\" class=\"data row1 col3\" >False</td>\n",
       "      <td id=\"T_f9907_row1_col4\" class=\"data row1 col4\" >False</td>\n",
       "    </tr>\n",
       "    <tr>\n",
       "      <td id=\"T_f9907_row2_col0\" class=\"data row2 col0\" >item_id</td>\n",
       "      <td id=\"T_f9907_row2_col1\" class=\"data row2 col1\" >int</td>\n",
       "      <td id=\"T_f9907_row2_col2\" class=\"data row2 col2\" >ID</td>\n",
       "      <td id=\"T_f9907_row2_col3\" class=\"data row2 col3\" >False</td>\n",
       "      <td id=\"T_f9907_row2_col4\" class=\"data row2 col4\" >False</td>\n",
       "    </tr>\n",
       "    <tr>\n",
       "      <td id=\"T_f9907_row3_col0\" class=\"data row3 col0\" >datetime</td>\n",
       "      <td id=\"T_f9907_row3_col1\" class=\"data row3 col1\" >string</td>\n",
       "      <td id=\"T_f9907_row3_col2\" class=\"data row3 col2\" >timestamp</td>\n",
       "      <td id=\"T_f9907_row3_col3\" class=\"data row3 col3\" >False</td>\n",
       "      <td id=\"T_f9907_row3_col4\" class=\"data row3 col4\" >True</td>\n",
       "    </tr>\n",
       "    <tr>\n",
       "      <td id=\"T_f9907_row4_col0\" class=\"data row4 col0\" >size_gb</td>\n",
       "      <td id=\"T_f9907_row4_col1\" class=\"data row4 col1\" >int</td>\n",
       "      <td id=\"T_f9907_row4_col2\" class=\"data row4 col2\" >numerical</td>\n",
       "      <td id=\"T_f9907_row4_col3\" class=\"data row4 col3\" >False</td>\n",
       "      <td id=\"T_f9907_row4_col4\" class=\"data row4 col4\" >False</td>\n",
       "    </tr>\n",
       "  </tbody>\n",
       "</table>\n"
      ],
      "text/plain": [
       "<pandas.io.formats.style.Styler at 0x76cdd08c1510>"
      ]
     },
     "metadata": {},
     "output_type": "display_data"
    }
   ],
   "source": [
    "uploads['size_gb'].stype = \"numerical\"\n",
    "uploads.print_metadata()"
   ]
  },
  {
   "cell_type": "code",
   "execution_count": 297,
   "id": "6313e1a9",
   "metadata": {},
   "outputs": [],
   "source": [
    "graph = rfm.LocalGraph(tables=[users, tiers, uploads])"
   ]
  },
  {
   "cell_type": "code",
   "execution_count": 298,
   "id": "58c42214",
   "metadata": {},
   "outputs": [
    {
     "data": {
      "text/markdown": [
       "### 🕸️ Graph Links (FK ↔️ PK)"
      ],
      "text/plain": [
       "<IPython.core.display.Markdown object>"
      ]
     },
     "metadata": {},
     "output_type": "display_data"
    },
    {
     "data": {
      "text/markdown": [
       "- `tiers.user_id` ↔️ `users.user_id`\n",
       "- `uploads.user_id` ↔️ `users.user_id`"
      ],
      "text/plain": [
       "<IPython.core.display.Markdown object>"
      ]
     },
     "metadata": {},
     "output_type": "display_data"
    }
   ],
   "source": [
    "graph.link(src_table=\"tiers\", fkey=\"user_id\", dst_table=\"users\");\n",
    "#graph.link(src_table=\"uploads\", fkey=\"item_id\", dst_table=\"items\");\n",
    "graph.link(src_table=\"uploads\", fkey=\"user_id\", dst_table=\"users\");\n",
    "graph.print_links()"
   ]
  },
  {
   "cell_type": "code",
   "execution_count": 299,
   "id": "2874aa0b",
   "metadata": {},
   "outputs": [],
   "source": [
    "model = rfm.KumoRFM(graph, verbose=False)"
   ]
  },
  {
   "cell_type": "markdown",
   "id": "138aacd1",
   "metadata": {},
   "source": [
    "<div align=\"center\">\n",
    "  <img src=\"temporal_dependencies_02_new.png\" width=\"800\" />\n",
    "</div>"
   ]
  },
  {
   "cell_type": "markdown",
   "id": "6591fbf5",
   "metadata": {},
   "source": [
    "### Look at probabilities for specific users in each cohort, in all their tiers, at different times."
   ]
  },
  {
   "cell_type": "code",
   "execution_count": 300,
   "id": "305e0312",
   "metadata": {},
   "outputs": [
    {
     "name": "stdout",
     "output_type": "stream",
     "text": [
      "User: 5\n",
      "====================================\n",
      "User: 5. Status: premium\n",
      "     Anchor time: 2025-03-01 12:00:00. Prob 50GB upload within next 1 hours: 0.087111719. Actual: 0.09516258196404048\n",
      "     Anchor time: 2025-03-06 00:00:00. Prob 50GB upload within next 1 hours: 0.0728141144. Actual: 0.09516258196404048\n",
      "     Anchor time: 2025-03-10 12:00:00. Prob 50GB upload within next 1 hours: 0.0957168192. Actual: 0.09516258196404048\n",
      "User: 5\n",
      "====================================\n",
      "User: 5. Status: premium\n",
      "     Anchor time: 2025-03-01 12:00:00. Prob 50GB upload within next 3 hours: 0.2434045225. Actual: 0.2591817793182821\n",
      "     Anchor time: 2025-03-06 00:00:00. Prob 50GB upload within next 3 hours: 0.2640527487. Actual: 0.2591817793182821\n",
      "     Anchor time: 2025-03-10 12:00:00. Prob 50GB upload within next 3 hours: 0.2908555269. Actual: 0.2591817793182821\n",
      "User: 5\n",
      "====================================\n",
      "User: 5. Status: premium\n",
      "     Anchor time: 2025-03-01 12:00:00. Prob 50GB upload within next 6 hours: 0.3919019103. Actual: 0.4511883639059736\n",
      "     Anchor time: 2025-03-06 00:00:00. Prob 50GB upload within next 6 hours: 0.4810573161. Actual: 0.4511883639059736\n",
      "     Anchor time: 2025-03-10 12:00:00. Prob 50GB upload within next 6 hours: 0.4792641103. Actual: 0.4511883639059736\n"
     ]
    }
   ],
   "source": [
    "get_details_by_user(uid=5, hours1=12, hours2=1, nhops=6)\n",
    "get_details_by_user(uid=5, hours1=12, hours2=3, nhops=6)\n",
    "get_details_by_user(uid=5, hours1=12, hours2=6, nhops=6)"
   ]
  },
  {
   "cell_type": "code",
   "execution_count": 301,
   "id": "a6674fb8",
   "metadata": {},
   "outputs": [
    {
     "name": "stdout",
     "output_type": "stream",
     "text": [
      "User: 15\n",
      "====================================\n",
      "User: 15. Status: free\n",
      "     Anchor time: 2025-03-01 12:00:00. Prob 50GB upload within next 1 hours: 0.009444261. Actual: 0\n",
      "     Anchor time: 2025-03-06 00:00:00. Prob 50GB upload within next 1 hours: 0.0163220633. Actual: 0\n",
      "     Anchor time: 2025-03-10 12:00:00. Prob 50GB upload within next 1 hours: 0.0574787296. Actual: 0\n",
      "User: 15\n",
      "====================================\n",
      "User: 15. Status: free\n",
      "     Anchor time: 2025-03-01 12:00:00. Prob 50GB upload within next 3 hours: 0.0341021344. Actual: 0\n",
      "     Anchor time: 2025-03-06 00:00:00. Prob 50GB upload within next 3 hours: 0.0015259932. Actual: 0\n",
      "     Anchor time: 2025-03-10 12:00:00. Prob 50GB upload within next 3 hours: 0.0765876621. Actual: 0\n",
      "User: 15\n",
      "====================================\n",
      "User: 15. Status: free\n",
      "     Anchor time: 2025-03-01 12:00:00. Prob 50GB upload within next 6 hours: 0.0587972477. Actual: 0\n",
      "     Anchor time: 2025-03-06 00:00:00. Prob 50GB upload within next 6 hours: 0.0184128657. Actual: 0\n",
      "     Anchor time: 2025-03-10 12:00:00. Prob 50GB upload within next 6 hours: 0.0176615566. Actual: 0\n"
     ]
    }
   ],
   "source": [
    "get_details_by_user(uid=15, hours1=12, hours2=1, nhops=6)\n",
    "get_details_by_user(uid=15, hours1=12, hours2=3, nhops=6)\n",
    "get_details_by_user(uid=15, hours1=12, hours2=6, nhops=6)"
   ]
  },
  {
   "cell_type": "code",
   "execution_count": 302,
   "id": "91bff3a9",
   "metadata": {},
   "outputs": [
    {
     "name": "stdout",
     "output_type": "stream",
     "text": [
      "User: 25\n",
      "====================================\n",
      "User: 25. Status: premium\n",
      "     Anchor time: 2025-03-01 12:00:00. Prob 50GB upload within next 1 hours: 0.0856632143. Actual: 0.09516258196404048\n",
      "     Anchor time: 2025-03-02 23:39:53.500000. Prob 50GB upload within next 1 hours: 0.1026327312. Actual: 0.09516258196404048\n",
      "     Anchor time: 2025-03-04 11:19:47. Prob 50GB upload within next 1 hours: 0.2108813226. Actual: 0.09516258196404048\n",
      "====================================\n",
      "User: 25. Status: free\n",
      "     Anchor time: 2025-03-05 11:19:47. Prob 50GB upload within next 1 hours: 0.0479450077. Actual: 0\n",
      "     Anchor time: 2025-03-07 23:39:53.500000. Prob 50GB upload within next 1 hours: 0.023347009. Actual: 0\n",
      "     Anchor time: 2025-03-10 12:00:00. Prob 50GB upload within next 1 hours: 0.0115877371. Actual: 0\n",
      "User: 25\n",
      "====================================\n",
      "User: 25. Status: premium\n",
      "     Anchor time: 2025-03-01 12:00:00. Prob 50GB upload within next 3 hours: 0.1967323273. Actual: 0.2591817793182821\n",
      "     Anchor time: 2025-03-02 23:39:53.500000. Prob 50GB upload within next 3 hours: 0.2678202987. Actual: 0.2591817793182821\n",
      "     Anchor time: 2025-03-04 11:19:47. Prob 50GB upload within next 3 hours: 0.244032979. Actual: 0.2591817793182821\n",
      "====================================\n",
      "User: 25. Status: free\n",
      "     Anchor time: 2025-03-05 11:19:47. Prob 50GB upload within next 3 hours: 0.066949062. Actual: 0\n",
      "     Anchor time: 2025-03-07 23:39:53.500000. Prob 50GB upload within next 3 hours: 0.0054789842. Actual: 0\n",
      "     Anchor time: 2025-03-10 12:00:00. Prob 50GB upload within next 3 hours: 0.0143606178. Actual: 0\n",
      "User: 25\n",
      "====================================\n",
      "User: 25. Status: premium\n",
      "     Anchor time: 2025-03-01 12:00:00. Prob 50GB upload within next 6 hours: 0.268654108. Actual: 0.4511883639059736\n",
      "     Anchor time: 2025-03-02 23:39:53.500000. Prob 50GB upload within next 6 hours: 0.4261039197. Actual: 0.4511883639059736\n",
      "     Anchor time: 2025-03-04 11:19:47. Prob 50GB upload within next 6 hours: 0.4506021142. Actual: 0.4511883639059736\n",
      "====================================\n",
      "User: 25. Status: free\n",
      "     Anchor time: 2025-03-05 11:19:47. Prob 50GB upload within next 6 hours: 0.0531715192. Actual: 0\n",
      "     Anchor time: 2025-03-07 23:39:53.500000. Prob 50GB upload within next 6 hours: 0.1425838619. Actual: 0\n",
      "     Anchor time: 2025-03-10 12:00:00. Prob 50GB upload within next 6 hours: 0.3020669222. Actual: 0\n"
     ]
    }
   ],
   "source": [
    "get_details_by_user(uid=25, hours1=12, hours2=1, nhops=6)\n",
    "get_details_by_user(uid=25, hours1=12, hours2=3, nhops=6)\n",
    "get_details_by_user(uid=25, hours1=12, hours2=6, nhops=6)"
   ]
  },
  {
   "cell_type": "code",
   "execution_count": 303,
   "id": "db1b007f",
   "metadata": {},
   "outputs": [
    {
     "name": "stdout",
     "output_type": "stream",
     "text": [
      "User: 35\n",
      "====================================\n",
      "User: 35. Status: free\n",
      "     Anchor time: 2025-03-01 12:00:00. Prob 50GB upload within next 1 hours: 0.0220503099. Actual: 0\n",
      "     Anchor time: 2025-03-02 01:38:43. Prob 50GB upload within next 1 hours: 0.0012151928. Actual: 0\n",
      "     Anchor time: 2025-03-02 15:17:26. Prob 50GB upload within next 1 hours: 0.008356424. Actual: 0\n",
      "====================================\n",
      "User: 35. Status: premium\n",
      "     Anchor time: 2025-03-03 15:17:26. Prob 50GB upload within next 1 hours: 0.0900950432. Actual: 0.09516258196404048\n",
      "     Anchor time: 2025-03-07 01:38:43. Prob 50GB upload within next 1 hours: 0.0558592081. Actual: 0.09516258196404048\n",
      "     Anchor time: 2025-03-10 12:00:00. Prob 50GB upload within next 1 hours: 0.0649722815. Actual: 0.09516258196404048\n",
      "User: 35\n",
      "====================================\n",
      "User: 35. Status: free\n",
      "     Anchor time: 2025-03-01 12:00:00. Prob 50GB upload within next 3 hours: 0.0483494923. Actual: 0\n",
      "     Anchor time: 2025-03-02 01:38:43. Prob 50GB upload within next 3 hours: 0.0036615203. Actual: 0\n",
      "     Anchor time: 2025-03-02 15:17:26. Prob 50GB upload within next 3 hours: 0.0764340237. Actual: 0\n",
      "====================================\n",
      "User: 35. Status: premium\n",
      "     Anchor time: 2025-03-03 15:17:26. Prob 50GB upload within next 3 hours: 0.2607358992. Actual: 0.2591817793182821\n",
      "     Anchor time: 2025-03-07 01:38:43. Prob 50GB upload within next 3 hours: 0.2987119853. Actual: 0.2591817793182821\n",
      "     Anchor time: 2025-03-10 12:00:00. Prob 50GB upload within next 3 hours: 0.2596144974. Actual: 0.2591817793182821\n",
      "User: 35\n",
      "====================================\n",
      "User: 35. Status: free\n",
      "     Anchor time: 2025-03-01 12:00:00. Prob 50GB upload within next 6 hours: 0.054562185. Actual: 0\n",
      "     Anchor time: 2025-03-02 01:38:43. Prob 50GB upload within next 6 hours: 0.0062972647. Actual: 0\n",
      "     Anchor time: 2025-03-02 15:17:26. Prob 50GB upload within next 6 hours: 0.1325589716. Actual: 0\n",
      "====================================\n",
      "User: 35. Status: premium\n",
      "     Anchor time: 2025-03-03 15:17:26. Prob 50GB upload within next 6 hours: 0.4014549851. Actual: 0.4511883639059736\n",
      "     Anchor time: 2025-03-07 01:38:43. Prob 50GB upload within next 6 hours: 0.5026850104. Actual: 0.4511883639059736\n",
      "     Anchor time: 2025-03-10 12:00:00. Prob 50GB upload within next 6 hours: 0.3273133934. Actual: 0.4511883639059736\n"
     ]
    }
   ],
   "source": [
    "get_details_by_user(uid=35, hours1=12, hours2=1, nhops=6)\n",
    "get_details_by_user(uid=35, hours1=12, hours2=3, nhops=6)\n",
    "get_details_by_user(uid=35, hours1=12, hours2=6, nhops=6)"
   ]
  },
  {
   "cell_type": "code",
   "execution_count": 304,
   "id": "afffc0f5",
   "metadata": {},
   "outputs": [
    {
     "name": "stdout",
     "output_type": "stream",
     "text": [
      "User: 45\n",
      "====================================\n",
      "User: 45. Status: free\n",
      "     Anchor time: 2025-03-01 12:00:00. Prob 50GB upload within next 1 hours: 0.0045754849. Actual: 0\n",
      "     Anchor time: 2025-03-02 11:15:07. Prob 50GB upload within next 1 hours: 0.0007781703. Actual: 0\n",
      "     Anchor time: 2025-03-03 10:30:14. Prob 50GB upload within next 1 hours: 0.0124235181. Actual: 0\n",
      "====================================\n",
      "User: 45. Status: premium\n",
      "     Anchor time: 2025-03-04 10:30:14. Prob 50GB upload within next 1 hours: 0.0102714086. Actual: 0.09516258196404048\n",
      "     Anchor time: 2025-03-06 13:20:27. Prob 50GB upload within next 1 hours: 0.1045687646. Actual: 0.09516258196404048\n",
      "     Anchor time: 2025-03-08 16:10:40. Prob 50GB upload within next 1 hours: 0.1890143454. Actual: 0.09516258196404048\n",
      "====================================\n",
      "User: 45. Status: free\n",
      "     Anchor time: 2025-03-09 16:10:40. Prob 50GB upload within next 1 hours: 0.059351474. Actual: 0\n",
      "     Anchor time: 2025-03-10 02:05:20. Prob 50GB upload within next 1 hours: 0.0506124422. Actual: 0\n",
      "     Anchor time: 2025-03-10 12:00:00. Prob 50GB upload within next 1 hours: 0.0108053321. Actual: 0\n",
      "User: 45\n",
      "====================================\n",
      "User: 45. Status: free\n",
      "     Anchor time: 2025-03-01 12:00:00. Prob 50GB upload within next 3 hours: 0.0075594028. Actual: 0\n",
      "     Anchor time: 2025-03-02 11:15:07. Prob 50GB upload within next 3 hours: 0.0033842141. Actual: 0\n",
      "     Anchor time: 2025-03-03 10:30:14. Prob 50GB upload within next 3 hours: 0.0132466014. Actual: 0\n",
      "====================================\n",
      "User: 45. Status: premium\n",
      "     Anchor time: 2025-03-04 10:30:14. Prob 50GB upload within next 3 hours: 0.1571503133. Actual: 0.2591817793182821\n",
      "     Anchor time: 2025-03-06 13:20:27. Prob 50GB upload within next 3 hours: 0.2763319016. Actual: 0.2591817793182821\n",
      "     Anchor time: 2025-03-08 16:10:40. Prob 50GB upload within next 3 hours: 0.3607003093. Actual: 0.2591817793182821\n",
      "====================================\n",
      "User: 45. Status: free\n",
      "     Anchor time: 2025-03-09 16:10:40. Prob 50GB upload within next 3 hours: 0.1470863819. Actual: 0\n",
      "     Anchor time: 2025-03-10 02:05:20. Prob 50GB upload within next 3 hours: 0.0408796705. Actual: 0\n",
      "     Anchor time: 2025-03-10 12:00:00. Prob 50GB upload within next 3 hours: 0.0458373763. Actual: 0\n",
      "User: 45\n",
      "====================================\n",
      "User: 45. Status: free\n",
      "     Anchor time: 2025-03-01 12:00:00. Prob 50GB upload within next 6 hours: 0.0135612609. Actual: 0\n",
      "     Anchor time: 2025-03-02 11:15:07. Prob 50GB upload within next 6 hours: 0.0144608598. Actual: 0\n",
      "     Anchor time: 2025-03-03 10:30:14. Prob 50GB upload within next 6 hours: 0.0879029334. Actual: 0\n",
      "====================================\n",
      "User: 45. Status: premium\n",
      "     Anchor time: 2025-03-04 10:30:14. Prob 50GB upload within next 6 hours: 0.1901869476. Actual: 0.4511883639059736\n",
      "     Anchor time: 2025-03-06 13:20:27. Prob 50GB upload within next 6 hours: 0.5007320046. Actual: 0.4511883639059736\n",
      "     Anchor time: 2025-03-08 16:10:40. Prob 50GB upload within next 6 hours: 0.4491927624. Actual: 0.4511883639059736\n",
      "====================================\n",
      "User: 45. Status: free\n",
      "     Anchor time: 2025-03-09 16:10:40. Prob 50GB upload within next 6 hours: 0.366373688. Actual: 0\n",
      "     Anchor time: 2025-03-10 02:05:20. Prob 50GB upload within next 6 hours: 0.1560235918. Actual: 0\n",
      "     Anchor time: 2025-03-10 12:00:00. Prob 50GB upload within next 6 hours: 0.165641129. Actual: 0\n"
     ]
    }
   ],
   "source": [
    "get_details_by_user(uid=45, hours1=12, hours2=1, nhops=6)\n",
    "get_details_by_user(uid=45, hours1=12, hours2=3, nhops=6)\n",
    "get_details_by_user(uid=45, hours1=12, hours2=6, nhops=6)"
   ]
  },
  {
   "cell_type": "markdown",
   "id": "88fbabae",
   "metadata": {},
   "source": [
    "# ADD STATUS (tier) TO UPLOADS (and ignore tiers)"
   ]
  },
  {
   "cell_type": "code",
   "execution_count": 320,
   "id": "f6f3c05d",
   "metadata": {},
   "outputs": [],
   "source": [
    "def get_details_by_user(uid, hours1, hours2, nhops=2):\n",
    "    print(f\"User: {uid}\")\n",
    "    one_user_tiers = tiers_df.loc[tiers_df.user_id==uid]\n",
    "    for _, r in one_user_tiers.iterrows():\n",
    "        uid = r['user_id']\n",
    "        from_datetime_plus = pd.Timestamp(r['from_datetime']) + timedelta(hours=hours1)\n",
    "        until_datetime_minus = pd.Timestamp(r['until_datetime']) - timedelta(hours=hours1)\n",
    "        middle_datetime = from_datetime_plus + (until_datetime_minus - from_datetime_plus)/2\n",
    "        status = r['status']\n",
    "        if status == 'free':\n",
    "            actual_prob = 0\n",
    "        else:\n",
    "            actual_prob = 1 - math.exp(-hours2*0.1)\n",
    "        print(\"====================================\")\n",
    "        print(f\"User: {uid}. Status: {status}\")\n",
    "        query = f\"\"\"PREDICT COUNT(uploads.* where uploads.size_gb=50 and uploads.status='{status}', 0, {hours2}, hours)>0 FOR users.user_id = {uid}\"\"\"\n",
    "        pred_df = model.predict(query, anchor_time=from_datetime_plus, verbose=False, num_hops=nhops)\n",
    "        print(f\"     Anchor time: {from_datetime_plus}. Prob 50GB upload within next {hours2} hours: {pred_df['True_PROB'].iloc[0]}. Actual: {actual_prob}\")\n",
    "        pred_df = model.predict(query, anchor_time=middle_datetime, verbose=False, num_hops=nhops)\n",
    "        print(f\"     Anchor time: {middle_datetime}. Prob 50GB upload within next {hours2} hours: {pred_df['True_PROB'].iloc[0]}. Actual: {actual_prob}\")\n",
    "        pred_df = model.predict(query, anchor_time=until_datetime_minus, verbose=False, num_hops=nhops)\n",
    "        print(f\"     Anchor time: {until_datetime_minus}. Prob 50GB upload within next {hours2} hours: {pred_df['True_PROB'].iloc[0]}. Actual: {actual_prob}\")"
   ]
  },
  {
   "cell_type": "code",
   "execution_count": 305,
   "id": "f87af953",
   "metadata": {},
   "outputs": [
    {
     "name": "stdout",
     "output_type": "stream",
     "text": [
      "1781\n",
      "1781\n"
     ]
    }
   ],
   "source": [
    "users_df = pd.read_csv(USERS_CSV)\n",
    "tiers_df = pd.read_csv(TIERS_CSV)\n",
    "items_df = pd.read_csv(ITEMS_CSV)\n",
    "uploads_df = pd.read_csv(UPLOADS_CSV)\n",
    "\n",
    "uploads_df = uploads_df.merge(items_df)\n",
    "print(uploads_df.shape[0])\n",
    "uploads_df = uploads_df.merge(tiers_df)\n",
    "uploads_df = uploads_df.loc[(uploads_df['datetime']>=uploads_df['from_datetime'])&(uploads_df['datetime']<uploads_df['until_datetime'])].copy()\n",
    "uploads_df.drop(columns = ['tier_status_id','from_datetime','until_datetime'], inplace=True)\n",
    "print(uploads_df.shape[0])\n"
   ]
  },
  {
   "cell_type": "code",
   "execution_count": 306,
   "id": "e8e59a7a",
   "metadata": {},
   "outputs": [
    {
     "data": {
      "text/html": [
       "<div>\n",
       "<style scoped>\n",
       "    .dataframe tbody tr th:only-of-type {\n",
       "        vertical-align: middle;\n",
       "    }\n",
       "\n",
       "    .dataframe tbody tr th {\n",
       "        vertical-align: top;\n",
       "    }\n",
       "\n",
       "    .dataframe thead th {\n",
       "        text-align: right;\n",
       "    }\n",
       "</style>\n",
       "<table border=\"1\" class=\"dataframe\">\n",
       "  <thead>\n",
       "    <tr style=\"text-align: right;\">\n",
       "      <th></th>\n",
       "      <th>user_id</th>\n",
       "      <th>name</th>\n",
       "    </tr>\n",
       "  </thead>\n",
       "  <tbody>\n",
       "    <tr>\n",
       "      <th>0</th>\n",
       "      <td>1</td>\n",
       "      <td>User 001</td>\n",
       "    </tr>\n",
       "    <tr>\n",
       "      <th>1</th>\n",
       "      <td>2</td>\n",
       "      <td>User 002</td>\n",
       "    </tr>\n",
       "    <tr>\n",
       "      <th>2</th>\n",
       "      <td>3</td>\n",
       "      <td>User 003</td>\n",
       "    </tr>\n",
       "  </tbody>\n",
       "</table>\n",
       "</div>"
      ],
      "text/plain": [
       "   user_id      name\n",
       "0        1  User 001\n",
       "1        2  User 002\n",
       "2        3  User 003"
      ]
     },
     "metadata": {},
     "output_type": "display_data"
    },
    {
     "data": {
      "text/html": [
       "<div>\n",
       "<style scoped>\n",
       "    .dataframe tbody tr th:only-of-type {\n",
       "        vertical-align: middle;\n",
       "    }\n",
       "\n",
       "    .dataframe tbody tr th {\n",
       "        vertical-align: top;\n",
       "    }\n",
       "\n",
       "    .dataframe thead th {\n",
       "        text-align: right;\n",
       "    }\n",
       "</style>\n",
       "<table border=\"1\" class=\"dataframe\">\n",
       "  <thead>\n",
       "    <tr style=\"text-align: right;\">\n",
       "      <th></th>\n",
       "      <th>tier_status_id</th>\n",
       "      <th>user_id</th>\n",
       "      <th>from_datetime</th>\n",
       "      <th>until_datetime</th>\n",
       "      <th>status</th>\n",
       "    </tr>\n",
       "  </thead>\n",
       "  <tbody>\n",
       "    <tr>\n",
       "      <th>0</th>\n",
       "      <td>1</td>\n",
       "      <td>1</td>\n",
       "      <td>2025-03-01 00:00:00</td>\n",
       "      <td>2025-03-11 00:00:00</td>\n",
       "      <td>premium</td>\n",
       "    </tr>\n",
       "    <tr>\n",
       "      <th>1</th>\n",
       "      <td>2</td>\n",
       "      <td>2</td>\n",
       "      <td>2025-03-01 00:00:00</td>\n",
       "      <td>2025-03-11 00:00:00</td>\n",
       "      <td>premium</td>\n",
       "    </tr>\n",
       "    <tr>\n",
       "      <th>2</th>\n",
       "      <td>3</td>\n",
       "      <td>3</td>\n",
       "      <td>2025-03-01 00:00:00</td>\n",
       "      <td>2025-03-11 00:00:00</td>\n",
       "      <td>premium</td>\n",
       "    </tr>\n",
       "  </tbody>\n",
       "</table>\n",
       "</div>"
      ],
      "text/plain": [
       "   tier_status_id  user_id        from_datetime       until_datetime   status\n",
       "0               1        1  2025-03-01 00:00:00  2025-03-11 00:00:00  premium\n",
       "1               2        2  2025-03-01 00:00:00  2025-03-11 00:00:00  premium\n",
       "2               3        3  2025-03-01 00:00:00  2025-03-11 00:00:00  premium"
      ]
     },
     "metadata": {},
     "output_type": "display_data"
    },
    {
     "data": {
      "text/html": [
       "<div>\n",
       "<style scoped>\n",
       "    .dataframe tbody tr th:only-of-type {\n",
       "        vertical-align: middle;\n",
       "    }\n",
       "\n",
       "    .dataframe tbody tr th {\n",
       "        vertical-align: top;\n",
       "    }\n",
       "\n",
       "    .dataframe thead th {\n",
       "        text-align: right;\n",
       "    }\n",
       "</style>\n",
       "<table border=\"1\" class=\"dataframe\">\n",
       "  <thead>\n",
       "    <tr style=\"text-align: right;\">\n",
       "      <th></th>\n",
       "      <th>item_id</th>\n",
       "      <th>size_gb</th>\n",
       "    </tr>\n",
       "  </thead>\n",
       "  <tbody>\n",
       "    <tr>\n",
       "      <th>0</th>\n",
       "      <td>1</td>\n",
       "      <td>5</td>\n",
       "    </tr>\n",
       "    <tr>\n",
       "      <th>1</th>\n",
       "      <td>2</td>\n",
       "      <td>5</td>\n",
       "    </tr>\n",
       "    <tr>\n",
       "      <th>2</th>\n",
       "      <td>3</td>\n",
       "      <td>5</td>\n",
       "    </tr>\n",
       "  </tbody>\n",
       "</table>\n",
       "</div>"
      ],
      "text/plain": [
       "   item_id  size_gb\n",
       "0        1        5\n",
       "1        2        5\n",
       "2        3        5"
      ]
     },
     "metadata": {},
     "output_type": "display_data"
    },
    {
     "data": {
      "text/html": [
       "<div>\n",
       "<style scoped>\n",
       "    .dataframe tbody tr th:only-of-type {\n",
       "        vertical-align: middle;\n",
       "    }\n",
       "\n",
       "    .dataframe tbody tr th {\n",
       "        vertical-align: top;\n",
       "    }\n",
       "\n",
       "    .dataframe thead th {\n",
       "        text-align: right;\n",
       "    }\n",
       "</style>\n",
       "<table border=\"1\" class=\"dataframe\">\n",
       "  <thead>\n",
       "    <tr style=\"text-align: right;\">\n",
       "      <th></th>\n",
       "      <th>upload_id</th>\n",
       "      <th>user_id</th>\n",
       "      <th>item_id</th>\n",
       "      <th>datetime</th>\n",
       "      <th>size_gb</th>\n",
       "      <th>status</th>\n",
       "    </tr>\n",
       "  </thead>\n",
       "  <tbody>\n",
       "    <tr>\n",
       "      <th>0</th>\n",
       "      <td>1</td>\n",
       "      <td>1</td>\n",
       "      <td>15</td>\n",
       "      <td>2025-03-04 05:45:47</td>\n",
       "      <td>5</td>\n",
       "      <td>premium</td>\n",
       "    </tr>\n",
       "    <tr>\n",
       "      <th>1</th>\n",
       "      <td>2</td>\n",
       "      <td>1</td>\n",
       "      <td>3</td>\n",
       "      <td>2025-03-09 12:25:12</td>\n",
       "      <td>5</td>\n",
       "      <td>premium</td>\n",
       "    </tr>\n",
       "    <tr>\n",
       "      <th>2</th>\n",
       "      <td>3</td>\n",
       "      <td>1</td>\n",
       "      <td>21</td>\n",
       "      <td>2025-03-09 07:05:52</td>\n",
       "      <td>5</td>\n",
       "      <td>premium</td>\n",
       "    </tr>\n",
       "  </tbody>\n",
       "</table>\n",
       "</div>"
      ],
      "text/plain": [
       "   upload_id  user_id  item_id             datetime  size_gb   status\n",
       "0          1        1       15  2025-03-04 05:45:47        5  premium\n",
       "1          2        1        3  2025-03-09 12:25:12        5  premium\n",
       "2          3        1       21  2025-03-09 07:05:52        5  premium"
      ]
     },
     "metadata": {},
     "output_type": "display_data"
    }
   ],
   "source": [
    "display(users_df.head(3))\n",
    "display(tiers_df.head(3))\n",
    "display(items_df.head(3))\n",
    "display(uploads_df.head(3))"
   ]
  },
  {
   "cell_type": "code",
   "execution_count": 307,
   "id": "7562ea6c",
   "metadata": {},
   "outputs": [
    {
     "name": "stdout",
     "output_type": "stream",
     "text": [
      "Detected primary key 'user_id' in table 'users'\n",
      "Detected primary key 'upload_id' and time column 'datetime' in table 'uploads'\n"
     ]
    }
   ],
   "source": [
    "users = rfm.LocalTable(users_df, name=\"users\").infer_metadata()\n",
    "#tiers = rfm.LocalTable(tiers_df, name=\"tiers\").infer_metadata()\n",
    "#items = rfm.LocalTable(items_df, name=\"items\").infer_metadata()\n",
    "uploads = rfm.LocalTable(uploads_df, name=\"uploads\").infer_metadata()\n"
   ]
  },
  {
   "cell_type": "code",
   "execution_count": 308,
   "id": "4cdf345b",
   "metadata": {},
   "outputs": [
    {
     "data": {
      "text/markdown": [
       "### 🏷️ Metadata of Table `users` (50 rows)"
      ],
      "text/plain": [
       "<IPython.core.display.Markdown object>"
      ]
     },
     "metadata": {},
     "output_type": "display_data"
    },
    {
     "data": {
      "text/html": [
       "<style type=\"text/css\">\n",
       "</style>\n",
       "<table id=\"T_c9f45\">\n",
       "  <thead>\n",
       "    <tr>\n",
       "      <th id=\"T_c9f45_level0_col0\" class=\"col_heading level0 col0\" >name</th>\n",
       "      <th id=\"T_c9f45_level0_col1\" class=\"col_heading level0 col1\" >dtype</th>\n",
       "      <th id=\"T_c9f45_level0_col2\" class=\"col_heading level0 col2\" >stype</th>\n",
       "      <th id=\"T_c9f45_level0_col3\" class=\"col_heading level0 col3\" >is_primary_key</th>\n",
       "      <th id=\"T_c9f45_level0_col4\" class=\"col_heading level0 col4\" >is_time_column</th>\n",
       "    </tr>\n",
       "  </thead>\n",
       "  <tbody>\n",
       "    <tr>\n",
       "      <td id=\"T_c9f45_row0_col0\" class=\"data row0 col0\" >user_id</td>\n",
       "      <td id=\"T_c9f45_row0_col1\" class=\"data row0 col1\" >int</td>\n",
       "      <td id=\"T_c9f45_row0_col2\" class=\"data row0 col2\" >ID</td>\n",
       "      <td id=\"T_c9f45_row0_col3\" class=\"data row0 col3\" >True</td>\n",
       "      <td id=\"T_c9f45_row0_col4\" class=\"data row0 col4\" >False</td>\n",
       "    </tr>\n",
       "    <tr>\n",
       "      <td id=\"T_c9f45_row1_col0\" class=\"data row1 col0\" >name</td>\n",
       "      <td id=\"T_c9f45_row1_col1\" class=\"data row1 col1\" >string</td>\n",
       "      <td id=\"T_c9f45_row1_col2\" class=\"data row1 col2\" >text</td>\n",
       "      <td id=\"T_c9f45_row1_col3\" class=\"data row1 col3\" >False</td>\n",
       "      <td id=\"T_c9f45_row1_col4\" class=\"data row1 col4\" >False</td>\n",
       "    </tr>\n",
       "  </tbody>\n",
       "</table>\n"
      ],
      "text/plain": [
       "<pandas.io.formats.style.Styler at 0x76cdd081d0c0>"
      ]
     },
     "metadata": {},
     "output_type": "display_data"
    }
   ],
   "source": [
    "users.print_metadata()"
   ]
  },
  {
   "cell_type": "code",
   "execution_count": 309,
   "id": "0a6646fa",
   "metadata": {},
   "outputs": [],
   "source": [
    "# tiers.primary_key = \"tier_status_id\"\n",
    "# tiers.print_metadata()"
   ]
  },
  {
   "cell_type": "code",
   "execution_count": 310,
   "id": "aae67451",
   "metadata": {},
   "outputs": [],
   "source": [
    "# items['size_gb'].stype = \"numerical\"\n",
    "# items.print_metadata()"
   ]
  },
  {
   "cell_type": "code",
   "execution_count": 311,
   "id": "9a7b132f",
   "metadata": {},
   "outputs": [
    {
     "data": {
      "text/markdown": [
       "### 🏷️ Metadata of Table `uploads` (1,781 rows)"
      ],
      "text/plain": [
       "<IPython.core.display.Markdown object>"
      ]
     },
     "metadata": {},
     "output_type": "display_data"
    },
    {
     "data": {
      "text/html": [
       "<style type=\"text/css\">\n",
       "</style>\n",
       "<table id=\"T_3457e\">\n",
       "  <thead>\n",
       "    <tr>\n",
       "      <th id=\"T_3457e_level0_col0\" class=\"col_heading level0 col0\" >name</th>\n",
       "      <th id=\"T_3457e_level0_col1\" class=\"col_heading level0 col1\" >dtype</th>\n",
       "      <th id=\"T_3457e_level0_col2\" class=\"col_heading level0 col2\" >stype</th>\n",
       "      <th id=\"T_3457e_level0_col3\" class=\"col_heading level0 col3\" >is_primary_key</th>\n",
       "      <th id=\"T_3457e_level0_col4\" class=\"col_heading level0 col4\" >is_time_column</th>\n",
       "    </tr>\n",
       "  </thead>\n",
       "  <tbody>\n",
       "    <tr>\n",
       "      <td id=\"T_3457e_row0_col0\" class=\"data row0 col0\" >upload_id</td>\n",
       "      <td id=\"T_3457e_row0_col1\" class=\"data row0 col1\" >int</td>\n",
       "      <td id=\"T_3457e_row0_col2\" class=\"data row0 col2\" >ID</td>\n",
       "      <td id=\"T_3457e_row0_col3\" class=\"data row0 col3\" >True</td>\n",
       "      <td id=\"T_3457e_row0_col4\" class=\"data row0 col4\" >False</td>\n",
       "    </tr>\n",
       "    <tr>\n",
       "      <td id=\"T_3457e_row1_col0\" class=\"data row1 col0\" >user_id</td>\n",
       "      <td id=\"T_3457e_row1_col1\" class=\"data row1 col1\" >int</td>\n",
       "      <td id=\"T_3457e_row1_col2\" class=\"data row1 col2\" >ID</td>\n",
       "      <td id=\"T_3457e_row1_col3\" class=\"data row1 col3\" >False</td>\n",
       "      <td id=\"T_3457e_row1_col4\" class=\"data row1 col4\" >False</td>\n",
       "    </tr>\n",
       "    <tr>\n",
       "      <td id=\"T_3457e_row2_col0\" class=\"data row2 col0\" >item_id</td>\n",
       "      <td id=\"T_3457e_row2_col1\" class=\"data row2 col1\" >int</td>\n",
       "      <td id=\"T_3457e_row2_col2\" class=\"data row2 col2\" >ID</td>\n",
       "      <td id=\"T_3457e_row2_col3\" class=\"data row2 col3\" >False</td>\n",
       "      <td id=\"T_3457e_row2_col4\" class=\"data row2 col4\" >False</td>\n",
       "    </tr>\n",
       "    <tr>\n",
       "      <td id=\"T_3457e_row3_col0\" class=\"data row3 col0\" >datetime</td>\n",
       "      <td id=\"T_3457e_row3_col1\" class=\"data row3 col1\" >string</td>\n",
       "      <td id=\"T_3457e_row3_col2\" class=\"data row3 col2\" >timestamp</td>\n",
       "      <td id=\"T_3457e_row3_col3\" class=\"data row3 col3\" >False</td>\n",
       "      <td id=\"T_3457e_row3_col4\" class=\"data row3 col4\" >True</td>\n",
       "    </tr>\n",
       "    <tr>\n",
       "      <td id=\"T_3457e_row4_col0\" class=\"data row4 col0\" >size_gb</td>\n",
       "      <td id=\"T_3457e_row4_col1\" class=\"data row4 col1\" >int</td>\n",
       "      <td id=\"T_3457e_row4_col2\" class=\"data row4 col2\" >numerical</td>\n",
       "      <td id=\"T_3457e_row4_col3\" class=\"data row4 col3\" >False</td>\n",
       "      <td id=\"T_3457e_row4_col4\" class=\"data row4 col4\" >False</td>\n",
       "    </tr>\n",
       "    <tr>\n",
       "      <td id=\"T_3457e_row5_col0\" class=\"data row5 col0\" >status</td>\n",
       "      <td id=\"T_3457e_row5_col1\" class=\"data row5 col1\" >string</td>\n",
       "      <td id=\"T_3457e_row5_col2\" class=\"data row5 col2\" >categorical</td>\n",
       "      <td id=\"T_3457e_row5_col3\" class=\"data row5 col3\" >False</td>\n",
       "      <td id=\"T_3457e_row5_col4\" class=\"data row5 col4\" >False</td>\n",
       "    </tr>\n",
       "  </tbody>\n",
       "</table>\n"
      ],
      "text/plain": [
       "<pandas.io.formats.style.Styler at 0x76cdd0563250>"
      ]
     },
     "metadata": {},
     "output_type": "display_data"
    }
   ],
   "source": [
    "uploads['size_gb'].stype = \"numerical\"\n",
    "uploads.print_metadata()"
   ]
  },
  {
   "cell_type": "code",
   "execution_count": 312,
   "id": "6967c599",
   "metadata": {},
   "outputs": [],
   "source": [
    "graph = rfm.LocalGraph(tables=[users, uploads])"
   ]
  },
  {
   "cell_type": "code",
   "execution_count": 313,
   "id": "08fab06b",
   "metadata": {},
   "outputs": [
    {
     "data": {
      "text/markdown": [
       "### 🕸️ Graph Links (FK ↔️ PK)"
      ],
      "text/plain": [
       "<IPython.core.display.Markdown object>"
      ]
     },
     "metadata": {},
     "output_type": "display_data"
    },
    {
     "data": {
      "text/markdown": [
       "- `uploads.user_id` ↔️ `users.user_id`"
      ],
      "text/plain": [
       "<IPython.core.display.Markdown object>"
      ]
     },
     "metadata": {},
     "output_type": "display_data"
    }
   ],
   "source": [
    "# graph.link(src_table=\"tiers\", fkey=\"user_id\", dst_table=\"users\");\n",
    "# graph.link(src_table=\"uploads\", fkey=\"item_id\", dst_table=\"items\");\n",
    "graph.link(src_table=\"uploads\", fkey=\"user_id\", dst_table=\"users\");\n",
    "graph.print_links()"
   ]
  },
  {
   "cell_type": "code",
   "execution_count": 314,
   "id": "f4f4e0cf",
   "metadata": {},
   "outputs": [],
   "source": [
    "model = rfm.KumoRFM(graph, verbose=False)"
   ]
  },
  {
   "cell_type": "markdown",
   "id": "ba904db7",
   "metadata": {},
   "source": [
    "<div align=\"center\">\n",
    "  <img src=\"temporal_dependencies_03_new.png\" width=\"400\" />\n",
    "</div>"
   ]
  },
  {
   "cell_type": "markdown",
   "id": "858ced7c",
   "metadata": {},
   "source": [
    "### Look at probabilities for specific users in each cohort, in all their tiers, at different times."
   ]
  },
  {
   "cell_type": "code",
   "execution_count": 321,
   "id": "17842992",
   "metadata": {},
   "outputs": [
    {
     "name": "stdout",
     "output_type": "stream",
     "text": [
      "User: 5\n",
      "====================================\n",
      "User: 5. Status: premium\n",
      "     Anchor time: 2025-03-01 12:00:00. Prob 50GB upload within next 1 hours: 0.0710699558. Actual: 0.09516258196404048\n",
      "     Anchor time: 2025-03-06 00:00:00. Prob 50GB upload within next 1 hours: 0.0671520233. Actual: 0.09516258196404048\n",
      "     Anchor time: 2025-03-10 12:00:00. Prob 50GB upload within next 1 hours: 0.0785598829. Actual: 0.09516258196404048\n",
      "User: 5\n",
      "====================================\n",
      "User: 5. Status: premium\n",
      "     Anchor time: 2025-03-01 12:00:00. Prob 50GB upload within next 2 hours: 0.1588352323. Actual: 0.18126924692201818\n",
      "     Anchor time: 2025-03-06 00:00:00. Prob 50GB upload within next 2 hours: 0.1618142128. Actual: 0.18126924692201818\n",
      "     Anchor time: 2025-03-10 12:00:00. Prob 50GB upload within next 2 hours: 0.1954104304. Actual: 0.18126924692201818\n",
      "User: 5\n",
      "====================================\n",
      "User: 5. Status: premium\n",
      "     Anchor time: 2025-03-01 12:00:00. Prob 50GB upload within next 4 hours: 0.2245325148. Actual: 0.3296799539643607\n",
      "     Anchor time: 2025-03-06 00:00:00. Prob 50GB upload within next 4 hours: 0.3679588437. Actual: 0.3296799539643607\n",
      "     Anchor time: 2025-03-10 12:00:00. Prob 50GB upload within next 4 hours: 0.3446640074. Actual: 0.3296799539643607\n"
     ]
    }
   ],
   "source": [
    "get_details_by_user(uid=5, hours1=12, hours2=1)\n",
    "get_details_by_user(uid=5, hours1=12, hours2=2)\n",
    "get_details_by_user(uid=5, hours1=12, hours2=4)\n"
   ]
  },
  {
   "cell_type": "code",
   "execution_count": 322,
   "id": "3f58996f",
   "metadata": {},
   "outputs": [
    {
     "name": "stdout",
     "output_type": "stream",
     "text": [
      "User: 15\n",
      "====================================\n",
      "User: 15. Status: free\n",
      "     Anchor time: 2025-03-01 12:00:00. Prob 50GB upload within next 1 hours: 0.0. Actual: 0\n",
      "     Anchor time: 2025-03-06 00:00:00. Prob 50GB upload within next 1 hours: 0.0. Actual: 0\n",
      "     Anchor time: 2025-03-10 12:00:00. Prob 50GB upload within next 1 hours: 0.0. Actual: 0\n",
      "User: 15\n",
      "====================================\n",
      "User: 15. Status: free\n",
      "     Anchor time: 2025-03-01 12:00:00. Prob 50GB upload within next 2 hours: 0.0. Actual: 0\n",
      "     Anchor time: 2025-03-06 00:00:00. Prob 50GB upload within next 2 hours: 0.0. Actual: 0\n",
      "     Anchor time: 2025-03-10 12:00:00. Prob 50GB upload within next 2 hours: 0.0. Actual: 0\n",
      "User: 15\n",
      "====================================\n",
      "User: 15. Status: free\n",
      "     Anchor time: 2025-03-01 12:00:00. Prob 50GB upload within next 4 hours: 0.0. Actual: 0\n",
      "     Anchor time: 2025-03-06 00:00:00. Prob 50GB upload within next 4 hours: 0.0. Actual: 0\n",
      "     Anchor time: 2025-03-10 12:00:00. Prob 50GB upload within next 4 hours: 0.0. Actual: 0\n"
     ]
    }
   ],
   "source": [
    "get_details_by_user(uid=15, hours1=12, hours2=1)\n",
    "get_details_by_user(uid=15, hours1=12, hours2=2)\n",
    "get_details_by_user(uid=15, hours1=12, hours2=4)"
   ]
  },
  {
   "cell_type": "code",
   "execution_count": 323,
   "id": "dc22b712",
   "metadata": {},
   "outputs": [
    {
     "name": "stdout",
     "output_type": "stream",
     "text": [
      "User: 25\n",
      "====================================\n",
      "User: 25. Status: premium\n",
      "     Anchor time: 2025-03-01 12:00:00. Prob 50GB upload within next 1 hours: 0.0296332687. Actual: 0.09516258196404048\n",
      "     Anchor time: 2025-03-02 23:39:53.500000. Prob 50GB upload within next 1 hours: 0.1226199642. Actual: 0.09516258196404048\n",
      "     Anchor time: 2025-03-04 11:19:47. Prob 50GB upload within next 1 hours: 0.1153997332. Actual: 0.09516258196404048\n",
      "====================================\n",
      "User: 25. Status: free\n",
      "     Anchor time: 2025-03-05 11:19:47. Prob 50GB upload within next 1 hours: 0.0. Actual: 0\n",
      "     Anchor time: 2025-03-07 23:39:53.500000. Prob 50GB upload within next 1 hours: 0.0. Actual: 0\n",
      "     Anchor time: 2025-03-10 12:00:00. Prob 50GB upload within next 1 hours: 0.0. Actual: 0\n",
      "User: 25\n",
      "====================================\n",
      "User: 25. Status: premium\n",
      "     Anchor time: 2025-03-01 12:00:00. Prob 50GB upload within next 2 hours: 0.0486079827. Actual: 0.18126924692201818\n",
      "     Anchor time: 2025-03-02 23:39:53.500000. Prob 50GB upload within next 2 hours: 0.198518008. Actual: 0.18126924692201818\n",
      "     Anchor time: 2025-03-04 11:19:47. Prob 50GB upload within next 2 hours: 0.2120877206. Actual: 0.18126924692201818\n",
      "====================================\n",
      "User: 25. Status: free\n",
      "     Anchor time: 2025-03-05 11:19:47. Prob 50GB upload within next 2 hours: 0.0. Actual: 0\n",
      "     Anchor time: 2025-03-07 23:39:53.500000. Prob 50GB upload within next 2 hours: 0.0. Actual: 0\n",
      "     Anchor time: 2025-03-10 12:00:00. Prob 50GB upload within next 2 hours: 0.0. Actual: 0\n",
      "User: 25\n",
      "====================================\n",
      "User: 25. Status: premium\n",
      "     Anchor time: 2025-03-01 12:00:00. Prob 50GB upload within next 4 hours: 0.0840436667. Actual: 0.3296799539643607\n",
      "     Anchor time: 2025-03-02 23:39:53.500000. Prob 50GB upload within next 4 hours: 0.3775948584. Actual: 0.3296799539643607\n",
      "     Anchor time: 2025-03-04 11:19:47. Prob 50GB upload within next 4 hours: 0.3149316609. Actual: 0.3296799539643607\n",
      "====================================\n",
      "User: 25. Status: free\n",
      "     Anchor time: 2025-03-05 11:19:47. Prob 50GB upload within next 4 hours: 0.0. Actual: 0\n",
      "     Anchor time: 2025-03-07 23:39:53.500000. Prob 50GB upload within next 4 hours: 0.0. Actual: 0\n",
      "     Anchor time: 2025-03-10 12:00:00. Prob 50GB upload within next 4 hours: 0.0. Actual: 0\n"
     ]
    }
   ],
   "source": [
    "get_details_by_user(uid=25, hours1=12, hours2=1)\n",
    "get_details_by_user(uid=25, hours1=12, hours2=2)\n",
    "get_details_by_user(uid=25, hours1=12, hours2=4)"
   ]
  },
  {
   "cell_type": "code",
   "execution_count": 324,
   "id": "a8bbfa20",
   "metadata": {},
   "outputs": [
    {
     "name": "stdout",
     "output_type": "stream",
     "text": [
      "User: 35\n",
      "====================================\n",
      "User: 35. Status: free\n",
      "     Anchor time: 2025-03-01 12:00:00. Prob 50GB upload within next 1 hours: 0.0. Actual: 0\n",
      "     Anchor time: 2025-03-02 01:38:43. Prob 50GB upload within next 1 hours: 0.0. Actual: 0\n",
      "     Anchor time: 2025-03-02 15:17:26. Prob 50GB upload within next 1 hours: 0.0. Actual: 0\n",
      "====================================\n",
      "User: 35. Status: premium\n",
      "     Anchor time: 2025-03-03 15:17:26. Prob 50GB upload within next 1 hours: 0.0898915529. Actual: 0.09516258196404048\n",
      "     Anchor time: 2025-03-07 01:38:43. Prob 50GB upload within next 1 hours: 0.0741035342. Actual: 0.09516258196404048\n",
      "     Anchor time: 2025-03-10 12:00:00. Prob 50GB upload within next 1 hours: 0.0744045377. Actual: 0.09516258196404048\n",
      "User: 35\n",
      "====================================\n",
      "User: 35. Status: free\n",
      "     Anchor time: 2025-03-01 12:00:00. Prob 50GB upload within next 2 hours: 0.0. Actual: 0\n",
      "     Anchor time: 2025-03-02 01:38:43. Prob 50GB upload within next 2 hours: 0.0. Actual: 0\n",
      "     Anchor time: 2025-03-02 15:17:26. Prob 50GB upload within next 2 hours: 0.0. Actual: 0\n",
      "====================================\n",
      "User: 35. Status: premium\n",
      "     Anchor time: 2025-03-03 15:17:26. Prob 50GB upload within next 2 hours: 0.1720872819. Actual: 0.18126924692201818\n",
      "     Anchor time: 2025-03-07 01:38:43. Prob 50GB upload within next 2 hours: 0.1341761053. Actual: 0.18126924692201818\n",
      "     Anchor time: 2025-03-10 12:00:00. Prob 50GB upload within next 2 hours: 0.1652046144. Actual: 0.18126924692201818\n",
      "User: 35\n",
      "====================================\n",
      "User: 35. Status: free\n",
      "     Anchor time: 2025-03-01 12:00:00. Prob 50GB upload within next 4 hours: 0.0. Actual: 0\n",
      "     Anchor time: 2025-03-02 01:38:43. Prob 50GB upload within next 4 hours: 0.0. Actual: 0\n",
      "     Anchor time: 2025-03-02 15:17:26. Prob 50GB upload within next 4 hours: 0.0. Actual: 0\n",
      "====================================\n",
      "User: 35. Status: premium\n",
      "     Anchor time: 2025-03-03 15:17:26. Prob 50GB upload within next 4 hours: 0.2629196644. Actual: 0.3296799539643607\n",
      "     Anchor time: 2025-03-07 01:38:43. Prob 50GB upload within next 4 hours: 0.312863946. Actual: 0.3296799539643607\n",
      "     Anchor time: 2025-03-10 12:00:00. Prob 50GB upload within next 4 hours: 0.3380820751. Actual: 0.3296799539643607\n"
     ]
    }
   ],
   "source": [
    "get_details_by_user(uid=35, hours1=12, hours2=1)\n",
    "get_details_by_user(uid=35, hours1=12, hours2=2)\n",
    "get_details_by_user(uid=35, hours1=12, hours2=4)"
   ]
  },
  {
   "cell_type": "code",
   "execution_count": 325,
   "id": "4df07ba3",
   "metadata": {},
   "outputs": [
    {
     "name": "stdout",
     "output_type": "stream",
     "text": [
      "User: 45\n",
      "====================================\n",
      "User: 45. Status: free\n",
      "     Anchor time: 2025-03-01 12:00:00. Prob 50GB upload within next 1 hours: 0.0. Actual: 0\n",
      "     Anchor time: 2025-03-02 11:15:07. Prob 50GB upload within next 1 hours: 0.0. Actual: 0\n",
      "     Anchor time: 2025-03-03 10:30:14. Prob 50GB upload within next 1 hours: 0.0. Actual: 0\n",
      "====================================\n",
      "User: 45. Status: premium\n",
      "     Anchor time: 2025-03-04 10:30:14. Prob 50GB upload within next 1 hours: 0.0184248611. Actual: 0.09516258196404048\n",
      "     Anchor time: 2025-03-06 13:20:27. Prob 50GB upload within next 1 hours: 0.099585548. Actual: 0.09516258196404048\n",
      "     Anchor time: 2025-03-08 16:10:40. Prob 50GB upload within next 1 hours: 0.1765140593. Actual: 0.09516258196404048\n",
      "====================================\n",
      "User: 45. Status: free\n",
      "     Anchor time: 2025-03-09 16:10:40. Prob 50GB upload within next 1 hours: 0.0. Actual: 0\n",
      "     Anchor time: 2025-03-10 02:05:20. Prob 50GB upload within next 1 hours: 0.0. Actual: 0\n",
      "     Anchor time: 2025-03-10 12:00:00. Prob 50GB upload within next 1 hours: 0.0. Actual: 0\n",
      "User: 45\n",
      "====================================\n",
      "User: 45. Status: free\n",
      "     Anchor time: 2025-03-01 12:00:00. Prob 50GB upload within next 2 hours: 0.0. Actual: 0\n",
      "     Anchor time: 2025-03-02 11:15:07. Prob 50GB upload within next 2 hours: 0.0. Actual: 0\n",
      "     Anchor time: 2025-03-03 10:30:14. Prob 50GB upload within next 2 hours: 0.0. Actual: 0\n",
      "====================================\n",
      "User: 45. Status: premium\n",
      "     Anchor time: 2025-03-04 10:30:14. Prob 50GB upload within next 2 hours: 0.121540457. Actual: 0.18126924692201818\n",
      "     Anchor time: 2025-03-06 13:20:27. Prob 50GB upload within next 2 hours: 0.1647796929. Actual: 0.18126924692201818\n",
      "     Anchor time: 2025-03-08 16:10:40. Prob 50GB upload within next 2 hours: 0.2282027304. Actual: 0.18126924692201818\n",
      "====================================\n",
      "User: 45. Status: free\n",
      "     Anchor time: 2025-03-09 16:10:40. Prob 50GB upload within next 2 hours: 0.0. Actual: 0\n",
      "     Anchor time: 2025-03-10 02:05:20. Prob 50GB upload within next 2 hours: 0.0. Actual: 0\n",
      "     Anchor time: 2025-03-10 12:00:00. Prob 50GB upload within next 2 hours: 0.0. Actual: 0\n",
      "User: 45\n",
      "====================================\n",
      "User: 45. Status: free\n",
      "     Anchor time: 2025-03-01 12:00:00. Prob 50GB upload within next 4 hours: 0.0. Actual: 0\n",
      "     Anchor time: 2025-03-02 11:15:07. Prob 50GB upload within next 4 hours: 0.0. Actual: 0\n",
      "     Anchor time: 2025-03-03 10:30:14. Prob 50GB upload within next 4 hours: 0.0. Actual: 0\n",
      "====================================\n",
      "User: 45. Status: premium\n",
      "     Anchor time: 2025-03-04 10:30:14. Prob 50GB upload within next 4 hours: 0.1697831303. Actual: 0.3296799539643607\n",
      "     Anchor time: 2025-03-06 13:20:27. Prob 50GB upload within next 4 hours: 0.2843260765. Actual: 0.3296799539643607\n",
      "     Anchor time: 2025-03-08 16:10:40. Prob 50GB upload within next 4 hours: 0.3248188496. Actual: 0.3296799539643607\n",
      "====================================\n",
      "User: 45. Status: free\n",
      "     Anchor time: 2025-03-09 16:10:40. Prob 50GB upload within next 4 hours: 0.0. Actual: 0\n",
      "     Anchor time: 2025-03-10 02:05:20. Prob 50GB upload within next 4 hours: 0.0. Actual: 0\n",
      "     Anchor time: 2025-03-10 12:00:00. Prob 50GB upload within next 4 hours: 0.0. Actual: 0\n"
     ]
    }
   ],
   "source": [
    "get_details_by_user(uid=45, hours1=12, hours2=1)\n",
    "get_details_by_user(uid=45, hours1=12, hours2=2)\n",
    "get_details_by_user(uid=45, hours1=12, hours2=4)"
   ]
  },
  {
   "cell_type": "markdown",
   "id": "7d4b32dc",
   "metadata": {},
   "source": []
  }
 ],
 "metadata": {
  "kernelspec": {
   "display_name": "venv (3.10.12)",
   "language": "python",
   "name": "python3"
  },
  "language_info": {
   "codemirror_mode": {
    "name": "ipython",
    "version": 3
   },
   "file_extension": ".py",
   "mimetype": "text/x-python",
   "name": "python",
   "nbconvert_exporter": "python",
   "pygments_lexer": "ipython3",
   "version": "3.10.12"
  }
 },
 "nbformat": 4,
 "nbformat_minor": 5
}
