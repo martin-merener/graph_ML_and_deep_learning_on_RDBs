{
 "cells": [
  {
   "cell_type": "code",
   "execution_count": 17,
   "id": "55d8b177",
   "metadata": {},
   "outputs": [],
   "source": [
    "import kumoai.experimental.rfm as rfm, os\n",
    "from pathlib import Path\n",
    "import pandas as pd\n",
    "import numpy as np"
   ]
  },
  {
   "cell_type": "code",
   "execution_count": 3,
   "id": "ced12bc1",
   "metadata": {},
   "outputs": [],
   "source": [
    "home_api_key_file = Path.home() / \"kumoai_key.txt\"\n",
    "with open(home_api_key_file, \"r\") as file:\n",
    "    api_key = file.read().strip()\n",
    "os.environ[\"KUMO_API_KEY\"] = api_key"
   ]
  },
  {
   "cell_type": "code",
   "execution_count": 4,
   "id": "f0256e26",
   "metadata": {},
   "outputs": [
    {
     "name": "stderr",
     "output_type": "stream",
     "text": [
      "[2025-08-08 23:08:50 - kumoai:196 - INFO] Successfully initialized the Kumo SDK against deployment https://kumorfm.ai/api, with log level INFO.\n"
     ]
    }
   ],
   "source": [
    "rfm.init()"
   ]
  },
  {
   "cell_type": "code",
   "execution_count": 5,
   "id": "0f58d889",
   "metadata": {},
   "outputs": [],
   "source": [
    "root = 's3://kumo-sdk-public/rfm-datasets/online-shopping'\n",
    "users_df = pd.read_parquet(f'{root}/users.parquet')\n",
    "items_df = pd.read_parquet(f'{root}/items.parquet')\n",
    "orders_df = pd.read_parquet(f'{root}/orders.parquet')"
   ]
  },
  {
   "cell_type": "code",
   "execution_count": 6,
   "id": "ce4b6163",
   "metadata": {},
   "outputs": [
    {
     "name": "stdout",
     "output_type": "stream",
     "text": [
      "Detected primary key 'user_id' in table 'users'\n",
      "Detected primary key 'item_id' in table 'items'\n",
      "Detected primary key 'order_id' and time column 'date' in table 'orders'\n"
     ]
    }
   ],
   "source": [
    "users = rfm.LocalTable(users_df, name=\"users\").infer_metadata()\n",
    "items = rfm.LocalTable(items_df, name=\"items\").infer_metadata()\n",
    "orders = rfm.LocalTable(orders_df, name=\"orders\").infer_metadata()"
   ]
  },
  {
   "cell_type": "code",
   "execution_count": 7,
   "id": "0b169afe",
   "metadata": {},
   "outputs": [
    {
     "data": {
      "text/markdown": [
       "### 🏷️ Metadata of Table `users` (1,000 rows)"
      ],
      "text/plain": [
       "<IPython.core.display.Markdown object>"
      ]
     },
     "metadata": {},
     "output_type": "display_data"
    },
    {
     "data": {
      "text/html": [
       "<style type=\"text/css\">\n",
       "</style>\n",
       "<table id=\"T_8477f\">\n",
       "  <thead>\n",
       "    <tr>\n",
       "      <th id=\"T_8477f_level0_col0\" class=\"col_heading level0 col0\" >name</th>\n",
       "      <th id=\"T_8477f_level0_col1\" class=\"col_heading level0 col1\" >dtype</th>\n",
       "      <th id=\"T_8477f_level0_col2\" class=\"col_heading level0 col2\" >stype</th>\n",
       "      <th id=\"T_8477f_level0_col3\" class=\"col_heading level0 col3\" >is_primary_key</th>\n",
       "      <th id=\"T_8477f_level0_col4\" class=\"col_heading level0 col4\" >is_time_column</th>\n",
       "    </tr>\n",
       "  </thead>\n",
       "  <tbody>\n",
       "    <tr>\n",
       "      <td id=\"T_8477f_row0_col0\" class=\"data row0 col0\" >user_id</td>\n",
       "      <td id=\"T_8477f_row0_col1\" class=\"data row0 col1\" >int</td>\n",
       "      <td id=\"T_8477f_row0_col2\" class=\"data row0 col2\" >ID</td>\n",
       "      <td id=\"T_8477f_row0_col3\" class=\"data row0 col3\" >True</td>\n",
       "      <td id=\"T_8477f_row0_col4\" class=\"data row0 col4\" >False</td>\n",
       "    </tr>\n",
       "    <tr>\n",
       "      <td id=\"T_8477f_row1_col0\" class=\"data row1 col0\" >active</td>\n",
       "      <td id=\"T_8477f_row1_col1\" class=\"data row1 col1\" >bool</td>\n",
       "      <td id=\"T_8477f_row1_col2\" class=\"data row1 col2\" >categorical</td>\n",
       "      <td id=\"T_8477f_row1_col3\" class=\"data row1 col3\" >False</td>\n",
       "      <td id=\"T_8477f_row1_col4\" class=\"data row1 col4\" >False</td>\n",
       "    </tr>\n",
       "    <tr>\n",
       "      <td id=\"T_8477f_row2_col0\" class=\"data row2 col0\" >age</td>\n",
       "      <td id=\"T_8477f_row2_col1\" class=\"data row2 col1\" >int</td>\n",
       "      <td id=\"T_8477f_row2_col2\" class=\"data row2 col2\" >numerical</td>\n",
       "      <td id=\"T_8477f_row2_col3\" class=\"data row2 col3\" >False</td>\n",
       "      <td id=\"T_8477f_row2_col4\" class=\"data row2 col4\" >False</td>\n",
       "    </tr>\n",
       "  </tbody>\n",
       "</table>\n"
      ],
      "text/plain": [
       "<pandas.io.formats.style.Styler at 0x722a463d58d0>"
      ]
     },
     "metadata": {},
     "output_type": "display_data"
    },
    {
     "data": {
      "text/markdown": [
       "### 🏷️ Metadata of Table `items` (1,000 rows)"
      ],
      "text/plain": [
       "<IPython.core.display.Markdown object>"
      ]
     },
     "metadata": {},
     "output_type": "display_data"
    },
    {
     "data": {
      "text/html": [
       "<style type=\"text/css\">\n",
       "</style>\n",
       "<table id=\"T_e7232\">\n",
       "  <thead>\n",
       "    <tr>\n",
       "      <th id=\"T_e7232_level0_col0\" class=\"col_heading level0 col0\" >name</th>\n",
       "      <th id=\"T_e7232_level0_col1\" class=\"col_heading level0 col1\" >dtype</th>\n",
       "      <th id=\"T_e7232_level0_col2\" class=\"col_heading level0 col2\" >stype</th>\n",
       "      <th id=\"T_e7232_level0_col3\" class=\"col_heading level0 col3\" >is_primary_key</th>\n",
       "      <th id=\"T_e7232_level0_col4\" class=\"col_heading level0 col4\" >is_time_column</th>\n",
       "    </tr>\n",
       "  </thead>\n",
       "  <tbody>\n",
       "    <tr>\n",
       "      <td id=\"T_e7232_row0_col0\" class=\"data row0 col0\" >item_id</td>\n",
       "      <td id=\"T_e7232_row0_col1\" class=\"data row0 col1\" >int</td>\n",
       "      <td id=\"T_e7232_row0_col2\" class=\"data row0 col2\" >ID</td>\n",
       "      <td id=\"T_e7232_row0_col3\" class=\"data row0 col3\" >True</td>\n",
       "      <td id=\"T_e7232_row0_col4\" class=\"data row0 col4\" >False</td>\n",
       "    </tr>\n",
       "    <tr>\n",
       "      <td id=\"T_e7232_row1_col0\" class=\"data row1 col0\" >item_name</td>\n",
       "      <td id=\"T_e7232_row1_col1\" class=\"data row1 col1\" >string</td>\n",
       "      <td id=\"T_e7232_row1_col2\" class=\"data row1 col2\" >text</td>\n",
       "      <td id=\"T_e7232_row1_col3\" class=\"data row1 col3\" >False</td>\n",
       "      <td id=\"T_e7232_row1_col4\" class=\"data row1 col4\" >False</td>\n",
       "    </tr>\n",
       "    <tr>\n",
       "      <td id=\"T_e7232_row2_col0\" class=\"data row2 col0\" >category</td>\n",
       "      <td id=\"T_e7232_row2_col1\" class=\"data row2 col1\" >string</td>\n",
       "      <td id=\"T_e7232_row2_col2\" class=\"data row2 col2\" >categorical</td>\n",
       "      <td id=\"T_e7232_row2_col3\" class=\"data row2 col3\" >False</td>\n",
       "      <td id=\"T_e7232_row2_col4\" class=\"data row2 col4\" >False</td>\n",
       "    </tr>\n",
       "    <tr>\n",
       "      <td id=\"T_e7232_row3_col0\" class=\"data row3 col0\" >color</td>\n",
       "      <td id=\"T_e7232_row3_col1\" class=\"data row3 col1\" >string</td>\n",
       "      <td id=\"T_e7232_row3_col2\" class=\"data row3 col2\" >categorical</td>\n",
       "      <td id=\"T_e7232_row3_col3\" class=\"data row3 col3\" >False</td>\n",
       "      <td id=\"T_e7232_row3_col4\" class=\"data row3 col4\" >False</td>\n",
       "    </tr>\n",
       "    <tr>\n",
       "      <td id=\"T_e7232_row4_col0\" class=\"data row4 col0\" >descriptions</td>\n",
       "      <td id=\"T_e7232_row4_col1\" class=\"data row4 col1\" >string</td>\n",
       "      <td id=\"T_e7232_row4_col2\" class=\"data row4 col2\" >text</td>\n",
       "      <td id=\"T_e7232_row4_col3\" class=\"data row4 col3\" >False</td>\n",
       "      <td id=\"T_e7232_row4_col4\" class=\"data row4 col4\" >False</td>\n",
       "    </tr>\n",
       "  </tbody>\n",
       "</table>\n"
      ],
      "text/plain": [
       "<pandas.io.formats.style.Styler at 0x722a44114220>"
      ]
     },
     "metadata": {},
     "output_type": "display_data"
    },
    {
     "data": {
      "text/markdown": [
       "### 🏷️ Metadata of Table `orders` (267,774 rows)"
      ],
      "text/plain": [
       "<IPython.core.display.Markdown object>"
      ]
     },
     "metadata": {},
     "output_type": "display_data"
    },
    {
     "data": {
      "text/html": [
       "<style type=\"text/css\">\n",
       "</style>\n",
       "<table id=\"T_f4c7b\">\n",
       "  <thead>\n",
       "    <tr>\n",
       "      <th id=\"T_f4c7b_level0_col0\" class=\"col_heading level0 col0\" >name</th>\n",
       "      <th id=\"T_f4c7b_level0_col1\" class=\"col_heading level0 col1\" >dtype</th>\n",
       "      <th id=\"T_f4c7b_level0_col2\" class=\"col_heading level0 col2\" >stype</th>\n",
       "      <th id=\"T_f4c7b_level0_col3\" class=\"col_heading level0 col3\" >is_primary_key</th>\n",
       "      <th id=\"T_f4c7b_level0_col4\" class=\"col_heading level0 col4\" >is_time_column</th>\n",
       "    </tr>\n",
       "  </thead>\n",
       "  <tbody>\n",
       "    <tr>\n",
       "      <td id=\"T_f4c7b_row0_col0\" class=\"data row0 col0\" >user_id</td>\n",
       "      <td id=\"T_f4c7b_row0_col1\" class=\"data row0 col1\" >int</td>\n",
       "      <td id=\"T_f4c7b_row0_col2\" class=\"data row0 col2\" >ID</td>\n",
       "      <td id=\"T_f4c7b_row0_col3\" class=\"data row0 col3\" >False</td>\n",
       "      <td id=\"T_f4c7b_row0_col4\" class=\"data row0 col4\" >False</td>\n",
       "    </tr>\n",
       "    <tr>\n",
       "      <td id=\"T_f4c7b_row1_col0\" class=\"data row1 col0\" >item_id</td>\n",
       "      <td id=\"T_f4c7b_row1_col1\" class=\"data row1 col1\" >int</td>\n",
       "      <td id=\"T_f4c7b_row1_col2\" class=\"data row1 col2\" >ID</td>\n",
       "      <td id=\"T_f4c7b_row1_col3\" class=\"data row1 col3\" >False</td>\n",
       "      <td id=\"T_f4c7b_row1_col4\" class=\"data row1 col4\" >False</td>\n",
       "    </tr>\n",
       "    <tr>\n",
       "      <td id=\"T_f4c7b_row2_col0\" class=\"data row2 col0\" >date</td>\n",
       "      <td id=\"T_f4c7b_row2_col1\" class=\"data row2 col1\" >date</td>\n",
       "      <td id=\"T_f4c7b_row2_col2\" class=\"data row2 col2\" >timestamp</td>\n",
       "      <td id=\"T_f4c7b_row2_col3\" class=\"data row2 col3\" >False</td>\n",
       "      <td id=\"T_f4c7b_row2_col4\" class=\"data row2 col4\" >True</td>\n",
       "    </tr>\n",
       "    <tr>\n",
       "      <td id=\"T_f4c7b_row3_col0\" class=\"data row3 col0\" >sales_channel_id</td>\n",
       "      <td id=\"T_f4c7b_row3_col1\" class=\"data row3 col1\" >int</td>\n",
       "      <td id=\"T_f4c7b_row3_col2\" class=\"data row3 col2\" >ID</td>\n",
       "      <td id=\"T_f4c7b_row3_col3\" class=\"data row3 col3\" >False</td>\n",
       "      <td id=\"T_f4c7b_row3_col4\" class=\"data row3 col4\" >False</td>\n",
       "    </tr>\n",
       "    <tr>\n",
       "      <td id=\"T_f4c7b_row4_col0\" class=\"data row4 col0\" >price</td>\n",
       "      <td id=\"T_f4c7b_row4_col1\" class=\"data row4 col1\" >float</td>\n",
       "      <td id=\"T_f4c7b_row4_col2\" class=\"data row4 col2\" >numerical</td>\n",
       "      <td id=\"T_f4c7b_row4_col3\" class=\"data row4 col3\" >False</td>\n",
       "      <td id=\"T_f4c7b_row4_col4\" class=\"data row4 col4\" >False</td>\n",
       "    </tr>\n",
       "    <tr>\n",
       "      <td id=\"T_f4c7b_row5_col0\" class=\"data row5 col0\" >order_id</td>\n",
       "      <td id=\"T_f4c7b_row5_col1\" class=\"data row5 col1\" >int</td>\n",
       "      <td id=\"T_f4c7b_row5_col2\" class=\"data row5 col2\" >ID</td>\n",
       "      <td id=\"T_f4c7b_row5_col3\" class=\"data row5 col3\" >True</td>\n",
       "      <td id=\"T_f4c7b_row5_col4\" class=\"data row5 col4\" >False</td>\n",
       "    </tr>\n",
       "  </tbody>\n",
       "</table>\n"
      ],
      "text/plain": [
       "<pandas.io.formats.style.Styler at 0x722a464ca6e0>"
      ]
     },
     "metadata": {},
     "output_type": "display_data"
    }
   ],
   "source": [
    "users.print_metadata()\n",
    "items.print_metadata()\n",
    "orders.print_metadata()"
   ]
  },
  {
   "cell_type": "code",
   "execution_count": 8,
   "id": "b46f1004",
   "metadata": {},
   "outputs": [],
   "source": [
    "graph = rfm.LocalGraph(tables=[users, items, orders])"
   ]
  },
  {
   "cell_type": "code",
   "execution_count": 9,
   "id": "31d35668",
   "metadata": {},
   "outputs": [
    {
     "data": {
      "text/plain": [
       "LocalGraph(\n",
       "  tables=[users, items, orders],\n",
       "  edges=[Edge(src_table='orders', fkey='user_id', dst_table='users')],\n",
       ")"
      ]
     },
     "execution_count": 9,
     "metadata": {},
     "output_type": "execute_result"
    }
   ],
   "source": [
    "graph.link(src_table=\"orders\", fkey=\"user_id\", dst_table=\"users\")"
   ]
  },
  {
   "cell_type": "code",
   "execution_count": 10,
   "id": "7915c59e",
   "metadata": {},
   "outputs": [
    {
     "data": {
      "text/plain": [
       "LocalGraph(\n",
       "  tables=[users, items, orders],\n",
       "  edges=[Edge(src_table='orders', fkey='user_id', dst_table='users'), Edge(src_table='orders', fkey='item_id', dst_table='items')],\n",
       ")"
      ]
     },
     "execution_count": 10,
     "metadata": {},
     "output_type": "execute_result"
    }
   ],
   "source": [
    "graph.link(src_table=\"orders\", fkey=\"item_id\", dst_table=\"items\")"
   ]
  },
  {
   "cell_type": "code",
   "execution_count": 11,
   "id": "8b9d4ce5",
   "metadata": {},
   "outputs": [
    {
     "data": {
      "text/markdown": [
       "### 🗂️ Graph Metadata"
      ],
      "text/plain": [
       "<IPython.core.display.Markdown object>"
      ]
     },
     "metadata": {},
     "output_type": "display_data"
    },
    {
     "data": {
      "text/html": [
       "<style type=\"text/css\">\n",
       "</style>\n",
       "<table id=\"T_3765b\">\n",
       "  <thead>\n",
       "    <tr>\n",
       "      <th id=\"T_3765b_level0_col0\" class=\"col_heading level0 col0\" >name</th>\n",
       "      <th id=\"T_3765b_level0_col1\" class=\"col_heading level0 col1\" >primary_key</th>\n",
       "      <th id=\"T_3765b_level0_col2\" class=\"col_heading level0 col2\" >time_column</th>\n",
       "    </tr>\n",
       "  </thead>\n",
       "  <tbody>\n",
       "    <tr>\n",
       "      <td id=\"T_3765b_row0_col0\" class=\"data row0 col0\" >users</td>\n",
       "      <td id=\"T_3765b_row0_col1\" class=\"data row0 col1\" >user_id</td>\n",
       "      <td id=\"T_3765b_row0_col2\" class=\"data row0 col2\" >-</td>\n",
       "    </tr>\n",
       "    <tr>\n",
       "      <td id=\"T_3765b_row1_col0\" class=\"data row1 col0\" >items</td>\n",
       "      <td id=\"T_3765b_row1_col1\" class=\"data row1 col1\" >item_id</td>\n",
       "      <td id=\"T_3765b_row1_col2\" class=\"data row1 col2\" >-</td>\n",
       "    </tr>\n",
       "    <tr>\n",
       "      <td id=\"T_3765b_row2_col0\" class=\"data row2 col0\" >orders</td>\n",
       "      <td id=\"T_3765b_row2_col1\" class=\"data row2 col1\" >order_id</td>\n",
       "      <td id=\"T_3765b_row2_col2\" class=\"data row2 col2\" >date</td>\n",
       "    </tr>\n",
       "  </tbody>\n",
       "</table>\n"
      ],
      "text/plain": [
       "<pandas.io.formats.style.Styler at 0x722ab4653be0>"
      ]
     },
     "metadata": {},
     "output_type": "display_data"
    },
    {
     "data": {
      "text/markdown": [
       "### 🕸️ Graph Links (FK ↔️ PK)"
      ],
      "text/plain": [
       "<IPython.core.display.Markdown object>"
      ]
     },
     "metadata": {},
     "output_type": "display_data"
    },
    {
     "data": {
      "text/markdown": [
       "- `orders.item_id` ↔️ `items.item_id`\n",
       "- `orders.user_id` ↔️ `users.user_id`"
      ],
      "text/plain": [
       "<IPython.core.display.Markdown object>"
      ]
     },
     "metadata": {},
     "output_type": "display_data"
    }
   ],
   "source": [
    "graph.print_metadata()\n",
    "graph.print_links()"
   ]
  },
  {
   "cell_type": "code",
   "execution_count": 12,
   "id": "356a0aa0",
   "metadata": {},
   "outputs": [
    {
     "data": {
      "application/vnd.jupyter.widget-view+json": {
       "model_id": "e482168187ad4f7a9a2d2b3516817a29",
       "version_major": 2,
       "version_minor": 0
      },
      "text/plain": [
       "Output()"
      ]
     },
     "metadata": {},
     "output_type": "display_data"
    },
    {
     "data": {
      "text/html": [
       "<pre style=\"white-space:pre;overflow-x:auto;line-height:normal;font-family:Menlo,'DejaVu Sans Mono',consolas,'Courier New',monospace\"></pre>\n"
      ],
      "text/plain": []
     },
     "metadata": {},
     "output_type": "display_data"
    }
   ],
   "source": [
    "model = rfm.KumoRFM(graph)"
   ]
  },
  {
   "cell_type": "code",
   "execution_count": 13,
   "id": "b931f19e",
   "metadata": {},
   "outputs": [
    {
     "data": {
      "text/html": [
       "<div>\n",
       "<style scoped>\n",
       "    .dataframe tbody tr th:only-of-type {\n",
       "        vertical-align: middle;\n",
       "    }\n",
       "\n",
       "    .dataframe tbody tr th {\n",
       "        vertical-align: top;\n",
       "    }\n",
       "\n",
       "    .dataframe thead th {\n",
       "        text-align: right;\n",
       "    }\n",
       "</style>\n",
       "<table border=\"1\" class=\"dataframe\">\n",
       "  <thead>\n",
       "    <tr style=\"text-align: right;\">\n",
       "      <th></th>\n",
       "      <th>date</th>\n",
       "    </tr>\n",
       "  </thead>\n",
       "  <tbody>\n",
       "    <tr>\n",
       "      <th>count</th>\n",
       "      <td>267774</td>\n",
       "    </tr>\n",
       "    <tr>\n",
       "      <th>mean</th>\n",
       "      <td>2023-09-15 02:06:26.385534</td>\n",
       "    </tr>\n",
       "    <tr>\n",
       "      <th>min</th>\n",
       "      <td>2022-09-20 00:00:00</td>\n",
       "    </tr>\n",
       "    <tr>\n",
       "      <th>25%</th>\n",
       "      <td>2023-03-31 00:00:00</td>\n",
       "    </tr>\n",
       "    <tr>\n",
       "      <th>50%</th>\n",
       "      <td>2023-08-24 00:00:00</td>\n",
       "    </tr>\n",
       "    <tr>\n",
       "      <th>75%</th>\n",
       "      <td>2024-03-27 00:00:00</td>\n",
       "    </tr>\n",
       "    <tr>\n",
       "      <th>max</th>\n",
       "      <td>2024-09-19 00:00:00</td>\n",
       "    </tr>\n",
       "  </tbody>\n",
       "</table>\n",
       "</div>"
      ],
      "text/plain": [
       "                             date\n",
       "count                      267774\n",
       "mean   2023-09-15 02:06:26.385534\n",
       "min           2022-09-20 00:00:00\n",
       "25%           2023-03-31 00:00:00\n",
       "50%           2023-08-24 00:00:00\n",
       "75%           2024-03-27 00:00:00\n",
       "max           2024-09-19 00:00:00"
      ]
     },
     "execution_count": 13,
     "metadata": {},
     "output_type": "execute_result"
    }
   ],
   "source": [
    "orders_df[['date']].describe()"
   ]
  },
  {
   "cell_type": "code",
   "execution_count": null,
   "id": "ac415f54",
   "metadata": {},
   "outputs": [
    {
     "name": "stdout",
     "output_type": "stream",
     "text": [
      "2022-12-20 00:00:00 112.03190283203125\n",
      "2023-03-31 00:00:00 135.34313397216795\n",
      "2023-08-24 00:00:00 126.60233401489259\n",
      "2024-03-27 00:00:00 124.12317791748049\n",
      "2024-08-18 00:00:00 187.85890591430663\n"
     ]
    }
   ],
   "source": [
    "#item_id = 42\n",
    "#anchor_date = pd.Timestamp(\"2023-03-31\") \n",
    "\n",
    "# Looking at average error for 20 random items in the next 30 days from several anchor dates/\n",
    "\n",
    "days = 30\n",
    "\n",
    "anchor_dates = [pd.Timestamp(\"2022-12-20\"), \n",
    "                pd.Timestamp(\"2023-03-31\"), \n",
    "                pd.Timestamp(\"2023-08-24\"), \n",
    "                pd.Timestamp(\"2024-03-27\"), \n",
    "                pd.Timestamp(\"2024-08-18\")]\n",
    "\n",
    "for anchor_date in anchor_dates: \n",
    "\n",
    "    anchor_date_plus_30 = anchor_date + pd.Timedelta(days=days)\n",
    "    sample_item_ids = items_df.item_id.sample(20).tolist()\n",
    "    errors = []\n",
    "\n",
    "    for item_id in sample_item_ids:\n",
    "        \n",
    "        query = f\"PREDICT SUM(orders.price, 0, {days}, days) FOR items.item_id={item_id}\"\n",
    "\n",
    "        orders_for_item_in_next_x_days = orders_df[\n",
    "            (orders_df['item_id'] == item_id) &\n",
    "            (orders_df['date'] >= anchor_date) &\n",
    "            (orders_df['date'] < anchor_date_plus_30)\n",
    "        ]\n",
    "\n",
    "        y_true = orders_for_item_in_next_x_days.price.sum()\n",
    "        y_pred = model.predict(query, anchor_time=anchor_date, verbose=False)['TARGET_PRED'].values[0]\n",
    "        errors.append(abs(y_true - y_pred))\n",
    "    \n",
    "    print(anchor_date, np.mean(errors))"
   ]
  },
  {
   "cell_type": "code",
   "execution_count": null,
   "id": "89f7ba9b",
   "metadata": {},
   "outputs": [],
   "source": []
  },
  {
   "cell_type": "markdown",
   "id": "af9d2185",
   "metadata": {},
   "source": [
    "### MY QUESTIONS\n",
    "- How do I access to the actual value I am predicting, without having to calculate it manually.\n",
    "- How to interpret the result of evaluate."
   ]
  }
 ],
 "metadata": {
  "kernelspec": {
   "display_name": "venv (3.10.12)",
   "language": "python",
   "name": "python3"
  },
  "language_info": {
   "codemirror_mode": {
    "name": "ipython",
    "version": 3
   },
   "file_extension": ".py",
   "mimetype": "text/x-python",
   "name": "python",
   "nbconvert_exporter": "python",
   "pygments_lexer": "ipython3",
   "version": "3.10.12"
  }
 },
 "nbformat": 4,
 "nbformat_minor": 5
}
