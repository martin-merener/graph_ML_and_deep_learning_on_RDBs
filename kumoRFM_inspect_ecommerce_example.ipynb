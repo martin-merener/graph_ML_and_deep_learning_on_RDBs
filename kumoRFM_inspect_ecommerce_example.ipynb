{
 "cells": [
  {
   "cell_type": "code",
   "execution_count": 15,
   "id": "55d8b177",
   "metadata": {},
   "outputs": [],
   "source": [
    "import kumoai.experimental.rfm as rfm, os\n",
    "from pathlib import Path\n",
    "import pandas as pd"
   ]
  },
  {
   "cell_type": "code",
   "execution_count": 2,
   "id": "ced12bc1",
   "metadata": {},
   "outputs": [],
   "source": [
    "home_api_key_file = Path.home() / \"kumoai_key.txt\"\n",
    "with open(home_api_key_file, \"r\") as file:\n",
    "    api_key = file.read().strip()\n",
    "os.environ[\"KUMO_API_KEY\"] = api_key"
   ]
  },
  {
   "cell_type": "code",
   "execution_count": 3,
   "id": "f0256e26",
   "metadata": {},
   "outputs": [
    {
     "name": "stderr",
     "output_type": "stream",
     "text": [
      "[2025-08-08 16:54:04 - kumoai:196 - INFO] Successfully initialized the Kumo SDK against deployment https://kumorfm.ai/api, with log level INFO.\n"
     ]
    }
   ],
   "source": [
    "rfm.init()"
   ]
  },
  {
   "cell_type": "code",
   "execution_count": 5,
   "id": "0f58d889",
   "metadata": {},
   "outputs": [],
   "source": [
    "root = 's3://kumo-sdk-public/rfm-datasets/online-shopping'\n",
    "users_df = pd.read_parquet(f'{root}/users.parquet')\n",
    "items_df = pd.read_parquet(f'{root}/items.parquet')\n",
    "orders_df = pd.read_parquet(f'{root}/orders.parquet')"
   ]
  },
  {
   "cell_type": "code",
   "execution_count": 7,
   "id": "ce4b6163",
   "metadata": {},
   "outputs": [
    {
     "name": "stdout",
     "output_type": "stream",
     "text": [
      "Detected primary key 'user_id' in table 'users'\n",
      "Detected primary key 'item_id' in table 'items'\n",
      "Detected primary key 'order_id' and time column 'date' in table 'orders'\n"
     ]
    }
   ],
   "source": [
    "users = rfm.LocalTable(users_df, name=\"users\").infer_metadata()\n",
    "items = rfm.LocalTable(items_df, name=\"items\").infer_metadata()\n",
    "orders = rfm.LocalTable(orders_df, name=\"orders\").infer_metadata()"
   ]
  },
  {
   "cell_type": "code",
   "execution_count": 8,
   "id": "0b169afe",
   "metadata": {},
   "outputs": [
    {
     "data": {
      "text/markdown": [
       "### 🏷️ Metadata of Table `users` (1,000 rows)"
      ],
      "text/plain": [
       "<IPython.core.display.Markdown object>"
      ]
     },
     "metadata": {},
     "output_type": "display_data"
    },
    {
     "data": {
      "text/html": [
       "<style type=\"text/css\">\n",
       "</style>\n",
       "<table id=\"T_b51a9\">\n",
       "  <thead>\n",
       "    <tr>\n",
       "      <th id=\"T_b51a9_level0_col0\" class=\"col_heading level0 col0\" >name</th>\n",
       "      <th id=\"T_b51a9_level0_col1\" class=\"col_heading level0 col1\" >dtype</th>\n",
       "      <th id=\"T_b51a9_level0_col2\" class=\"col_heading level0 col2\" >stype</th>\n",
       "      <th id=\"T_b51a9_level0_col3\" class=\"col_heading level0 col3\" >is_primary_key</th>\n",
       "      <th id=\"T_b51a9_level0_col4\" class=\"col_heading level0 col4\" >is_time_column</th>\n",
       "    </tr>\n",
       "  </thead>\n",
       "  <tbody>\n",
       "    <tr>\n",
       "      <td id=\"T_b51a9_row0_col0\" class=\"data row0 col0\" >user_id</td>\n",
       "      <td id=\"T_b51a9_row0_col1\" class=\"data row0 col1\" >int</td>\n",
       "      <td id=\"T_b51a9_row0_col2\" class=\"data row0 col2\" >ID</td>\n",
       "      <td id=\"T_b51a9_row0_col3\" class=\"data row0 col3\" >True</td>\n",
       "      <td id=\"T_b51a9_row0_col4\" class=\"data row0 col4\" >False</td>\n",
       "    </tr>\n",
       "    <tr>\n",
       "      <td id=\"T_b51a9_row1_col0\" class=\"data row1 col0\" >active</td>\n",
       "      <td id=\"T_b51a9_row1_col1\" class=\"data row1 col1\" >bool</td>\n",
       "      <td id=\"T_b51a9_row1_col2\" class=\"data row1 col2\" >categorical</td>\n",
       "      <td id=\"T_b51a9_row1_col3\" class=\"data row1 col3\" >False</td>\n",
       "      <td id=\"T_b51a9_row1_col4\" class=\"data row1 col4\" >False</td>\n",
       "    </tr>\n",
       "    <tr>\n",
       "      <td id=\"T_b51a9_row2_col0\" class=\"data row2 col0\" >age</td>\n",
       "      <td id=\"T_b51a9_row2_col1\" class=\"data row2 col1\" >int</td>\n",
       "      <td id=\"T_b51a9_row2_col2\" class=\"data row2 col2\" >numerical</td>\n",
       "      <td id=\"T_b51a9_row2_col3\" class=\"data row2 col3\" >False</td>\n",
       "      <td id=\"T_b51a9_row2_col4\" class=\"data row2 col4\" >False</td>\n",
       "    </tr>\n",
       "  </tbody>\n",
       "</table>\n"
      ],
      "text/plain": [
       "<pandas.io.formats.style.Styler at 0x7e36da9c6fe0>"
      ]
     },
     "metadata": {},
     "output_type": "display_data"
    },
    {
     "data": {
      "text/markdown": [
       "### 🏷️ Metadata of Table `items` (1,000 rows)"
      ],
      "text/plain": [
       "<IPython.core.display.Markdown object>"
      ]
     },
     "metadata": {},
     "output_type": "display_data"
    },
    {
     "data": {
      "text/html": [
       "<style type=\"text/css\">\n",
       "</style>\n",
       "<table id=\"T_1d644\">\n",
       "  <thead>\n",
       "    <tr>\n",
       "      <th id=\"T_1d644_level0_col0\" class=\"col_heading level0 col0\" >name</th>\n",
       "      <th id=\"T_1d644_level0_col1\" class=\"col_heading level0 col1\" >dtype</th>\n",
       "      <th id=\"T_1d644_level0_col2\" class=\"col_heading level0 col2\" >stype</th>\n",
       "      <th id=\"T_1d644_level0_col3\" class=\"col_heading level0 col3\" >is_primary_key</th>\n",
       "      <th id=\"T_1d644_level0_col4\" class=\"col_heading level0 col4\" >is_time_column</th>\n",
       "    </tr>\n",
       "  </thead>\n",
       "  <tbody>\n",
       "    <tr>\n",
       "      <td id=\"T_1d644_row0_col0\" class=\"data row0 col0\" >item_id</td>\n",
       "      <td id=\"T_1d644_row0_col1\" class=\"data row0 col1\" >int</td>\n",
       "      <td id=\"T_1d644_row0_col2\" class=\"data row0 col2\" >ID</td>\n",
       "      <td id=\"T_1d644_row0_col3\" class=\"data row0 col3\" >True</td>\n",
       "      <td id=\"T_1d644_row0_col4\" class=\"data row0 col4\" >False</td>\n",
       "    </tr>\n",
       "    <tr>\n",
       "      <td id=\"T_1d644_row1_col0\" class=\"data row1 col0\" >item_name</td>\n",
       "      <td id=\"T_1d644_row1_col1\" class=\"data row1 col1\" >string</td>\n",
       "      <td id=\"T_1d644_row1_col2\" class=\"data row1 col2\" >text</td>\n",
       "      <td id=\"T_1d644_row1_col3\" class=\"data row1 col3\" >False</td>\n",
       "      <td id=\"T_1d644_row1_col4\" class=\"data row1 col4\" >False</td>\n",
       "    </tr>\n",
       "    <tr>\n",
       "      <td id=\"T_1d644_row2_col0\" class=\"data row2 col0\" >category</td>\n",
       "      <td id=\"T_1d644_row2_col1\" class=\"data row2 col1\" >string</td>\n",
       "      <td id=\"T_1d644_row2_col2\" class=\"data row2 col2\" >categorical</td>\n",
       "      <td id=\"T_1d644_row2_col3\" class=\"data row2 col3\" >False</td>\n",
       "      <td id=\"T_1d644_row2_col4\" class=\"data row2 col4\" >False</td>\n",
       "    </tr>\n",
       "    <tr>\n",
       "      <td id=\"T_1d644_row3_col0\" class=\"data row3 col0\" >color</td>\n",
       "      <td id=\"T_1d644_row3_col1\" class=\"data row3 col1\" >string</td>\n",
       "      <td id=\"T_1d644_row3_col2\" class=\"data row3 col2\" >categorical</td>\n",
       "      <td id=\"T_1d644_row3_col3\" class=\"data row3 col3\" >False</td>\n",
       "      <td id=\"T_1d644_row3_col4\" class=\"data row3 col4\" >False</td>\n",
       "    </tr>\n",
       "    <tr>\n",
       "      <td id=\"T_1d644_row4_col0\" class=\"data row4 col0\" >descriptions</td>\n",
       "      <td id=\"T_1d644_row4_col1\" class=\"data row4 col1\" >string</td>\n",
       "      <td id=\"T_1d644_row4_col2\" class=\"data row4 col2\" >text</td>\n",
       "      <td id=\"T_1d644_row4_col3\" class=\"data row4 col3\" >False</td>\n",
       "      <td id=\"T_1d644_row4_col4\" class=\"data row4 col4\" >False</td>\n",
       "    </tr>\n",
       "  </tbody>\n",
       "</table>\n"
      ],
      "text/plain": [
       "<pandas.io.formats.style.Styler at 0x7e36daa63250>"
      ]
     },
     "metadata": {},
     "output_type": "display_data"
    },
    {
     "data": {
      "text/markdown": [
       "### 🏷️ Metadata of Table `orders` (267,774 rows)"
      ],
      "text/plain": [
       "<IPython.core.display.Markdown object>"
      ]
     },
     "metadata": {},
     "output_type": "display_data"
    },
    {
     "data": {
      "text/html": [
       "<style type=\"text/css\">\n",
       "</style>\n",
       "<table id=\"T_bb6c8\">\n",
       "  <thead>\n",
       "    <tr>\n",
       "      <th id=\"T_bb6c8_level0_col0\" class=\"col_heading level0 col0\" >name</th>\n",
       "      <th id=\"T_bb6c8_level0_col1\" class=\"col_heading level0 col1\" >dtype</th>\n",
       "      <th id=\"T_bb6c8_level0_col2\" class=\"col_heading level0 col2\" >stype</th>\n",
       "      <th id=\"T_bb6c8_level0_col3\" class=\"col_heading level0 col3\" >is_primary_key</th>\n",
       "      <th id=\"T_bb6c8_level0_col4\" class=\"col_heading level0 col4\" >is_time_column</th>\n",
       "    </tr>\n",
       "  </thead>\n",
       "  <tbody>\n",
       "    <tr>\n",
       "      <td id=\"T_bb6c8_row0_col0\" class=\"data row0 col0\" >user_id</td>\n",
       "      <td id=\"T_bb6c8_row0_col1\" class=\"data row0 col1\" >int</td>\n",
       "      <td id=\"T_bb6c8_row0_col2\" class=\"data row0 col2\" >ID</td>\n",
       "      <td id=\"T_bb6c8_row0_col3\" class=\"data row0 col3\" >False</td>\n",
       "      <td id=\"T_bb6c8_row0_col4\" class=\"data row0 col4\" >False</td>\n",
       "    </tr>\n",
       "    <tr>\n",
       "      <td id=\"T_bb6c8_row1_col0\" class=\"data row1 col0\" >item_id</td>\n",
       "      <td id=\"T_bb6c8_row1_col1\" class=\"data row1 col1\" >int</td>\n",
       "      <td id=\"T_bb6c8_row1_col2\" class=\"data row1 col2\" >ID</td>\n",
       "      <td id=\"T_bb6c8_row1_col3\" class=\"data row1 col3\" >False</td>\n",
       "      <td id=\"T_bb6c8_row1_col4\" class=\"data row1 col4\" >False</td>\n",
       "    </tr>\n",
       "    <tr>\n",
       "      <td id=\"T_bb6c8_row2_col0\" class=\"data row2 col0\" >date</td>\n",
       "      <td id=\"T_bb6c8_row2_col1\" class=\"data row2 col1\" >date</td>\n",
       "      <td id=\"T_bb6c8_row2_col2\" class=\"data row2 col2\" >timestamp</td>\n",
       "      <td id=\"T_bb6c8_row2_col3\" class=\"data row2 col3\" >False</td>\n",
       "      <td id=\"T_bb6c8_row2_col4\" class=\"data row2 col4\" >True</td>\n",
       "    </tr>\n",
       "    <tr>\n",
       "      <td id=\"T_bb6c8_row3_col0\" class=\"data row3 col0\" >sales_channel_id</td>\n",
       "      <td id=\"T_bb6c8_row3_col1\" class=\"data row3 col1\" >int</td>\n",
       "      <td id=\"T_bb6c8_row3_col2\" class=\"data row3 col2\" >ID</td>\n",
       "      <td id=\"T_bb6c8_row3_col3\" class=\"data row3 col3\" >False</td>\n",
       "      <td id=\"T_bb6c8_row3_col4\" class=\"data row3 col4\" >False</td>\n",
       "    </tr>\n",
       "    <tr>\n",
       "      <td id=\"T_bb6c8_row4_col0\" class=\"data row4 col0\" >price</td>\n",
       "      <td id=\"T_bb6c8_row4_col1\" class=\"data row4 col1\" >float</td>\n",
       "      <td id=\"T_bb6c8_row4_col2\" class=\"data row4 col2\" >numerical</td>\n",
       "      <td id=\"T_bb6c8_row4_col3\" class=\"data row4 col3\" >False</td>\n",
       "      <td id=\"T_bb6c8_row4_col4\" class=\"data row4 col4\" >False</td>\n",
       "    </tr>\n",
       "    <tr>\n",
       "      <td id=\"T_bb6c8_row5_col0\" class=\"data row5 col0\" >order_id</td>\n",
       "      <td id=\"T_bb6c8_row5_col1\" class=\"data row5 col1\" >int</td>\n",
       "      <td id=\"T_bb6c8_row5_col2\" class=\"data row5 col2\" >ID</td>\n",
       "      <td id=\"T_bb6c8_row5_col3\" class=\"data row5 col3\" >True</td>\n",
       "      <td id=\"T_bb6c8_row5_col4\" class=\"data row5 col4\" >False</td>\n",
       "    </tr>\n",
       "  </tbody>\n",
       "</table>\n"
      ],
      "text/plain": [
       "<pandas.io.formats.style.Styler at 0x7e36da915300>"
      ]
     },
     "metadata": {},
     "output_type": "display_data"
    }
   ],
   "source": [
    "users.print_metadata()\n",
    "items.print_metadata()\n",
    "orders.print_metadata()"
   ]
  },
  {
   "cell_type": "code",
   "execution_count": 10,
   "id": "b46f1004",
   "metadata": {},
   "outputs": [],
   "source": [
    "graph = rfm.LocalGraph(tables=[users, items, orders])"
   ]
  },
  {
   "cell_type": "code",
   "execution_count": null,
   "id": "31d35668",
   "metadata": {},
   "outputs": [
    {
     "data": {
      "text/plain": [
       "LocalGraph(\n",
       "  tables=[users, items, orders],\n",
       "  edges=[Edge(src_table='orders', fkey='item_id', dst_table='users')],\n",
       ")"
      ]
     },
     "execution_count": 11,
     "metadata": {},
     "output_type": "execute_result"
    }
   ],
   "source": [
    "graph.link(src_table=\"orders\", fkey=\"user_id\", dst_table=\"users\")"
   ]
  },
  {
   "cell_type": "code",
   "execution_count": 12,
   "id": "7915c59e",
   "metadata": {},
   "outputs": [
    {
     "data": {
      "text/plain": [
       "LocalGraph(\n",
       "  tables=[users, items, orders],\n",
       "  edges=[Edge(src_table='orders', fkey='item_id', dst_table='users'), Edge(src_table='orders', fkey='item_id', dst_table='items')],\n",
       ")"
      ]
     },
     "execution_count": 12,
     "metadata": {},
     "output_type": "execute_result"
    }
   ],
   "source": [
    "graph.link(src_table=\"orders\", fkey=\"item_id\", dst_table=\"items\")"
   ]
  },
  {
   "cell_type": "code",
   "execution_count": 16,
   "id": "8b9d4ce5",
   "metadata": {},
   "outputs": [
    {
     "data": {
      "text/markdown": [
       "### 🗂️ Graph Metadata"
      ],
      "text/plain": [
       "<IPython.core.display.Markdown object>"
      ]
     },
     "metadata": {},
     "output_type": "display_data"
    },
    {
     "data": {
      "text/html": [
       "<style type=\"text/css\">\n",
       "</style>\n",
       "<table id=\"T_855f0\">\n",
       "  <thead>\n",
       "    <tr>\n",
       "      <th id=\"T_855f0_level0_col0\" class=\"col_heading level0 col0\" >name</th>\n",
       "      <th id=\"T_855f0_level0_col1\" class=\"col_heading level0 col1\" >primary_key</th>\n",
       "      <th id=\"T_855f0_level0_col2\" class=\"col_heading level0 col2\" >time_column</th>\n",
       "    </tr>\n",
       "  </thead>\n",
       "  <tbody>\n",
       "    <tr>\n",
       "      <td id=\"T_855f0_row0_col0\" class=\"data row0 col0\" >users</td>\n",
       "      <td id=\"T_855f0_row0_col1\" class=\"data row0 col1\" >user_id</td>\n",
       "      <td id=\"T_855f0_row0_col2\" class=\"data row0 col2\" >-</td>\n",
       "    </tr>\n",
       "    <tr>\n",
       "      <td id=\"T_855f0_row1_col0\" class=\"data row1 col0\" >items</td>\n",
       "      <td id=\"T_855f0_row1_col1\" class=\"data row1 col1\" >item_id</td>\n",
       "      <td id=\"T_855f0_row1_col2\" class=\"data row1 col2\" >-</td>\n",
       "    </tr>\n",
       "    <tr>\n",
       "      <td id=\"T_855f0_row2_col0\" class=\"data row2 col0\" >orders</td>\n",
       "      <td id=\"T_855f0_row2_col1\" class=\"data row2 col1\" >order_id</td>\n",
       "      <td id=\"T_855f0_row2_col2\" class=\"data row2 col2\" >date</td>\n",
       "    </tr>\n",
       "  </tbody>\n",
       "</table>\n"
      ],
      "text/plain": [
       "<pandas.io.formats.style.Styler at 0x7e36c0217c40>"
      ]
     },
     "metadata": {},
     "output_type": "display_data"
    },
    {
     "data": {
      "text/markdown": [
       "### 🕸️ Graph Links (FK ↔️ PK)"
      ],
      "text/plain": [
       "<IPython.core.display.Markdown object>"
      ]
     },
     "metadata": {},
     "output_type": "display_data"
    },
    {
     "data": {
      "text/markdown": [
       "- `orders.item_id` ↔️ `items.item_id`\n",
       "- `orders.item_id` ↔️ `users.user_id`"
      ],
      "text/plain": [
       "<IPython.core.display.Markdown object>"
      ]
     },
     "metadata": {},
     "output_type": "display_data"
    }
   ],
   "source": [
    "graph.print_metadata()\n",
    "graph.print_links()"
   ]
  },
  {
   "cell_type": "code",
   "execution_count": 18,
   "id": "356a0aa0",
   "metadata": {},
   "outputs": [
    {
     "data": {
      "application/vnd.jupyter.widget-view+json": {
       "model_id": "7c2dd1337733469a82a8c65c5dea48ba",
       "version_major": 2,
       "version_minor": 0
      },
      "text/plain": [
       "Output()"
      ]
     },
     "metadata": {},
     "output_type": "display_data"
    },
    {
     "data": {
      "text/html": [
       "<pre style=\"white-space:pre;overflow-x:auto;line-height:normal;font-family:Menlo,'DejaVu Sans Mono',consolas,'Courier New',monospace\"></pre>\n"
      ],
      "text/plain": []
     },
     "metadata": {},
     "output_type": "display_data"
    }
   ],
   "source": [
    "model = rfm.KumoRFM(graph)"
   ]
  },
  {
   "cell_type": "code",
   "execution_count": 31,
   "id": "b931f19e",
   "metadata": {},
   "outputs": [
    {
     "data": {
      "text/html": [
       "<div>\n",
       "<style scoped>\n",
       "    .dataframe tbody tr th:only-of-type {\n",
       "        vertical-align: middle;\n",
       "    }\n",
       "\n",
       "    .dataframe tbody tr th {\n",
       "        vertical-align: top;\n",
       "    }\n",
       "\n",
       "    .dataframe thead th {\n",
       "        text-align: right;\n",
       "    }\n",
       "</style>\n",
       "<table border=\"1\" class=\"dataframe\">\n",
       "  <thead>\n",
       "    <tr style=\"text-align: right;\">\n",
       "      <th></th>\n",
       "      <th>date</th>\n",
       "    </tr>\n",
       "  </thead>\n",
       "  <tbody>\n",
       "    <tr>\n",
       "      <th>count</th>\n",
       "      <td>267774</td>\n",
       "    </tr>\n",
       "    <tr>\n",
       "      <th>mean</th>\n",
       "      <td>2023-09-15 02:06:26.385534</td>\n",
       "    </tr>\n",
       "    <tr>\n",
       "      <th>min</th>\n",
       "      <td>2022-09-20 00:00:00</td>\n",
       "    </tr>\n",
       "    <tr>\n",
       "      <th>25%</th>\n",
       "      <td>2023-03-31 00:00:00</td>\n",
       "    </tr>\n",
       "    <tr>\n",
       "      <th>50%</th>\n",
       "      <td>2023-08-24 00:00:00</td>\n",
       "    </tr>\n",
       "    <tr>\n",
       "      <th>75%</th>\n",
       "      <td>2024-03-27 00:00:00</td>\n",
       "    </tr>\n",
       "    <tr>\n",
       "      <th>max</th>\n",
       "      <td>2024-09-19 00:00:00</td>\n",
       "    </tr>\n",
       "  </tbody>\n",
       "</table>\n",
       "</div>"
      ],
      "text/plain": [
       "                             date\n",
       "count                      267774\n",
       "mean   2023-09-15 02:06:26.385534\n",
       "min           2022-09-20 00:00:00\n",
       "25%           2023-03-31 00:00:00\n",
       "50%           2023-08-24 00:00:00\n",
       "75%           2024-03-27 00:00:00\n",
       "max           2024-09-19 00:00:00"
      ]
     },
     "execution_count": 31,
     "metadata": {},
     "output_type": "execute_result"
    }
   ],
   "source": [
    "orders_df[['date']].describe()"
   ]
  },
  {
   "cell_type": "code",
   "execution_count": 1,
   "id": "a0481fbc",
   "metadata": {},
   "outputs": [
    {
     "ename": "NameError",
     "evalue": "name 'items_df' is not defined",
     "output_type": "error",
     "traceback": [
      "\u001b[0;31m---------------------------------------------------------------------------\u001b[0m",
      "\u001b[0;31mNameError\u001b[0m                                 Traceback (most recent call last)",
      "Cell \u001b[0;32mIn[1], line 1\u001b[0m\n\u001b[0;32m----> 1\u001b[0m \u001b[43mitems_df\u001b[49m\u001b[38;5;241m.\u001b[39msample(\u001b[38;5;241m2\u001b[39m)\n",
      "\u001b[0;31mNameError\u001b[0m: name 'items_df' is not defined"
     ]
    }
   ],
   "source": [
    "items_df.sample(2)"
   ]
  },
  {
   "cell_type": "code",
   "execution_count": 64,
   "id": "ac415f54",
   "metadata": {},
   "outputs": [
    {
     "data": {
      "application/vnd.jupyter.widget-view+json": {
       "model_id": "462ad17b766e4c78a7b77a62f46b69be",
       "version_major": 2,
       "version_minor": 0
      },
      "text/plain": [
       "Output()"
      ]
     },
     "metadata": {},
     "output_type": "display_data"
    },
    {
     "data": {
      "text/html": [
       "<pre style=\"white-space:pre;overflow-x:auto;line-height:normal;font-family:Menlo,'DejaVu Sans Mono',consolas,'Courier New',monospace\"></pre>\n"
      ],
      "text/plain": []
     },
     "metadata": {},
     "output_type": "display_data"
    },
    {
     "name": "stdout",
     "output_type": "stream",
     "text": [
      "261.25 257.70556640625\n"
     ]
    }
   ],
   "source": [
    "item_id = 42\n",
    "days = 30\n",
    "anchor_date = pd.Timestamp(\"2023-03-31\") \n",
    "\n",
    "anchor_date_plus_30 = anchor_date + pd.Timedelta(days=days)\n",
    "\n",
    "query = f\"PREDICT SUM(orders.price, 0, {days}, days) FOR items.item_id={item_id}\"\n",
    "\n",
    "orders_for_item_in_next_x_days = orders_df[\n",
    "    (orders_df['item_id'] == item_id) &\n",
    "    (orders_df['date'] >= anchor_date) &\n",
    "    (orders_df['date'] < anchor_date_plus_30)\n",
    "]\n",
    "\n",
    "y_true = orders_for_item_in_next_x_days.price.sum()\n",
    "y_pred = model.predict(query, anchor_time=anchor_date)['TARGET_PRED'].values[0]\n",
    "print(y_true, y_pred)"
   ]
  },
  {
   "cell_type": "code",
   "execution_count": null,
   "id": "89f7ba9b",
   "metadata": {},
   "outputs": [],
   "source": []
  },
  {
   "cell_type": "markdown",
   "id": "af9d2185",
   "metadata": {},
   "source": [
    "### MY QUESTIONS\n",
    "- How do I access to the actual value I am predicting, without having to calculate it manually.\n",
    "- How to interpret the result of evaluate."
   ]
  }
 ],
 "metadata": {
  "kernelspec": {
   "display_name": "venv (3.10.12)",
   "language": "python",
   "name": "python3"
  },
  "language_info": {
   "codemirror_mode": {
    "name": "ipython",
    "version": 3
   },
   "file_extension": ".py",
   "mimetype": "text/x-python",
   "name": "python",
   "nbconvert_exporter": "python",
   "pygments_lexer": "ipython3",
   "version": "3.10.12"
  }
 },
 "nbformat": 4,
 "nbformat_minor": 5
}
