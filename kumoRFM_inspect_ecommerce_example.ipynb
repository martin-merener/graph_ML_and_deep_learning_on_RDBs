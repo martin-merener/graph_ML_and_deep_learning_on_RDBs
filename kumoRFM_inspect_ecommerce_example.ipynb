{
 "cells": [
  {
   "cell_type": "code",
   "execution_count": 23,
   "id": "55d8b177",
   "metadata": {},
   "outputs": [],
   "source": [
    "import kumoai.experimental.rfm as rfm, os\n",
    "from pathlib import Path\n",
    "import pandas as pd\n",
    "import numpy as np"
   ]
  },
  {
   "cell_type": "code",
   "execution_count": 24,
   "id": "ced12bc1",
   "metadata": {},
   "outputs": [],
   "source": [
    "home_api_key_file = Path.home() / \"kumoai_key.txt\"\n",
    "with open(home_api_key_file, \"r\") as file:\n",
    "    api_key = file.read().strip()\n",
    "os.environ[\"KUMO_API_KEY\"] = api_key"
   ]
  },
  {
   "cell_type": "code",
   "execution_count": 25,
   "id": "f0256e26",
   "metadata": {},
   "outputs": [
    {
     "name": "stdout",
     "output_type": "stream",
     "text": [
      "Client has already been created. To re-initialize Kumo, please start a new interpreter. No changes will be made to the current session.\n"
     ]
    }
   ],
   "source": [
    "rfm.init()"
   ]
  },
  {
   "cell_type": "code",
   "execution_count": 26,
   "id": "0f58d889",
   "metadata": {},
   "outputs": [],
   "source": [
    "root = 's3://kumo-sdk-public/rfm-datasets/online-shopping'\n",
    "users_df = pd.read_parquet(f'{root}/users.parquet')\n",
    "items_df = pd.read_parquet(f'{root}/items.parquet')\n",
    "orders_df = pd.read_parquet(f'{root}/orders.parquet')"
   ]
  },
  {
   "cell_type": "code",
   "execution_count": 29,
   "id": "ce4b6163",
   "metadata": {},
   "outputs": [
    {
     "name": "stdout",
     "output_type": "stream",
     "text": [
      "Detected primary key 'user_id' in table 'users'\n",
      "Detected primary key 'item_id' in table 'items'\n",
      "Detected primary key 'order_id' and time column 'date' in table 'orders'\n"
     ]
    }
   ],
   "source": [
    "users = rfm.LocalTable(users_df, name=\"users\").infer_metadata()\n",
    "items = rfm.LocalTable(items_df, name=\"items\").infer_metadata()\n",
    "orders = rfm.LocalTable(orders_df, name=\"orders\").infer_metadata()"
   ]
  },
  {
   "cell_type": "code",
   "execution_count": 30,
   "id": "0b169afe",
   "metadata": {},
   "outputs": [
    {
     "data": {
      "text/markdown": [
       "### 🏷️ Metadata of Table `users` (1,000 rows)"
      ],
      "text/plain": [
       "<IPython.core.display.Markdown object>"
      ]
     },
     "metadata": {},
     "output_type": "display_data"
    },
    {
     "data": {
      "text/html": [
       "<style type=\"text/css\">\n",
       "</style>\n",
       "<table id=\"T_dcebc\">\n",
       "  <thead>\n",
       "    <tr>\n",
       "      <th id=\"T_dcebc_level0_col0\" class=\"col_heading level0 col0\" >name</th>\n",
       "      <th id=\"T_dcebc_level0_col1\" class=\"col_heading level0 col1\" >dtype</th>\n",
       "      <th id=\"T_dcebc_level0_col2\" class=\"col_heading level0 col2\" >stype</th>\n",
       "      <th id=\"T_dcebc_level0_col3\" class=\"col_heading level0 col3\" >is_primary_key</th>\n",
       "      <th id=\"T_dcebc_level0_col4\" class=\"col_heading level0 col4\" >is_time_column</th>\n",
       "    </tr>\n",
       "  </thead>\n",
       "  <tbody>\n",
       "    <tr>\n",
       "      <td id=\"T_dcebc_row0_col0\" class=\"data row0 col0\" >user_id</td>\n",
       "      <td id=\"T_dcebc_row0_col1\" class=\"data row0 col1\" >int</td>\n",
       "      <td id=\"T_dcebc_row0_col2\" class=\"data row0 col2\" >ID</td>\n",
       "      <td id=\"T_dcebc_row0_col3\" class=\"data row0 col3\" >True</td>\n",
       "      <td id=\"T_dcebc_row0_col4\" class=\"data row0 col4\" >False</td>\n",
       "    </tr>\n",
       "    <tr>\n",
       "      <td id=\"T_dcebc_row1_col0\" class=\"data row1 col0\" >active</td>\n",
       "      <td id=\"T_dcebc_row1_col1\" class=\"data row1 col1\" >bool</td>\n",
       "      <td id=\"T_dcebc_row1_col2\" class=\"data row1 col2\" >categorical</td>\n",
       "      <td id=\"T_dcebc_row1_col3\" class=\"data row1 col3\" >False</td>\n",
       "      <td id=\"T_dcebc_row1_col4\" class=\"data row1 col4\" >False</td>\n",
       "    </tr>\n",
       "    <tr>\n",
       "      <td id=\"T_dcebc_row2_col0\" class=\"data row2 col0\" >age</td>\n",
       "      <td id=\"T_dcebc_row2_col1\" class=\"data row2 col1\" >int</td>\n",
       "      <td id=\"T_dcebc_row2_col2\" class=\"data row2 col2\" >numerical</td>\n",
       "      <td id=\"T_dcebc_row2_col3\" class=\"data row2 col3\" >False</td>\n",
       "      <td id=\"T_dcebc_row2_col4\" class=\"data row2 col4\" >False</td>\n",
       "    </tr>\n",
       "  </tbody>\n",
       "</table>\n"
      ],
      "text/plain": [
       "<pandas.io.formats.style.Styler at 0x722a0e82bc70>"
      ]
     },
     "metadata": {},
     "output_type": "display_data"
    },
    {
     "data": {
      "text/markdown": [
       "### 🏷️ Metadata of Table `items` (1,000 rows)"
      ],
      "text/plain": [
       "<IPython.core.display.Markdown object>"
      ]
     },
     "metadata": {},
     "output_type": "display_data"
    },
    {
     "data": {
      "text/html": [
       "<style type=\"text/css\">\n",
       "</style>\n",
       "<table id=\"T_8d1a2\">\n",
       "  <thead>\n",
       "    <tr>\n",
       "      <th id=\"T_8d1a2_level0_col0\" class=\"col_heading level0 col0\" >name</th>\n",
       "      <th id=\"T_8d1a2_level0_col1\" class=\"col_heading level0 col1\" >dtype</th>\n",
       "      <th id=\"T_8d1a2_level0_col2\" class=\"col_heading level0 col2\" >stype</th>\n",
       "      <th id=\"T_8d1a2_level0_col3\" class=\"col_heading level0 col3\" >is_primary_key</th>\n",
       "      <th id=\"T_8d1a2_level0_col4\" class=\"col_heading level0 col4\" >is_time_column</th>\n",
       "    </tr>\n",
       "  </thead>\n",
       "  <tbody>\n",
       "    <tr>\n",
       "      <td id=\"T_8d1a2_row0_col0\" class=\"data row0 col0\" >item_id</td>\n",
       "      <td id=\"T_8d1a2_row0_col1\" class=\"data row0 col1\" >int</td>\n",
       "      <td id=\"T_8d1a2_row0_col2\" class=\"data row0 col2\" >ID</td>\n",
       "      <td id=\"T_8d1a2_row0_col3\" class=\"data row0 col3\" >True</td>\n",
       "      <td id=\"T_8d1a2_row0_col4\" class=\"data row0 col4\" >False</td>\n",
       "    </tr>\n",
       "    <tr>\n",
       "      <td id=\"T_8d1a2_row1_col0\" class=\"data row1 col0\" >item_name</td>\n",
       "      <td id=\"T_8d1a2_row1_col1\" class=\"data row1 col1\" >string</td>\n",
       "      <td id=\"T_8d1a2_row1_col2\" class=\"data row1 col2\" >text</td>\n",
       "      <td id=\"T_8d1a2_row1_col3\" class=\"data row1 col3\" >False</td>\n",
       "      <td id=\"T_8d1a2_row1_col4\" class=\"data row1 col4\" >False</td>\n",
       "    </tr>\n",
       "    <tr>\n",
       "      <td id=\"T_8d1a2_row2_col0\" class=\"data row2 col0\" >category</td>\n",
       "      <td id=\"T_8d1a2_row2_col1\" class=\"data row2 col1\" >string</td>\n",
       "      <td id=\"T_8d1a2_row2_col2\" class=\"data row2 col2\" >categorical</td>\n",
       "      <td id=\"T_8d1a2_row2_col3\" class=\"data row2 col3\" >False</td>\n",
       "      <td id=\"T_8d1a2_row2_col4\" class=\"data row2 col4\" >False</td>\n",
       "    </tr>\n",
       "    <tr>\n",
       "      <td id=\"T_8d1a2_row3_col0\" class=\"data row3 col0\" >color</td>\n",
       "      <td id=\"T_8d1a2_row3_col1\" class=\"data row3 col1\" >string</td>\n",
       "      <td id=\"T_8d1a2_row3_col2\" class=\"data row3 col2\" >categorical</td>\n",
       "      <td id=\"T_8d1a2_row3_col3\" class=\"data row3 col3\" >False</td>\n",
       "      <td id=\"T_8d1a2_row3_col4\" class=\"data row3 col4\" >False</td>\n",
       "    </tr>\n",
       "    <tr>\n",
       "      <td id=\"T_8d1a2_row4_col0\" class=\"data row4 col0\" >descriptions</td>\n",
       "      <td id=\"T_8d1a2_row4_col1\" class=\"data row4 col1\" >string</td>\n",
       "      <td id=\"T_8d1a2_row4_col2\" class=\"data row4 col2\" >text</td>\n",
       "      <td id=\"T_8d1a2_row4_col3\" class=\"data row4 col3\" >False</td>\n",
       "      <td id=\"T_8d1a2_row4_col4\" class=\"data row4 col4\" >False</td>\n",
       "    </tr>\n",
       "  </tbody>\n",
       "</table>\n"
      ],
      "text/plain": [
       "<pandas.io.formats.style.Styler at 0x722a4634f730>"
      ]
     },
     "metadata": {},
     "output_type": "display_data"
    },
    {
     "data": {
      "text/markdown": [
       "### 🏷️ Metadata of Table `orders` (267,774 rows)"
      ],
      "text/plain": [
       "<IPython.core.display.Markdown object>"
      ]
     },
     "metadata": {},
     "output_type": "display_data"
    },
    {
     "data": {
      "text/html": [
       "<style type=\"text/css\">\n",
       "</style>\n",
       "<table id=\"T_42839\">\n",
       "  <thead>\n",
       "    <tr>\n",
       "      <th id=\"T_42839_level0_col0\" class=\"col_heading level0 col0\" >name</th>\n",
       "      <th id=\"T_42839_level0_col1\" class=\"col_heading level0 col1\" >dtype</th>\n",
       "      <th id=\"T_42839_level0_col2\" class=\"col_heading level0 col2\" >stype</th>\n",
       "      <th id=\"T_42839_level0_col3\" class=\"col_heading level0 col3\" >is_primary_key</th>\n",
       "      <th id=\"T_42839_level0_col4\" class=\"col_heading level0 col4\" >is_time_column</th>\n",
       "    </tr>\n",
       "  </thead>\n",
       "  <tbody>\n",
       "    <tr>\n",
       "      <td id=\"T_42839_row0_col0\" class=\"data row0 col0\" >user_id</td>\n",
       "      <td id=\"T_42839_row0_col1\" class=\"data row0 col1\" >int</td>\n",
       "      <td id=\"T_42839_row0_col2\" class=\"data row0 col2\" >ID</td>\n",
       "      <td id=\"T_42839_row0_col3\" class=\"data row0 col3\" >False</td>\n",
       "      <td id=\"T_42839_row0_col4\" class=\"data row0 col4\" >False</td>\n",
       "    </tr>\n",
       "    <tr>\n",
       "      <td id=\"T_42839_row1_col0\" class=\"data row1 col0\" >item_id</td>\n",
       "      <td id=\"T_42839_row1_col1\" class=\"data row1 col1\" >int</td>\n",
       "      <td id=\"T_42839_row1_col2\" class=\"data row1 col2\" >ID</td>\n",
       "      <td id=\"T_42839_row1_col3\" class=\"data row1 col3\" >False</td>\n",
       "      <td id=\"T_42839_row1_col4\" class=\"data row1 col4\" >False</td>\n",
       "    </tr>\n",
       "    <tr>\n",
       "      <td id=\"T_42839_row2_col0\" class=\"data row2 col0\" >date</td>\n",
       "      <td id=\"T_42839_row2_col1\" class=\"data row2 col1\" >date</td>\n",
       "      <td id=\"T_42839_row2_col2\" class=\"data row2 col2\" >timestamp</td>\n",
       "      <td id=\"T_42839_row2_col3\" class=\"data row2 col3\" >False</td>\n",
       "      <td id=\"T_42839_row2_col4\" class=\"data row2 col4\" >True</td>\n",
       "    </tr>\n",
       "    <tr>\n",
       "      <td id=\"T_42839_row3_col0\" class=\"data row3 col0\" >sales_channel_id</td>\n",
       "      <td id=\"T_42839_row3_col1\" class=\"data row3 col1\" >int</td>\n",
       "      <td id=\"T_42839_row3_col2\" class=\"data row3 col2\" >ID</td>\n",
       "      <td id=\"T_42839_row3_col3\" class=\"data row3 col3\" >False</td>\n",
       "      <td id=\"T_42839_row3_col4\" class=\"data row3 col4\" >False</td>\n",
       "    </tr>\n",
       "    <tr>\n",
       "      <td id=\"T_42839_row4_col0\" class=\"data row4 col0\" >price</td>\n",
       "      <td id=\"T_42839_row4_col1\" class=\"data row4 col1\" >float</td>\n",
       "      <td id=\"T_42839_row4_col2\" class=\"data row4 col2\" >numerical</td>\n",
       "      <td id=\"T_42839_row4_col3\" class=\"data row4 col3\" >False</td>\n",
       "      <td id=\"T_42839_row4_col4\" class=\"data row4 col4\" >False</td>\n",
       "    </tr>\n",
       "    <tr>\n",
       "      <td id=\"T_42839_row5_col0\" class=\"data row5 col0\" >order_id</td>\n",
       "      <td id=\"T_42839_row5_col1\" class=\"data row5 col1\" >int</td>\n",
       "      <td id=\"T_42839_row5_col2\" class=\"data row5 col2\" >ID</td>\n",
       "      <td id=\"T_42839_row5_col3\" class=\"data row5 col3\" >True</td>\n",
       "      <td id=\"T_42839_row5_col4\" class=\"data row5 col4\" >False</td>\n",
       "    </tr>\n",
       "  </tbody>\n",
       "</table>\n"
      ],
      "text/plain": [
       "<pandas.io.formats.style.Styler at 0x722a183f02e0>"
      ]
     },
     "metadata": {},
     "output_type": "display_data"
    }
   ],
   "source": [
    "users.print_metadata()\n",
    "items.print_metadata()\n",
    "orders.print_metadata()"
   ]
  },
  {
   "cell_type": "code",
   "execution_count": 31,
   "id": "b46f1004",
   "metadata": {},
   "outputs": [],
   "source": [
    "graph = rfm.LocalGraph(tables=[users, items, orders])"
   ]
  },
  {
   "cell_type": "code",
   "execution_count": 32,
   "id": "31d35668",
   "metadata": {},
   "outputs": [
    {
     "data": {
      "text/plain": [
       "LocalGraph(\n",
       "  tables=[users, items, orders],\n",
       "  edges=[Edge(src_table='orders', fkey='user_id', dst_table='users')],\n",
       ")"
      ]
     },
     "execution_count": 32,
     "metadata": {},
     "output_type": "execute_result"
    }
   ],
   "source": [
    "graph.link(src_table=\"orders\", fkey=\"user_id\", dst_table=\"users\")"
   ]
  },
  {
   "cell_type": "code",
   "execution_count": 33,
   "id": "7915c59e",
   "metadata": {},
   "outputs": [
    {
     "data": {
      "text/plain": [
       "LocalGraph(\n",
       "  tables=[users, items, orders],\n",
       "  edges=[Edge(src_table='orders', fkey='user_id', dst_table='users'), Edge(src_table='orders', fkey='item_id', dst_table='items')],\n",
       ")"
      ]
     },
     "execution_count": 33,
     "metadata": {},
     "output_type": "execute_result"
    }
   ],
   "source": [
    "graph.link(src_table=\"orders\", fkey=\"item_id\", dst_table=\"items\")"
   ]
  },
  {
   "cell_type": "code",
   "execution_count": 34,
   "id": "8b9d4ce5",
   "metadata": {},
   "outputs": [
    {
     "data": {
      "text/markdown": [
       "### 🗂️ Graph Metadata"
      ],
      "text/plain": [
       "<IPython.core.display.Markdown object>"
      ]
     },
     "metadata": {},
     "output_type": "display_data"
    },
    {
     "data": {
      "text/html": [
       "<style type=\"text/css\">\n",
       "</style>\n",
       "<table id=\"T_53929\">\n",
       "  <thead>\n",
       "    <tr>\n",
       "      <th id=\"T_53929_level0_col0\" class=\"col_heading level0 col0\" >name</th>\n",
       "      <th id=\"T_53929_level0_col1\" class=\"col_heading level0 col1\" >primary_key</th>\n",
       "      <th id=\"T_53929_level0_col2\" class=\"col_heading level0 col2\" >time_column</th>\n",
       "    </tr>\n",
       "  </thead>\n",
       "  <tbody>\n",
       "    <tr>\n",
       "      <td id=\"T_53929_row0_col0\" class=\"data row0 col0\" >users</td>\n",
       "      <td id=\"T_53929_row0_col1\" class=\"data row0 col1\" >user_id</td>\n",
       "      <td id=\"T_53929_row0_col2\" class=\"data row0 col2\" >-</td>\n",
       "    </tr>\n",
       "    <tr>\n",
       "      <td id=\"T_53929_row1_col0\" class=\"data row1 col0\" >items</td>\n",
       "      <td id=\"T_53929_row1_col1\" class=\"data row1 col1\" >item_id</td>\n",
       "      <td id=\"T_53929_row1_col2\" class=\"data row1 col2\" >-</td>\n",
       "    </tr>\n",
       "    <tr>\n",
       "      <td id=\"T_53929_row2_col0\" class=\"data row2 col0\" >orders</td>\n",
       "      <td id=\"T_53929_row2_col1\" class=\"data row2 col1\" >order_id</td>\n",
       "      <td id=\"T_53929_row2_col2\" class=\"data row2 col2\" >date</td>\n",
       "    </tr>\n",
       "  </tbody>\n",
       "</table>\n"
      ],
      "text/plain": [
       "<pandas.io.formats.style.Styler at 0x722a0e82b9a0>"
      ]
     },
     "metadata": {},
     "output_type": "display_data"
    },
    {
     "data": {
      "text/markdown": [
       "### 🕸️ Graph Links (FK ↔️ PK)"
      ],
      "text/plain": [
       "<IPython.core.display.Markdown object>"
      ]
     },
     "metadata": {},
     "output_type": "display_data"
    },
    {
     "data": {
      "text/markdown": [
       "- `orders.item_id` ↔️ `items.item_id`\n",
       "- `orders.user_id` ↔️ `users.user_id`"
      ],
      "text/plain": [
       "<IPython.core.display.Markdown object>"
      ]
     },
     "metadata": {},
     "output_type": "display_data"
    }
   ],
   "source": [
    "graph.print_metadata()\n",
    "graph.print_links()"
   ]
  },
  {
   "cell_type": "code",
   "execution_count": 35,
   "id": "356a0aa0",
   "metadata": {},
   "outputs": [
    {
     "data": {
      "application/vnd.jupyter.widget-view+json": {
       "model_id": "a898cb95757e495bbc8d739c5f87b1e7",
       "version_major": 2,
       "version_minor": 0
      },
      "text/plain": [
       "Output()"
      ]
     },
     "metadata": {},
     "output_type": "display_data"
    },
    {
     "data": {
      "text/html": [
       "<pre style=\"white-space:pre;overflow-x:auto;line-height:normal;font-family:Menlo,'DejaVu Sans Mono',consolas,'Courier New',monospace\"></pre>\n"
      ],
      "text/plain": []
     },
     "metadata": {},
     "output_type": "display_data"
    }
   ],
   "source": [
    "model = rfm.KumoRFM(graph)"
   ]
  },
  {
   "cell_type": "code",
   "execution_count": 36,
   "id": "b931f19e",
   "metadata": {},
   "outputs": [
    {
     "data": {
      "text/html": [
       "<div>\n",
       "<style scoped>\n",
       "    .dataframe tbody tr th:only-of-type {\n",
       "        vertical-align: middle;\n",
       "    }\n",
       "\n",
       "    .dataframe tbody tr th {\n",
       "        vertical-align: top;\n",
       "    }\n",
       "\n",
       "    .dataframe thead th {\n",
       "        text-align: right;\n",
       "    }\n",
       "</style>\n",
       "<table border=\"1\" class=\"dataframe\">\n",
       "  <thead>\n",
       "    <tr style=\"text-align: right;\">\n",
       "      <th></th>\n",
       "      <th>date</th>\n",
       "    </tr>\n",
       "  </thead>\n",
       "  <tbody>\n",
       "    <tr>\n",
       "      <th>count</th>\n",
       "      <td>267774</td>\n",
       "    </tr>\n",
       "    <tr>\n",
       "      <th>mean</th>\n",
       "      <td>2023-09-15 02:06:26.385534</td>\n",
       "    </tr>\n",
       "    <tr>\n",
       "      <th>min</th>\n",
       "      <td>2022-09-20 00:00:00</td>\n",
       "    </tr>\n",
       "    <tr>\n",
       "      <th>25%</th>\n",
       "      <td>2023-03-31 00:00:00</td>\n",
       "    </tr>\n",
       "    <tr>\n",
       "      <th>50%</th>\n",
       "      <td>2023-08-24 00:00:00</td>\n",
       "    </tr>\n",
       "    <tr>\n",
       "      <th>75%</th>\n",
       "      <td>2024-03-27 00:00:00</td>\n",
       "    </tr>\n",
       "    <tr>\n",
       "      <th>max</th>\n",
       "      <td>2024-09-19 00:00:00</td>\n",
       "    </tr>\n",
       "  </tbody>\n",
       "</table>\n",
       "</div>"
      ],
      "text/plain": [
       "                             date\n",
       "count                      267774\n",
       "mean   2023-09-15 02:06:26.385534\n",
       "min           2022-09-20 00:00:00\n",
       "25%           2023-03-31 00:00:00\n",
       "50%           2023-08-24 00:00:00\n",
       "75%           2024-03-27 00:00:00\n",
       "max           2024-09-19 00:00:00"
      ]
     },
     "execution_count": 36,
     "metadata": {},
     "output_type": "execute_result"
    }
   ],
   "source": [
    "orders_df[['date']].describe()"
   ]
  },
  {
   "cell_type": "code",
   "execution_count": 119,
   "id": "ac415f54",
   "metadata": {},
   "outputs": [
    {
     "name": "stdout",
     "output_type": "stream",
     "text": [
      "2022-12-20 00:00:00 8.789062485448085e-05 162.90065910270624 168.64468383789062\n",
      "2023-03-31 00:00:00 8.300781246362021e-05 158.72074088989257 154.96910095214844\n",
      "2023-08-24 00:00:00 7.812500007275958e-05 152.13921017990268 153.7912139892578\n",
      "2024-03-27 00:00:00 6.835937506366463e-05 157.3534420472113 155.17543029785156\n",
      "2024-07-18 00:00:00 4.3945312427240424e-05 157.9994882330579 167.11534118652344\n"
     ]
    }
   ],
   "source": [
    "#item_id = 42\n",
    "#anchor_date = pd.Timestamp(\"2023-03-31\") \n",
    "\n",
    "# Looking at average error for a sample of items, in the next 30 days from different anchor dates/\n",
    "\n",
    "days = 30\n",
    "samp_size = 5000\n",
    "\n",
    "anchor_dates = [pd.Timestamp(\"2022-12-20\"), \n",
    "                pd.Timestamp(\"2023-03-31\"), \n",
    "                pd.Timestamp(\"2023-08-24\"), \n",
    "                pd.Timestamp(\"2024-03-27\"), \n",
    "                pd.Timestamp(\"2024-07-18\")]\n",
    "\n",
    "for anchor_date in anchor_dates: \n",
    "\n",
    "    anchor_date_plus_30 = anchor_date + pd.Timedelta(days=days)\n",
    "\n",
    "    train_table = model.get_train_table(query, size = samp_size, anchor_time=anchor_date)\n",
    "    sample_item_ids = tuple(train_table.ENTITY)\n",
    "    #sample_item_ids = tuple(items_df.item_id.sample(samp_size))\n",
    "\n",
    "\n",
    "    query = f\"PREDICT SUM(orders.price, 0, {days}, days) FOR items.item_id in {sample_item_ids}\"\n",
    "    predictions = model.predict(query, anchor_time=anchor_date, verbose=False)[['ENTITY', 'TARGET_PRED']]\n",
    "\n",
    "    orders_for_sample_in_next_x_days = orders_df[\n",
    "        (orders_df['item_id'].isin(sample_item_ids)) &\n",
    "        (orders_df['date'] > anchor_date) &\n",
    "        (orders_df['date'] <= anchor_date_plus_30)\n",
    "    ]\n",
    "    actuals = (\n",
    "        orders_for_sample_in_next_x_days[['item_id', 'price']]\n",
    "        .groupby('item_id', as_index=False)['price']\n",
    "        .sum()\n",
    "    )\n",
    "\n",
    "    actuals_and_actuals = train_table.merge(actuals, left_on='ENTITY', right_on='item_id', how='inner')\n",
    "    z = abs(actuals_and_actuals['price'] - actuals_and_actuals['TARGET']).max()\n",
    "\n",
    "\n",
    "    preds_and_actuals = predictions.merge(actuals, left_on='ENTITY', right_on='item_id', how='inner')\n",
    "    avg_abs_error = (preds_and_actuals['TARGET_PRED'] - preds_and_actuals['price']).abs().mean()\n",
    "    evaluation = model.evaluate(query, anchor_time=anchor_date, verbose=False)\n",
    "    mae_value = evaluation.loc[evaluation['metric'] == 'mae', 'value'].iloc[0]\n",
    "\n",
    "    print(anchor_date, z, avg_abs_error, mae_value)\n"
   ]
  },
  {
   "cell_type": "code",
   "execution_count": 144,
   "id": "deffb6e0",
   "metadata": {},
   "outputs": [
    {
     "data": {
      "text/html": [
       "<div>\n",
       "<style scoped>\n",
       "    .dataframe tbody tr th:only-of-type {\n",
       "        vertical-align: middle;\n",
       "    }\n",
       "\n",
       "    .dataframe tbody tr th {\n",
       "        vertical-align: top;\n",
       "    }\n",
       "\n",
       "    .dataframe thead th {\n",
       "        text-align: right;\n",
       "    }\n",
       "</style>\n",
       "<table border=\"1\" class=\"dataframe\">\n",
       "  <thead>\n",
       "    <tr style=\"text-align: right;\">\n",
       "      <th></th>\n",
       "      <th>ENTITY</th>\n",
       "      <th>TARGET_PRED</th>\n",
       "    </tr>\n",
       "  </thead>\n",
       "  <tbody>\n",
       "    <tr>\n",
       "      <th>0</th>\n",
       "      <td>978</td>\n",
       "      <td>329.257477</td>\n",
       "    </tr>\n",
       "    <tr>\n",
       "      <th>1</th>\n",
       "      <td>933</td>\n",
       "      <td>486.274384</td>\n",
       "    </tr>\n",
       "    <tr>\n",
       "      <th>2</th>\n",
       "      <td>859</td>\n",
       "      <td>349.018311</td>\n",
       "    </tr>\n",
       "    <tr>\n",
       "      <th>3</th>\n",
       "      <td>916</td>\n",
       "      <td>359.525208</td>\n",
       "    </tr>\n",
       "    <tr>\n",
       "      <th>4</th>\n",
       "      <td>127</td>\n",
       "      <td>338.536438</td>\n",
       "    </tr>\n",
       "    <tr>\n",
       "      <th>...</th>\n",
       "      <td>...</td>\n",
       "      <td>...</td>\n",
       "    </tr>\n",
       "    <tr>\n",
       "      <th>995</th>\n",
       "      <td>548</td>\n",
       "      <td>511.728363</td>\n",
       "    </tr>\n",
       "    <tr>\n",
       "      <th>996</th>\n",
       "      <td>609</td>\n",
       "      <td>304.197754</td>\n",
       "    </tr>\n",
       "    <tr>\n",
       "      <th>997</th>\n",
       "      <td>961</td>\n",
       "      <td>500.260071</td>\n",
       "    </tr>\n",
       "    <tr>\n",
       "      <th>998</th>\n",
       "      <td>973</td>\n",
       "      <td>373.070221</td>\n",
       "    </tr>\n",
       "    <tr>\n",
       "      <th>999</th>\n",
       "      <td>648</td>\n",
       "      <td>354.659058</td>\n",
       "    </tr>\n",
       "  </tbody>\n",
       "</table>\n",
       "<p>1000 rows × 2 columns</p>\n",
       "</div>"
      ],
      "text/plain": [
       "     ENTITY  TARGET_PRED\n",
       "0       978   329.257477\n",
       "1       933   486.274384\n",
       "2       859   349.018311\n",
       "3       916   359.525208\n",
       "4       127   338.536438\n",
       "..      ...          ...\n",
       "995     548   511.728363\n",
       "996     609   304.197754\n",
       "997     961   500.260071\n",
       "998     973   373.070221\n",
       "999     648   354.659058\n",
       "\n",
       "[1000 rows x 2 columns]"
      ]
     },
     "execution_count": 144,
     "metadata": {},
     "output_type": "execute_result"
    }
   ],
   "source": [
    "predictions"
   ]
  },
  {
   "cell_type": "code",
   "execution_count": 113,
   "id": "ddb07519",
   "metadata": {},
   "outputs": [
    {
     "data": {
      "text/plain": [
       "np.float64(2.4414062522737368e-05)"
      ]
     },
     "execution_count": 113,
     "metadata": {},
     "output_type": "execute_result"
    }
   ],
   "source": [
    "train_table = model.get_train_table(query, size = 27,anchor_time=anchor_date)\n",
    "sample_item_ids = tuple(train_table.ENTITY)\n",
    "orders_for_sample_in_next_x_days = orders_df[\n",
    "    (orders_df['item_id'].isin(sample_item_ids)) &\n",
    "    (orders_df['date'] > anchor_date) &\n",
    "    (orders_df['date'] <= anchor_date_plus_30)\n",
    "]\n",
    "actuals = (\n",
    "    orders_for_sample_in_next_x_days[['item_id', 'price']]\n",
    "    .groupby('item_id', as_index=False)['price']\n",
    "    .sum()\n",
    ")\n",
    "actuals_and_actuals = train_table.merge(actuals, left_on='ENTITY', right_on='item_id', how='inner')\n",
    "abs(actuals_and_actuals['price'] - actuals_and_actuals['TARGET']).max()\n"
   ]
  },
  {
   "cell_type": "code",
   "execution_count": 123,
   "id": "ce285692",
   "metadata": {},
   "outputs": [
    {
     "data": {
      "text/plain": [
       "(Timestamp('2024-07-19 00:00:00'), Timestamp('2024-07-18 00:00:00'))"
      ]
     },
     "execution_count": 123,
     "metadata": {},
     "output_type": "execute_result"
    }
   ],
   "source": [
    "orders_df[(orders_df['date'] > anchor_date)]['date'].min(), anchor_date"
   ]
  },
  {
   "cell_type": "code",
   "execution_count": 128,
   "id": "fb6afad3",
   "metadata": {},
   "outputs": [
    {
     "data": {
      "text/plain": [
       "'PREDICT SUM(orders.price, 0, 30, days) FOR items.item_id in (978, 933, 859)'"
      ]
     },
     "execution_count": 128,
     "metadata": {},
     "output_type": "execute_result"
    }
   ],
   "source": [
    "query = f\"PREDICT SUM(orders.price, 0, {days}, days) FOR items.item_id in {sample_item_ids[0:3]}\"\n",
    "query"
   ]
  },
  {
   "cell_type": "code",
   "execution_count": null,
   "id": "7ac446ed",
   "metadata": {},
   "outputs": [],
   "source": [
    "min\t2022-09-20 00:00:00\n",
    "max\t2024-09-19 00:00:00"
   ]
  },
  {
   "cell_type": "code",
   "execution_count": 142,
   "id": "6559f8ff",
   "metadata": {},
   "outputs": [
    {
     "data": {
      "application/vnd.jupyter.widget-view+json": {
       "model_id": "52f0a182f01f44fe8fa643ddbc5f0910",
       "version_major": 2,
       "version_minor": 0
      },
      "text/plain": [
       "Output()"
      ]
     },
     "metadata": {},
     "output_type": "display_data"
    },
    {
     "data": {
      "text/html": [
       "<pre style=\"white-space:pre;overflow-x:auto;line-height:normal;font-family:Menlo,'DejaVu Sans Mono',consolas,'Courier New',monospace\"></pre>\n"
      ],
      "text/plain": []
     },
     "metadata": {},
     "output_type": "display_data"
    },
    {
     "data": {
      "text/html": [
       "<div>\n",
       "<style scoped>\n",
       "    .dataframe tbody tr th:only-of-type {\n",
       "        vertical-align: middle;\n",
       "    }\n",
       "\n",
       "    .dataframe tbody tr th {\n",
       "        vertical-align: top;\n",
       "    }\n",
       "\n",
       "    .dataframe thead th {\n",
       "        text-align: right;\n",
       "    }\n",
       "</style>\n",
       "<table border=\"1\" class=\"dataframe\">\n",
       "  <thead>\n",
       "    <tr style=\"text-align: right;\">\n",
       "      <th></th>\n",
       "      <th>metric</th>\n",
       "      <th>value</th>\n",
       "    </tr>\n",
       "  </thead>\n",
       "  <tbody>\n",
       "    <tr>\n",
       "      <th>0</th>\n",
       "      <td>mae</td>\n",
       "      <td>160.636780</td>\n",
       "    </tr>\n",
       "    <tr>\n",
       "      <th>1</th>\n",
       "      <td>mse</td>\n",
       "      <td>49606.113281</td>\n",
       "    </tr>\n",
       "    <tr>\n",
       "      <th>2</th>\n",
       "      <td>rmse</td>\n",
       "      <td>222.724304</td>\n",
       "    </tr>\n",
       "  </tbody>\n",
       "</table>\n",
       "</div>"
      ],
      "text/plain": [
       "  metric         value\n",
       "0    mae    160.636780\n",
       "1    mse  49606.113281\n",
       "2   rmse    222.724304"
      ]
     },
     "execution_count": 142,
     "metadata": {},
     "output_type": "execute_result"
    }
   ],
   "source": [
    "query = 'PREDICT SUM(orders.price, 0, 30, days) FOR items.item_id in (978, 933, 859)'\n",
    "model.evaluate(query, anchor_time=pd.Timestamp(\"2024-08-20\"), verbose=True)"
   ]
  },
  {
   "cell_type": "code",
   "execution_count": 134,
   "id": "5702f23b",
   "metadata": {},
   "outputs": [
    {
     "data": {
      "text/plain": [
       "38379.97620110257"
      ]
     },
     "execution_count": 134,
     "metadata": {},
     "output_type": "execute_result"
    }
   ],
   "source": [
    "195.908081**2"
   ]
  },
  {
   "cell_type": "code",
   "execution_count": 130,
   "id": "fb9181bd",
   "metadata": {},
   "outputs": [
    {
     "data": {
      "application/vnd.jupyter.widget-view+json": {
       "model_id": "d3e2a7dad3cb4141a24a96b5c5024e88",
       "version_major": 2,
       "version_minor": 0
      },
      "text/plain": [
       "Output()"
      ]
     },
     "metadata": {},
     "output_type": "display_data"
    },
    {
     "data": {
      "text/html": [
       "<pre style=\"white-space:pre;overflow-x:auto;line-height:normal;font-family:Menlo,'DejaVu Sans Mono',consolas,'Courier New',monospace\"></pre>\n"
      ],
      "text/plain": []
     },
     "metadata": {},
     "output_type": "display_data"
    },
    {
     "data": {
      "text/html": [
       "<div>\n",
       "<style scoped>\n",
       "    .dataframe tbody tr th:only-of-type {\n",
       "        vertical-align: middle;\n",
       "    }\n",
       "\n",
       "    .dataframe tbody tr th {\n",
       "        vertical-align: top;\n",
       "    }\n",
       "\n",
       "    .dataframe thead th {\n",
       "        text-align: right;\n",
       "    }\n",
       "</style>\n",
       "<table border=\"1\" class=\"dataframe\">\n",
       "  <thead>\n",
       "    <tr style=\"text-align: right;\">\n",
       "      <th></th>\n",
       "      <th>ENTITY</th>\n",
       "      <th>ANCHOR_TIMESTAMP</th>\n",
       "      <th>TARGET_PRED</th>\n",
       "    </tr>\n",
       "  </thead>\n",
       "  <tbody>\n",
       "    <tr>\n",
       "      <th>0</th>\n",
       "      <td>978</td>\n",
       "      <td>2024-07-18T00:00:00</td>\n",
       "      <td>288.427399</td>\n",
       "    </tr>\n",
       "    <tr>\n",
       "      <th>1</th>\n",
       "      <td>933</td>\n",
       "      <td>2024-07-18T00:00:00</td>\n",
       "      <td>518.106506</td>\n",
       "    </tr>\n",
       "    <tr>\n",
       "      <th>2</th>\n",
       "      <td>859</td>\n",
       "      <td>2024-07-18T00:00:00</td>\n",
       "      <td>337.200500</td>\n",
       "    </tr>\n",
       "  </tbody>\n",
       "</table>\n",
       "</div>"
      ],
      "text/plain": [
       "   ENTITY     ANCHOR_TIMESTAMP  TARGET_PRED\n",
       "0     978  2024-07-18T00:00:00   288.427399\n",
       "1     933  2024-07-18T00:00:00   518.106506\n",
       "2     859  2024-07-18T00:00:00   337.200500"
      ]
     },
     "execution_count": 130,
     "metadata": {},
     "output_type": "execute_result"
    }
   ],
   "source": [
    "model.predict(query, anchor_time=anchor_date, verbose=True)"
   ]
  },
  {
   "cell_type": "markdown",
   "id": "18372d09",
   "metadata": {},
   "source": [
    "Hello. Based on the explanation that comes with the output of model.evaluate, the metrics (e.g., MAE) are based on 1000 test examples. Is there a way to restrict the metrics to only the entities specified in the query? For example, I have query = f\"PREDICT SUM(orders.price, 0, 30, days) FOR items.item_id in (978,933,859)\", and may want to get the MAE only for those 3 items. And can you describe how those 1000 test examples are selected, and whether their selection depends on the 3 items in the query? "
   ]
  },
  {
   "cell_type": "code",
   "execution_count": 146,
   "id": "e086a590",
   "metadata": {},
   "outputs": [
    {
     "data": {
      "application/vnd.jupyter.widget-view+json": {
       "model_id": "83dea8fa5dfd43fdad1e67c7414d6ea2",
       "version_major": 2,
       "version_minor": 0
      },
      "text/plain": [
       "Output()"
      ]
     },
     "metadata": {},
     "output_type": "display_data"
    },
    {
     "data": {
      "text/html": [
       "<pre style=\"white-space:pre;overflow-x:auto;line-height:normal;font-family:Menlo,'DejaVu Sans Mono',consolas,'Courier New',monospace\"></pre>\n"
      ],
      "text/plain": []
     },
     "metadata": {},
     "output_type": "display_data"
    },
    {
     "data": {
      "text/html": [
       "<div>\n",
       "<style scoped>\n",
       "    .dataframe tbody tr th:only-of-type {\n",
       "        vertical-align: middle;\n",
       "    }\n",
       "\n",
       "    .dataframe tbody tr th {\n",
       "        vertical-align: top;\n",
       "    }\n",
       "\n",
       "    .dataframe thead th {\n",
       "        text-align: right;\n",
       "    }\n",
       "</style>\n",
       "<table border=\"1\" class=\"dataframe\">\n",
       "  <thead>\n",
       "    <tr style=\"text-align: right;\">\n",
       "      <th></th>\n",
       "      <th>ENTITY</th>\n",
       "      <th>ANCHOR_TIMESTAMP</th>\n",
       "      <th>TARGET_PRED</th>\n",
       "    </tr>\n",
       "  </thead>\n",
       "  <tbody>\n",
       "    <tr>\n",
       "      <th>0</th>\n",
       "      <td>978</td>\n",
       "      <td>2024-08-20T00:00:00</td>\n",
       "      <td>209.930023</td>\n",
       "    </tr>\n",
       "    <tr>\n",
       "      <th>1</th>\n",
       "      <td>933</td>\n",
       "      <td>2024-08-20T00:00:00</td>\n",
       "      <td>208.928314</td>\n",
       "    </tr>\n",
       "    <tr>\n",
       "      <th>2</th>\n",
       "      <td>859</td>\n",
       "      <td>2024-08-20T00:00:00</td>\n",
       "      <td>233.453430</td>\n",
       "    </tr>\n",
       "    <tr>\n",
       "      <th>3</th>\n",
       "      <td>916</td>\n",
       "      <td>2024-08-20T00:00:00</td>\n",
       "      <td>368.220856</td>\n",
       "    </tr>\n",
       "    <tr>\n",
       "      <th>4</th>\n",
       "      <td>127</td>\n",
       "      <td>2024-08-20T00:00:00</td>\n",
       "      <td>208.719055</td>\n",
       "    </tr>\n",
       "    <tr>\n",
       "      <th>5</th>\n",
       "      <td>608</td>\n",
       "      <td>2024-08-20T00:00:00</td>\n",
       "      <td>362.014709</td>\n",
       "    </tr>\n",
       "    <tr>\n",
       "      <th>6</th>\n",
       "      <td>856</td>\n",
       "      <td>2024-08-20T00:00:00</td>\n",
       "      <td>326.346008</td>\n",
       "    </tr>\n",
       "  </tbody>\n",
       "</table>\n",
       "</div>"
      ],
      "text/plain": [
       "   ENTITY     ANCHOR_TIMESTAMP  TARGET_PRED\n",
       "0     978  2024-08-20T00:00:00   209.930023\n",
       "1     933  2024-08-20T00:00:00   208.928314\n",
       "2     859  2024-08-20T00:00:00   233.453430\n",
       "3     916  2024-08-20T00:00:00   368.220856\n",
       "4     127  2024-08-20T00:00:00   208.719055\n",
       "5     608  2024-08-20T00:00:00   362.014709\n",
       "6     856  2024-08-20T00:00:00   326.346008"
      ]
     },
     "execution_count": 146,
     "metadata": {},
     "output_type": "execute_result"
    }
   ],
   "source": [
    "query = f\"PREDICT SUM(orders.price, 0, 30, days) FOR items.item_id in {sample_item_ids[0:7]}\"\n",
    "model.predict(query, anchor_time=pd.Timestamp(\"2024-08-20\"), verbose=True)"
   ]
  },
  {
   "cell_type": "code",
   "execution_count": null,
   "id": "5aebcf53",
   "metadata": {},
   "outputs": [],
   "source": []
  },
  {
   "cell_type": "code",
   "execution_count": null,
   "id": "c2b7f5cc",
   "metadata": {},
   "outputs": [],
   "source": []
  },
  {
   "cell_type": "markdown",
   "id": "af9d2185",
   "metadata": {},
   "source": [
    "### MY QUESTIONS\n",
    "- How do I access to the actual value I am predicting, without having to calculate it manually.\n",
    "- How to interpret the result of evaluate. It does not seem to be just the metrics on a single prediction."
   ]
  }
 ],
 "metadata": {
  "kernelspec": {
   "display_name": "venv (3.10.12)",
   "language": "python",
   "name": "python3"
  },
  "language_info": {
   "codemirror_mode": {
    "name": "ipython",
    "version": 3
   },
   "file_extension": ".py",
   "mimetype": "text/x-python",
   "name": "python",
   "nbconvert_exporter": "python",
   "pygments_lexer": "ipython3",
   "version": "3.10.12"
  }
 },
 "nbformat": 4,
 "nbformat_minor": 5
}
